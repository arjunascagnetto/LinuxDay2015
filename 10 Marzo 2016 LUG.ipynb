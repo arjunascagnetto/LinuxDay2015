{
 "cells": [
  {
   "cell_type": "markdown",
   "metadata": {
    "slideshow": {
     "slide_type": "slide"
    }
   },
   "source": [
    "<center><h2>Big Data: come ti archivio il dato. </h2></center>\n",
    "\n",
    "<center><h4>perche' il db NoSql e' il db per i Big Data ? </h4></center>"
   ]
  },
  {
   "cell_type": "markdown",
   "metadata": {
    "slideshow": {
     "slide_type": "slide"
    }
   },
   "source": [
    "## Definiamo il problema : cosa sono i Big Data ?"
   ]
  },
  {
   "cell_type": "markdown",
   "metadata": {
    "slideshow": {
     "slide_type": "subslide"
    }
   },
   "source": [
    "Nel 2001 l'analista Doug Laney nell'articolo [\"3D data management: Controlling data volume, variety and velocity\"](http://blogs.gartner.com/doug-laney/files/2012/01/ad949-3D-Data-Management-Controlling-Data-Volume-Velocity-and-Variety.pdf), introduce il concetto delle 3V dei [Big Data](https://en.wikipedia.org/wiki/Big_data).\n",
    "\n",
    "E' la prima definizione operativa di Big Data."
   ]
  },
  {
   "cell_type": "markdown",
   "metadata": {
    "slideshow": {
     "slide_type": "fragment"
    }
   },
   "source": [
    "Le 3V dei Big Data sono a tutti gli effetti diverse dimensioni nelle quali il dato puo' espandersi:\n",
    "\n",
    "- Volume\n",
    "- Velocita'\n",
    "- Varieta'"
   ]
  },
  {
   "cell_type": "markdown",
   "metadata": {
    "slideshow": {
     "slide_type": "subslide"
    }
   },
   "source": [
    "con **Volume**\n",
    "\n",
    "intendiamo la dimensione che misura la quantita' di dati.\n",
    "\n",
    "E' sicuramente la piu' facile da associare alla parola \"big\"."
   ]
  },
  {
   "cell_type": "markdown",
   "metadata": {
    "slideshow": {
     "slide_type": "fragment"
    }
   },
   "source": [
    "Facebook afferma che il suo database aumenta di circa [600TB al giorno](https://code.facebook.com/posts/229861827208629/scaling-the-facebook-data-warehouse-to-300-pb/)"
   ]
  },
  {
   "cell_type": "markdown",
   "metadata": {
    "slideshow": {
     "slide_type": "subslide"
    }
   },
   "source": [
    "con **Velocity**\n",
    "\n",
    "intendiamo la dimensione che misura la velocita' con la quale arrivano nuovi dati.\n",
    "\n",
    "Ad esempio immaginiamo i Log di un server particolarmente critico per quantita' di transazioni che deve gestire."
   ]
  },
  {
   "cell_type": "markdown",
   "metadata": {
    "slideshow": {
     "slide_type": "subslide"
    }
   },
   "source": [
    "con **Variety**\n",
    "\n",
    "intendiamo la dimensione che misura quanto sono _eterogenei_ i dati."
   ]
  },
  {
   "cell_type": "markdown",
   "metadata": {
    "slideshow": {
     "slide_type": "fragment"
    }
   },
   "source": [
    "E' la grandezza meno conosciuta, ma che crea piu' difficolta' nel trattarla. e probabilmente e' anche la piu' interessante, o meglio la piu' densa di novita'."
   ]
  },
  {
   "cell_type": "markdown",
   "metadata": {
    "slideshow": {
     "slide_type": "subslide"
    }
   },
   "source": [
    "I dati possono essere suddivisi in tre grandi gruppi:\n",
    "\n",
    "- Strutturati\n",
    "- Semistrutturati\n",
    "- Non strutturati"
   ]
  },
  {
   "cell_type": "markdown",
   "metadata": {
    "slideshow": {
     "slide_type": "subslide"
    }
   },
   "source": [
    "I dati **strutturati** sono tutti quei dati che possono essere inseriti cosi' come stanno dentro la tabella di un database.\n",
    "\n",
    "In pratica possiamo girare il ragionamento e vedere il dump di una tabella di un database come la tipologia perfetta di dato strutturato. E' pulito, e' consistente, non contiene nulli o se li contiene c'e' gia' una logica dietro e non dobbiamo preoccuparcene."
   ]
  },
  {
   "cell_type": "markdown",
   "metadata": {
    "slideshow": {
     "slide_type": "subslide"
    }
   },
   "source": [
    "I dati **semistrutturati** sono una categoria di mezzo, e possono essere identificati con quei dati che potrebbero essere immessi in una tabella, ma prima necessitano di qualche operazione di pulizia o di controllo. \n",
    "\n",
    "Vengono considerati dati semistrutturati i file CSV, XML, JSON."
   ]
  },
  {
   "cell_type": "markdown",
   "metadata": {
    "slideshow": {
     "slide_type": "subslide"
    }
   },
   "source": [
    "I dati **non strutturati** (che sono usulmente sono l'80% dei dati immagazzinati in un data warehouse) sono i dati che non contengono alcuno schema. "
   ]
  },
  {
   "cell_type": "markdown",
   "metadata": {
    "slideshow": {
     "slide_type": "fragment"
    }
   },
   "source": [
    "Non c'e' un modo semplice e diretto per imbrigliarli, incasellarli, domarli. "
   ]
  },
  {
   "cell_type": "markdown",
   "metadata": {
    "slideshow": {
     "slide_type": "fragment"
    }
   },
   "source": [
    "forse per questo sono i dati che <u>possono</u> nascondere le maggiori sorprese."
   ]
  },
  {
   "cell_type": "markdown",
   "metadata": {
    "slideshow": {
     "slide_type": "fragment"
    }
   },
   "source": [
    "- Tutto il testo liberamente scritto all'interno di una azienda: documenti, logs , risultati delle indagini e potendo anche le emails.\n",
    "\n",
    "- Tutti i Tweets sono una enorme fonte di informazioni non strutturate.\n",
    "\n",
    "- ... the last but not the least tutti i miliardi di siti web con pagine e milioni di milioni di milioni di informazioni che aspettano solo di essere usate, senza nemmeno dover chiedere il permesso. \n",
    "\n",
    "<cite>from [Jeremy Ronk's Page](https://jeremyronk.wordpress.com/2014/09/01/structured-semi-structured-and-unstructured-data/)</cite>"
   ]
  },
  {
   "cell_type": "markdown",
   "metadata": {
    "slideshow": {
     "slide_type": "subslide"
    }
   },
   "source": [
    "La varieta' misura quindi il grado di eterogeneita' dei dati, cioe' ci informa su quanto si muovo sull'asse che unisce i dati strutturati ai dati non strutturati."
   ]
  },
  {
   "cell_type": "markdown",
   "metadata": {
    "slideshow": {
     "slide_type": "subslide"
    }
   },
   "source": [
    "<img src=\"http://itknowledgeexchange.techtarget.com/writing-for-business/files/2013/02/BigData.001.jpg\" style=\"width: 800px;\">"
   ]
  },
  {
   "cell_type": "markdown",
   "metadata": {
    "slideshow": {
     "slide_type": "subslide"
    }
   },
   "source": [
    "Piu' che altro per dovere di completezza elenco le altri 2 V (dimensioni) che sono state aggiunte piu' recentemente:\n",
    "\n",
    "- Variabilita' : Inconsistency of the data set can hamper processes to handle and manage it.\n",
    "- Veridicita' : The quality of captured data can vary greatly, affecting accurate analysis.\n",
    "\n",
    "<cite>da Wikipedia [Big Data](https://en.wikipedia.org/wiki/Big_data)</cite>"
   ]
  },
  {
   "cell_type": "markdown",
   "metadata": {
    "slideshow": {
     "slide_type": "slide"
    }
   },
   "source": [
    "## I db NoSQL"
   ]
  },
  {
   "cell_type": "markdown",
   "metadata": {
    "slideshow": {
     "slide_type": "fragment"
    }
   },
   "source": [
    "Davanti a questa poliedricita' del dato ci chiediamo prima ancora di pensare di farne qualsiasi analisi: \" Ma per archiviarlo come faccio ? Come faccio ad archiviare un milione di pagine di testo scritto ? O i Log del mio server che hanno una frequenza di aggiornamento di 1000 righe al secondo ?\" "
   ]
  },
  {
   "cell_type": "markdown",
   "metadata": {
    "slideshow": {
     "slide_type": "fragment"
    }
   },
   "source": [
    "Ad oggi la risposta piu' accettata a queste domande sono i **Database NoSql**. "
   ]
  },
  {
   "cell_type": "markdown",
   "metadata": {
    "slideshow": {
     "slide_type": "subslide"
    }
   },
   "source": [
    "[Brief History of NoSql Movement](http://blog.knuthaugen.no/2010/03/a-brief-history-of-nosql.html)"
   ]
  },
  {
   "cell_type": "markdown",
   "metadata": {
    "slideshow": {
     "slide_type": "subslide"
    }
   },
   "source": [
    "Diversi tipi di db NoSql\n",
    "\n",
    "- [Key-Value Store](https://en.wikipedia.org/wiki/Key-value_database)\n",
    "- [Document Db](https://en.wikipedia.org/wiki/Document-oriented_database)\n",
    "- [Column Oriented Db](https://en.wikipedia.org/wiki/Column-oriented_DBMS)\n",
    "\n",
    "<cite>Christof Strauch's [NoSQL Databases](http://www.christof-strauch.de/nosqldbs.pdf)</cite>"
   ]
  },
  {
   "cell_type": "markdown",
   "metadata": {
    "slideshow": {
     "slide_type": "subslide"
    }
   },
   "source": [
    "Tutti hanno in comune un particolare che e' quello percui vengono usati..."
   ]
  },
  {
   "cell_type": "markdown",
   "metadata": {
    "slideshow": {
     "slide_type": "fragment"
    }
   },
   "source": [
    "Sono tutti _schemaless_. I record non sono vincolati ad una struttura fissa e rigida."
   ]
  },
  {
   "cell_type": "markdown",
   "metadata": {
    "slideshow": {
     "slide_type": "subslide"
    }
   },
   "source": [
    "<img src='https://www.adobe.com/support/dreamweaver/programs/mx_database/images/wildlife_db.gif'></img>"
   ]
  },
  {
   "cell_type": "markdown",
   "metadata": {
    "slideshow": {
     "slide_type": "fragment"
    }
   },
   "source": [
    "ALTER TABLE contact_information ADD COLUMN email VARCHAR(60);"
   ]
  },
  {
   "cell_type": "markdown",
   "metadata": {
    "slideshow": {
     "slide_type": "fragment"
    }
   },
   "source": [
    "Possiamo sicuramente farlo.... ma immaginiamo di lavorare con una tabella con 1 milione di record e la alteriamo per ospitare questa nuova colonna 'email'. Tutte le righe saranno inizializzate a 'null'. Cosa che occupa spazio."
   ]
  },
  {
   "cell_type": "markdown",
   "metadata": {
    "slideshow": {
     "slide_type": "fragment"
    }
   },
   "source": [
    "Un esempio ancora piu' semplice e' quello di dover lavorare con delle serie temporali. Magari abbiamo la campionatura ad una certa frequenza, ma l'evento puo' avere durate diverse. Allora avremo che ogni evento puo' avere piu' o meno campioni... possiamo inserirlo in un db relazionale ? "
   ]
  },
  {
   "cell_type": "markdown",
   "metadata": {
    "slideshow": {
     "slide_type": "fragment"
    }
   },
   "source": [
    "la risposta e' NO ! (escluso il caso non inizializzo colonne per un numero cosi' grande da essere tranquillo)"
   ]
  },
  {
   "cell_type": "markdown",
   "metadata": {
    "slideshow": {
     "slide_type": "subslide"
    }
   },
   "source": [
    "## OLAP e OLTP"
   ]
  },
  {
   "cell_type": "markdown",
   "metadata": {
    "slideshow": {
     "slide_type": "fragment"
    }
   },
   "source": [
    "- On Line Analytical Processing\n",
    "- On Line Transactional Processing"
   ]
  },
  {
   "cell_type": "markdown",
   "metadata": {
    "slideshow": {
     "slide_type": "fragment"
    }
   },
   "source": [
    "<cite>Gli strumenti OLAP si differenziano dagli OLTP per il fatto che i primi hanno come obiettivo la performance nella ricerca e il raggiungimento di interrogazioni quanto più articolate sia possibile; i secondi, invece, mirano ad una garanzia di integrità e sicurezza delle transazioni.</cite> \n",
    "\n",
    "da Wikipedia"
   ]
  },
  {
   "cell_type": "markdown",
   "metadata": {
    "slideshow": {
     "slide_type": "fragment"
    }
   },
   "source": [
    "I database Relazionali tipo MySql, MsSql, Oracle, PostgreSql sono tutti di tipo OLTP, quindi piu' dedicati a gestire le transazioni, contemporane, ma coerenti."
   ]
  },
  {
   "cell_type": "markdown",
   "metadata": {
    "slideshow": {
     "slide_type": "fragment"
    }
   },
   "source": [
    "I database NoSql non sono OLAP nel senso stretto del termine, ma hanno una spiccata tendenza ad essere veloci per le interrogazioni complesse, e quindi le analisi. Mentre non sono molto perfomanti per le transazioni, in particolare per le operazioni di update."
   ]
  },
  {
   "cell_type": "markdown",
   "metadata": {},
   "source": []
  },
  {
   "cell_type": "markdown",
   "metadata": {
    "slideshow": {
     "slide_type": "slide"
    }
   },
   "source": [
    "## l'idea dietro ai db Key-Value "
   ]
  },
  {
   "cell_type": "markdown",
   "metadata": {
    "slideshow": {
     "slide_type": "subslide"
    }
   },
   "source": [
    "Sono un tipo di database basati essenzialmente sulla struttura dati di tipo dizionario."
   ]
  },
  {
   "cell_type": "markdown",
   "metadata": {
    "slideshow": {
     "slide_type": "fragment"
    }
   },
   "source": [
    "Usiamo Python per capire come funziona un dizionario"
   ]
  },
  {
   "cell_type": "code",
   "execution_count": 80,
   "metadata": {
    "collapsed": false,
    "slideshow": {
     "slide_type": "fragment"
    }
   },
   "outputs": [
    {
     "name": "stdout",
     "output_type": "stream",
     "text": [
      "<type 'dict'>   {}\n"
     ]
    }
   ],
   "source": [
    "mydict = dict()\n",
    "print type(mydict),' ',mydict"
   ]
  },
  {
   "cell_type": "code",
   "execution_count": 90,
   "metadata": {
    "collapsed": true,
    "slideshow": {
     "slide_type": "fragment"
    }
   },
   "outputs": [],
   "source": [
    "mydict = {'nome':'arjuna','cognome':'scagnetto','email':'scagnetto@units.it'}"
   ]
  },
  {
   "cell_type": "code",
   "execution_count": 92,
   "metadata": {
    "collapsed": false,
    "slideshow": {
     "slide_type": "fragment"
    }
   },
   "outputs": [
    {
     "data": {
      "text/plain": [
       "[('cognome', 'scagnetto'), ('email', 'scagnetto@units.it'), ('nome', 'arjuna')]"
      ]
     },
     "execution_count": 92,
     "metadata": {},
     "output_type": "execute_result"
    }
   ],
   "source": [
    "mydict.items()"
   ]
  },
  {
   "cell_type": "code",
   "execution_count": 93,
   "metadata": {
    "collapsed": false,
    "slideshow": {
     "slide_type": "fragment"
    }
   },
   "outputs": [
    {
     "data": {
      "text/plain": [
       "['scagnetto', 'scagnetto@units.it', 'arjuna']"
      ]
     },
     "execution_count": 93,
     "metadata": {},
     "output_type": "execute_result"
    }
   ],
   "source": [
    "mydict.values()"
   ]
  },
  {
   "cell_type": "code",
   "execution_count": 94,
   "metadata": {
    "collapsed": false,
    "slideshow": {
     "slide_type": "fragment"
    }
   },
   "outputs": [
    {
     "data": {
      "text/plain": [
       "['cognome', 'email', 'nome']"
      ]
     },
     "execution_count": 94,
     "metadata": {},
     "output_type": "execute_result"
    }
   ],
   "source": [
    "mydict.keys()"
   ]
  },
  {
   "cell_type": "code",
   "execution_count": 95,
   "metadata": {
    "collapsed": false,
    "slideshow": {
     "slide_type": "fragment"
    }
   },
   "outputs": [
    {
     "data": {
      "text/plain": [
       "'arjuna'"
      ]
     },
     "execution_count": 95,
     "metadata": {},
     "output_type": "execute_result"
    }
   ],
   "source": [
    "mydict['nome']"
   ]
  },
  {
   "cell_type": "code",
   "execution_count": 96,
   "metadata": {
    "collapsed": false,
    "slideshow": {
     "slide_type": "fragment"
    }
   },
   "outputs": [
    {
     "name": "stdout",
     "output_type": "stream",
     "text": [
      "{'cognome': 'scagnetto', 'email': 'scagnetto@units.it', 'nome': 'Diego'}\n"
     ]
    }
   ],
   "source": [
    "mydict.update({'nome':'Diego'})\n",
    "print mydict"
   ]
  },
  {
   "cell_type": "code",
   "execution_count": 97,
   "metadata": {
    "collapsed": false,
    "slideshow": {
     "slide_type": "fragment"
    }
   },
   "outputs": [
    {
     "name": "stdout",
     "output_type": "stream",
     "text": [
      "{'cognome': 'scagnetto', 'email': 'fantoma@units.it', 'nome': 'Diego'}\n"
     ]
    }
   ],
   "source": [
    "mydict.update({'email':'fantoma@units.it'})\n",
    "print mydict"
   ]
  },
  {
   "cell_type": "markdown",
   "metadata": {
    "slideshow": {
     "slide_type": "subslide"
    }
   },
   "source": [
    "### Se volessi simulare un db ?"
   ]
  },
  {
   "cell_type": "code",
   "execution_count": 98,
   "metadata": {
    "collapsed": true,
    "slideshow": {
     "slide_type": "fragment"
    }
   },
   "outputs": [],
   "source": [
    "# Creo una lista di dizionari per emulare un database\n",
    "db = []"
   ]
  },
  {
   "cell_type": "code",
   "execution_count": 99,
   "metadata": {
    "collapsed": false,
    "slideshow": {
     "slide_type": "fragment"
    }
   },
   "outputs": [
    {
     "name": "stdout",
     "output_type": "stream",
     "text": [
      "[{'cognome': 'scagnetto', 'email': 'fantoma@units.it', 'nome': 'Diego'}]\n"
     ]
    }
   ],
   "source": [
    "db.append(mydict)\n",
    "print db"
   ]
  },
  {
   "cell_type": "code",
   "execution_count": 100,
   "metadata": {
    "collapsed": false,
    "slideshow": {
     "slide_type": "fragment"
    }
   },
   "outputs": [
    {
     "name": "stdout",
     "output_type": "stream",
     "text": [
      "[{'nome': 'Diego', 'cognome': 'Fantoma', 'email': 'fantoma@units.it'}]\n"
     ]
    }
   ],
   "source": [
    "mydict.update({'nome':'Diego','cognome':'Fantoma','email':'fantoma@units.it'})\n",
    "print db"
   ]
  },
  {
   "cell_type": "markdown",
   "metadata": {
    "slideshow": {
     "slide_type": "slide"
    }
   },
   "source": [
    "## l'idea dietro ai db Document-oriented "
   ]
  },
  {
   "cell_type": "markdown",
   "metadata": {
    "slideshow": {
     "slide_type": "subslide"
    }
   },
   "source": [
    "Prendiamo un file xml, mettiamolo nella prima riga di una lista."
   ]
  },
  {
   "cell_type": "markdown",
   "metadata": {
    "slideshow": {
     "slide_type": "fragment"
    }
   },
   "source": [
    "Prendiamo un secondo file xml, mettiamolo nella seconda riga della lista."
   ]
  },
  {
   "cell_type": "markdown",
   "metadata": {
    "slideshow": {
     "slide_type": "fragment"
    }
   },
   "source": [
    "Prendiamo un terzo file xml, mettiamolo nella terza riga della lista.\n",
    "<br>... \n",
    "<br>..."
   ]
  },
  {
   "cell_type": "markdown",
   "metadata": {
    "slideshow": {
     "slide_type": "fragment"
    }
   },
   "source": [
    "Senza nulla togliere ai db doc orinted ma questa e' l'idea di base."
   ]
  },
  {
   "cell_type": "markdown",
   "metadata": {
    "slideshow": {
     "slide_type": "subslide"
    }
   },
   "source": [
    "    MongoDB e' probabilmente se non il piu' famoso e' tra i primi tra i piu famosi db NoSql orientati ai documenti."
   ]
  },
  {
   "cell_type": "markdown",
   "metadata": {
    "slideshow": {
     "slide_type": "fragment"
    }
   },
   "source": [
    "La struttura dati fondamentale di MongoDb non e' l'xml , ma il formato [Json](http://www.json.org/)"
   ]
  },
  {
   "cell_type": "code",
   "execution_count": 101,
   "metadata": {
    "collapsed": true,
    "slideshow": {
     "slide_type": "fragment"
    }
   },
   "outputs": [],
   "source": [
    "myjson = {\n",
    "    \"glossary\": {\n",
    "        \"title\": \"example glossary\",\n",
    "\t\t\"GlossDiv\": {\n",
    "            \"title\": \"S\",\n",
    "\t\t\t\"GlossList\": {\n",
    "                \"GlossEntry\": {\n",
    "                    \"ID\": \"SGML\",\n",
    "\t\t\t\t\t\"SortAs\": \"SGML\",\n",
    "\t\t\t\t\t\"GlossTerm\": \"Standard Generalized Markup Language\",\n",
    "\t\t\t\t\t\"Acronym\": \"SGML\",\n",
    "\t\t\t\t\t\"Abbrev\": \"ISO 8879:1986\",\n",
    "\t\t\t\t\t\"GlossDef\": {\n",
    "                        \"para\": \"A meta-markup language, used to create markup languages such as DocBook.\",\n",
    "\t\t\t\t\t\t\"GlossSeeAlso\": [\"GML\", \"XML\"]\n",
    "                    },\n",
    "\t\t\t\t\t\"GlossSee\": \"markup\"\n",
    "                }\n",
    "            }\n",
    "        }\n",
    "    }\n",
    "}"
   ]
  },
  {
   "cell_type": "markdown",
   "metadata": {
    "slideshow": {
     "slide_type": "subslide"
    }
   },
   "source": [
    "<table><tr><td>RDBMS</td><td>MONGO</td></tr>\n",
    "<tr><td>Database</td><td>Database</td></tr><tr><td>Table</td><td>Collection</td></tr><tr><td>Row</td><td>Document</td></tr></table>"
   ]
  },
  {
   "cell_type": "code",
   "execution_count": 1,
   "metadata": {
    "collapsed": true,
    "slideshow": {
     "slide_type": "fragment"
    }
   },
   "outputs": [],
   "source": [
    "from pymongo import MongoClient"
   ]
  },
  {
   "cell_type": "code",
   "execution_count": 12,
   "metadata": {
    "collapsed": true,
    "slideshow": {
     "slide_type": "fragment"
    }
   },
   "outputs": [],
   "source": [
    "client = MongoClient('mongodb://localhost:27017')"
   ]
  },
  {
   "cell_type": "code",
   "execution_count": 13,
   "metadata": {
    "collapsed": false,
    "slideshow": {
     "slide_type": "subslide"
    }
   },
   "outputs": [
    {
     "data": {
      "text/plain": [
       "[u'example', u'ducsmcs', u'db1', u'test', u'local', u'examples']"
      ]
     },
     "execution_count": 13,
     "metadata": {},
     "output_type": "execute_result"
    }
   ],
   "source": [
    "client.database_names()"
   ]
  },
  {
   "cell_type": "code",
   "execution_count": 16,
   "metadata": {
    "collapsed": true,
    "slideshow": {
     "slide_type": "fragment"
    }
   },
   "outputs": [],
   "source": [
    "db = client.examples"
   ]
  },
  {
   "cell_type": "code",
   "execution_count": 17,
   "metadata": {
    "collapsed": false,
    "slideshow": {
     "slide_type": "subslide"
    }
   },
   "outputs": [
    {
     "data": {
      "text/plain": [
       "[u'system.indexes', u'autos']"
      ]
     },
     "execution_count": 17,
     "metadata": {},
     "output_type": "execute_result"
    }
   ],
   "source": [
    "db.collection_names()"
   ]
  },
  {
   "cell_type": "code",
   "execution_count": 18,
   "metadata": {
    "collapsed": true,
    "slideshow": {
     "slide_type": "fragment"
    }
   },
   "outputs": [],
   "source": [
    "autos = db.autos"
   ]
  },
  {
   "cell_type": "code",
   "execution_count": 19,
   "metadata": {
    "collapsed": false,
    "slideshow": {
     "slide_type": "subslide"
    }
   },
   "outputs": [
    {
     "data": {
      "text/plain": [
       "{u'_id': ObjectId('56bdbea19f3bc305487f5947'),\n",
       " u'dimensions': {u'length': 39.9288, u'weight': 2721000.0, u'width': 34.7472},\n",
       " u'engine': u'Crawler-transporter__1',\n",
       " u'manufacturer': u'Marion Power Shovel Company',\n",
       " u'modelYears': [],\n",
       " u'name': u'Crawler-transporter',\n",
       " u'productionYears': [],\n",
       " u'transmission': u'16 traction motors powered by four  generators'}"
      ]
     },
     "execution_count": 19,
     "metadata": {},
     "output_type": "execute_result"
    }
   ],
   "source": [
    "autos.find_one()"
   ]
  },
  {
   "cell_type": "markdown",
   "metadata": {
    "slideshow": {
     "slide_type": "subslide"
    }
   },
   "source": [
    "#### Mongo Db Querying"
   ]
  },
  {
   "cell_type": "code",
   "execution_count": 20,
   "metadata": {
    "collapsed": false,
    "slideshow": {
     "slide_type": "fragment"
    }
   },
   "outputs": [
    {
     "data": {
      "text/plain": [
       "<pymongo.cursor.Cursor at 0x7f8710078890>"
      ]
     },
     "execution_count": 20,
     "metadata": {},
     "output_type": "execute_result"
    }
   ],
   "source": [
    "autos.find({'assembly':'Germany'})"
   ]
  },
  {
   "cell_type": "code",
   "execution_count": 22,
   "metadata": {
    "collapsed": true,
    "slideshow": {
     "slide_type": "fragment"
    }
   },
   "outputs": [
    {
     "name": "stdout",
     "output_type": "stream",
     "text": [
      "{u'engine': [u'Porsche_928__1', u'Porsche_928__2', u'Porsche_928__3', u'Porsche_928__4'], u'assembly': [u'Germany', u'Stuttgart'], u'name': u'Porsche 928', u'transmission': [u'3-speed automatic', u'4-speed automatic', u'5-speed manual'], u'modelYears': [], u'productionYears': [1977, 1978, 1979, 1980, 1981, 1982, 1983, 1984, 1985, 1986, 1987, 1988, 1989, 1990, 1991, 1992, 1993, 1994, 1995], u'layout': u'front-engine rear-wheel-drive layout', u'_id': ObjectId('56bdbea19f3bc305487f594a'), u'bodyStyle': u'coup\\xe9', u'class': u'grand tourer', u'manufacturer': u'Porsche', u'dimensions': {u'width': 1.89, u'length': 4.52, u'height': 1.27508, u'weight': 1450.0, u'wheelbase': 2.5}} \n",
      "\n",
      "{u'engine': [u'Porsche_944__1', u'Porsche_944__2', u'Porsche_944__3'], u'designer': u'Harm Lagaay', u'assembly': [u'Germany', u'Neckarsulm'], u'name': u'Porsche 944', u'transmission': [u'3-speed automatic', u'5-speed manual'], u'modelYears': [], u'productionYears': [1982, 1983, 1984, 1985, 1986, 1987, 1988, 1989, 1990, 1991], u'layout': u'front-engine rear-wheel-drive layout', u'_id': ObjectId('56bdbea19f3bc305487f594c'), u'bodyStyle': [u'convertible', u'coup\\xe9'], u'class': u'sports car', u'manufacturer': u'Porsche', u'dimensions': {u'width': 1.73482, u'length': 4.318, u'height': 1.27508, u'wheelbase': 2.4003}} \n",
      "\n",
      "{u'engine': [u'Porsche_968__1', u'Porsche_968__2'], u'designer': u'Harm Lagaay', u'assembly': [u'Germany', u'Stuttgart'], u'name': u'Porsche 968', u'transmission': [u'4-speed tiptronic', u'6-speed manual'], u'modelYears': [], u'productionYears': [1992, 1993, 1994, 1995], u'layout': u'front-engine rear-wheel-drive layout', u'_id': ObjectId('56bdbea19f3bc305487f594d'), u'bodyStyle': [u'convertible', u'coup\\xe9'], u'class': u'sports car', u'manufacturer': u'Porsche', u'dimensions': {u'width': 1.73482, u'length': 4.32054, u'height': 1.27508, u'weight': 1399.81, u'wheelbase': 2.4003}} \n",
      "\n",
      "{u'layout': u'rear mid-engine rear-wheel-drive layout', u'name': u'Porsche Boxster', u'bodyStyle': u'roadster', u'modelYears': [], u'productionYears': [], u'assembly': [u'Finland', u'Germany', u'Osnabr\\xfcck', u'Stuttgart', u'Uusikaupunki'], u'_id': ObjectId('56bdbea19f3bc305487f5950'), u'class': u'sports car', u'manufacturer': u'Porsche'} \n",
      "\n",
      "{u'engine': u'BMW_328__1', u'designer': [u'Ernst Loof', u'Fritz Fiedler', u'Peter_Szymanowski'], u'assembly': [u'Eisenach', u'Germany'], u'name': u'BMW 328', u'transmission': u'4-speed manual', u'modelYears': [], u'productionYears': [1936, 1937, 1938, 1939, 1940], u'layout': u'front-engine rear-wheel-drive layout', u'_id': ObjectId('56bdbea19f3bc305487f595f'), u'bodyStyle': u'roadster', u'class': u'sports car', u'manufacturer': u'BMW', u'dimensions': {u'width': 1.55, u'length': 3.9, u'height': 1.4, u'weight': 830.0, u'wheelbase': 2.4}} \n",
      "\n",
      "{u'assembly': [u'Germany', u'Leipzig', u'Slovakia'], u'name': [u'Porsche 955/957/958', u'Porsche Cayenne'], u'modelYears': [], u'productionYears': [], u'layout': [u'four-wheel drive', u'front-engine design'], u'_id': ObjectId('56bdbea19f3bc305487f5967'), u'class': u'mid-size car', u'manufacturer': u'Porsche'} \n",
      "\n",
      "{u'engine': u'Ford_Model_T__1', u'designer': [u'Childe Wills', u'Eugene Farkas', u'Henry Ford', u'J\\xf3zsef Galamb'], u'assembly': [u'Argentina', u'Australia', u'Berlin', u'Brazil', u'Buenos Aires', u'Canada', u'Copenhagen', u'Cork', u'Denmark', u'Detroit', u'Dothan Alabama', u'England', u'Geelong', u'Germany', u'Highland Park Michigan', u'Ireland', u'Manchester', u'Minneapolis', u'Ontario', u'S\\xe3o Bernardo do Campo', u'Saint Paul Minnesota', u'Toronto', u'Walkerville Ontario'], u'name': u'Ford Model T', u'transmission': u'2-speed planetary gear', u'modelYears': [], u'productionYears': [1908, 1909, 1910, 1911, 1912, 1913, 1914, 1915, 1916, 1917, 1918, 1919, 1920, 1921, 1922, 1923, 1924, 1925, 1926, 1927], u'layout': u'front-engine rear-wheel-drive layout', u'_id': ObjectId('56bdbea19f3bc305487f596a'), u'bodyStyle': [u'coachbuilder', u'coup\\xe9', u'roadster', u'sedan', u'station wagon'], u'class': [u'economy car', u'full-size ford'], u'manufacturer': u'Ford Motor Company', u'dimensions': {u'length': 3.4036, u'weight': 544.32, u'wheelbase': 2.54}} \n",
      "\n",
      "{u'assembly': [u'Chongqing', u'Germany', u'Michigan Assembly Plant', u'Rayong', u'Russia', u'Saarlouis Body & Assembly', u'Thailand', u'United States', u'Vsevolozhsk'], u'name': u'Ford Focus', u'modelYears': [], u'productionYears': [], u'layout': u'front-engine front-wheel-drive layout', u'_id': ObjectId('56bdbea19f3bc305487f5999'), u'class': [u'c-segment', u'compact car'], u'manufacturer': u'Ford Motor Company'} \n",
      "\n",
      "{u'designer': u'Richard A. Teague', u'assembly': [u'Australia', u'Caracas', u'Germany', u'Kenosha Wisconsin', u'Mexico', u'Mexico City', u'Osnabr\\xfcck', u'Port Melbourne Victoria', u'United States', u'Venezuela'], u'name': [u'AMC Javelin', u'Javelin 79-K (Europe)', u'Rambler Javelin (Australia)', u'VAM Javelin (Mexico)'], u'modelYears': [], u'productionYears': [1967, 1968, 1969, 1970, 1971, 1972, 1973, 1974], u'layout': u'front-engine rear-wheel-drive layout', u'_id': ObjectId('56bdbea19f3bc305487f59e3'), u'bodyStyle': u'hardtop', u'class': [u'muscle car', u'pony car'], u'manufacturer': u'American Motors'} \n",
      "\n",
      "{u'assembly': [u'Germany', u'Stuttgart'], u'modelYears': [], u'productionYears': [1953, 1954, 1955, 1956], u'layout': u'rear mid-engine rear-wheel-drive layout', u'_id': ObjectId('56bdbea19f3bc305487f59eb'), u'bodyStyle': [u'convertible', u'coup\\xe9'], u'class': u'sports car', u'manufacturer': u'Porsche'} \n",
      "\n",
      "{u'assembly': [u'6th of October City', u'Bangkok', u'Bogor', u'Cairo', u'Chakan Maharashtra', u'Germany', u'Iran', u'Mexico', u'Pune', u'Sindelfingen', u'Tehran', u'Thailand', u'Toluca'], u'name': u'Mercedes-Benz S-Class', u'bodyStyle': u'sedan', u'modelYears': [], u'productionYears': [], u'_id': ObjectId('56bdbea19f3bc305487f59fd'), u'class': u'full-size car', u'manufacturer': u'Mercedes-Benz'} \n",
      "\n",
      "{u'engine': [u'BMW_1_Series_(E87)__116d__1', u'BMW_1_Series_(E87)__116i__1', u'BMW_1_Series_(E87)__116i__2', u'BMW_1_Series_(E87)__116i__3', u'BMW_1_Series_(E87)__118d__1', u'BMW_1_Series_(E87)__118d__2', u'BMW_1_Series_(E87)__118i__1', u'BMW_1_Series_(E87)__118i__2', u'BMW_1_Series_(E87)__120d__1', u'BMW_1_Series_(E87)__120d__2', u'BMW_1_Series_(E87)__120i__1', u'BMW_1_Series_(E87)__120i__2', u'BMW_1_Series_(E87)__123d__1', u'BMW_1_Series_(E87)__125d__1', u'BMW_1_Series_(E87)__125i__1', u'BMW_1_Series_(E87)__128i__1', u'BMW_1_Series_(E87)__128i__2', u'BMW_1_Series_(E87)__130i__1', u'BMW_1_Series_(E87)__130i__2', u'BMW_1_Series_(E87)__135i__1', u'BMW_1_Series_(E87)__135i__2'], u'assembly': [u'Germany', u'Leipzig', u'Regensburg'], u'name': u'BMW 1 Series', u'modelYears': [], u'productionYears': [2004], u'layout': u'front-engine rear-wheel-drive layout', u'_id': ObjectId('56bdbea19f3bc305487f5a01'), u'bodyStyle': [u'convertible', u'coup\\xe9', u'hatchback'], u'class': u'compact car', u'manufacturer': u'BMW'} \n",
      "\n",
      "{u'engine': [u'Volkswagen_Phaeton__2', u'Volkswagen_Phaeton__3', u'Volkswagen_Phaeton__4', u'Volkswagen_Phaeton__6', u'Volkswagen_Phaeton__7'], u'assembly': [u'Dresden', u'Germany'], u'name': u'Volkswagen Phaeton', u'transmission': [u'6-speed ZF 6HP19A tiptronic AWD automatic transmission (2004 model 4.2L trans code: GUN)', u'5-speed ZF 5HP24A tiptronic automatic (W12 engine only)'], u'modelYears': [], u'productionYears': [], u'layout': [u'4motion', u'longitudinal engine'], u'_id': ObjectId('56bdbea19f3bc305487f5a07'), u'bodyStyle': u'vehicle door', u'class': u'full-size car', u'manufacturer': u'Volkswagen', u'dimensions': {u'width': 1.903, u'length': 5.055, u'height': 1.45, u'weight': 2449.0, u'wheelbase': 2.881}} \n",
      "\n",
      "{u'engine': u'Porsche_Carrera_GT__1', u'assembly': [u'Germany', u'Leipzig'], u'name': u'Porsche Carrera GT', u'transmission': u'6-speed manual', u'modelYears': [], u'productionYears': [2004, 2005, 2006, 2007], u'layout': u'rear mid-engine rear-wheel-drive layout', u'_id': ObjectId('56bdbea19f3bc305487f5a2a'), u'bodyStyle': u'roadster', u'class': u'sports car', u'manufacturer': u'Porsche', u'dimensions': {u'width': 1.921, u'length': 4.613, u'height': 1.166, u'weight': 1380.0, u'wheelbase': 2.73}} \n",
      "\n",
      "{u'engine': [u'Maybach_57_and_62__1', u'Maybach_57_and_62__2'], u'assembly': [u'Germany', u'Stuttgart'], u'name': u'Maybach 57/62(W240)', u'transmission': u'5-speed automatic', u'modelYears': [], u'productionYears': [2002, 2003, 2004, 2005, 2006, 2007, 2008, 2009, 2010, 2011, 2012, 2013], u'_id': ObjectId('56bdbea19f3bc305487f5a36'), u'bodyStyle': u'sedan', u'class': u'full-size car', u'manufacturer': u'Daimler AG', u'dimensions': {u'width': 1.9812, u'length': 6.16458, u'height': 1.5748, u'weight': 2735.0, u'wheelbase': 3.3909}} \n",
      "\n",
      "{u'layout': u'front-engine rear-wheel-drive layout', u'name': u'Mercedes-Benz CLS-Class', u'bodyStyle': [u'fastback', u'sedan'], u'modelYears': [2005], u'productionYears': [], u'assembly': [u'Germany', u'Mexico', u'Sindelfingen', u'Toluca'], u'_id': ObjectId('56bdbea19f3bc305487f5a3a'), u'class': u'executive car', u'manufacturer': u'Daimler AG'} \n",
      "\n",
      "{u'assembly': [u'Germany', u'Navarre', u'Spain', u'Wolfsburg'], u'name': [u'Volkswagen Derby', u'Volkswagen Polo Mark II (86C)'], u'bodyStyle': [u'hatchback', u'sedan', u'station wagon'], u'modelYears': [], u'productionYears': [1981], u'_id': ObjectId('56bdbea19f3bc305487f5b2a')} \n",
      "\n",
      "{u'productionYears': [1990, 1991, 1992, 1993, 1994], u'_id': ObjectId('56bdbea19f3bc305487f5b2b'), u'assembly': [u'Germany', u'Navarre', u'Spain', u'Wolfsburg', u'Zwickau'], u'name': u'Volkswagen Polo Mark IIF', u'modelYears': []} \n",
      "\n",
      "{u'assembly': [u'Germany', u'Martorell', u'Navarre', u'Spain', u'Wolfsburg'], u'name': u'Volkswagen Polo Mark III (6N)', u'bodyStyle': [u'hatchback', u'sedan', u'station wagon'], u'modelYears': [], u'productionYears': [1994, 1995, 1996, 1997, 1998, 1999, 2000], u'_id': ObjectId('56bdbea19f3bc305487f5b2c')} \n",
      "\n",
      "{u'engine': [u'Opel_Astra__stra_F__1__1', u'Opel_Astra__stra_F__1__2', u'Opel_Astra__stra_F__1__3', u'Opel_Astra__stra_F__1__4', u'Opel_Astra__stra_F__1__5', u'Opel_Astra__stra_F__1__6'], u'assembly': [u'Antwerp', u'Bochum', u'Ellesmere Port', u'Germany', u'Gliwice', u'Poland', u'Port Elizabeth', u'South Africa', u'Szentgotth\\xe1rd', u'Ukraine', u'Xinzhuang District', u'Zaporizhia', u'Zaragoza'], u'name': [u'Astra F', u'Chevrolet Astra', u'Holden Astra', u'Opel Optima', u'Vauxhall Astra'], u'transmission': [u'4-speed automatic', u'5-speed manual', u'6-speed manual (C20LET only)'], u'modelYears': [], u'productionYears': [1991], u'_id': ObjectId('56bdbea19f3bc305487f5b3a'), u'bodyStyle': [u'convertible', u'hatchback', u'sedan', u'sedan delivery', u'station wagon']} \n",
      "\n",
      "{u'engine': [u'Opel_Astra__stra_G__1__1', u'Opel_Astra__stra_G__1__10', u'Opel_Astra__stra_G__1__11', u'Opel_Astra__stra_G__1__12', u'Opel_Astra__stra_G__1__13', u'Opel_Astra__stra_G__1__14', u'Opel_Astra__stra_G__1__15', u'Opel_Astra__stra_G__1__2', u'Opel_Astra__stra_G__1__3', u'Opel_Astra__stra_G__1__4', u'Opel_Astra__stra_G__1__5', u'Opel_Astra__stra_G__1__6', u'Opel_Astra__stra_G__1__7', u'Opel_Astra__stra_G__1__8', u'Opel_Astra__stra_G__1__9'], u'assembly': [u'6th of October City', u'Antwerp', u'Bochum', u'Egypt', u'Ellesmere Port', u'Germany', u'Gliwice', u'Grugliasco', u'Poland', u'Port Elizabeth', u'Rayong', u'S\\xe3o Caetano do Sul', u'South Africa', u'Thailand', u'Tolyatti', u'Ukraine', u'Zaporizhia'], u'name': [u'Astra G', u'Chevrolet Astra', u'Chevrolet Viva', u'Holden Astra', u'Vauxhall Astra'], u'transmission': [u'4-speed automatic', u'5-speed manual'], u'modelYears': [], u'productionYears': [1998], u'_id': ObjectId('56bdbea19f3bc305487f5b3b'), u'bodyStyle': [u'convertible', u'coup\\xe9', u'hatchback', u'sedan', u'station wagon'], u'dimensions': {u'width': 1.753, u'length': 4.199, u'height': 1.431, u'wheelbase': 2.614}} \n",
      "\n",
      "{u'engine': [u'Opel_Astra__stra_H__1__1', u'Opel_Astra__stra_H__1__10', u'Opel_Astra__stra_H__1__11', u'Opel_Astra__stra_H__1__12', u'Opel_Astra__stra_H__1__2', u'Opel_Astra__stra_H__1__3', u'Opel_Astra__stra_H__1__4', u'Opel_Astra__stra_H__1__5', u'Opel_Astra__stra_H__1__6', u'Opel_Astra__stra_H__1__7', u'Opel_Astra__stra_H__1__8', u'Opel_Astra__stra_H__1__9'], u'assembly': [u'6th of October City', u'Antwerp', u'Bochum', u'Egypt', u'Ellesmere Port', u'Germany', u'Gliwice', u'Kaliningrad', u'Poland', u'S\\xe3o Caetano do Sul', u'Saint Petersburg', u'Ukraine', u'Zaporizhia'], u'name': [u'Astra H', u'Chevrolet Astra', u'Chevrolet Vectra', u'Holden Astra', u'Saturn Astra', u'Vauxhall Astra'], u'transmission': [u'4-speed automatic', u'5-speed manual', u'5-speed semi-automatic', u'6-speed automatic', u'6-speed manual'], u'modelYears': [], u'productionYears': [2004], u'_id': ObjectId('56bdbea19f3bc305487f5b3c'), u'bodyStyle': [u'convertible', u'hatchback', u'sedan', u'station wagon'], u'dimensions': {u'width': 1.753, u'length': 4.587, u'height': 1.5, u'wheelbase': 2.703}} \n",
      "\n",
      "{u'engine': [u'Opel_Astra__stra_J__1__1', u'Opel_Astra__stra_J__1__2', u'Opel_Astra__stra_J__1__3', u'Opel_Astra__stra_J__1__4', u'Opel_Astra__stra_J__1__5', u'Opel_Astra__stra_J__1__6', u'Opel_Astra__stra_J__1__7'], u'assembly': [u'Ellesmere Port', u'Germany', u'Gliwice', u'Poland', u'R\\xfcsselsheim', u'Saint Petersburg'], u'name': [u'Astra J', u'Buick Excelle XT', u'Vauxhall Astra'], u'transmission': [u'5-speed manual', u'6-speed automatic', u'6-speed manual'], u'modelYears': [], u'productionYears': [], u'_id': ObjectId('56bdbea19f3bc305487f5b3d'), u'bodyStyle': [u'hatchback', u'sedan', u'station wagon'], u'dimensions': {u'width': 1.814, u'length': 4.419, u'height': 1.487, u'wheelbase': 2.614}} \n",
      "\n",
      "{u'engine': u'Opel_Kadett__Kadett__1__1', u'assembly': [u'Germany', u'R\\xfcsselsheim'], u'dimensions': {u'width': 1.375, u'wheelbase': 2.337}, u'transmission': u'3-speed manual', u'modelYears': [], u'productionYears': [1937, 1938, 1939, 1940], u'layout': u'front-engine rear-wheel-drive layout', u'_id': ObjectId('56bdbea19f3bc305487f5b7c'), u'name': u'Kadett'} \n",
      "\n",
      "{u'engine': u'Opel_Kadett__A__1__1', u'assembly': [u'Bochum', u'Germany'], u'name': u'Kadett A', u'transmission': u'4-speed manual all-synchromesh', u'modelYears': [], u'productionYears': [1962, 1963, 1964, 1965], u'layout': u'front-engine rear-wheel-drive layout', u'_id': ObjectId('56bdbea19f3bc305487f5b7d'), u'bodyStyle': [u'coup\\xe9', u'sedan', u'station wagon'], u'dimensions': {u'width': 1.47, u'length': 3.923, u'height': 1.41, u'wheelbase': 2.325}} \n",
      "\n",
      "{u'engine': [u'Opel_Kadett__B__1__1', u'Opel_Kadett__B__1__2', u'Opel_Kadett__B__1__3', u'Opel_Kadett__B__1__4', u'Opel_Kadett__B__1__5', u'Opel_Kadett__B__1__6'], u'assembly': [u'Bochum', u'Germany'], u'name': u'Kadett B', u'modelYears': [], u'productionYears': [1965, 1966, 1967, 1968, 1969, 1970, 1971, 1972, 1973], u'_id': ObjectId('56bdbea19f3bc305487f5b7e'), u'bodyStyle': [u'coup\\xe9', u'sedan', u'station wagon'], u'dimensions': {u'width': 1.573, u'length': 4.105, u'height': 1.274, u'wheelbase': 2.416}} \n",
      "\n",
      "{u'engine': [u'Opel_Kadett__C__1__1', u'Opel_Kadett__C__1__2', u'Opel_Kadett__C__1__3', u'Opel_Kadett__C__1__4', u'Opel_Kadett__C__1__5'], u'assembly': [u'Antwerp', u'Belgium', u'Bochum', u'Germany'], u'name': [u'Buick-Opel (USA)', u'Chevrolet Chevette (BRA)', u'Daewoo Maepsy/Maepsy-Na (ROK)', u'Holden Gemini (AUS)', u'Isuzu Gemini (J)', u'Kadett C', u'Opel K-180 (ARG)', u'Saehan Gemini/Bird/Maepsy (ROK)', u'Vauxhall Chevette (UK)'], u'transmission': [u'3-speed automatic', u'4-speed manual', u'5-speed dog leg manual (GT/E)'], u'modelYears': [], u'productionYears': [1973, 1974, 1975, 1976, 1977, 1978, 1979], u'_id': ObjectId('56bdbea19f3bc305487f5b7f'), u'bodyStyle': [u'convertible', u'coup\\xe9', u'sedan', u'station wagon'], u'dimensions': {u'width': 1.58, u'length': 4.127, u'height': 1.375, u'weight': 790.0, u'wheelbase': 2.395}} \n",
      "\n",
      "{u'engine': [u'Mercedes-Benz_C-Class__W202__1__1', u'Mercedes-Benz_C-Class__W202__1__2', u'Mercedes-Benz_C-Class__W202__1__3', u'Mercedes-Benz_C-Class__W202__1__4', u'Mercedes-Benz_C-Class__W202__1__5', u'Mercedes-Benz_C-Class__W202__1__6', u'Mercedes-Benz_C-Class__W202__1__7', u'Mercedes-Benz_C-Class__W202__1__8', u'Mercedes-Benz_C-Class__W202__1__C_180__1', u'Mercedes-Benz_C-Class__W202__1__C_200_CDI__1', u'Mercedes-Benz_C-Class__W202__1__C_200_Diesel__1', u'Mercedes-Benz_C-Class__W202__1__C_200_Kompressor__1', u'Mercedes-Benz_C-Class__W202__1__C_200__1', u'_C_230__1', u'Mercedes-Benz_C-Class__W202__1__C_220_CDI__1', u'Mercedes-Benz_C-Class__W202__1__C_220_Diesel__1', u'Mercedes-Benz_C-Class__W202__1__C_230_Kompressor__1', u'Mercedes-Benz_C-Class__W202__1__C_240__1', u'Mercedes-Benz_C-Class__W202__1__C_250_Turbodiesel__1', u'Mercedes-Benz_C-Class__W202__1__C_250__1', u'Mercedes-Benz_C-Class__W202__1__C_280__1', u'Mercedes-Benz_C-Class__W202__1__C_280__2', u'Mercedes-Benz_C-Class__W202__1__C_36_AMG__1', u'Mercedes-Benz_C-Class__W202__1__C_43_AMG__1', u'Mercedes-Benz_C-Class__W202__1__C_55_AMG__1'], u'assembly': [u'6th of October City', u'Bremen', u'East London Eastern Cape', u'Egypt', u'Germany', u'Ho Chi Minh City', u'Mexico', u'Santiago Tianguistenco', u'Sindelfingen', u'South Africa', u'Thailand', u'Thonburi', u'Toluca', u'Vietnam'], u'name': u'W202', u'transmission': [u'4-speed automatic', u'5-speed automatic', u'5-speed manual'], u'modelYears': [1994, 1995, 1996, 1997, 1998, 1999, 2000], u'productionYears': [1993, 1994, 1995, 1996, 1997, 1998, 1999, 2000], u'_id': ObjectId('56bdbea19f3bc305487f5b92'), u'bodyStyle': [u'sedan', u'station wagon'], u'dimensions': {u'width': 1.72, u'length': 4.505, u'height': 1.425, u'wheelbase': 2.67}} \n",
      "\n",
      "{u'engine': [u'Mercedes-Benz_C-Class__W204__1__1', u'Mercedes-Benz_C-Class__W204__1__2', u'Mercedes-Benz_C-Class__W204__1__3', u'Mercedes-Benz_C-Class__W204__1__4', u'Mercedes-Benz_C-Class__W204__1__5', u'Mercedes-Benz_C-Class__W204__1__6'], u'assembly': [u'6th of October City', u'Beijing', u'Bogor', u'Brazil', u'Bremen', u'China', u'East London Eastern Cape', u'Egypt', u'Germany', u'India', u'Indonesia', u'Juiz de Fora', u'Malaysia', u'Pekan', u'Pune', u'Sindelfingen', u'South Africa'], u'name': u'W204', u'transmission': [u'5-speed automatic', u'6-speed manual', u'7-speed automatic'], u'modelYears': [], u'productionYears': [], u'_id': ObjectId('56bdbea19f3bc305487f5b94'), u'bodyStyle': [u'sedan', u'station wagon'], u'dimensions': {u'width': 1.77, u'length': 4.582, u'height': 1.447, u'wheelbase': 2.76}} \n",
      "\n",
      "{u'assembly': [u'Bremen', u'Germany', u'Mexico', u'Pune', u'Rastatt', u'Santiago Tianguistenco', u'Sindelfingen', u'Toluca', u'Zuffenhausen'], u'name': u'W124', u'bodyStyle': [u'convertible', u'coup\\xe9', u'sedan', u'station wagon'], u'modelYears': [1985, 1986, 1987, 1988, 1989, 1990, 1991, 1992, 1993, 1994, 1995], u'productionYears': [1984, 1985, 1986, 1987, 1988, 1989, 1990, 1991, 1992, 1993, 1994, 1995, 1996], u'_id': ObjectId('56bdbea19f3bc305487f5bc5'), u'dimensions': {u'width': 1.7399, u'length': 4.78028, u'height': 1.51892, u'weight': 1781.29, u'wheelbase': 2.79908}} \n",
      "\n",
      "{u'assembly': [u'Austria', u'Beijing', u'Bogor', u'Bremen', u'Cairo', u'China', u'Egypt', u'Germany', u'Graz', u'Indonesia', u'Iran', u'Malaysia', u'Mexico', u'Pekan', u'Pune', u'Samut Prakan Province', u'Santiago Tianguistenco', u'Sindelfingen', u'Tehran', u'Thailand', u'Toluca', u'Zuffenhausen'], u'name': u'W211', u'transmission': [u'5-speed automatic', u'6-speed manual', u'7-speed automatic'], u'modelYears': [2003, 2004, 2005, 2006, 2007, 2008, 2009], u'productionYears': [2002, 2003, 2004, 2005, 2006, 2007, 2008, 2009], u'_id': ObjectId('56bdbea19f3bc305487f5bc7'), u'bodyStyle': [u'sedan', u'station wagon']} \n",
      "\n",
      "{u'layout': [u'automobile layout', u'four-wheel drive', u'front-engine design'], u'name': u'Mercedes-Benz W212', u'bodyStyle': [u'convertible', u'coup\\xe9', u'sedan', u'station wagon'], u'modelYears': [], u'productionYears': [], u'assembly': [u'Beijing', u'Cairo', u'China', u'Egypt', u'Germany', u'Mexico', u'Pune', u'Santiago Tianguistenco', u'Sindelfingen', u'Toluca'], u'_id': ObjectId('56bdbea19f3bc305487f5bc8'), u'class': u'executive car'} \n",
      "\n",
      "{u'layout': u'front-engine rear-wheel-drive layout', u'name': [u'First generation', u'Ford Taunus Transit'], u'bodyStyle': u'van', u'modelYears': [], u'productionYears': [1953, 1954, 1955, 1956, 1957, 1958, 1959, 1960, 1961, 1962, 1963, 1964, 1965], u'assembly': [u'Cologne', u'Germany'], u'_id': ObjectId('56bdbea19f3bc305487f5bef')} \n",
      "\n",
      "{u'assembly': [u'6th of October City', u'Cairo', u'Chennai', u'China', u'Dingolfing', u'Egypt', u'Germany', u'India', u'Indonesia', u'Jakarta', u'Kaliningrad', u'Malaysia', u'Mexico', u'Russia', u'Selangor', u'Shah Alam', u'Shenyang', u'Tehran', u'Toluca'], u'name': u'BMW 5 Series', u'bodyStyle': [u'sedan', u'station wagon'], u'modelYears': [], u'productionYears': [], u'_id': ObjectId('56bdbea19f3bc305487f5c14'), u'class': [u'executive car', u'mid-size car'], u'manufacturer': u'BMW'} \n",
      "\n",
      "{u'engine': [u'BMW_5_Series_(E34)__10', u'BMW_5_Series_(E34)__11', u'BMW_5_Series_(E34)__12', u'BMW_5_Series_(E34)__13', u'BMW_5_Series_(E34)__14', u'BMW_5_Series_(E34)__15', u'BMW_5_Series_(E34)__16', u'BMW_5_Series_(E34)__18', u'BMW_5_Series_(E34)__19', u'BMW_5_Series_(E34)__2', u'BMW_5_Series_(E34)__20', u'BMW_5_Series_(E34)__21', u'BMW_5_Series_(E34)__3', u'BMW_5_Series_(E34)__4', u'BMW_5_Series_(E34)__5', u'BMW_5_Series_(E34)__518g__1', u'BMW_5_Series_(E34)__518i__1', u'BMW_5_Series_(E34)__518i__2', u'BMW_5_Series_(E34)__520i__1', u'BMW_5_Series_(E34)__520i__2', u'BMW_5_Series_(E34)__520i__3', u'BMW_5_Series_(E34)__524td__1', u'BMW_5_Series_(E34)__525i__1', u'BMW_5_Series_(E34)__525i__2', u'BMW_5_Series_(E34)__525ix__1', u'BMW_5_Series_(E34)__525ix__2', u'BMW_5_Series_(E34)__525td__1', u'BMW_5_Series_(E34)__525tds__1', u'BMW_5_Series_(E34)__530i__1', u'BMW_5_Series_(E34)__530i__2', u'BMW_5_Series_(E34)__535i__1', u'BMW_5_Series_(E34)__540i__1', u'BMW_5_Series_(E34)__6', u'BMW_5_Series_(E34)__7', u'BMW_5_Series_(E34)__8', u'BMW_5_Series_(E34)__9', u'BMW_5_Series_(E34)__M5__1', u'BMW_5_Series_(E34)__M5__2'], u'designer': u'Ercole Spada', u'assembly': [u'Dingolfing', u'Germany', u'Mexico', u'Toluca'], u'name': u'BMW 5-Series (E34)', u'transmission': [u'4-speed ZF', u'5-speed Getrag', u'5-speed ZF', u'6-speed Getrag', u'Automatic', u'Manual'], u'modelYears': [], u'productionYears': [1988, 1989, 1990, 1991, 1992, 1993, 1994, 1995, 1996], u'layout': u'front-engine rear-wheel-drive layout', u'_id': ObjectId('56bdbea19f3bc305487f5c1b'), u'bodyStyle': [u'sedan', u'station wagon'], u'class': [u'executive car', u'mid-size car'], u'manufacturer': u'BMW', u'dimensions': {u'width': 1.751, u'length': 4.72, u'height': 1.412, u'weight': 1565.0, u'wheelbase': 2.761}} \n",
      "\n",
      "{u'engine': [u'Citro%C3%ABn_Traction_Avant__1', u'Citro%C3%ABn_Traction_Avant__2'], u'designer': [u'Andr\\xe9 Lef\\xe8bvre', u'Flaminio Bertoni'], u'assembly': [u'Belgium', u'Cologne', u'Copenhagen', u'Denmark', u'England', u'Forest Belgium', u'France', u'Germany', u'Paris', u'Slough'], u'name': [u'Citro\\xebn 11CV', u'Citro\\xebn 15CV', u'Citro\\xebn 7CV', u'Citro\\xebn Big Fifteen (UK)', u'Citro\\xebn Big Six (UK)', u'Citro\\xebn Light 15 (UK)', u'Citro\\xebn Traction Avant'], u'transmission': u'3-speed manual column/dash shift', u'modelYears': [], u'productionYears': [7], u'layout': u'mid-engine front-wheel-drive layout', u'_id': ObjectId('56bdbea19f3bc305487f5c27'), u'bodyStyle': [u'convertible', u'coup\\xe9', u'hatchback', u'sedan'], u'class': [u'executive car', u'mid-size car'], u'manufacturer': u'Citro\\xebn', u'dimensions': {u'wheelbase': 2.91}} \n",
      "\n",
      "{u'engine': [u'Porsche_993__1', u'Porsche_993__2'], u'assembly': [u'Germany', u'Stuttgart'], u'name': [u'Porsche 911', u'Porsche 993', u'Porsche Carrera'], u'transmission': [u'4-speed automatic', u'5 & 6-speed manual'], u'modelYears': [], u'productionYears': [1995, 1996, 1997, 1998], u'layout': [u'automobile layout', u'four-wheel drive', u'rear-engine design'], u'_id': ObjectId('56bdbea19f3bc305487f5d0a'), u'bodyStyle': [u'convertible', u'coup\\xe9'], u'class': u'sports car', u'manufacturer': u'Porsche', u'dimensions': {u'width': 1.651, u'length': 4.27482, u'height': 1.31064, u'wheelbase': 2.27076}} \n",
      "\n",
      "{u'engine': [u'BMW_Z4__E89__1__1', u'BMW_Z4__E89__1__2', u'BMW_Z4__E89__1__3', u'BMW_Z4__E89__1__4'], u'assembly': [u'Bavaria', u'Germany', u'Regensburg'], u'name': u'BMW Z4 (E89)', u'transmission': [u'6 speed automatic', u'6 speed manual', u'7 speed automatic', u'8 speed ZF 8HP transmission', u'automatic'], u'modelYears': [], u'productionYears': [], u'layout': u'front-engine rear-wheel-drive layout', u'_id': ObjectId('56bdbea19f3bc305487f5d12'), u'bodyStyle': u'convertible', u'class': u'luxury_car-sports_car-roadster', u'manufacturer': u'BMW', u'dimensions': {u'width': 1.79, u'length': 4.239, u'height': 1.291, u'weight': 1470.0, u'wheelbase': 2.496}} \n",
      "\n",
      "{u'engine': u'Mercedes-Benz_300SL__1', u'assembly': [u'Germany', u'Stuttgart'], u'name': u'Mercedes-Benz 300SL', u'transmission': u'4-speed manual', u'modelYears': [], u'productionYears': [1952], u'layout': u'front-engine rear-wheel-drive layout', u'_id': ObjectId('56bdbea19f3bc305487f5d21'), u'bodyStyle': [u'coup\\xe9', u'roadster'], u'class': [u'grand tourer', u'sports car'], u'manufacturer': u'Mercedes-Benz', u'dimensions': {u'width': 1.79, u'length': 4.52, u'height': 1.3, u'weight': 1093.0, u'wheelbase': 2.4}} \n",
      "\n",
      "{u'engine': [u'Audi_100__C1__1__1', u'Audi_100__C1__1__2'], u'assembly': [u'Baden-W\\xfcrttemberg', u'Bavaria', u'Germany', u'Ingolstadt', u'Lower Saxony', u'Neckarsulm', u'Wolfsburg'], u'name': u'Audi 100 (C1)', u'transmission': [u'4-speed manual all-synchromesh', u'automatic optional'], u'modelYears': [], u'productionYears': [1970], u'layout': u'front-engine front-wheel-drive layout', u'_id': ObjectId('56bdbea19f3bc305487f5d43'), u'bodyStyle': [u'coup\\xe9', u'sedan'], u'dimensions': {u'width': 1.7272, u'length': 4.39928, u'height': 1.41732, u'weight': 1089.09, u'wheelbase': 2.67462}} \n",
      "\n",
      "{u'engine': [u'Audi_100__&_200_C2__1__1', u'Audi_100__&_200_C2__1__2', u'Audi_100__&_200_C2__1__3'], u'assembly': [u'Germany', u'Ingolstadt', u'Lagos', u'Neckarsulm', u'Nigeria', u'South Africa', u'Uitenhage'], u'name': [u'Audi 100 & 200 (C2)', u'Audi 5E (Australia)'], u'transmission': [u'3-speed automatic', u'5-speed manual'], u'modelYears': [], u'productionYears': [1976], u'layout': [u'front-engine design', u'front-wheel drive'], u'_id': ObjectId('56bdbea19f3bc305487f5d44'), u'bodyStyle': [u'hatchback', u'sedan'], u'dimensions': {u'width': 1.76809, u'length': 4.67995, u'height': 1.39294, u'weight': 1148.52, u'wheelbase': 2.67691}} \n",
      "\n",
      "{u'engine': [u'Audi_100__&_200_C3__1__1', u'Audi_100__&_200_C3__1__10', u'Audi_100__&_200_C3__1__2', u'Audi_100__&_200_C3__1__3', u'Audi_100__&_200_C3__1__4', u'Audi_100__&_200_C3__1__5', u'Audi_100__&_200_C3__1__6', u'Audi_100__&_200_C3__1__7', u'Audi_100__&_200_C3__1__8', u'Audi_100__&_200_C3__1__9'], u'assembly': [u'Changchun', u'China', u'Germany', u'Japan', u'Neckarsulm', u'South Africa', u'Tokyo', u'Uitenhage'], u'name': [u'Audi 100 & 200 (C3)', u'Hongqi Mingshi'], u'transmission': [u'3- and 4-speed automatic', u'4-speed manual', u'5-speed manual'], u'modelYears': [], u'productionYears': [1982, 1983, 1984, 1985, 1986, 1987, 1988, 1989, 1990, 1991], u'layout': [u'front-engine design', u'front-wheel drive', u'quattro (four-wheel-drive system)'], u'_id': ObjectId('56bdbea19f3bc305487f5d45'), u'bodyStyle': [u'sedan', u'station wagon'], u'dimensions': {u'width': 1.81356, u'length': 4.79298, u'height': 1.41986, u'wheelbase': 2.68224}} \n",
      "\n",
      "{u'engine': [u'Audi_100__C4__1__10', u'Audi_100__C4__1__2', u'Audi_100__C4__1__3', u'Audi_100__C4__1__4', u'Audi_100__C4__1__5', u'Audi_100__C4__1__6', u'Audi_100__C4__1__7', u'Audi_100__C4__1__9'], u'assembly': [u'Germany', u'Japan', u'Neckarsulm', u'Tokyo'], u'name': u'Audi 100 (C4)', u'transmission': [u'4-speed automatic', u'5-speed manual', u'6-speed manual'], u'modelYears': [], u'productionYears': [1991, 1992, 1993, 1994], u'layout': [u'front-engine design', u'front-wheel drive', u'quattro (four-wheel-drive system)'], u'_id': ObjectId('56bdbea19f3bc305487f5d46'), u'bodyStyle': [u'sedan', u'station wagon'], u'dimensions': {u'width': 1.778, u'length': 4.89204, u'height': 1.43002, u'wheelbase': 2.68732}} \n",
      "\n",
      "{u'engine': [u'Audi_A2__1', u'Audi_A2__2', u'Audi_A2__3', u'Audi_A2__4'], u'designer': u'Luc Donckerwolke', u'assembly': [u'Germany', u'Neckarsulm'], u'name': u'Audi A2', u'transmission': [u'5-speed Getrag manual', u'5-speed direct shift automated manual transmission'], u'modelYears': [], u'productionYears': [1999], u'layout': [u'front-wheel drive', u'transverse engine'], u'_id': ObjectId('56bdbea19f3bc305487f5d4a'), u'bodyStyle': u'vehicle door', u'class': [u'compact mpv', u'supermini'], u'manufacturer': u'Audi', u'dimensions': {u'width': 1.673, u'length': 3.826, u'height': 1.553, u'weight': 895.0, u'wheelbase': 2.405}} \n",
      "\n",
      "{u'engine': [u'Audi_A3__8P__1__.2_TFSI__1', u'Audi_A3__8P__1__.4_TFSI__1', u'Audi_A3__8P__1__.6_FSI__1', u'Audi_A3__8P__1__.6_TDI__1', u'Audi_A3__8P__1__.6_TDI__2', u'Audi_A3__8P__1__.6__1', u'Audi_A3__8P__1__.8_TFSI__1', u'Audi_A3__8P__1__.8_TFSI__2', u'Audi_A3__8P__1__.9_TDI__1', u'Audi_A3__8P__1__1', u'Audi_A3__8P__1__10', u'Audi_A3__8P__1__11', u'Audi_A3__8P__1__2', u'Audi_A3__8P__1__2.0_FSI__1', u'Audi_A3__8P__1__2.0_TDI__1', u'Audi_A3__8P__1__2.0_TDI__2', u'Audi_A3__8P__1__2.0_TDI__3', u'Audi_A3__8P__1__2.0_TDI__4', u'Audi_A3__8P__1__2.0_TDI__5', u'Audi_A3__8P__1__2.0_TDI__6', u'Audi_A3__8P__1__2.0_TFSI__1', u'Audi_A3__8P__1__2.0_TFSI__2', u'Audi_A3__8P__1__2.0_TFSI__3', u'Audi_A3__8P__1__2.5_TFSI__1', u'Audi_A3__8P__1__3', u'Audi_A3__8P__1__3.2_FSI__1', u'Audi_A3__8P__1__3.2_FSI__2', u'Audi_A3__8P__1__4', u'Audi_A3__8P__1__5', u'Audi_A3__8P__1__6', u'Audi_A3__8P__1__7', u'Audi_A3__8P__1__8', u'Audi_A3__8P__1__9'], u'assembly': [u'Brussels', u'Garuda Mataram Motor', u'Germany', u'Gy\\u0151r', u'Ingolstadt', u'Jakarta'], u'name': u'Audi A3 (8P)', u'transmission': [u'5-speed manual', u'6-speed S-Tronic', u'6-speed automatic', u'6-speed manual', u'7-speed S-Tronic'], u'modelYears': [], u'productionYears': [2003, 2004, 2005, 2006, 2007, 2008, 2009, 2010, 2011, 2012, 2013], u'_id': ObjectId('56bdbea19f3bc305487f5d52'), u'bodyStyle': [u'convertible', u'hatchback'], u'dimensions': {u'width': 1.765, u'length': 4.215, u'height': 1.42, u'wheelbase': 2.578}} \n",
      "\n",
      "{u'engine': [u'Audi_A3__8V__1__1', u'Audi_A3__8V__1__2', u'Audi_A3__8V__1__3', u'Audi_A3__8V__1__4'], u'assembly': [u'China', u'Foshan', u'Germany', u'Ingolstadt'], u'name': u'Audi A3 (8V)', u'transmission': [u'6-speed DSG (S-Tronic)', u'6-speed manual', u'7-speed DSG (S-Tronic)'], u'modelYears': [], u'productionYears': [], u'_id': ObjectId('56bdbea19f3bc305487f5d53'), u'bodyStyle': u'hatchback', u'dimensions': {u'width': 1.777, u'length': 4.237, u'height': 1.421, u'wheelbase': 2.601}} \n",
      "\n",
      "{u'engine': [u'Opel_Omega__A__1__18', u'Opel_Omega__A__1__28', u'Opel_Omega__A__1__29', u'Opel_Omega__A__1__3', u'Opel_Omega__A__1__30', u'Opel_Omega__A__1__4', u'Opel_Omega__A__1__6'], u'assembly': [u'Brazil', u'Ellesmere Port', u'England', u'Germany', u'R\\xfcsselsheim', u'S\\xe3o Caetano do Sul', u'United Kingdom'], u'dimensions': {u'width': 1.772, u'length': 4.687, u'height': 1.445, u'weight': 1150.0, u'wheelbase': 2.73}, u'transmission': [u'4-speed automatic', u'5-speed manual', u'6-speed manual (Lotus Omega)'], u'modelYears': [], u'name': [u'Chevrolet Omega', u'Chevrolet Suprema', u'Omega A', u'Vauxhall Carlton'], u'productionYears': [1986, 1987, 1988, 1989, 1990, 1991, 1992, 1993], u'_id': ObjectId('56bdbea19f3bc305487f5d55'), u'manufacturer': u'Opel'} \n",
      "\n",
      "{u'engine': [u'Opel_Omega__B__1__10', u'Opel_Omega__B__1__12', u'Opel_Omega__B__1__13', u'Opel_Omega__B__1__5'], u'assembly': [u'Germany', u'R\\xfcsselsheim', u'Rayong', u'Thailand'], u'dimensions': {u'width': 1.785, u'length': 4.79, u'height': 1.455, u'weight': 1400.0, u'wheelbase': 2.73}, u'transmission': [u'4-speed automatic', u'5-speed manual'], u'modelYears': [], u'name': [u'Cadillac Catera', u'Omega B', u'Vauxhall Omega'], u'productionYears': [1994, 1995, 1996, 1997, 1998, 1999], u'_id': ObjectId('56bdbea19f3bc305487f5d56'), u'manufacturer': u'Opel'} \n",
      "\n",
      "{u'engine': [u'Opel_Omega__B_FL__1__10', u'Opel_Omega__B_FL__1__13', u'Opel_Omega__B_FL__1__14', u'Opel_Omega__B_FL__1__16', u'Opel_Omega__B_FL__1__17', u'Opel_Omega__B_FL__1__6', u'Opel_Omega__B_FL__1__9'], u'assembly': u'Germany', u'dimensions': {u'width': 1.776, u'length': 4.898, u'height': 1.455, u'weight': 1530.0, u'wheelbase': 2.73}, u'transmission': [u'4-speed automatic', u'5-speed automatic', u'5-speed manual'], u'modelYears': [], u'name': [u'Cadillac Catera', u'Omega B FL', u'Vauxhall Omega'], u'productionYears': [1999, 2000, 2001, 2002, 2003], u'_id': ObjectId('56bdbea19f3bc305487f5d57'), u'manufacturer': u'Opel'} \n",
      "\n",
      "{u'engine': u'Opel_Omega__V8_prototypes__1__1', u'assembly': u'Germany', u'dimensions': {u'width': 1.775, u'length': 4.898, u'height': 1.455, u'weight': 2195.0, u'wheelbase': 2.73}, u'transmission': u'5-speed automatic', u'modelYears': [], u'name': u'Omega V8 (prototypes)', u'productionYears': [1999, 2000, 2001], u'_id': ObjectId('56bdbea19f3bc305487f5d58'), u'manufacturer': u'Opel'} \n",
      "\n",
      "{u'engine': [u'Mercedes-Benz_W201__1', u'Mercedes-Benz_W201__2', u'Mercedes-Benz_W201__2199__1', u'Mercedes-Benz_W201__2298__1', u'Mercedes-Benz_W201__2299__1', u'Mercedes-Benz_W201__2299__2', u'Mercedes-Benz_W201__2299__3', u'Mercedes-Benz_W201__2463__1', u'Mercedes-Benz_W201__2463__2', u'Mercedes-Benz_W201__2497__1', u'Mercedes-Benz_W201__2497__2', u'2463__1', u'Mercedes-Benz_W201__2498__1', u'Mercedes-Benz_W201__2498__2', u'Mercedes-Benz_W201__2597__1', u'Mercedes-Benz_W201__3', u'Mercedes-Benz_W201__4', u'Mercedes-Benz_W201__737__1', u'Mercedes-Benz_W201__797__1', u'Mercedes-Benz_W201__996__1', u'Mercedes-Benz_W201__996__2', u'Mercedes-Benz_W201__997__1'], u'assembly': [u'Bremen', u'Germany', u'Sindelfingen', u'Thailand', u'Thonburi'], u'name': u'Mercedes-Benz W201 (190 190E 190D)', u'transmission': [u'4-speed automatic', u'4-speed manual', u'5-speed manual'], u'modelYears': [], u'productionYears': [1982, 1983, 1984, 1985, 1986, 1987, 1988, 1989, 1990, 1991, 1992, 1993], u'layout': u'front-engine rear-wheel-drive layout', u'_id': ObjectId('56bdbea19f3bc305487f5d6a'), u'bodyStyle': u'sedan', u'class': u'compact executive car', u'manufacturer': u'Mercedes-Benz', u'dimensions': {u'width': 1.67894, u'length': 4.44754, u'height': 1.38938, u'wheelbase': 2.66446}} \n",
      "\n",
      "{u'layout': u'front-engine rear-wheel-drive layout', u'name': u'BMW 7 Series', u'bodyStyle': u'sedan', u'modelYears': [], u'productionYears': [], u'assembly': [u'Dingolfing', u'Germany', u'Lerma', u'Mexico', u'Toluca'], u'_id': ObjectId('56bdbea19f3bc305487f5d84'), u'class': u'full-size car', u'manufacturer': u'BMW'} \n",
      "\n",
      "{u'engine': [u'Porsche_996__1', u'Porsche_996__2', u'Porsche_996__911_%2240_Jahre%22__1', u'Porsche_996__911_Carrera_4S_Cabriolet__1', u'Porsche_996__911_Carrera_4S__1', u'Porsche_996__911_Carrera_4_Cabriolet__1', u'Porsche_996__911_Carrera_Cabriolet__1', u'Porsche_996__911_Carrera__1', u'Porsche_996__911_GT2__1', u'Porsche_996__911_GT3_RS__1', u'Porsche_996__911_GT3__1', u'Porsche_996__911_Targa__1', u'Porsche_996__911_Turbo_Cabriolet__1', u'Porsche_996__911_Turbo_S_Cabriolet__1', u'Porsche_996__911_Turbo_S__1', u'Porsche_996__911_Turbo_X50_Cabriolet__1', u'Porsche_996__911_Turbo_X50__1', u'Porsche_996__911_Turbo__1'], u'designer': u'Harm Lagaay', u'assembly': [u'Germany', u'Stuttgart'], u'name': [u'Porsche 911', u'Porsche 996', u'Porsche Carrera'], u'transmission': [u'5-speed automatic', u'6-speed manual'], u'modelYears': [], u'productionYears': [1998, 1999, 2000, 2001, 2002, 2003, 2004, 2005], u'layout': [u'rear-engine four-wheel-drive layout', u'rear-engine rear-wheel-drive layout'], u'_id': ObjectId('56bdbea19f3bc305487f5d93'), u'bodyStyle': [u'convertible', u'coup\\xe9'], u'manufacturer': u'Porsche', u'dimensions': {u'width': 1.7653, u'length': 4.4323, u'height': 1.30556, u'weight': 1324.51, u'wheelbase': 2.35204}} \n",
      "\n",
      "{u'engine': [u'Audi_A5__1', u'Audi_A5__2', u'Audi_A5__3', u'Audi_A5__4', u'Audi_A5__5', u'Audi_A5__6', u'Audi_A5__7', u'Audi_A5__8'], u'designer': u'Walter de Silva', u'assembly': [u'Germany', u'Ingolstadt', u'Malaysia', u'Shah Alam'], u'name': u'Audi A5', u'transmission': [u'6-speed Tiptronic automatic', u'6-speed manual', u'7-speed S tronic semi-automatic', u'8-speed Multitronic CVT'], u'modelYears': [], u'productionYears': [2007, 2008, 2009], u'layout': [u'front-wheel drive', u'longitudinal engine', u'quattro (four-wheel-drive system)'], u'_id': ObjectId('56bdbea19f3bc305487f5d95'), u'bodyStyle': [u'convertible', u'coup\\xe9', u'hatchback'], u'class': u'compact executive car', u'manufacturer': u'Audi', u'dimensions': {u'width': 2.019, u'length': 4.641, u'height': 1.382, u'weight': 1610.0, u'wheelbase': 2.751}} \n",
      "\n",
      "{u'engine': [u'Mercedes-Benz_GLK-Class__1', u'Mercedes-Benz_GLK-Class__2', u'Mercedes-Benz_GLK-Class__3', u'Mercedes-Benz_GLK-Class__4'], u'assembly': [u'6th of October City', u'Beijing', u'Bremen', u'China', u'Egypt', u'Germany'], u'name': u'Mercedes-Benz GLK-Class', u'transmission': u'7-speed automatic', u'modelYears': [2009], u'productionYears': [], u'layout': [u'automobile layout', u'four-wheel drive', u'front-engine design'], u'_id': ObjectId('56bdbea29f3bc305487f5e0d'), u'bodyStyle': u'sport utility vehicle', u'class': u'compact suv', u'manufacturer': u'Mercedes-Benz', u'dimensions': {u'width': 1.83896, u'length': 4.52628, u'height': 1.69926, u'wheelbase': 2.7559}} \n",
      "\n",
      "{u'engine': [u'Opel_Ascona__A__1__1', u'Opel_Ascona__A__1__2', u'Opel_Ascona__A__1__3'], u'assembly': [u'Bochum', u'Germany'], u'name': [u'Opel 1900 (USA)', u'Opel Ascona A'], u'transmission': [u'4-speed manual', u'automatic optional'], u'modelYears': [], u'productionYears': [1970, 1971, 1972, 1973, 1974, 1975], u'layout': u'front-engine rear-wheel-drive layout', u'_id': ObjectId('56bdbea29f3bc305487f5e2a'), u'bodyStyle': [u'sedan', u'station wagon'], u'dimensions': {u'width': 1.63512, u'length': 4.1783, u'height': 1.3843, u'wheelbase': 2.43205}} \n",
      "\n",
      "{u'engine': [u'Opel_Ascona__B__1__1', u'Opel_Ascona__B__1__2', u'Opel_Ascona__B__1__3', u'Opel_Ascona__B__1__4', u'Opel_Ascona__B__1__5', u'Opel_Ascona__B__1__6', u'Opel_Ascona__B__1__7', u'Opel_Ascona__B__1__8'], u'assembly': [u'Antwerp', u'Belgium', u'Bochum', u'Germany'], u'name': [u'Chevrolet Ascona (RSA)', u'Chevrolet San Remo (EC)', u'Opel Ascona B'], u'modelYears': [], u'productionYears': [1975, 1976, 1977, 1978, 1979, 1980, 1981], u'_id': ObjectId('56bdbea29f3bc305487f5e2b'), u'bodyStyle': u'sedan', u'dimensions': {u'width': 1.67, u'length': 4.321, u'height': 1.38, u'weight': 1050.0, u'wheelbase': 2.518}} \n",
      "\n",
      "{u'engine': u'NSU_Ro_80__1', u'designer': u'Claus Luthe', u'assembly': [u'Germany', u'Neckarsulm'], u'name': u'NSU Ro 80', u'transmission': u'3-speed Fichtel & Sachs all-synchromesh manual connected with automatic clutch and F & S torque converter', u'modelYears': [], u'productionYears': [1967, 1968, 1969, 1970, 1971, 1972, 1973, 1974, 1975, 1976, 1977], u'layout': u'front-engine front-wheel-drive layout', u'_id': ObjectId('56bdbea29f3bc305487f5eb0'), u'bodyStyle': u'sedan', u'class': u'executive car', u'manufacturer': [u'Audi', u'NSU Motorenwerke'], u'dimensions': {u'width': 1.76022, u'length': 4.78028, u'height': 1.4097, u'weight': 1251.48, u'wheelbase': 2.86004}} \n",
      "\n",
      "{u'engine': [u'BMW_8_Series_(E31)__1', u'BMW_8_Series_(E31)__2', u'BMW_8_Series_(E31)__3', u'BMW_8_Series_(E31)__4', u'BMW_8_Series_(E31)__5', u'BMW_8_Series_(E31)__6', u'BMW_8_Series_(E31)__7'], u'assembly': u'Germany', u'name': u'BMW 8-Series (E31)', u'transmission': [u'4-speed automatic', u'5-speed automatic', u'6-speed manual'], u'modelYears': [], u'productionYears': [1989, 1990, 1991, 1992, 1993, 1994, 1995, 1996, 1997, 1998, 1999], u'layout': u'front-engine rear-wheel-drive layout', u'_id': ObjectId('56bdbea29f3bc305487f5eb5'), u'bodyStyle': u'coup\\xe9', u'class': u'grand tourer', u'manufacturer': u'BMW', u'dimensions': {u'width': 1.854, u'length': 4.78, u'height': 1.341, u'weight': 1830.0, u'wheelbase': 2.685}} \n",
      "\n",
      "{u'engine': [u'Porsche_964__1', u'Porsche_964__2', u'Porsche_964__3', u'Porsche_964__4'], u'assembly': [u'Baden-W\\xfcrttemberg', u'Germany', u'Stuttgart'], u'name': [u'Porsche 911', u'Porsche 964', u'Porsche Carrera'], u'transmission': [u'4-speed automatic', u'5-speed manual'], u'modelYears': [], u'productionYears': [1989, 1990, 1991, 1992, 1993, 1994], u'layout': [u'rear-engine four-wheel-drive layout', u'rear-engine rear-wheel-drive layout'], u'_id': ObjectId('56bdbea29f3bc305487f5ebd'), u'bodyStyle': [u'convertible', u'coup\\xe9', u'targa'], u'class': u'sports car', u'manufacturer': u'Porsche', u'dimensions': {u'width': 1.651, u'length': 4.27482, u'height': 1.3208, u'wheelbase': 2.27076}} \n",
      "\n",
      "{u'engine': [u'Opel_Calibra__1', u'Opel_Calibra__2', u'Opel_Calibra__3'], u'assembly': [u'Finland', u'Germany', u'R\\xfcsselsheim', u'Uusikaupunki'], u'name': [u'Chevrolet Calibra', u'Holden Calibra', u'Opel Calibra', u'Vauxhall Calibra'], u'transmission': [u'4-speed Aisin-Warner automatic', u'5-speed manual', u'6-speed Getrag manual'], u'modelYears': [], u'productionYears': [1989, 1990, 1991, 1992, 1993, 1994, 1995, 1996, 1997], u'layout': [u'front-engine four-wheel-drive layout', u'front-engine front-wheel-drive layout'], u'_id': ObjectId('56bdbea29f3bc305487f5ec3'), u'bodyStyle': u'coup\\xe9', u'class': u'sports car', u'manufacturer': u'Opel'} \n",
      "\n",
      "{u'layout': u'front-engine rear-wheel-drive layout', u'name': u'Mercedes-Benz SL-Class', u'bodyStyle': [u'coup\\xe9', u'roadster'], u'modelYears': [], u'productionYears': [], u'assembly': [u'Bremen', u'Germany', u'Mexico', u'Santiago Tianguistenco'], u'_id': ObjectId('56bdbea29f3bc305487f5ecd'), u'class': u'luxury vehicle', u'manufacturer': u'Mercedes-Benz'} \n",
      "\n",
      "{u'layout': u'front-engine rear-wheel-drive layout', u'name': u'Mercedes-Benz CL-Class', u'bodyStyle': u'coup\\xe9', u'modelYears': [], u'productionYears': [1996, 1997, 1998, 1999, 2000, 2001, 2002, 2003, 2004, 2005, 2006, 2007, 2008, 2009, 2010, 2011, 2012, 2013], u'assembly': [u'Germany', u'Sindelfingen'], u'_id': ObjectId('56bdbea29f3bc305487f5f1f'), u'class': u'grand tourer', u'manufacturer': u'Mercedes-Benz'} \n",
      "\n",
      "{u'layout': u'front-engine rear-wheel-drive layout', u'name': u'Mercedes-Benz CLK', u'bodyStyle': [u'convertible', u'coup\\xe9'], u'modelYears': [], u'productionYears': [1996, 1997, 1998, 1999, 2000, 2001, 2002, 2003, 2004, 2005, 2006, 2007, 2008, 2009], u'assembly': [u'Bremen', u'Germany', u'Mexico', u'Monterrey'], u'_id': ObjectId('56bdbea29f3bc305487f5f2b'), u'class': u'sports car', u'manufacturer': u'Mercedes-Benz'} \n",
      "\n",
      "{u'engine': [u'BMW_3_Series_(E36)__10', u'BMW_3_Series_(E36)__12', u'BMW_3_Series_(E36)__13', u'BMW_3_Series_(E36)__2', u'BMW_3_Series_(E36)__3', u'BMW_3_Series_(E36)__316i__1', u'BMW_3_Series_(E36)__316i__2', u'BMW_3_Series_(E36)__316i__3', u'BMW_3_Series_(E36)__316i__4', u'BMW_3_Series_(E36)__318i__1', u'BMW_3_Series_(E36)__318i__2', u'BMW_3_Series_(E36)__318i__3', u'BMW_3_Series_(E36)__318is__1', u'BMW_3_Series_(E36)__318tds__1', u'BMW_3_Series_(E36)__318tds__2', u'BMW_3_Series_(E36)__318tds__3', u'BMW_3_Series_(E36)__318ti__1', u'BMW_3_Series_(E36)__318ti__2', u'BMW_3_Series_(E36)__320i__1', u'BMW_3_Series_(E36)__320i__2', u'BMW_3_Series_(E36)__320i__3', u'BMW_3_Series_(E36)__323i__1', u'BMW_3_Series_(E36)__323i__2', u'BMW_3_Series_(E36)__323i__3', u'BMW_3_Series_(E36)__323ti__1', u'BMW_3_Series_(E36)__325i__1', u'BMW_3_Series_(E36)__325i__2', u'BMW_3_Series_(E36)__325td__1', u'BMW_3_Series_(E36)__325tds__1', u'BMW_3_Series_(E36)__325tds__2', u'BMW_3_Series_(E36)__325tds__3', u'BMW_3_Series_(E36)__328i__1', u'BMW_3_Series_(E36)__328i__2', u'BMW_3_Series_(E36)__328i__3', u'BMW_3_Series_(E36)__4', u'BMW_3_Series_(E36)__5', u'BMW_3_Series_(E36)__6', u'BMW_3_Series_(E36)__7', u'BMW_3_Series_(E36)__8', u'BMW_3_Series_(E36)__9', u'BMW_3_Series_(E36)__M3__1', u'BMW_3_Series_(E36)__M3__2'], u'designer': u'Joji Nagashima', u'assembly': [u'Cairo', u'Egypt', u'Germany', u'Greer South Carolina', u'Mexico', u'Munich', u'Toluca', u'United States'], u'name': u'BMW 3 Series (E36)', u'transmission': [u'4-speed automatic', u'5-speed automatic', u'5-speed manual', u'6-speed manual'], u'modelYears': [1991, 1992, 1993, 1994, 1995, 1996, 1997, 1998, 1999, 2000, 2001, 2002, 2003, 2004, 2005, 2006, 2007, 2008, 2009, 2010, 2011, 2012], u'productionYears': [1990, 1991, 1992, 1993, 1994, 1995, 1996, 1997, 1998, 1999, 2000], u'layout': u'front-engine rear-wheel-drive layout', u'_id': ObjectId('56bdbea29f3bc305487f601c'), u'bodyStyle': [u'convertible', u'coup\\xe9', u'hatchback', u'sedan', u'station wagon'], u'class': u'compact executive car', u'manufacturer': u'BMW', u'dimensions': {u'width': 1.69672, u'length': 4.4323, u'height': 1.39192, u'wheelbase': 2.70002}} \n",
      "\n",
      "{u'engine': [u'BMW_3_Series_(E90)__1', u'BMW_3_Series_(E90)__316d__1', u'BMW_3_Series_(E90)__316i__1', u'BMW_3_Series_(E90)__318d__1', u'BMW_3_Series_(E90)__318d__2', u'BMW_3_Series_(E90)__318i__1', u'BMW_3_Series_(E90)__318i__2', u'BMW_3_Series_(E90)__320d_EfficientDynamics__1', u'BMW_3_Series_(E90)__320d__1', u'BMW_3_Series_(E90)__320d__2', u'BMW_3_Series_(E90)__320d__3', u'BMW_3_Series_(E90)__320i__1', u'BMW_3_Series_(E90)__320i__2', u'BMW_3_Series_(E90)__320si__1', u'BMW_3_Series_(E90)__323i__1', u'BMW_3_Series_(E90)__323i__2', u'BMW_3_Series_(E90)__325d__1', u'BMW_3_Series_(E90)__325d__2', u'BMW_3_Series_(E90)__325i__1', u'BMW_3_Series_(E90)__325i__2', u'BMW_3_Series_(E90)__328i__1', u'BMW_3_Series_(E90)__330d__1', u'BMW_3_Series_(E90)__330d__2', u'BMW_3_Series_(E90)__330i__1', u'BMW_3_Series_(E90)__330i__2', u'BMW_3_Series_(E90)__330i__3', u'BMW_3_Series_(E90)__335d_BluePerformance__1', u'BMW_3_Series_(E90)__335d__1', u'BMW_3_Series_(E90)__335i__1', u'BMW_3_Series_(E90)__335i__2', u'BMW_3_Series_(E90)__335is__1', u'BMW_3_Series_(E90)__M3_GTS__1', u'BMW_3_Series_(E90)__M3__1', u'BMW_3_Series_(E90)__Version__1'], u'designer': u'Joji Nagashima', u'assembly': [u'6th of October City', u'Chennai', u'China', u'Egypt', u'Germany', u'India', u'Indonesia', u'Jakarta', u'Kaliningrad', u'Leipzig', u'Malaysia', u'Mexico', u'Munich', u'Pretoria', u'Regensburg', u'Russia', u'Selangor', u'Shenyang', u'South Africa', u'Toluca'], u'name': u'BMW 3-Series (E90)', u'transmission': [u'6-speed automatic', u'6-speed manual'], u'modelYears': [2006, 2007, 2008, 2009, 2010, 2011], u'productionYears': [2004, 2005, 2006, 2007, 2008, 2009, 2010, 2011], u'layout': [u'automobile layout', u'four-wheel drive', u'front-engine design'], u'_id': ObjectId('56bdbea29f3bc305487f601d'), u'bodyStyle': [u'convertible', u'coup\\xe9', u'sedan', u'station wagon'], u'class': u'compact executive car', u'manufacturer': u'BMW', u'dimensions': {u'width': 1.816, u'length': 4.526, u'height': 1.41732, u'wheelbase': 2.761}} \n",
      "\n",
      "{u'engine': [u'BMW_6_Series_(E63)__1', u'BMW_6_Series_(E63)__2', u'BMW_6_Series_(E63)__3', u'630i__1', u'BMW_6_Series_(E63)__635d__1', u'BMW_6_Series_(E63)__645Ci__1', u'BMW_6_Series_(E63)__650i__1', u'BMW_6_Series_(E63)__M6__1'], u'designer': u'Adrian van Hooydonk', u'assembly': [u'Dingolfing', u'Germany'], u'name': u'BMW 6-Series (E63)', u'transmission': [u'6-speed (SMG)', u'6-speed automatic', u'6-speed manual', u'7-speed (SMG)'], u'modelYears': [], u'productionYears': [2003, 2004, 2005, 2006, 2007, 2008, 2009, 2010], u'_id': ObjectId('56bdbea29f3bc305487f601f'), u'bodyStyle': [u'convertible', u'coup\\xe9'], u'manufacturer': u'BMW', u'dimensions': {u'width': 1.855, u'length': 4.831, u'height': 1.373, u'weight': 1690.0, u'wheelbase': 2.778}} \n",
      "\n",
      "{u'engine': [u'BMW_7_Series_(E32)__1', u'BMW_7_Series_(E32)__2', u'BMW_7_Series_(E32)__3', u'BMW_7_Series_(E32)__4', u'BMW_7_Series_(E32)__5', u'BMW_7_Series_(E32)__6', u'BMW_7_Series_(E32)__7', u'BMW_7_Series_(E32)__8'], u'designer': u'Ercole Spada', u'assembly': [u'Dingolfing', u'Germany'], u'name': u'BMW 7-Series (E32)', u'transmission': [u'4-speed', u'5-speed', u'Automatic', u'Manual'], u'modelYears': [], u'productionYears': [1986, 1987, 1988, 1989, 1990, 1991, 1992, 1993, 1994], u'layout': u'front-engine rear-wheel-drive layout', u'_id': ObjectId('56bdbea29f3bc305487f6020'), u'bodyStyle': u'vehicle door', u'class': u'full-size car', u'manufacturer': u'BMW', u'dimensions': {u'width': 1.845, u'length': 4.91, u'height': 1.4, u'weight': 1720.0, u'wheelbase': 2.833}} \n",
      "\n",
      "{u'engine': [u'BMW_7_Series_(E38)__1', u'BMW_7_Series_(E38)__2', u'BMW_7_Series_(E38)__3', u'BMW_7_Series_(E38)__4', u'BMW_7_Series_(E38)__5', u'BMW_7_Series_(E38)__725tds__1', u'BMW_7_Series_(E38)__728iL__1', u'BMW_7_Series_(E38)__728i__1', u'BMW_7_Series_(E38)__730d__1', u'BMW_7_Series_(E38)__730iL__1', u'BMW_7_Series_(E38)__730i__1', u'BMW_7_Series_(E38)__735iL__1', u'BMW_7_Series_(E38)__735i__1', u'BMW_7_Series_(E38)__740d__1', u'BMW_7_Series_(E38)__740iL__1', u'BMW_7_Series_(E38)__740iL__2', u'BMW_7_Series_(E38)__740i__1', u'BMW_7_Series_(E38)__740i__2', u'BMW_7_Series_(E38)__750i-iL__1', u'BMW_7_Series_(E38)__750i-iL__2'], u'assembly': [u'Dingolfing', u'Germany', u'Mexico', u'Toluca'], u'name': u'BMW 7-Series (E38)', u'transmission': [u'5-speed automatic', u'5-speed manual', u'6-speed manual'], u'modelYears': [], u'productionYears': [], u'layout': u'front-engine rear-wheel-drive layout', u'_id': ObjectId('56bdbea29f3bc305487f6021'), u'bodyStyle': u'sedan', u'manufacturer': u'BMW', u'dimensions': {u'width': 1.862, u'length': 4.984, u'height': 1.425, u'weight': 1710.0, u'wheelbase': 2.93}} \n",
      "\n",
      "{u'engine': [u'BMW_5_Series_(E60)__10', u'BMW_5_Series_(E60)__12', u'BMW_5_Series_(E60)__13', u'BMW_5_Series_(E60)__14', u'BMW_5_Series_(E60)__15', u'BMW_5_Series_(E60)__2', u'BMW_5_Series_(E60)__3', u'BMW_5_Series_(E60)__4', u'BMW_5_Series_(E60)__5', u'BMW_5_Series_(E60)__6', u'BMW_5_Series_(E60)__7', u'BMW_5_Series_(E60)__8', u'BMW_5_Series_(E60)__9'], u'assembly': [u'6th of October City', u'Chennai', u'China', u'Dingolfing', u'Egypt', u'Germany', u'India', u'Indonesia', u'Jakarta', u'Kaliningrad', u'Mexico', u'Rayong', u'Russia', u'Shenyang', u'Thailand', u'Toluca'], u'name': u'BMW 5-Series sedan (E60)', u'transmission': [u'6-speed', u'6-speed SMG', u'6-speed Steptronic', u'6-speed automatic', u'7-speed SMG', u'automatic', u'manual'], u'modelYears': [], u'productionYears': [2003, 2004, 2005, 2006, 2007, 2008, 2009, 2010], u'layout': [u'front-engine four-wheel-drive layout', u'front-engine rear-wheel-drive layout'], u'_id': ObjectId('56bdbea29f3bc305487f6022'), u'bodyStyle': u'sedan', u'class': u'mid-size car', u'manufacturer': u'BMW', u'dimensions': {u'width': 1.846, u'length': 4.841, u'height': 1.468, u'wheelbase': 2.888}} \n",
      "\n",
      "{u'engine': [u'BMW_7_Series_(E65)__10', u'BMW_7_Series_(E65)__11', u'BMW_7_Series_(E65)__12', u'BMW_7_Series_(E65)__2', u'BMW_7_Series_(E65)__3', u'BMW_7_Series_(E65)__4', u'BMW_7_Series_(E65)__5', u'BMW_7_Series_(E65)__6', u'BMW_7_Series_(E65)__7', u'BMW_7_Series_(E65)__730Ld__1', u'BMW_7_Series_(E65)__730Ld__2', u'BMW_7_Series_(E65)__730Li__1', u'BMW_7_Series_(E65)__730d__1', u'BMW_7_Series_(E65)__730d__2', u'BMW_7_Series_(E65)__730i__1', u'BMW_7_Series_(E65)__735Li__1', u'BMW_7_Series_(E65)__735i__1', u'BMW_7_Series_(E65)__740Li__1', u'BMW_7_Series_(E65)__740d__1', u'BMW_7_Series_(E65)__740i__1', u'BMW_7_Series_(E65)__745Li__1', u'BMW_7_Series_(E65)__745d__1', u'BMW_7_Series_(E65)__745i__1', u'BMW_7_Series_(E65)__750Li__1', u'BMW_7_Series_(E65)__750i__1', u'BMW_7_Series_(E65)__760Li__1', u'BMW_7_Series_(E65)__760i__1', u'BMW_7_Series_(E65)__9'], u'designer': u'Adrian van Hooydonk', u'assembly': [u'Cairo', u'Dingolfing', u'Egypt', u'Germany', u'Kaliningrad', u'Mexico', u'Rayong', u'Russia', u'Thailand', u'Toluca'], u'name': u'BMW 7-Series E65/E66/E67/E68', u'transmission': [u'5-speed', u'6-speed', u'automatic'], u'modelYears': [], u'productionYears': [2001, 2002, 2003, 2004, 2005, 2006, 2007, 2008], u'_id': ObjectId('56bdbea29f3bc305487f6024'), u'manufacturer': u'BMW', u'dimensions': {u'width': 1.902, u'length': 5.029, u'height': 1.491, u'wheelbase': 2.99}} \n",
      "\n",
      "{u'engine': [u'Mercury_Capri__First_generation__1__1', u'Mercury_Capri__First_generation__1__2', u'Mercury_Capri__First_generation__1__3', u'Mercury_Capri__First_generation__1__4', u'Mercury_Capri__First_generation__1__5'], u'layout': u'front-engine rear-wheel-drive layout', u'name': [u'First generation', u'Ford Capri'], u'modelYears': [], u'productionYears': [1970, 1971, 1972, 1973, 1974, 1975, 1976, 1977], u'assembly': [u'Cologne', u'Germany', u'Saarlouis'], u'_id': ObjectId('56bdbea29f3bc305487f6087'), u'bodyStyle': [u'coup\\xe9', u'hatchback']} \n",
      "\n",
      "{u'engine': u'Cadillac_Catera__1', u'assembly': [u'Germany', u'R\\xfcsselsheim'], u'name': u'Cadillac Catera', u'transmission': u'4-speed automatic', u'modelYears': [], u'productionYears': [1997, 1998, 1999, 2000, 2001], u'layout': u'front-engine rear-wheel-drive layout', u'_id': ObjectId('56bdbea29f3bc305487f60d1'), u'bodyStyle': u'sedan', u'class': u'mid-size car', u'manufacturer': u'Opel', u'dimensions': {u'width': 1.78562, u'length': 4.9276, u'height': 1.43002, u'weight': 1767.68, u'wheelbase': 2.7305}} \n",
      "\n",
      "{u'layout': u'front-engine rear-wheel-drive layout', u'dimensions': {u'width': 1.722, u'length': 4.81, u'height': 1.415, u'weight': 1640.0, u'wheelbase': 2.685}, u'bodyStyle': [u'fastback', u'sedan'], u'modelYears': [], u'productionYears': [1978, 1979, 1980, 1981, 1982, 1983, 1984, 1985, 1986], u'assembly': u'Germany', u'_id': ObjectId('56bdbea29f3bc305487f60d3'), u'class': u'full-size car', u'name': [u'Chevrolet Senator', u'Senator A / Monza A', u'Vauxhall Royale', u'Vauxhall Royale Coup\\xe9', u'Vauxhall Senator']} \n",
      "\n",
      "{u'engine': [u'Opel_Senator__B__1__2', u'Opel_Senator__B__1__3', u'Opel_Senator__B__1__4', u'Opel_Senator__B__1__5', u'Opel_Senator__B__1__7'], u'assembly': u'Germany', u'name': [u'Senator B', u'Vauxhall Senator'], u'transmission': [u'4-speed automatic', u'5-speed manual'], u'modelYears': [], u'productionYears': [1987, 1988, 1989, 1990, 1991, 1992, 1993], u'layout': u'front-engine rear-wheel-drive layout', u'_id': ObjectId('56bdbea29f3bc305487f60d4'), u'bodyStyle': u'sedan', u'class': u'full-size car', u'dimensions': {u'width': 1.785, u'length': 4.845, u'height': 1.455, u'weight': 1640.0, u'wheelbase': 2.73}} \n",
      "\n",
      "{u'engine': u'Audi_50__1', u'designer': u'Claus Luthe', u'assembly': [u'Germany', u'Neckarsulm'], u'name': u'Audi 50', u'transmission': u'4-speed manual', u'modelYears': [], u'productionYears': [1974, 1975, 1976, 1977, 1978], u'layout': [u'front-wheel drive', u'transverse engine'], u'_id': ObjectId('56bdbea29f3bc305487f60df'), u'bodyStyle': u'hatchback', u'class': u'supermini', u'manufacturer': u'Audi', u'dimensions': {u'width': 1.56, u'length': 3.51, u'height': 1.34, u'wheelbase': 2.335}} \n",
      "\n",
      "{u'engine': [u'Audi_Quattro__1', u'Audi_Quattro__2', u'Audi_Quattro__3'], u'designer': [u'Ferdinand Pi\\xebch', u'Franz_Tengler', u'J%C3%B6rg_Bensinger', u'Martin Smith (designer)', u'Walter_Treser'], u'assembly': [u'Germany', u'Ingolstadt'], u'name': [u'Audi Quattro', u'Ur-Quattro'], u'transmission': u'5-speed manual', u'modelYears': [], u'productionYears': [1980, 1981, 1982, 1983, 1984, 1985, 1986, 1987, 1988, 1989, 1990, 1991], u'layout': u'longitudinal engine', u'_id': ObjectId('56bdbea29f3bc305487f60fa'), u'bodyStyle': u'coup\\xe9', u'class': [u'coup\\xe9', u'rallying'], u'manufacturer': u'Audi', u'dimensions': {u'width': 1.722, u'length': 4.404, u'height': 1.346, u'weight': 1290.0, u'wheelbase': 2.524}} \n",
      "\n",
      "{u'engine': u'Audi_Quattro__Audi_Sport_Quattro_S1_E2__1__1', u'assembly': [u'Germany', u'Ingolstadt'], u'name': [u'Audi Sport Quattro S1 E2', u'S1 S1 Quattro Audi Sport Quattro E2'], u'transmission': u'6-speed manual', u'modelYears': [], u'productionYears': [1985, 1986], u'layout': u'longitudinal engine', u'_id': ObjectId('56bdbea29f3bc305487f60fb'), u'bodyStyle': u'coup\\xe9', u'class': [u'coup\\xe9', u'group b'], u'manufacturer': u'Audi', u'dimensions': {u'width': 1.86, u'length': 4.24, u'height': 1.344, u'weight': 1200.0, u'wheelbase': 2.204}} \n",
      "\n",
      "{u'engine': u'BMW_M3__E30__1__1', u'assembly': [u'Garching bei M\\xfcnchen', u'Germany', u'Regensburg', u'Rosslyn_Gauteng', u'South Africa'], u'name': u'E30', u'transmission': u'5-speed manual', u'modelYears': [], u'productionYears': [1985, 1986, 1987, 1988, 1989, 1990, 1991, 1992], u'_id': ObjectId('56bdbea29f3bc305487f6151'), u'bodyStyle': [u'convertible', u'sedan'], u'dimensions': {u'width': 1.67894, u'length': 4.34594, u'height': 1.36906, u'weight': 1299.56, u'wheelbase': 2.56794}} \n",
      "\n",
      "{u'assembly': [u'Germany', u'Mexico', u'Regensburg', u'Rosslyn_Gauteng', u'South Africa', u'Toluca'], u'name': u'E36', u'transmission': [u'5-speed automatic', u'5-speed manual', u'6 Speed SMG', u'6-speed manual'], u'modelYears': [], u'productionYears': [1992, 1993, 1994, 1995, 1996, 1997, 1998, 1999], u'_id': ObjectId('56bdbea29f3bc305487f6152'), u'bodyStyle': [u'convertible', u'coup\\xe9', u'sedan'], u'dimensions': {u'width': 1.70942, u'length': 4.4323, u'height': 1.33604, u'weight': 1460.0, u'wheelbase': 2.70002}} \n",
      "\n",
      "{u'engine': u'BMW_M3__E46_M3__1__1', u'assembly': [u'Germany', u'Regensburg'], u'name': u'E46 M3', u'transmission': [u'6 Speed Manual', u'6 Speed SMG Drivelogic'], u'modelYears': [], u'productionYears': [2001, 2002, 2003, 2004, 2005, 2006], u'_id': ObjectId('56bdbea29f3bc305487f6153'), u'bodyStyle': [u'convertible', u'coup\\xe9'], u'dimensions': {u'width': 1.78054, u'length': 4.49072, u'height': 1.3716, u'weight': 1549.04, u'wheelbase': 2.7305}} \n",
      "\n",
      "{u'engine': u'93__1__1', u'assembly': [u'Germany', u'Regensburg'], u'name': u'E90/92/93', u'modelYears': [], u'productionYears': [], u'_id': ObjectId('56bdbea29f3bc305487f6154'), u'bodyStyle': [u'convertible', u'coup\\xe9'], u'dimensions': {u'width': 1.82118, u'length': 4.61772, u'height': 1.41224, u'weight': 1680.13, u'wheelbase': 2.76098}} \n",
      "\n",
      "{u'engine': [u'Audi_R8_(road_car)__1', u'Audi_R8_(road_car)__2'], u'designer': u'Walter de Silva', u'assembly': [u'Germany', u'Neckarsulm'], u'dimensions': {u'width': 1.904, u'length': 4.431, u'height': 1.249, u'wheelbase': 2.65}, u'transmission': [u'6-speed R tronic', u'6-speed manual'], u'modelYears': [], u'productionYears': [], u'layout': [u'longitudinal engine', u'quattro (four-wheel-drive system)'], u'_id': ObjectId('56bdbea29f3bc305487f6156'), u'bodyStyle': [u'coup\\xe9', u'roadster'], u'class': u'sports car', u'manufacturer': [u'Audi', u'Quattro GmbH']} \n",
      "\n",
      "{u'assembly': [u'Germany', u'Rastatt'], u'name': u'First generation', u'bodyStyle': u'hatchback', u'modelYears': [2006, 2007, 2008, 2009, 2010, 2011], u'productionYears': [2005, 2006, 2007, 2008, 2009, 2010, 2011], u'_id': ObjectId('56bdbea29f3bc305487f6171'), u'dimensions': {u'width': 1.778, u'length': 4.26974, u'height': 1.6129, u'wheelbase': 2.78638}} \n",
      "\n",
      "{u'engine': [u'Mercedes-Benz_B-Class__econd_generation__1__1', u'Mercedes-Benz_B-Class__econd_generation__1__2'], u'assembly': [u'Germany', u'Hungary', u'Kecskem\\xe9t', u'Rastatt'], u'name': u'Second generation', u'transmission': [u'6-speed manual', u'7-speed DCT'], u'modelYears': [], u'productionYears': [], u'_id': ObjectId('56bdbea29f3bc305487f6172'), u'bodyStyle': u'hatchback', u'dimensions': {u'width': 1.78562, u'length': 4.35864, u'height': 1.55702, u'wheelbase': 2.70002}} \n",
      "\n",
      "{u'engine': [u'Mercedes-Benz_A-Class__W176__1__1', u'Mercedes-Benz_A-Class__W176__1__2', u'Mercedes-Benz_A-Class__W176__1__3', u'Mercedes-Benz_A-Class__W176__1__4', u'Mercedes-Benz_A-Class__W176__1__5'], u'assembly': [u'Finland', u'Germany', u'Hungary', u'Kecskem\\xe9t', u'Mexico', u'Rastatt', u'Uusikaupunki'], u'name': u'W176', u'transmission': [u'6-speed manual', u'7-speed automatic'], u'modelYears': [], u'productionYears': [], u'_id': ObjectId('56bdbea29f3bc305487f6186'), u'bodyStyle': u'hatchback', u'dimensions': {u'width': 1.78, u'length': 4.292, u'height': 1.433, u'wheelbase': 2.699}} \n",
      "\n",
      "{u'layout': [u'automobile layout', u'front-engine design'], u'name': u'Mercedes-Benz Sprinter', u'bodyStyle': [u'minibus', u'pickup truck', u'vehicle door'], u'modelYears': [], u'productionYears': [], u'assembly': [u'Buenos Aires', u'D\\xfcsseldorf', u'Gaffney South Carolina', u'Germany', u'Juiz de Fora', u'Ladson South Carolina', u'Manufacturing Commercial Vehicles', u'Mexico City', u'Monterrey', u\"Tai'an\", u'United States', u'Xinkai'], u'_id': ObjectId('56bdbea29f3bc305487f61f2'), u'class': u'light commercial vehicle', u'manufacturer': [u'Daimler-Benz', u'Daimler AG']} \n",
      "\n",
      "{u'assembly': [u'Dingolfing', u'Germany'], u'name': u'BMW M6', u'modelYears': [], u'productionYears': [1983], u'layout': u'front-engine rear-wheel-drive layout', u'_id': ObjectId('56bdbea29f3bc305487f61f6'), u'class': u'sports car', u'manufacturer': u'BMW'} \n",
      "\n",
      "{u'engine': u'E64__1__1', u'assembly': [u'Dingolfing', u'Germany'], u'name': u'Second generation (E63/E64)', u'transmission': [u'6-speed manual', u'7-speed single-clutch SMG'], u'modelYears': [2006, 2007, 2008, 2009, 2010], u'productionYears': [2005, 2006, 2007, 2008, 2009, 2010], u'layout': u'front-engine rear-wheel-drive layout', u'_id': ObjectId('56bdbea29f3bc305487f61f8'), u'bodyStyle': [u'convertible', u'coup\\xe9'], u'dimensions': {u'width': 1.8542, u'length': 4.87172, u'height': 1.3716, u'weight': 1710.07, u'wheelbase': 2.7813}} \n",
      "\n",
      "{u'engine': u'F13__1__1', u'assembly': [u'Dingolfing', u'Germany'], u'name': u'Third generation (F12/F13)', u'transmission': u'7-speed M-DCT', u'modelYears': [], u'productionYears': [], u'layout': u'front-engine rear-wheel-drive layout', u'_id': ObjectId('56bdbea29f3bc305487f61f9'), u'bodyStyle': [u'convertible', u'coup\\xe9'], u'dimensions': {u'width': 1.9017, u'length': 4.89712, u'height': 1.36906, u'weight': 1924.17, u'wheelbase': 2.84988}} \n",
      "\n",
      "{u'engine': u'Mercedes-Benz_W128__1', u'assembly': [u'Australia', u'Germany', u'Port Melbourne Victoria'], u'name': u'Mercedes-Benz W128', u'modelYears': [], u'productionYears': [1958, 1959, 1960], u'_id': ObjectId('56bdbea29f3bc305487f6254'), u'bodyStyle': [u'convertible', u'coup\\xe9', u'sedan'], u'class': u'luxury vehicle', u'manufacturer': u'Mercedes-Benz', u'dimensions': {u'wheelbase': 2.8194}} \n",
      "\n",
      "{u'engine': [u'Ford_Puma__1.4_1388cm%C2%B3_16V__1', u'Ford_Puma__1.6_1596cm%C2%B3_16V__1', u'Ford_Puma__1.7_1679_cm%C2%B3_16V_VCT__1', u'Ford_Puma__1.7_1679_cm%C2%B3_16V_VCT__2'], u'assembly': u'Germany', u'name': u'Ford Puma', u'transmission': u'5-speed IB5 Manual', u'modelYears': [], u'productionYears': [1997, 1998, 1999, 2000, 2001], u'layout': u'front-engine front-wheel-drive layout', u'_id': ObjectId('56bdbea29f3bc305487f6372'), u'bodyStyle': u'hatchback', u'class': u'coup\\xe9', u'manufacturer': u'Ford Motor Company'} \n",
      "\n",
      "{u'engine': u'Neoplan_Centroliner__1', u'assembly': [u'Germany', u'Plauen', u'Saxony'], u'name': [u'NEOPLAN Centroliner', u'NEOPLAN Centroliner Evolution'], u'transmission': [u'4-speed automatic', u'6-speed ZF automatic'], u'modelYears': [], u'productionYears': [1997, 1998, 1999, 2000, 2001, 2002, 2003, 2004, 2005, 2006, 2007, 2008, 2009], u'layout': u'rear-engine design', u'_id': ObjectId('56bdbea29f3bc305487f638d'), u'bodyStyle': [u'double-decker bus', u'midibus', u'single-deck bus'], u'class': u'commercial vehicle', u'manufacturer': [u'MAN Truck & Bus', u'Neoplan'], u'dimensions': {u'width': 2.5, u'height': 2.88, u'wheelbase': 5.875}} \n",
      "\n",
      "{u'engine': [u'Ford_C-Max__1', u'Ford_C-Max__1.6_Duratec_Ti-VCT__1', u'Ford_C-Max__1.6_Duratec__1', u'Ford_C-Max__1.6_Duratorq__1', u'Ford_C-Max__1.6_Duratorq__2', u'Ford_C-Max__1.8_Duratec_HE__1', u'Ford_C-Max__1.8_Duratorq__1', u'Ford_C-Max__2', u'Ford_C-Max__2.0_Duratec_HE__1', u'Ford_C-Max__2.0_Duratorq__1'], u'assembly': [u'Germany', u'Saarlouis'], u'name': u'First generation', u'transmission': [u'4-speed automatic', u'5-speed manual transmission', u'6-speed automatic', u'6-speed manual transmission'], u'modelYears': [], u'productionYears': [2003, 2004, 2005, 2006, 2007, 2008, 2009, 2010], u'_id': ObjectId('56bdbea29f3bc305487f63a7'), u'bodyStyle': u'minivan', u'dimensions': {u'width': 1.825, u'length': 4.371, u'height': 1.588, u'wheelbase': 2.64}} \n",
      "\n",
      "{u'engine': u'Merkur_Scorpio__1', u'assembly': [u'Cologne', u'Germany'], u'name': u'Merkur Scorpio', u'modelYears': [1988, 1989], u'productionYears': [1987, 1988, 1989], u'layout': u'front-engine rear-wheel-drive layout', u'_id': ObjectId('56bdbea29f3bc305487f63d7'), u'bodyStyle': u'hatchback', u'class': u'executive car', u'manufacturer': u'Ford Motor Company', u'dimensions': {u'width': 1.7653, u'length': 4.73456, u'height': 1.38684, u'wheelbase': 2.76098}} \n",
      "\n",
      "{u'engine': [u'Audi_V8__1', u'Audi_V8__2'], u'assembly': [u'Germany', u'Japan', u'Neckarsulm', u'Tokyo'], u'name': u'Audi V8', u'transmission': [u'4-speed ZF 4HP24A automatic', u'5-speed manual (3.6 V8)', u'6-speed manual (4.2 V8)'], u'modelYears': [], u'productionYears': [1988, 1989, 1990, 1991, 1992, 1993], u'layout': [u'longitudinal engine', u'quattro (four-wheel-drive system)'], u'_id': ObjectId('56bdbea29f3bc305487f63ee'), u'bodyStyle': u'vehicle door', u'class': u'full-size car', u'manufacturer': u'Audi', u'dimensions': {u'width': 1.814, u'length': 4.861, u'height': 1.42, u'weight': 1712.0, u'wheelbase': 2.702}} \n",
      "\n",
      "{u'engine': u'BMW_New_Class__1', u'layout': u'front-engine rear-wheel-drive layout', u'name': u'BMW New Class', u'modelYears': [], u'productionYears': [1962, 1963, 1964, 1965, 1966, 1967, 1968, 1969, 1970, 1971, 1972, 1973, 1974, 1975, 1976], u'assembly': [u'Germany', u'Indonesia', u'Jakarta', u'Munich'], u'_id': ObjectId('56bdbea29f3bc305487f63ff'), u'class': u'compact executive car', u'manufacturer': u'BMW'} \n",
      "\n",
      "{u'engine': [u'Toyota_Hilux__Fifth_generation_N50_series__1__1', u'Toyota_Hilux__Fifth_generation_N50_series__1__2', u'Toyota_Hilux__Fifth_generation_N50_series__1__3', u'Toyota_Hilux__Fifth_generation_N50_series__1__4', u'Toyota_Hilux__Fifth_generation_N50_series__1__5'], u'assembly': [u'Aichi Prefecture', u'Argentina', u'Christchurch', u'Colombia', u'Envigado', u'Fremont California', u'Germany', u'Hamura Tokyo', u'Hanover', u'Japan', u'Laguna (province)', u'New Zealand', u'Philippines', u'Santa Rosa Laguna', u'Tahara Aichi', u'Z\\xe1rate Buenos Aires Province'], u'name': [u'Fifth generation N50 series', u'Toyota 4\\xd72', u'Toyota 4\\xd74', u'Toyota Hilux Mighty-X (1990\\u20131998)', u'Volkswagen Taro'], u'transmission': [u'five-speed manual', u'four-speed automatic', u'four-speed manual'], u'modelYears': [], u'productionYears': [1988, 1989, 1990, 1991, 1992, 1993, 1994, 1995, 1996, 1997, 1998], u'layout': [u'automobile layout', u'four-wheel drive', u'front-engine design'], u'_id': ObjectId('56bdbea29f3bc305487f649d'), u'bodyStyle': u'pickup truck', u'dimensions': {u'width': 1.6891, u'length': 4.43484, u'height': 1.54432, u'wheelbase': 2.6162}} \n",
      "\n",
      "{u'engine': u'Bentley_Continental_Flying_Spur_(2005)__1', u'assembly': [u'Bentley Crewe', u'Dresden', u'England', u'Germany', u'Transparent Factory', u'United Kingdom'], u'name': u'Bentley Continental Flying Spur', u'transmission': u'6-speed ZF 6HP26A tiptronic automatic', u'modelYears': [], u'productionYears': [], u'layout': [u'longitudinal engine', u'torsen'], u'_id': ObjectId('56bdbea29f3bc305487f64c1'), u'bodyStyle': u'vehicle door', u'class': u'full-size car', u'manufacturer': u'Volkswagen', u'dimensions': {u'width': 1.91516, u'length': 5.30606, u'height': 1.47828, u'weight': 2525.0, u'wheelbase': 3.065}} \n",
      "\n",
      "{u'assembly': [u'Germany', u'Ingolstadt'], u'name': u'Audi S4', u'modelYears': [], u'productionYears': [], u'layout': [u'four-wheel drive', u'longitudinal engine'], u'_id': ObjectId('56bdbea29f3bc305487f64f6'), u'class': [u'compact executive car', u'sport compact', u'sports sedan'], u'manufacturer': u'Audi'} \n",
      "\n",
      "{u'engine': [u'Opel_GT__1', u'Opel_GT__2'], u'assembly': [u'Bochum', u'Germany'], u'name': u'Opel GT', u'transmission': [u'3-speed automatic', u'4-speed manual'], u'modelYears': [], u'productionYears': [1968, 1969, 1970, 1971, 1972, 1973], u'layout': u'front-engine rear-wheel-drive layout', u'_id': ObjectId('56bdbea29f3bc305487f6547'), u'bodyStyle': u'coup\\xe9', u'manufacturer': u'Opel', u'dimensions': {u'width': 1.58, u'length': 4.113, u'height': 1.225, u'weight': 845.0, u'wheelbase': 2.415}} \n",
      "\n",
      "{u'engine': [u'Porsche_Cayman__1', u'Porsche_Cayman__2', u'Porsche_Cayman__2005__1', u'Porsche_Cayman__2007__1', u'Porsche_Cayman__2009__1', u'Porsche_Cayman__2009__2', u'Porsche_Cayman__2012__1', u'Porsche_Cayman__2012__2', u'Porsche_Cayman__3'], u'designer': u'Pinky Lai', u'assembly': [u'Germany', u'Karmann', u'Osnabr\\xfcck', u'Stuttgart', u'Uusikaupunki', u'Valmet Automotive'], u'name': u'Porsche Cayman', u'transmission': [u'5-speed automatic', u'5-speed manual', u'6-speed manual', u'7-speed PDK dual clutch transmission'], u'modelYears': [], u'productionYears': [], u'layout': u'rear mid-engine rear-wheel-drive layout', u'_id': ObjectId('56bdbea29f3bc305487f6585'), u'bodyStyle': u'coup\\xe9', u'class': u'sports car', u'manufacturer': u'Porsche', u'dimensions': {u'width': 1.801, u'length': 4.372, u'height': 1.305, u'weight': 1340.0, u'wheelbase': 2.416}} \n",
      "\n",
      "{u'engine': [u'Nissan_Cedric__Eleventh_generation_YL35__1__1', u'Nissan_Cedric__Eleventh_generation_YL35__1__2', u'Nissan_Cedric__Eleventh_generation_YL35__1__3'], u'assembly': [u'Aguascalientes', u'Canton Mississippi', u'Germany', u'Mexico', u'R\\xfcsselsheim', u'Smyrna Tennessee', u'United States'], u'name': [u'Eleventh generation (YL35)', u'Nissan Altima (North America)'], u'transmission': u'CVT', u'modelYears': [], u'productionYears': [], u'layout': u'front-engine front-wheel-drive layout', u'_id': ObjectId('56bdbea29f3bc305487f65fd'), u'bodyStyle': u'sedan', u'dimensions': {u'width': 1.8288, u'length': 4.85902, u'height': 1.47066, u'wheelbase': 2.77622}} \n",
      "\n",
      "{u'engine': [u'Porsche_Panamera__1', u'Porsche_Panamera__2', u'Porsche_Panamera__3', u'Porsche_Panamera__4', u'Porsche_Panamera__5', u'Porsche_Panamera__6', u'Porsche_Panamera__7'], u'assembly': [u'Germany', u'Leipzig'], u'name': u'Porsche Panamera (970)', u'transmission': [u'6-speed manual', u'7-speed ZF PDK dual clutch', u'8-speed Aisin Tiptronic S'], u'modelYears': [], u'productionYears': [], u'layout': [u'automobile layout', u'four-wheel drive', u'front-engine design'], u'_id': ObjectId('56bdbea29f3bc305487f66b6'), u'bodyStyle': [u'grand tourer', u'vehicle door'], u'class': u'full-size car', u'manufacturer': u'Porsche', u'dimensions': {u'width': 1.931, u'length': 4.97, u'height': 1.418, u'weight': 1870.0, u'wheelbase': 2.9}} \n",
      "\n",
      "{u'assembly': [u'Australia', u'Barcelona Anzo\\xe1tegui', u'Germany', u'Port Melbourne Victoria', u'Sindelfingen', u'Venezuela'], u'name': u'Mercedes-Benz W110', u'modelYears': [], u'productionYears': [1961, 1962, 1963, 1964, 1965, 1966, 1967, 1968], u'_id': ObjectId('56bdbea29f3bc305487f66d5'), u'class': u'executive car', u'manufacturer': u'Mercedes-Benz'} \n",
      "\n",
      "{u'engine': [u'Mercedes-Benz_W124__.019__1', u'Mercedes-Benz_W124__.019__2', u'Mercedes-Benz_W124__.020__1', u'Mercedes-Benz_W124__.021__1', u'Mercedes-Benz_W124__.022__1', u'Mercedes-Benz_W124__.022__2', u'Mercedes-Benz_W124__.023__1', u'Mercedes-Benz_W124__.026__1', u'Mercedes-Benz_W124__.026__2', u'Mercedes-Benz_W124__.028__1', u'Mercedes-Benz_W124__.028__2', u'Mercedes-Benz_W124__.028__3', u'Mercedes-Benz_W124__.028__4', u'Mercedes-Benz_W124__.030__1', u'Mercedes-Benz_W124__.031__1', u'Mercedes-Benz_W124__.032__1', u'Mercedes-Benz_W124__.032__2', u'Mercedes-Benz_W124__.034__1', u'Mercedes-Benz_W124__.034__2', u'Mercedes-Benz_W124__.036__1', u'Mercedes-Benz_W124__.036__2', u'Mercedes-Benz_W124__.040__1', u'Mercedes-Benz_W124__.040__2', u'Mercedes-Benz_W124__.042__1', u'Mercedes-Benz_W124__.042__2', u'Mercedes-Benz_W124__.043__1', u'Mercedes-Benz_W124__.050__1', u'Mercedes-Benz_W124__.051__1', u'Mercedes-Benz_W124__.052__1', u'Mercedes-Benz_W124__.052__2', u'Mercedes-Benz_W124__.060__1', u'Mercedes-Benz_W124__.060__2', u'Mercedes-Benz_W124__.061__1', u'Mercedes-Benz_W124__.062__1', u'Mercedes-Benz_W124__.062__2', u'Mercedes-Benz_W124__.066__1', u'Mercedes-Benz_W124__.066__2', u'Mercedes-Benz_W124__.079__1', u'Mercedes-Benz_W124__.079__2', u'Mercedes-Benz_W124__.080__1', u'Mercedes-Benz_W124__.081__1', u'Mercedes-Benz_W124__.082__1', u'Mercedes-Benz_W124__.083__1', u'Mercedes-Benz_W124__.090__1', u'Mercedes-Benz_W124__.091__1', u'Mercedes-Benz_W124__.092__1', u'Mercedes-Benz_W124__.092__2', u'Mercedes-Benz_W124__.120__1', u'Mercedes-Benz_W124__.125__1', u'Mercedes-Benz_W124__.126__1', u'Mercedes-Benz_W124__.128__1', u'Mercedes-Benz_W124__.130__1', u'Mercedes-Benz_W124__.131__1', u'Mercedes-Benz_W124__.133__1', u'Mercedes-Benz_W124__.133__2', u'Mercedes-Benz_W124__.180__1', u'Mercedes-Benz_W124__.185__1', u'Mercedes-Benz_W124__.226__1', u'Mercedes-Benz_W124__.230__1', u'Mercedes-Benz_W124__.290__1', u'Mercedes-Benz_W124__.2_32V__1', u'Mercedes-Benz_W124__.330__1', u'Mercedes-Benz_W124__.333__1', u'Mercedes-Benz_W124__.xxx__1', u'Mercedes-Benz_W124__10', u'Mercedes-Benz_W124__11', u'Mercedes-Benz_W124__12', u'Mercedes-Benz_W124__13', u'Mercedes-Benz_W124__14', u'Mercedes-Benz_W124__15', u'Mercedes-Benz_W124__16', u'Mercedes-Benz_W124__18', u'Mercedes-Benz_W124__19', u'Mercedes-Benz_W124__2', u'Mercedes-Benz_W124__2.0_16V__1', u'Mercedes-Benz_W124__2.0_8V_D__1', u'Mercedes-Benz_W124__2.0_8V_D__2', u'Mercedes-Benz_W124__2.0_8V__1', u'Mercedes-Benz_W124__2.0_8V__2', u'Mercedes-Benz_W124__2.0_8V__3', u'Mercedes-Benz_W124__2.2_16V__1', u'Mercedes-Benz_W124__2.3_8V__1', u'Mercedes-Benz_W124__2.3_8V__2', u'Mercedes-Benz_W124__2.5_10V_D__1', u'Mercedes-Benz_W124__2.5_10V_D__2', u'Mercedes-Benz_W124__2.5_10V_TD__1', u'Mercedes-Benz_W124__2.5_20V_D__1', u'Mercedes-Benz_W124__2.5_20V_TD__1', u'Mercedes-Benz_W124__2.6_12V__1', u'Mercedes-Benz_W124__2.6_12V__2', u'Mercedes-Benz_W124__2.6_12V__3', u'Mercedes-Benz_W124__2.8_24V__1', u'Mercedes-Benz_W124__2.8_24V__2', u'Mercedes-Benz_W124__20', u'Mercedes-Benz_W124__21', u'Mercedes-Benz_W124__22', u'Mercedes-Benz_W124__23', u'Mercedes-Benz_W124__24', u'Mercedes-Benz_W124__25', u'Mercedes-Benz_W124__26', u'Mercedes-Benz_W124__3', u'Mercedes-Benz_W124__3.0_12V_D__1', u'Mercedes-Benz_W124__3.0_12V_D__2', u'Mercedes-Benz_W124__3.0_12V_TD__1', u'Mercedes-Benz_W124__3.0_12V_TD__2', u'Mercedes-Benz_W124__3.0_12V__1', u'Mercedes-Benz_W124__3.0_12V__2', u'Mercedes-Benz_W124__3.0_24V_D__1', u'Mercedes-Benz_W124__3.0_24V__1', u'Mercedes-Benz_W124__3.2_24V__1', u'Mercedes-Benz_W124__3.6_24V_AMG__1', u'Mercedes-Benz_W124__4', u'Mercedes-Benz_W124__5', u'Mercedes-Benz_W124__5.0_32V__1', u'Mercedes-Benz_W124__5.0_32V__2', u'Mercedes-Benz_W124__6', u'Mercedes-Benz_W124__6.0_32V__1', u'Mercedes-Benz_W124__7', u'Mercedes-Benz_W124__8', u'Mercedes-Benz_W124__9'], u'assembly': [u'Bremen', u'Germany', u'Rastatt', u'Sindelfingen', u'Zuffenhausen'], u'name': u'Mercedes-Benz W124', u'transmission': [u'4-speed', u'5-speed', u'Automatic', u'Manual'], u'modelYears': [], u'productionYears': [1985, 1986, 1987, 1988, 1989, 1990, 1991, 1992, 1993, 1994, 1995, 1996], u'layout': [u'automobile layout', u'four-wheel drive', u'front-engine design'], u'_id': ObjectId('56bdbea29f3bc305487f66db'), u'bodyStyle': [u'convertible', u'coup\\xe9', u'sedan', u'station wagon'], u'class': [u'executive car', u'mid-size car'], u'manufacturer': u'Mercedes-Benz'} \n",
      "\n",
      "{u'engine': [u'Mercedes-Benz_W211__11', u'Mercedes-Benz_W211__12', u'Mercedes-Benz_W211__13', u'Mercedes-Benz_W211__14', u'Mercedes-Benz_W211__2', u'Mercedes-Benz_W211__3', u'Mercedes-Benz_W211__4', u'Mercedes-Benz_W211__5', u'Mercedes-Benz_W211__6', u'Mercedes-Benz_W211__7', u'Mercedes-Benz_W211__8', u'Mercedes-Benz_W211__9'], u'assembly': [u'6th of October City', u'Austria', u'Beijing', u'Bogor', u'China', u'Egypt', u'Germany', u'Graz', u'Indonesia', u'Iran', u'Malaysia', u'Mexico', u'Pekan', u'Santiago Tianguistenco', u'Sindelfingen', u'Tehran', u'Toluca'], u'name': [u'Mercedes-Benz E-Class', u'Mercedes-Benz W211'], u'transmission': [u'5-speed 5G-Tronic', u'6-speed', u'7-speed 7G-Tronic', u'automatic', u'manual'], u'modelYears': [2003, 2004, 2005, 2006, 2007, 2008, 2009], u'productionYears': [2011], u'layout': [u'automobile layout', u'four-wheel drive', u'front-engine design'], u'_id': ObjectId('56bdbea29f3bc305487f66dc'), u'bodyStyle': [u'sedan', u'station wagon'], u'class': u'executive car', u'manufacturer': u'Mercedes-Benz', u'dimensions': {u'width': 1.81102, u'length': 4.83362, u'height': 1.4478, u'wheelbase': 2.85496}} \n",
      "\n",
      "{u'engine': [u'Mercedes-Benz_C215__1', u'Mercedes-Benz_C215__2', u'Mercedes-Benz_C215__3', u'Mercedes-Benz_C215__4', u'Mercedes-Benz_C215__5'], u'assembly': [u'Germany', u'Sindelfingen'], u'name': u'Mercedes-Benz C215', u'transmission': [u'5-speed automatic', u'7-speed automatic'], u'modelYears': [], u'productionYears': [1999, 2000, 2001, 2002, 2003, 2004, 2005, 2006], u'layout': u'front-engine rear-wheel-drive layout', u'_id': ObjectId('56bdbea29f3bc305487f66dd'), u'bodyStyle': u'coup\\xe9', u'manufacturer': u'Mercedes-Benz', u'dimensions': {u'width': 1.85674, u'length': 4.99364, u'height': 1.4224, u'wheelbase': 2.88544}} \n",
      "\n",
      "{u'engine': [u'Mercedes-Benz_W113__1', u'Mercedes-Benz_W113__2', u'Mercedes-Benz_W113__3'], u'designer': [u'B\\xe9la Bar\\xe9nyi', u'Paul Bracq'], u'assembly': [u'Germany', u'Stuttgart'], u'name': [u'230 SL 250 SL 280 SL', u'Mercedes Pagoda', u'Mercedes-Benz W113'], u'transmission': [u'4-speed automatic', u'4-speed manual', u'5-speed manual (ZF S5-20)'], u'modelYears': [], u'productionYears': [1963, 1964, 1965, 1966, 1967, 1968, 1969, 1970, 1971], u'layout': u'front-engine rear-wheel-drive layout', u'_id': ObjectId('56bdbea29f3bc305487f66e1'), u'bodyStyle': [u'coup\\xe9', u'roadster'], u'class': [u'grand tourer', u'sports car'], u'manufacturer': u'Mercedes-Benz', u'dimensions': {u'width': 1.76, u'length': 4.285, u'height': 1.305, u'weight': 1300.0, u'wheelbase': 2.4}} \n",
      "\n",
      "{u'engine': [u'Mercedes-Benz_W219__1', u'Mercedes-Benz_W219__2', u'Mercedes-Benz_W219__3', u'Mercedes-Benz_W219__4', u'Mercedes-Benz_W219__5'], u'assembly': [u'Germany', u'Mexico', u'Santiago Tianguistenco', u'Sindelfingen'], u'name': u'Mercedes-Benz W219', u'transmission': u'7-speed automatic', u'modelYears': [], u'productionYears': [2004, 2005, 2006, 2007, 2008, 2009, 2010], u'layout': u'front-engine rear-wheel-drive layout', u'_id': ObjectId('56bdbea29f3bc305487f66e2'), u'bodyStyle': [u'coup\\xe9', u'fastback'], u'class': u'full-size car', u'manufacturer': u'Mercedes-Benz', u'dimensions': {u'width': 1.873, u'length': 4.91, u'height': 1.389, u'wheelbase': 2.855}} \n",
      "\n",
      "{u'engine': [u'Mercedes-Benz_W220__.026__1', u'Mercedes-Benz_W220__.028__1', u'Mercedes-Benz_W220__.063__1', u'Mercedes-Benz_W220__.065__1', u'Mercedes-Benz_W220__.067__1', u'Mercedes-Benz_W220__.070__1', u'Mercedes-Benz_W220__.073__1', u'Mercedes-Benz_W220__.075__1', u'Mercedes-Benz_W220__.126__1', u'Mercedes-Benz_W220__.128__1', u'Mercedes-Benz_W220__.165__1', u'Mercedes-Benz_W220__.167__1', u'Mercedes-Benz_W220__.170__1', u'Mercedes-Benz_W220__.175__1', u'Mercedes-Benz_W220__.176__1', u'Mercedes-Benz_W220__.178__1', u'Mercedes-Benz_W220__.179__1', u'Mercedes-Benz_W220__.xxx__1', u'Mercedes-Benz_W220__1', u'Mercedes-Benz_W220__10', u'Mercedes-Benz_W220__11', u'Mercedes-Benz_W220__12', u'Mercedes-Benz_W220__13', u'Mercedes-Benz_W220__2', u'Mercedes-Benz_W220__3', u'Mercedes-Benz_W220__4', u'Mercedes-Benz_W220__5', u'Mercedes-Benz_W220__6', u'Mercedes-Benz_W220__7', u'Mercedes-Benz_W220__8', u'Mercedes-Benz_W220__9', u'Mercedes-Benz_W220__S280__1', u'Mercedes-Benz_W220__S320_CDI__1', u'Mercedes-Benz_W220__S320_CDI__2', u'Mercedes-Benz_W220__S320__1', u'Mercedes-Benz_W220__S350__1', u'Mercedes-Benz_W220__S400_CDI__1', u'Mercedes-Benz_W220__S430__1', u\"Mercedes-Benz_W220__S500_'00-'06__1\", u\"Mercedes-Benz_W220__S55_AMG_'01-'02__1\", u\"Mercedes-Benz_W220__S55_AMG_'03-'06__1\", u\"Mercedes-Benz_W220__S600_'01-'02__1\", u\"Mercedes-Benz_W220__S600_'02-'05__1\", u\"Mercedes-Benz_W220__S63_AMG_'01__1\", u\"Mercedes-Benz_W220__S65_AMG_'05-'06__1\"], u'assembly': [u'Bogor', u'Germany', u'Indonesia', u'Mexico', u'Sindelfingen', u'Toluca'], u'name': u'W220', u'transmission': [u'5-speed automatic', u'7-speed automatic'], u'modelYears': [], u'productionYears': [], u'layout': [u'automobile layout', u'four-wheel drive', u'front-engine design'], u'_id': ObjectId('56bdbea29f3bc305487f670b'), u'bodyStyle': u'sedan', u'class': u'full-size car', u'manufacturer': u'Daimler-Benz', u'dimensions': {u'width': 1.85674, u'length': 5.0419, u'height': 1.45288, u'weight': 1770.0, u'wheelbase': 2.96418}} \n",
      "\n",
      "{u'engine': [u'Mercedes-Benz_W108__1', u'Mercedes-Benz_W108__2', u'Mercedes-Benz_W108__250SE__1', u'Mercedes-Benz_W108__250S__1', u'Mercedes-Benz_W108__280SEL_3.5__1', u'Mercedes-Benz_W108__280SEL_4.5__1', u'Mercedes-Benz_W108__280SEL__1', u'Mercedes-Benz_W108__280SE_3.5__1', u'Mercedes-Benz_W108__280SE_4.5__1', u'Mercedes-Benz_W108__280SE__1', u'Mercedes-Benz_W108__280S__1', u'Mercedes-Benz_W108__3', u'Mercedes-Benz_W108__300SEL_3.5__1', u'Mercedes-Benz_W108__300SEL_4.5__1', u'Mercedes-Benz_W108__300SEL_6.3__1', u'Mercedes-Benz_W108__300SEL__1', u'Mercedes-Benz_W108__300SEL__2', u'Mercedes-Benz_W108__300SEb__1', u'Mercedes-Benz_W108__4', u'Mercedes-Benz_W108__5', u'Mercedes-Benz_W108__6'], u'designer': u'Paul Bracq', u'assembly': [u'Germany', u'Stuttgart'], u'name': u'Mercedes-Benz W108', u'transmission': [u'3-speed automatic', u'4-speed automatic', u'4-speed manual', u'5-speed manual'], u'modelYears': [], u'productionYears': [1965, 1966, 1967, 1968, 1969, 1970, 1971, 1972], u'layout': u'front-engine rear-wheel-drive layout', u'_id': ObjectId('56bdbea29f3bc305487f671f'), u'bodyStyle': u'sedan', u'class': u'full-size car', u'manufacturer': u'Mercedes-Benz'} \n",
      "\n",
      "{u'assembly': [u'Aksaray', u'Germany', u'Turkey', u'W\\xf6rth am Rhein'], u'name': u'Mercedes-Benz Atego', u'modelYears': [], u'productionYears': [], u'_id': ObjectId('56bdbea29f3bc305487f672f'), u'manufacturer': u'Mercedes-Benz'} \n",
      "\n",
      "{u'engine': [u'Mercedes-Benz_R230__1', u'Mercedes-Benz_R230__2', u'Mercedes-Benz_R230__3', u'Mercedes-Benz_R230__4', u'Mercedes-Benz_R230__5', u'Mercedes-Benz_R230__6', u'Mercedes-Benz_R230__7'], u'assembly': [u'Bremen', u'Germany', u'Mexico', u'Santiago Tianguistenco'], u'dimensions': {u'width': 1.8161, u'length': 4.5339, u'height': 1.2954, u'wheelbase': 2.56032}, u'transmission': [u'5-speed automatic', u'7-speed automatic'], u'modelYears': [], u'name': u'Mercedes-Benz SL-Class(fifth generation)', u'productionYears': [2001, 2002, 2003, 2004, 2005, 2006, 2007, 2008, 2009, 2010, 2011, 2012], u'_id': ObjectId('56bdbea29f3bc305487f6740'), u'manufacturer': u'Mercedes-Benz'} \n",
      "\n",
      "{u'assembly': [u'Germany', u'Neckarsulm'], u'name': u'Audi RS 4 quattro', u'modelYears': [], u'productionYears': [], u'layout': [u'longitudinal engine', u'quattro (four-wheel-drive system)'], u'_id': ObjectId('56bdbea29f3bc305487f6789'), u'class': u'compact executive car', u'manufacturer': [u'Audi', u'Quattro GmbH']} \n",
      "\n",
      "{u'engine': [u'Mercedes-Benz_W221__1', u'Mercedes-Benz_W221__10', u'Mercedes-Benz_W221__2', u'Mercedes-Benz_W221__3', u'Mercedes-Benz_W221__4', u'Mercedes-Benz_W221__5', u'Mercedes-Benz_W221__6', u'Mercedes-Benz_W221__7', u'Mercedes-Benz_W221__8', u'Mercedes-Benz_W221__9', u'Mercedes-Benz_W221__S_250_CDI__1', u'_S_300__1', u'Mercedes-Benz_W221__S_300_BlueTec_HYBRID__1', u'Mercedes-Benz_W221__S_320_CDI_S_320_CDI_4MATIC__1', u'Mercedes-Benz_W221__S_320_CDI_BlueEFFICIENCY__1', u'Mercedes-Benz_W221__S_350_4MATIC_BlueTec_US__1', u'Mercedes-Benz_W221__S_350_4MATIC__1', u'Mercedes-Benz_W221__S_350_CDI_BlueEFFICIENCY_S_350_CDI_4MATIC__1', u'Mercedes-Benz_W221__S_350__1', u'Mercedes-Benz_W221__S_400_HYBRID__1', u'Mercedes-Benz_W221__S_400_HYBRID__2', u'Mercedes-Benz_W221__S_400_HYBRID__3', u'Mercedes-Benz_W221__S_420_CDI__1', u'Mercedes-Benz_W221__S_450_S_450_4MATIC__1', u'Mercedes-Benz_W221__S_450_CDI__1', u'Mercedes-Benz_W221__S_550_4MATIC__1', u'Mercedes-Benz_W221__S_550__1', u'Mercedes-Benz_W221__S_600_S_600_Guard__1', u'Mercedes-Benz_W221__S_600_Guard_Pullman__1', u'Mercedes-Benz_W221__S_63_AMG__1', u'Mercedes-Benz_W221__S_65_AMG__1'], u'assembly': [u'6th of October City', u'Egypt', u'Germany', u'Malaysia', u'Mexico', u'Pekan', u'Sindelfingen', u'Toluca'], u'name': u'Mercedes-Benz W221', u'transmission': [u'5-speed G-Tronic automatic', u'7-speed G-Tronic automatic'], u'modelYears': [2006], u'productionYears': [2005, 2006, 2007, 2008, 2009, 2010, 2011, 2012, 2013], u'_id': ObjectId('56bdbea29f3bc305487f67b5'), u'bodyStyle': u'sedan', u'class': u'full-size car', u'manufacturer': u'Mercedes-Benz', u'dimensions': {u'width': 1.871, u'length': 5.076, u'height': 1.473, u'weight': 1955.0, u'wheelbase': 3.035}} \n",
      "\n",
      "{u'layout': [u'longitudinal engine', u'quattro (four-wheel-drive system)'], u'name': u'Audi S6', u'bodyStyle': [u'station wagon', u'vehicle door'], u'modelYears': [], u'productionYears': [], u'assembly': [u'Audi Motor Assembly', u'Germany', u'Neckarsulm', u'Tokyo'], u'_id': ObjectId('56bdbea29f3bc305487f6810'), u'class': [u'executive car', u'sports car'], u'manufacturer': u'Audi'} \n",
      "\n",
      "{u'engine': [u'Ford_Escort_(Europe)__Ford_Escort_Mark_I__1__1', u'Ford_Escort_(Europe)__Ford_Escort_Mark_I__1__2', u'Ford_Escort_(Europe)__Ford_Escort_Mark_I__1__3', u'Ford_Escort_(Europe)__Ford_Escort_Mark_I__1__4', u'Ford_Escort_(Europe)__Ford_Escort_Mark_I__1__5'], u'assembly': [u'Australia', u'Cork', u'England', u'Ford Lio Ho', u'Genk', u'Germany', u'Halewood Body & Assembly', u'Homebush New South Wales', u'Nazareth', u'New Zealand', u'Saarlouis'], u'name': u'Ford Escort Mark I', u'modelYears': [], u'productionYears': [1968, 1969, 1970, 1971, 1972, 1973, 1974], u'_id': ObjectId('56bdbea29f3bc305487f6820'), u'bodyStyle': [u'panel van', u'sedan', u'station wagon'], u'dimensions': {u'width': 1.56972, u'length': 4.04495, u'height': 1.4859, u'weight': 766.584, u'wheelbase': 2.4003}} \n",
      "\n",
      "{u'engine': [u'Ford_Escort_(Europe)__Ford_Escort_Mark_II__1__1', u'Ford_Escort_(Europe)__Ford_Escort_Mark_II__1__2', u'Ford_Escort_(Europe)__Ford_Escort_Mark_II__1__3', u'Ford_Escort_(Europe)__Ford_Escort_Mark_II__1__4', u'Ford_Escort_(Europe)__Ford_Escort_Mark_II__1__5', u'Ford_Escort_(Europe)__Ford_Escort_Mark_II__1__6'], u'assembly': [u'Australia', u'Cork', u'England', u'Germany', u'Halewood Body & Assembly', u'Homebush New South Wales', u'New Zealand', u'Saarlouis', u'Wiri'], u'name': u'Ford Escort Mark II', u'modelYears': [], u'productionYears': [1974, 1975, 1976, 1977, 1978, 1979, 1980], u'_id': ObjectId('56bdbea29f3bc305487f6821'), u'bodyStyle': [u'panel van', u'sedan', u'station wagon'], u'dimensions': {u'width': 1.56972, u'length': 3.9751, u'height': 1.41351, u'weight': 879.984, u'wheelbase': 2.4003}} \n",
      "\n",
      "{u'engine': [u'Ford_Escort_(Europe)__Ford_Escort_Mark_III__1__1', u'Ford_Escort_(Europe)__Ford_Escort_Mark_III__1__2', u'Ford_Escort_(Europe)__Ford_Escort_Mark_III__1__3', u'Ford_Escort_(Europe)__Ford_Escort_Mark_III__1__4', u'Ford_Escort_(Europe)__Ford_Escort_Mark_III__1__5'], u'designer': [u'Patrick Le Qu\\xe9ment', u'Uwe Bahnsen'], u'assembly': [u'Almussafes', u'Brazil', u'England', u'Germany', u'Halewood Body & Assembly', u'S\\xe3o Bernardo do Campo', u'Saarlouis', u'Spain', u'Valencian Community'], u'name': u'Ford Escort Mark III', u'transmission': [u'Ford ATX 3-speed automatic', u'Ford BC4 4-speed manual', u'Ford BC5 5-speed manual'], u'modelYears': [], u'productionYears': [1980, 1981, 1982, 1983, 1984, 1985, 1986], u'_id': ObjectId('56bdbea29f3bc305487f6822'), u'bodyStyle': [u'convertible', u'hatchback', u'panel van', u'station wagon'], u'class': u'compact car', u'manufacturer': u'Ford Motor Company'} \n",
      "\n",
      "{u'engine': [u'Ford_Escort_(Europe)__Ford_Escort_Mark_IV__1__1', u'Ford_Escort_(Europe)__Ford_Escort_Mark_IV__1__2', u'Ford_Escort_(Europe)__Ford_Escort_Mark_IV__1__3', u'Ford_Escort_(Europe)__Ford_Escort_Mark_IV__1__4', u'Ford_Escort_(Europe)__Ford_Escort_Mark_IV__1__5', u'Ford_Escort_(Europe)__Ford_Escort_Mark_IV__1__6'], u'assembly': [u'Almussafes', u'Argentina', u'Brazil', u'England', u'General Pacheco', u'Germany', u'Halewood Body & Assembly', u'S\\xe3o Bernardo do Campo', u'Saarlouis', u'Spain', u'Valencia Carabobo', u'Valencian Community', u'Venezuela'], u'name': u'Ford Escort Mark IV', u'transmission': [u'Ford ATX 3-speed automatic', u'Ford BC4 4-speed manual', u'Ford BC5 5-speed manual', u'Ford CTX CVT automatic'], u'modelYears': [], u'productionYears': [1986, 1987, 1988, 1989, 1990], u'_id': ObjectId('56bdbea29f3bc305487f6823'), u'bodyStyle': [u'convertible', u'hatchback', u'panel van', u'station wagon'], u'class': u'compact car', u'manufacturer': u'Ford Motor Company'} \n",
      "\n",
      "{u'engine': [u'Ford_Escort_(Europe)__Ford_Escort_Mark_V__1__1', u'Ford_Escort_(Europe)__Ford_Escort_Mark_V__1__2', u'Ford_Escort_(Europe)__Ford_Escort_Mark_V__1__3', u'Ford_Escort_(Europe)__Ford_Escort_Mark_V__1__4'], u'assembly': [u'Almussafes', u'Brazil', u'England', u'Germany', u'Halewood Body & Assembly', u'S\\xe3o Bernardo do Campo', u'Saarlouis', u'Spain', u'Valencian Community'], u'name': u'Ford Escort Mark V', u'transmission': [u'Ford ATX 3-speed automatic', u'Ford BC4 4-speed manual', u'Ford BC5 5-speed manual', u'Ford CTX CVT automatic', u'Ford MTX-75 5-speed manual'], u'modelYears': [], u'productionYears': [1990, 1991, 1992], u'_id': ObjectId('56bdbea29f3bc305487f6824'), u'bodyStyle': [u'convertible', u'hatchback', u'panel van'], u'class': u'compact car', u'manufacturer': u'Ford Motor Company'} \n",
      "\n",
      "{u'engine': [u'Ford_Escort_(Europe)__Ford_Escort_Mark_Vb__1__1', u'Ford_Escort_(Europe)__Ford_Escort_Mark_Vb__1__2', u'Ford_Escort_(Europe)__Ford_Escort_Mark_Vb__1__3', u'Ford_Escort_(Europe)__Ford_Escort_Mark_Vb__1__4', u'Ford_Escort_(Europe)__Ford_Escort_Mark_Vb__1__5'], u'assembly': [u'Almussafes', u'Bursa', u'England', u'Germany', u'Halewood Body & Assembly', u'Saarlouis', u'Spain', u'Turkey', u'Valencian Community'], u'name': u'Ford Escort Mark Vb', u'transmission': [u'Ford BC4 4-speed manual', u'Ford CTX CVT Automatic', u'Ford Ford BC5 5-speed manual'], u'modelYears': [], u'productionYears': [1992, 1993, 1994, 1995], u'_id': ObjectId('56bdbea29f3bc305487f6825'), u'class': u'compact car', u'manufacturer': u'Ford Motor Company'} \n",
      "\n",
      "{u'engine': [u'Ford_Escort_(Europe)__Ford_Escort_Mark_VI__1__1', u'Ford_Escort_(Europe)__Ford_Escort_Mark_VI__1__2', u'Ford_Escort_(Europe)__Ford_Escort_Mark_VI__1__3', u'Ford_Escort_(Europe)__Ford_Escort_Mark_VI__1__4', u'Ford_Escort_(Europe)__Ford_Escort_Mark_VI__1__5'], u'assembly': [u'Almussafes', u'Belarus', u'Bursa', u'Chennai', u'England', u'Ford Union', u'General_Pacheco_Argentina', u'Germany', u'Halewood Body & Assembly', u'India', u'Obchuk', u'Saarlouis', u'Spain', u'Turkey', u'Valencian Community'], u'name': [u'Ford Escort Classic (D 11/1998-7/2000)', u'Ford Escort Mark VI', u'Ford EuroEscort (RA)'], u'transmission': [u'Ford BC5 4-speed manual', u'Ford CTX CVT Automatic', u'Ford Ford iB5 5-speed manual'], u'modelYears': [], u'productionYears': [1995, 1996, 1997, 1998, 1999, 2000], u'_id': ObjectId('56bdbea29f3bc305487f6826'), u'bodyStyle': [u'convertible', u'hatchback', u'panel van', u'sedan'], u'class': u'compact car', u'manufacturer': u'Ford Motor Company'} \n",
      "\n",
      "{u'assembly': [u'Alcobendas', u'Germany', u'Ludwigsfelde', u'Spain'], u'name': [u'Mercedes-Benz Vario', u'W670'], u'modelYears': [], u'productionYears': [], u'layout': [u'automobile layout', u'front-engine design'], u'_id': ObjectId('56bdbea29f3bc305487f688f'), u'class': u'commercial vehicle', u'manufacturer': u'Mercedes-Benz'} \n",
      "\n",
      "{u'engine': u'Messerschmitt_KR175__1', u'designer': u'Fritz Fend', u'assembly': [u'Brescia', u'Germany', u'Italy', u'Regensburg'], u'name': [u'Kabineneroller Karo', u'Messerschmitt KR175', u'Mivalino (license-built in Italy)'], u'transmission': u'Four forward speeds sequential unsynchronized.', u'modelYears': [], u'productionYears': [1953, 1954, 1955], u'layout': u'rear mid-engine rear-wheel-drive layout', u'_id': ObjectId('56bdbea29f3bc305487f68c0'), u'bodyStyle': u'coup\\xe9', u'class': u'microcar', u'manufacturer': [u'Germany', u'Regensburg'], u'dimensions': {u'width': 1.22, u'length': 2.82, u'height': 1.2, u'weight': 220.0, u'wheelbase': 2.029}} \n",
      "\n",
      "{u'engine': [u'Ford_Fusion_(Europe)__1', u'Ford_Fusion_(Europe)__2', u'Ford_Fusion_(Europe)__3', u'Ford_Fusion_(Europe)__4'], u'assembly': [u'Chennai', u'Cologne', u'Germany', u'India'], u'name': u'Ford Fusion', u'transmission': [u'4-speed automatic', u'5-speed automatic', u'5-speed manual'], u'modelYears': [], u'productionYears': [2002, 2003, 2004, 2005, 2006, 2007, 2008, 2009, 2010, 2011, 2012], u'_id': ObjectId('56bdbea29f3bc305487f6907'), u'bodyStyle': u'hatchback', u'class': u'mini mpv', u'manufacturer': u'Ford Motor Company', u'dimensions': {u'width': 1.71, u'length': 4.02, u'height': 1.5, u'wheelbase': 2.49}} \n",
      "\n",
      "{u'engine': [u'Mercedes-Benz_W111__1', u'Mercedes-Benz_W111__2', u'Mercedes-Benz_W111__220_SE_Cabriolet__1', u'Mercedes-Benz_W111__220_SE_Coup%C3%A9__1', u'Mercedes-Benz_W111__220_SE_Sedan__1', u'Mercedes-Benz_W111__220_S_Sedan__1', u'Mercedes-Benz_W111__220_Sedan__1', u'Mercedes-Benz_W111__230_S_Sedan__1', u'Mercedes-Benz_W111__250_SE_Cabriolet__1', u'Mercedes-Benz_W111__250_SE_Coup%C3%A9__1', u'Mercedes-Benz_W111__280_SE_3.5_Cabriolet__1', u'Mercedes-Benz_W111__280_SE_3.5_Coup%C3%A9__1', u'Mercedes-Benz_W111__280_SE_Cabriolet__1', u'Mercedes-Benz_W111__280_SE_Coup%C3%A9__1', u'Mercedes-Benz_W111__3', u'Mercedes-Benz_W111__4', u'Mercedes-Benz_W111__5', u'Mercedes-Benz_W111____1'], u'assembly': [u'Australia', u'Germany', u'Port Melbourne Victoria', u'Stuttgart'], u'name': [u'Mercedes-Benz Fintail', u'Mercedes-Benz W111'], u'modelYears': [], u'productionYears': [1959, 1960, 1961, 1962, 1963, 1964, 1965], u'layout': u'front-engine rear-wheel-drive layout', u'_id': ObjectId('56bdbea29f3bc305487f6939'), u'bodyStyle': [u'convertible', u'coup\\xe9', u'sedan'], u'class': u'full-size car', u'manufacturer': u'Mercedes-Benz'} \n",
      "\n",
      "{u'assembly': [u'Germany', u'Mannheim'], u'dimensions': {u'width': 2.5, u'length': 11.1}, u'transmission': [u'Mercedes-Benz W3E110/2.2R', u'Mercedes-Benz W3E112/2.2R', u'Voith DIWA 851.2', u'Voith DIWA 864.3', u'ZF 4HP500', u'ZF 5HP500'], u'modelYears': [], u'name': u'O405', u'productionYears': [1983], u'_id': ObjectId('56bdbea29f3bc305487f698b'), u'manufacturer': u'Mercedes-Benz buses'} \n",
      "\n",
      "{u'engine': u'Mercedes-Benz_W112__1', u'assembly': [u'Germany', u'Stuttgart'], u'name': [u'300SE / 300SE long', u'Mercedes-Benz W112'], u'modelYears': [], u'productionYears': [1961], u'layout': u'front-engine rear-wheel-drive layout', u'_id': ObjectId('56bdbea29f3bc305487f6997'), u'bodyStyle': [u'convertible', u'coup\\xe9', u'sedan'], u'class': u'full-size car', u'manufacturer': u'Mercedes-Benz'} \n",
      "\n",
      "{u'engine': [u'Mercedes-Benz_W136__1', u'Mercedes-Benz_W136__4'], u'assembly': [u'Argentina', u'Buenos Aires', u'Germany', u'Stuttgart'], u'name': u'Mercedes 170V', u'modelYears': [], u'productionYears': [1935], u'layout': u'front-engine rear-wheel-drive layout', u'_id': ObjectId('56bdbea29f3bc305487f6998'), u'bodyStyle': [u'convertible', u'pickup truck', u'roadster', u'sedan', u'station wagon', u'van'], u'class': u'mid-size car', u'manufacturer': u'Mercedes-Benz', u'dimensions': {u'width': 1.57, u'wheelbase': 2.845}} \n",
      "\n",
      "{u'engine': u'Mercedes-Benz_500E__1', u'assembly': [u'Germany', u'Sindelfingen', u'Zuffenhausen'], u'name': u'Mercedes-Benz 500 E / E 500', u'transmission': u'4-speed automatic', u'modelYears': [], u'productionYears': [1990], u'_id': ObjectId('56bdbea29f3bc305487f69d3'), u'bodyStyle': u'sedan', u'class': [u'luxury vehicle', u'mid-size car'], u'manufacturer': [u'Daimler-Benz', u'Porsche'], u'dimensions': {u'width': 1.796, u'length': 4.75, u'height': 1.41, u'weight': 1710.0, u'wheelbase': 2.8}} \n",
      "\n",
      "{u'engine': u'Audi_Roadjet__1', u'assembly': [u'Germany', u'Ingolstadt'], u'name': u'Audi Roadjet', u'modelYears': [], u'productionYears': [], u'layout': [u'front-engine design', u'quattro (four-wheel-drive system)'], u'_id': ObjectId('56bdbea29f3bc305487f6ab7'), u'bodyStyle': u'hatchback', u'class': u'concept car', u'manufacturer': u'Audi'} \n",
      "\n",
      "{u'layout': [u'automobile layout', u'front-engine design'], u'name': u'Mercedes-Benz T2', u'bodyStyle': [u'minibus', u'pickup truck', u'van'], u'modelYears': [], u'productionYears': [1967, 1968, 1969, 1970, 1971, 1972, 1973, 1974, 1975, 1976, 1977, 1978, 1979, 1980, 1981, 1982, 1983, 1984, 1985, 1986, 1987, 1988, 1989, 1990, 1991, 1992, 1993, 1994, 1995, 1996], u'assembly': [u'Alcobendas', u'Argentina', u'Barcelona Anzo\\xe1tegui', u'D\\xfcsseldorf', u'Germany', u'Gonz\\xe1lez Cat\\xe1n', u'Knock-down kit', u'Ludwigsfelde', u'Spain', u'Venezuela'], u'_id': ObjectId('56bdbea29f3bc305487f6b00'), u'class': u'light commercial vehicle', u'manufacturer': [u'Daimler-Benz', u'Mercedes-Benz_Espa%C3%B1a']} \n",
      "\n",
      "{u'engine': [u'Volkswagen_Taro__1', u'Volkswagen_Taro__2', u'Volkswagen_Taro__3', u'Volkswagen_Taro__4'], u'assembly': [u'Germany', u'Hanover', u'Japan', u'Tahara Aichi'], u'name': [u'(Typ 7A)', u'Volkswagen Taro'], u'transmission': u'5-speed manual', u'modelYears': [], u'productionYears': [1989, 1990, 1991, 1992, 1993, 1994, 1995, 1996, 1997], u'layout': [u'automobile layout', u'four-wheel drive', u'longitudinal engine'], u'_id': ObjectId('56bdbea29f3bc305487f6b23'), u'bodyStyle': u'pickup_van', u'class': u'light commercial vehicle', u'manufacturer': [u'Hino Motors', u'Toyota', u'Volkswagen Commercial Vehicles'], u'dimensions': {u'width': 1.65, u'length': 4.725, u'height': 1.555, u'wheelbase': 2.85}} \n",
      "\n",
      "{u'assembly': [u'Australia', u'Germany', u'Port Melbourne Victoria'], u'name': u'Mercedes-Benz W180', u'bodyStyle': [u'convertible', u'coup\\xe9', u'sedan'], u'modelYears': [], u'productionYears': [1954, 1955, 1956, 1957, 1958, 1959], u'_id': ObjectId('56bdbea29f3bc305487f6bb0'), u'class': u'luxury vehicle', u'manufacturer': u'Mercedes-Benz'} \n",
      "\n",
      "{u'engine': [u'Mercedes-Benz_W212__1', u'Mercedes-Benz_W212__2', u'Mercedes-Benz_W212__3', u'Mercedes-Benz_W212__4', u'Mercedes-Benz_W212__5', u'Mercedes-Benz_W212__6', u'Mercedes-Benz_W212__7', u'Mercedes-Benz_W212__8', u'Mercedes-Benz_W212__9', u'Mercedes-Benz_W212__E_200_CDI_BlueEFFICIENCY__1', u'Mercedes-Benz_W212__E_200_CGI_BlueEFFICIENCY_212.048__1', u'Mercedes-Benz_W212__E_220_CDI_BlueEFFICIENCY_Edition__1', u'Mercedes-Benz_W212__E_220_CDI_BlueEFFICIENCY__1', u'Mercedes-Benz_W212__E_250_CDI_4MATIC_BlueEFFICIENCY__1', u'Mercedes-Benz_W212__E_250_CDI_BlueEFFICIENCY__1', u'Mercedes-Benz_W212__E_250_CGI_BlueEFFICIENCY__1', u'Mercedes-Benz_W212__E_300_4MATIC__1', u'Mercedes-Benz_W212__E_300_BlueEFFICIENCY__1', u'Mercedes-Benz_W212__E_300_BlueTEC_HYBRID__1', u'Mercedes-Benz_W212__E_300_CDI_BlueEFFICIENCY__1', u'Mercedes-Benz_W212__E_300_CDI_BlueEFFICIENCY__2', u'Mercedes-Benz_W212__E_300__1', u'Mercedes-Benz_W212__E_350_4MATIC_BlueEFFICIENCY__1', u'Mercedes-Benz_W212__E_350_4MATIC__1', u'Mercedes-Benz_W212__E_350_BlueEFFICIENCY__1', u'Mercedes-Benz_W212__E_350_BlueTEC__1', u'Mercedes-Benz_W212__E_350_CDI_4MATIC_BlueEFFICIENCY__1', u'Mercedes-Benz_W212__E_350_CDI_4MATIC_BlueEFFICIENCY__2', u'Mercedes-Benz_W212__E_350_CDI_BlueEFFICIENCY__1', u'Mercedes-Benz_W212__E_350_CDI_BlueEFFICIENCY__2', u'Mercedes-Benz_W212__E_350_CGI_BlueEFFICIENCY__1', u'Mercedes-Benz_W212__E_400_HYBRID__1', u'Mercedes-Benz_W212__E_500_4MATIC_BlueEFFICIENCY__1', u'Mercedes-Benz_W212__E_500_4MATIC__1', u'Mercedes-Benz_W212__E_500_BlueEFFICIENCY__1', u'Mercedes-Benz_W212__E_500__1', u'Mercedes-Benz_W212__E_63_AMG_Performance_package__1', u'Mercedes-Benz_W212__E_63_AMG__1', u'Mercedes-Benz_W212__E_63_AMG__2'], u'assembly': [u'6th of October City', u'Beijing', u'China', u'Egypt', u'Germany', u'India', u'Malaysia', u'Mexico', u'Pekan', u'Pune', u'Sindelfingen', u'Toluca'], u'name': [u'Mercedes-Benz E-Class', u'Mercedes-Benz W212'], u'transmission': [u'5-speed automatic', u'6-speed manual', u'7-speed automatic'], u'modelYears': [], u'productionYears': [], u'layout': [u'automobile layout', u'four-wheel drive', u'front-engine design'], u'_id': ObjectId('56bdbea29f3bc305487f6bc5'), u'bodyStyle': [u'convertible', u'coup\\xe9', u'sedan', u'station wagon'], u'class': [u'executive car', u'mid-size car'], u'manufacturer': u'Mercedes-Benz', u'dimensions': {u'width': 1.78562, u'length': 4.699, u'height': 1.39192, u'wheelbase': 2.76098}} \n",
      "\n",
      "{u'layout': u'front-engine front-wheel-drive layout', u'dimensions': {u'width': 1.798, u'length': 4.636, u'height': 1.466, u'weight': 1490.0, u'wheelbase': 2.83}, u'modelYears': [], u'productionYears': [2003, 2004, 2005, 2006, 2007, 2008], u'assembly': [u'Germany', u'R\\xfcsselsheim'], u'_id': ObjectId('56bdbea29f3bc305487f6bd0'), u'bodyStyle': u'hatchback', u'class': u'family car', u'manufacturer': u'Opel', u'name': [u'Opel Signum', u'Vauxhall Signum']} \n",
      "\n",
      "{u'engine': u'Mercedes-Benz_CLK_GTR__1', u'assembly': u'Germany', u'name': u'Mercedes-Benz CLK GTR', u'transmission': u'6-speed sequential manual', u'modelYears': [], u'productionYears': [1998, 1999], u'layout': u'rear mid-engine rear-wheel-drive layout', u'_id': ObjectId('56bdbea29f3bc305487f6be1'), u'bodyStyle': [u'convertible', u'coup\\xe9'], u'class': u'sports car', u'manufacturer': [u'Mercedes-AMG', u'Mercedes-Benz'], u'dimensions': {u'weight': 1440.0}} \n",
      "\n",
      "{u'engine': u'Mercedes-Benz_190SL__1', u'assembly': [u'Germany', u'Stuttgart'], u'name': u'Mercedes-Benz 190SL', u'transmission': u'4-speed manual fully synchronized', u'modelYears': [], u'productionYears': [1955, 1956, 1957, 1958, 1959, 1960, 1961, 1962, 1963], u'layout': u'front-engine rear-wheel-drive layout', u'_id': ObjectId('56bdbea29f3bc305487f6bf1'), u'bodyStyle': u'roadster', u'class': u'grand tourer', u'manufacturer': u'Mercedes-Benz', u'dimensions': {u'width': 1.74, u'length': 4.29, u'height': 1.32, u'weight': 1157.59, u'wheelbase': 2.4}} \n",
      "\n",
      "{u'designer': [u'Harm Lagaay', u'Pinky Lai'], u'assembly': [u'Baden-W\\xfcrttemberg', u'Germany', u'Stuttgart'], u'name': u'Porsche 911 GT2', u'modelYears': [], u'productionYears': [], u'layout': u'rear-engine rear-wheel-drive layout', u'_id': ObjectId('56bdbea29f3bc305487f6c05'), u'bodyStyle': u'coup\\xe9', u'class': u'sports car', u'manufacturer': u'Porsche'} \n",
      "\n",
      "{u'engine': u'Volkswagen_EA489_Basistransporter__1', u'assembly': [u'Germany', u'Hanover', u'Mexico', u'Puebla'], u'name': [u'Volkswagen EA489 Basistransporter', u'Volkswagen EA489', u'Volkswagen Hormiga', u'Volkswagen Mitra', u'Volkswagen Trakbayan'], u'transmission': u'4-speed manual', u'modelYears': [], u'productionYears': [1975, 1976, 1977, 1978, 1979], u'layout': [u'front-engine design', u'front-wheel drive'], u'_id': ObjectId('56bdbea29f3bc305487f6c40'), u'bodyStyle': u'vehicle door', u'class': u'commercial vehicle', u'manufacturer': u'Volkswagen Group', u'dimensions': {u'width': 1.684, u'length': 4.064, u'height': 1.988, u'weight': 1290.0, u'wheelbase': 2.395}} \n",
      "\n",
      "{u'engine': [u'BMW_303__1', u'BMW_303__2', u'BMW_303__3', u'BMW_303__4'], u'assembly': [u'Eisenach', u'Germany', u'Thuringia'], u'name': u'BMW 303', u'transmission': u'4-speed manual synchromesh on 3rd and 4th', u'modelYears': [], u'productionYears': [303], u'layout': u'front-engine rear-wheel-drive layout', u'_id': ObjectId('56bdbea29f3bc305487f6c7a'), u'bodyStyle': [u'convertible', u'sedan'], u'class': u'compact car', u'manufacturer': u'BMW', u'dimensions': {u'width': 1.44, u'length': 3.9, u'height': 1.55, u'weight': 820.109, u'wheelbase': 2.4}} \n",
      "\n",
      "{u'engine': u'BMW_303__BMW_309__1__1', u'assembly': [u'Eisenach', u'Germany', u'Thuringia'], u'name': u'BMW 309', u'modelYears': [], u'productionYears': [1934, 1935, 1936], u'layout': u'front-engine rear-wheel-drive layout', u'_id': ObjectId('56bdbea29f3bc305487f6c7b'), u'bodyStyle': [u'convertible', u'sedan', u'touring car'], u'class': u'compact car', u'manufacturer': u'BMW', u'dimensions': {u'length': 3.8989, u'weight': 750.254, u'wheelbase': 2.4}} \n",
      "\n",
      "{u'engine': [u'1__1__1', u'1__1__2', u'1__1__3'], u'assembly': [u'Eisenach', u'Germany'], u'name': u'BMW 315/1 BMW 319/1', u'transmission': u'4-speed manual', u'modelYears': [], u'productionYears': [315], u'layout': u'automobile layout', u'_id': ObjectId('56bdbea29f3bc305487f6c7c'), u'bodyStyle': u'roadster', u'class': u'sports car', u'manufacturer': u'BMW', u'dimensions': {u'width': 1.44, u'length': 3.8, u'height': 1.35, u'weight': 750.0, u'wheelbase': 2.4}} \n",
      "\n",
      "{u'engine': [u'BMW_7_Series_(F01)__1', u'BMW_7_Series_(F01)__2', u'BMW_7_Series_(F01)__3', u'BMW_7_Series_(F01)__4', u'BMW_7_Series_(F01)__730Ld__1', u'BMW_7_Series_(F01)__730Li__1', u'Ld__1', u'BMW_7_Series_(F01)__730d__1', u'BMW_7_Series_(F01)__730d_xDrive__1', u'Li__1', u'BMW_7_Series_(F01)__740Li_xDrive__1', u'BMW_7_Series_(F01)__740d__1', u'BMW_7_Series_(F01)__740d_xDrive__1', u'BMW_7_Series_(F01)__740d_xDrive__2', u'Li__2', u'BMW_7_Series_(F01)__750Li_High_Security__1', u'BMW_7_Series_(F01)__750Li__1', u'Ld_xDrive__1', u'Li_xDrive__1', u'Li_xDrive__2', u'BMW_7_Series_(F01)__750i__1', u'HLi_*_Not_confirmed_by_BMW_yet__1', u'BMW_7_Series_(F01)__760Li_High_Security__1', u'BMW_7_Series_(F01)__ALPINA_B7_Bi-Turbo__1', u'BMW_7_Series_(F01)__ALPINA_B7_Bi-Turbo_xDrive__1', u'BMW_7_Series_(F01)__ALPINA_B7__1', u'BMW_7_Series_(F01)__ALPINA_B7_xDrive__1', u'BMW_7_Series_(F01)__ActiveHybrid7_ActiveHybrid7L__1', u'BMW_7_Series_(F01)__ActiveHybrid7_ActiveHybrid7L__2', u'BMW_7_Series_(F01)__ActiveHybrid7_ActiveHybrid7L__3', u'BMW_7_Series_(F01)__ActiveHybrid_7_ActiveHybrid_7_L__1', u'BMW_7_Series_(F01)__ActiveHybrid_7_ActiveHybrid_7_L__2', u'BMW_7_Series_(F01)__ActiveHybrid_7_ActiveHybrid_7_L__3'], u'assembly': [u'6th of October City', u'Dingolfing', u'Egypt', u'Germany', u'Mexico', u'Rayong', u'Thailand', u'Toluca'], u'name': u'BMW 7-Series (F01/F02)', u'transmission': [u'8-speed automatic (760Li and ActiveHybrid7 all other models from 2013-present)', u'6-speed automatic'], u'modelYears': [], u'productionYears': [], u'layout': u'front-engine rear-wheel-drive layout', u'_id': ObjectId('56bdbea29f3bc305487f6c81'), u'bodyStyle': u'sedan', u'class': u'full-size car', u'manufacturer': u'BMW', u'dimensions': {u'width': 1.902, u'length': 5.072, u'height': 1.479, u'weight': 1955.0, u'wheelbase': 3.07}} \n",
      "\n",
      "{u'engine': u'Veritas_ __1', u'assembly': [u'Germany', u'N\\xfcrburg'], u'name': u'Veritas RS3', u'transmission': u'6-speed manual 6-speed sequential 7-speed sequential', u'modelYears': [], u'productionYears': [2009], u'layout': u'front-engine rear-wheel-drive layout', u'_id': ObjectId('56bdbea29f3bc305487f6cf8'), u'class': u'sports car', u'dimensions': {u'width': 2.02, u'length': 4.68, u'height': 0.97, u'weight': 1080.0, u'wheelbase': 2.7}} \n",
      "\n",
      "{u'engine': u'Callaway_Cars__Callaway_C16__1__1', u'assembly': [u'California', u'Germany', u'Leingarten'], u'name': u'Callaway C16', u'transmission': u'6 speed manual/automatic paddle-shift transmission', u'modelYears': [], u'productionYears': [2007], u'layout': u'front-engine rear-wheel-drive layout', u'_id': ObjectId('56bdbea29f3bc305487f6d40'), u'bodyStyle': [u'convertible', u'coup\\xe9', u'speedster'], u'class': u'sports car', u'dimensions': {u'width': 1.844, u'length': 4.1, u'height': 1.222, u'weight': 1530.9, u'wheelbase': 2.685}} \n",
      "\n",
      "{u'engine': u'Ford_Model_A_(1927%E2%80%931931)__1', u'assembly': [u'Argentina', u'Australia', u'Buenos Aires', u'Cologne', u'Copenhagen', u'Cork', u'Denmark', u'Detroit', u'England', u'Geelong', u'Germany', u'Ireland', u'Ontario', u'Saint Paul Minnesota', u'Trafford Park', u'Windsor Ontario'], u'name': u'Ford Model A', u'transmission': u'3-speed sliding gear manual', u'modelYears': [], u'productionYears': [1927, 1928, 1929, 1930, 1931], u'layout': u'front-engine rear-wheel-drive layout', u'_id': ObjectId('56bdbea29f3bc305487f6d43'), u'bodyStyle': [u'convertible', u'coup\\xe9', u'pickup truck', u'roadster', u'roadster_pickup', u'sedan', u'station wagon'], u'class': u'full-size ford', u'manufacturer': u'Ford Motor Company', u'dimensions': {u'width': 1.7018, u'length': 4.191, u'weight': 1027.4, u'wheelbase': 2.6289}} \n",
      "\n",
      "{u'engine': [u'Volkswagen_Polo_Mk4__1', u'Volkswagen_Polo_Mk4__2', u'Volkswagen_Polo_Mk4__3', u'Volkswagen_Polo_Mk4__4', u'Volkswagen_Polo_Mk4__5', u'Volkswagen_Polo_Mk4__6', u'Volkswagen_Polo_Mk4__7'], u'assembly': [u'Angola', u'Anting', u'Bratislava', u'Brazil', u'China', u'Curitiba', u'Germany', u'Luanda', u'Navarre', u'Slovakia', u'South Africa', u'Spain', u'Uitenhage', u'Wolfsburg'], u'name': [u'Volkswagen Polo Mk4', u'Volkswagen Polo Vivo'], u'transmission': [u'4-speed automatic', u'5-speed manual', u'6-speed automatic', u'6-speed manual'], u'modelYears': [], u'productionYears': [2002], u'layout': u'front-engine front-wheel-drive layout', u'_id': ObjectId('56bdbea29f3bc305487f6db4'), u'bodyStyle': [u'hatchback', u'sedan'], u'class': u'supermini', u'manufacturer': u'Volkswagen', u'dimensions': {u'width': 1.65, u'length': 4.198, u'height': 1.501, u'wheelbase': 2.465}} \n",
      "\n",
      "{u'engine': [u'Volkswagen_Crafter__1', u'Volkswagen_Crafter__2'], u'designer': u'Laurent_Boulay', u'assembly': [u'D\\xfcsseldorf', u'Germany', u'Ludwigsfelde'], u'name': [u'Volkswagen Crafter', u'Volkswagen Crafter Volt (Turkey)', u'Volkswagen LT3'], u'transmission': [u'6-speed Shiftmatic automatic', u'6-speed manual'], u'modelYears': [], u'productionYears': [], u'layout': [u'automobile layout', u'front-engine design'], u'_id': ObjectId('56bdbea29f3bc305487f6dbd'), u'bodyStyle': [u'chassis', u'minibus', u'panel van', u'pickup truck'], u'class': u'light commercial vehicle', u'manufacturer': u'Volkswagen Commercial Vehicles', u'dimensions': {u'width': 2.425, u'length': 6.68, u'height': 2.42, u'wheelbase': 3.25}} \n",
      "\n",
      "{u'layout': u'rear-engine design', u'name': u'Neoplan Jumbocruiser', u'bodyStyle': u'articulated bus', u'modelYears': [], u'productionYears': [1975, 1976, 1977, 1978, 1979, 1980, 1981, 1982, 1983, 1984, 1985, 1986, 1987, 1988, 1989, 1990, 1991, 1992], u'assembly': u'Germany', u'_id': ObjectId('56bdbea29f3bc305487f6df8'), u'class': u'commercial vehicle', u'manufacturer': u'Neoplan'} \n",
      "\n",
      "{u'engine': [u'Volkswagen_Golf_Mk4__1', u'Volkswagen_Golf_Mk4__10', u'Volkswagen_Golf_Mk4__11', u'Volkswagen_Golf_Mk4__13', u'Volkswagen_Golf_Mk4__14', u'Volkswagen_Golf_Mk4__18', u'Volkswagen_Golf_Mk4__19', u'Volkswagen_Golf_Mk4__2', u'Volkswagen_Golf_Mk4__20', u'Volkswagen_Golf_Mk4__21', u'Volkswagen_Golf_Mk4__22', u'Volkswagen_Golf_Mk4__23', u'Volkswagen_Golf_Mk4__24', u'Volkswagen_Golf_Mk4__3', u'Volkswagen_Golf_Mk4__4', u'Volkswagen_Golf_Mk4__5', u'Volkswagen_Golf_Mk4__6', u'Volkswagen_Golf_Mk4__7', u'Volkswagen_Golf_Mk4__8', u'Volkswagen_Golf_Mk4__9'], u'assembly': [u'Audi Brussels', u'Belgium', u'Bratislava', u'Brazil', u'Changchun', u'China', u'Germany', u'S\\xe3o Jos\\xe9 dos Pinhais', u'Slovakia', u'South Africa', u'Uitenhage', u'Wolfsburg'], u'name': [u'VW Bora HS (China 2006\\u20132008)', u'VW City Golf (Canada 2006\\u20132008)', u'VW Golf City (2009\\u20132010)', u'Volkswagen Golf Mk4'], u'transmission': [u'4-speed automatic', u'5-speed manual', u'5-speed tiptronic automatic', u'6-speed DSG', u'6-speed manual'], u'modelYears': [], u'productionYears': [1999, 2000, 2001, 2002, 2003, 2004, 2005, 2006], u'layout': [u'four-wheel drive', u'front-engine design', u'front-wheel drive'], u'_id': ObjectId('56bdbea29f3bc305487f6e68'), u'bodyStyle': [u'hatchback', u'station wagon'], u'manufacturer': u'Volkswagen', u'dimensions': {u'width': 1.735, u'length': 4.148, u'height': 1.44, u'wheelbase': 2.512}} \n",
      "\n",
      "{u'engine': [u'Volkswagen_Golf_Mk5__1', u'Volkswagen_Golf_Mk5__10', u'Volkswagen_Golf_Mk5__11', u'Volkswagen_Golf_Mk5__12', u'Volkswagen_Golf_Mk5__13', u'Volkswagen_Golf_Mk5__14', u'Volkswagen_Golf_Mk5__16', u'Volkswagen_Golf_Mk5__17', u'Volkswagen_Golf_Mk5__18', u'Volkswagen_Golf_Mk5__19', u'Volkswagen_Golf_Mk5__2', u'Volkswagen_Golf_Mk5__20', u'Volkswagen_Golf_Mk5__21', u'Volkswagen_Golf_Mk5__3', u'Volkswagen_Golf_Mk5__4', u'Volkswagen_Golf_Mk5__5', u'Volkswagen_Golf_Mk5__6', u'Volkswagen_Golf_Mk5__7', u'Volkswagen_Golf_Mk5__8', u'Volkswagen_Golf_Mk5__9'], u'assembly': [u'Audi Brussels', u'Belgium', u'Changchun', u'China', u'Germany', u'Indonesia', u'Jakarta', u'Solomonovo', u'South Africa', u'Uitenhage', u'Ukraine', u'Wolfsburg'], u'name': [u'Volkswagen Golf Mk5', u'Volkswagen Rabbit'], u'transmission': [u'5-speed manual', u'6-speed DSG', u'6-speed manual', u'6-speed tiptronic automatic'], u'modelYears': [], u'productionYears': [2003, 2004, 2005, 2006, 2007, 2008, 2009], u'layout': [u'4motion', u'front-engine design', u'front-wheel drive'], u'_id': ObjectId('56bdbea29f3bc305487f6e69'), u'bodyStyle': [u'compact mpv', u'hatchback', u'station wagon'], u'class': u'compact car', u'manufacturer': u'Volkswagen', u'dimensions': {u'width': 1.759, u'length': 4.204, u'height': 1.479, u'weight': 1323.0, u'wheelbase': 2.578}} \n",
      "\n",
      "{u'engine': [u'Volkswagen_Golf_Mk2__10', u'Volkswagen_Golf_Mk2__11', u'Volkswagen_Golf_Mk2__12', u'Volkswagen_Golf_Mk2__13', u'Volkswagen_Golf_Mk2__14', u'Volkswagen_Golf_Mk2__16', u'Volkswagen_Golf_Mk2__17', u'Volkswagen_Golf_Mk2__18', u'Volkswagen_Golf_Mk2__19', u'Volkswagen_Golf_Mk2__2', u'Volkswagen_Golf_Mk2__20', u'Volkswagen_Golf_Mk2__21', u'Volkswagen_Golf_Mk2__22', u'Volkswagen_Golf_Mk2__23', u'Volkswagen_Golf_Mk2__24', u'Volkswagen_Golf_Mk2__25', u'Volkswagen_Golf_Mk2__3', u'Volkswagen_Golf_Mk2__4', u'Volkswagen_Golf_Mk2__5', u'Volkswagen_Golf_Mk2__6', u'Volkswagen_Golf_Mk2__7', u'Volkswagen_Golf_Mk2__8', u'Volkswagen_Golf_Mk2__9'], u'assembly': [u'Audi Brussels', u'Belgium', u'Bosnia and Herzegovina', u'Germany', u'Mexico', u'New Stanton Pennsylvania', u'Puebla Puebla', u'Sarajevo', u'South Africa', u'Uitenhage', u'United States', u'Wolfsburg'], u'name': u'Volkswagen Golf Mk2', u'transmission': [u'3-speed automatic', u'4-speed/5-speed manual'], u'modelYears': [], u'productionYears': [6, 7, 8, 9, 10, 11, 12, 13, 14, 15, 16, 17, 18, 19, 20, 21, 22, 23, 24, 25, 26, 27, 28, 29, 30, 31, 32, 33, 34, 35, 36, 37, 38, 39, 40, 41, 42, 43, 44, 45, 46, 47, 48, 49, 50, 51, 52, 53, 54, 55, 56, 57, 58, 59, 60, 61, 62, 63, 64, 65, 66, 67, 68, 69, 70, 71, 72, 73, 74, 75, 76, 77, 78, 79, 80, 81, 82, 83, 84, 85, 86, 87, 88, 89, 90, 91, 92, 93, 94, 95, 96, 97, 98, 99, 100, 101, 102, 103, 104, 105, 106, 107, 108, 109, 110, 111, 112, 113, 114, 115, 116, 117, 118, 119, 120, 121, 122, 123, 124, 125, 126, 127, 128, 129, 130, 131, 132, 133, 134, 135, 136, 137, 138, 139, 140, 141, 142, 143, 144, 145, 146, 147, 148, 149, 150, 151, 152, 153, 154, 155, 156, 157, 158, 159, 160, 161, 162, 163, 164, 165, 166, 167, 168, 169, 170, 171, 172, 173, 174, 175, 176, 177, 178, 179, 180, 181, 182, 183, 184, 185, 186, 187, 188, 189, 190, 191, 192, 193, 194, 195, 196, 197, 198, 199, 200, 201, 202, 203, 204, 205, 206, 207, 208, 209, 210, 211, 212, 213, 214, 215, 216, 217, 218, 219, 220, 221, 222, 223, 224, 225, 226, 227, 228, 229, 230, 231, 232, 233, 234, 235, 236, 237, 238, 239, 240, 241, 242, 243, 244, 245, 246, 247, 248, 249, 250, 251, 252, 253, 254, 255, 256, 257, 258, 259, 260, 261, 262, 263, 264, 265, 266, 267, 268, 269, 270, 271, 272, 273, 274, 275, 276, 277, 278, 279, 280, 281, 282, 283, 284, 285, 286, 287, 288, 289, 290, 291, 292, 293, 294, 295, 296, 297, 298, 299, 300, 301, 302, 303, 304, 305, 306, 307, 308, 309, 310, 311, 312, 313, 314, 315, 316, 317, 318, 319, 320, 321, 322, 323, 324, 325, 326, 327, 328, 329, 330, 331, 332, 333, 334, 335, 336, 337, 338, 339, 340, 341, 342, 343, 344, 345, 346, 347, 348, 349, 350, 351, 352, 353, 354, 355, 356, 357, 358, 359, 360, 361, 362, 363, 364, 365, 366, 367, 368, 369, 370, 371, 372, 373, 374, 375, 376, 377, 378, 379, 380, 381, 382, 383, 384, 385, 386, 387, 388, 389, 390, 391, 392, 393, 394, 395, 396, 397, 398, 399, 400, 401, 402, 403, 404, 405, 406, 407, 408, 409, 410, 411, 412, 413, 414, 415, 416, 417, 418, 419, 420, 421, 422, 423, 424, 425, 426, 427, 428, 429, 430, 431, 432, 433, 434, 435, 436, 437, 438, 439, 440, 441, 442, 443, 444, 445, 446, 447, 448, 449, 450, 451, 452, 453, 454, 455, 456, 457, 458, 459, 460, 461, 462, 463, 464, 465, 466, 467, 468, 469, 470, 471, 472, 473, 474, 475, 476, 477, 478, 479, 480, 481, 482, 483, 484, 485, 486, 487, 488, 489, 490, 491, 492, 493, 494, 495, 496, 497, 498, 499, 500, 501, 502, 503, 504, 505, 506, 507, 508, 509, 510, 511, 512, 513, 514, 515, 516, 517, 518, 519, 520, 521, 522, 523, 524, 525, 526, 527, 528, 529, 530, 531, 532, 533, 534, 535, 536, 537, 538, 539, 540, 541, 542, 543, 544, 545, 546, 547, 548, 549, 550, 551, 552, 553, 554, 555, 556, 557, 558, 559, 560, 561, 562, 563, 564, 565, 566, 567, 568, 569, 570, 571, 572, 573, 574, 575, 576, 577, 578, 579, 580, 581, 582, 583, 584, 585, 586, 587, 588, 589, 590, 591, 592, 593, 594, 595, 596, 597, 598, 599, 600, 601, 602, 603, 604, 605, 606, 607, 608, 609, 610, 611, 612, 613, 614, 615, 616, 617, 618, 619, 620, 621, 622, 623, 624, 625, 626, 627, 628, 629, 630, 631, 632, 633, 634, 635, 636, 637, 638, 639, 640, 641, 642, 643, 644, 645, 646, 647, 648, 649, 650, 651, 652, 653, 654, 655, 656, 657, 658, 659, 660, 661, 662, 663, 664, 665, 666, 667, 668, 669, 670, 671, 672, 673, 674, 675, 676, 677, 678, 679, 680, 681, 682, 683, 684, 685, 686, 687, 688, 689, 690, 691, 692, 693, 694, 695, 696, 697, 698, 699, 700, 701, 702, 703, 704, 705, 706, 707, 708, 709, 710, 711, 712, 713, 714, 715, 716, 717, 718, 719, 720, 721, 722, 723, 724, 725, 726, 727, 728, 729, 730, 731, 732, 733, 734, 735, 736, 737, 738, 739, 740, 741, 742, 743, 744, 745, 746, 747, 748, 749, 750, 751, 752, 753, 754, 755, 756, 757, 758, 759, 760, 761, 762, 763, 764, 765, 766, 767, 768, 769, 770, 771, 772, 773, 774, 775, 776, 777, 778, 779, 780, 781, 782, 783, 784, 785, 786, 787, 788, 789, 790, 791, 792, 793, 794, 795, 796, 797, 798, 799, 800, 801, 802, 803, 804, 805, 806, 807, 808, 809, 810, 811, 812, 813, 814, 815, 816, 817, 818, 819, 820, 821, 822, 823, 824, 825, 826, 827, 828, 829, 830, 831, 832, 833, 834, 835, 836, 837, 838, 839, 840, 841, 842, 843, 844, 845, 846, 847, 848, 849, 850, 851, 852, 853, 854, 855, 856, 857, 858, 859, 860, 861, 862, 863, 864, 865, 866, 867, 868, 869, 870, 871, 872, 873, 874, 875, 876, 877, 878, 879, 880, 881, 882, 883, 884, 885, 886, 887, 888, 889, 890, 891, 892, 893, 894, 895, 896, 897, 898, 899, 900, 901, 902, 903, 904, 905, 906, 907, 908, 909, 910, 911, 912, 913, 914, 915, 916, 917, 918, 919, 920, 921, 922, 923, 924, 925, 926, 927, 928, 929, 930, 931, 932, 933, 934, 935, 936, 937, 938, 939, 940, 941, 942, 943, 944, 945, 946, 947, 948, 949, 950, 951, 952, 953, 954, 955, 956, 957, 958, 959, 960, 961, 962, 963, 964, 965, 966, 967, 968, 969, 970, 971, 972, 973, 974, 975, 976, 977, 978, 979, 980, 981, 982, 983, 984, 985, 986, 987, 988, 989, 990, 991, 992, 993, 994, 995, 996, 997, 998, 999, 1000, 1001, 1002, 1003, 1004, 1005, 1006, 1007, 1008, 1009, 1010, 1011, 1012, 1013, 1014, 1015, 1016, 1017, 1018, 1019, 1020, 1021, 1022, 1023, 1024, 1025, 1026, 1027, 1028, 1029, 1030, 1031, 1032, 1033, 1034, 1035, 1036, 1037, 1038, 1039, 1040, 1041, 1042, 1043, 1044, 1045, 1046, 1047, 1048, 1049, 1050, 1051, 1052, 1053, 1054, 1055, 1056, 1057, 1058, 1059, 1060, 1061, 1062, 1063, 1064, 1065, 1066, 1067, 1068, 1069, 1070, 1071, 1072, 1073, 1074, 1075, 1076, 1077, 1078, 1079, 1080, 1081, 1082, 1083, 1084, 1085, 1086, 1087, 1088, 1089, 1090, 1091, 1092, 1093, 1094, 1095, 1096, 1097, 1098, 1099, 1100, 1101, 1102, 1103, 1104, 1105, 1106, 1107, 1108, 1109, 1110, 1111, 1112, 1113, 1114, 1115, 1116, 1117, 1118, 1119, 1120, 1121, 1122, 1123, 1124, 1125, 1126, 1127, 1128, 1129, 1130, 1131, 1132, 1133, 1134, 1135, 1136, 1137, 1138, 1139, 1140, 1141, 1142, 1143, 1144, 1145, 1146, 1147, 1148, 1149, 1150, 1151, 1152, 1153, 1154, 1155, 1156, 1157, 1158, 1159, 1160, 1161, 1162, 1163, 1164, 1165, 1166, 1167, 1168, 1169, 1170, 1171, 1172, 1173, 1174, 1175, 1176, 1177, 1178, 1179, 1180, 1181, 1182, 1183, 1184, 1185, 1186, 1187, 1188, 1189, 1190, 1191, 1192, 1193, 1194, 1195, 1196, 1197, 1198, 1199, 1200, 1201, 1202, 1203, 1204, 1205, 1206, 1207, 1208, 1209, 1210, 1211, 1212, 1213, 1214, 1215, 1216, 1217, 1218, 1219, 1220, 1221, 1222, 1223, 1224, 1225, 1226, 1227, 1228, 1229, 1230, 1231, 1232, 1233, 1234, 1235, 1236, 1237, 1238, 1239, 1240, 1241, 1242, 1243, 1244, 1245, 1246, 1247, 1248, 1249, 1250, 1251, 1252, 1253, 1254, 1255, 1256, 1257, 1258, 1259, 1260, 1261, 1262, 1263, 1264, 1265, 1266, 1267, 1268, 1269, 1270, 1271, 1272, 1273, 1274, 1275, 1276, 1277, 1278, 1279, 1280, 1281, 1282, 1283, 1284, 1285, 1286, 1287, 1288, 1289, 1290, 1291, 1292, 1293, 1294, 1295, 1296, 1297, 1298, 1299, 1300, 1301, 1302, 1303, 1304, 1305, 1306, 1307, 1308, 1309, 1310, 1311, 1312, 1313, 1314, 1315, 1316, 1317, 1318, 1319, 1320, 1321, 1322, 1323, 1324, 1325, 1326, 1327, 1328, 1329, 1330, 1331, 1332, 1333, 1334, 1335, 1336, 1337, 1338, 1339, 1340, 1341, 1342, 1343, 1344, 1345, 1346, 1347, 1348, 1349, 1350, 1351, 1352, 1353, 1354, 1355, 1356, 1357, 1358, 1359, 1360, 1361, 1362, 1363, 1364, 1365, 1366, 1367, 1368, 1369, 1370, 1371, 1372, 1373, 1374, 1375, 1376, 1377, 1378, 1379, 1380, 1381, 1382, 1383, 1384, 1385, 1386, 1387, 1388, 1389, 1390, 1391, 1392, 1393, 1394, 1395, 1396, 1397, 1398, 1399, 1400, 1401, 1402, 1403, 1404, 1405, 1406, 1407, 1408, 1409, 1410, 1411, 1412, 1413, 1414, 1415, 1416, 1417, 1418, 1419, 1420, 1421, 1422, 1423, 1424, 1425, 1426, 1427, 1428, 1429, 1430, 1431, 1432, 1433, 1434, 1435, 1436, 1437, 1438, 1439, 1440, 1441, 1442, 1443, 1444, 1445, 1446, 1447, 1448, 1449, 1450, 1451, 1452, 1453, 1454, 1455, 1456, 1457, 1458, 1459, 1460, 1461, 1462, 1463, 1464, 1465, 1466, 1467, 1468, 1469, 1470, 1471, 1472, 1473, 1474, 1475, 1476, 1477, 1478, 1479, 1480, 1481, 1482, 1483, 1484, 1485, 1486, 1487, 1488, 1489, 1490, 1491, 1492, 1493, 1494, 1495, 1496, 1497, 1498, 1499, 1500, 1501, 1502, 1503, 1504, 1505, 1506, 1507, 1508, 1509, 1510, 1511, 1512, 1513, 1514, 1515, 1516, 1517, 1518, 1519, 1520, 1521, 1522, 1523, 1524, 1525, 1526, 1527, 1528, 1529, 1530, 1531, 1532, 1533, 1534, 1535, 1536, 1537, 1538, 1539, 1540, 1541, 1542, 1543, 1544, 1545, 1546, 1547, 1548, 1549, 1550, 1551, 1552, 1553, 1554, 1555, 1556, 1557, 1558, 1559, 1560, 1561, 1562, 1563, 1564, 1565, 1566, 1567, 1568, 1569, 1570, 1571, 1572, 1573, 1574, 1575, 1576, 1577, 1578, 1579, 1580, 1581, 1582, 1583, 1584, 1585, 1586, 1587, 1588, 1589, 1590, 1591, 1592, 1593, 1594, 1595, 1596, 1597, 1598, 1599, 1600, 1601, 1602, 1603, 1604, 1605, 1606, 1607, 1608, 1609, 1610, 1611, 1612, 1613, 1614, 1615, 1616, 1617, 1618, 1619, 1620, 1621, 1622, 1623, 1624, 1625, 1626, 1627, 1628, 1629, 1630, 1631, 1632, 1633, 1634, 1635, 1636, 1637, 1638, 1639, 1640, 1641, 1642, 1643, 1644, 1645, 1646, 1647, 1648, 1649, 1650, 1651, 1652, 1653, 1654, 1655, 1656, 1657, 1658, 1659, 1660, 1661, 1662, 1663, 1664, 1665, 1666, 1667, 1668, 1669, 1670, 1671, 1672, 1673, 1674, 1675, 1676, 1677, 1678, 1679, 1680, 1681, 1682, 1683, 1684, 1685, 1686, 1687, 1688, 1689, 1690, 1691, 1692, 1693, 1694, 1695, 1696, 1697, 1698, 1699, 1700, 1701, 1702, 1703, 1704, 1705, 1706, 1707, 1708, 1709, 1710, 1711, 1712, 1713, 1714, 1715, 1716, 1717, 1718, 1719, 1720, 1721, 1722, 1723, 1724, 1725, 1726, 1727, 1728, 1729, 1730, 1731, 1732, 1733, 1734, 1735, 1736, 1737, 1738, 1739, 1740, 1741, 1742, 1743, 1744, 1745, 1746, 1747, 1748, 1749, 1750, 1751, 1752, 1753, 1754, 1755, 1756, 1757, 1758, 1759, 1760, 1761, 1762, 1763, 1764, 1765, 1766, 1767, 1768, 1769, 1770, 1771, 1772, 1773, 1774, 1775, 1776, 1777, 1778, 1779, 1780, 1781, 1782, 1783, 1784, 1785, 1786, 1787, 1788, 1789, 1790, 1791, 1792, 1793, 1794, 1795, 1796, 1797, 1798, 1799, 1800, 1801, 1802, 1803, 1804, 1805, 1806, 1807, 1808, 1809, 1810, 1811, 1812, 1813, 1814, 1815, 1816, 1817, 1818, 1819, 1820, 1821, 1822, 1823, 1824, 1825, 1826, 1827, 1828, 1829, 1830, 1831, 1832, 1833, 1834, 1835, 1836, 1837, 1838, 1839, 1840, 1841, 1842, 1843, 1844, 1845, 1846, 1847, 1848, 1849, 1850, 1851, 1852, 1853, 1854, 1855, 1856, 1857, 1858, 1859, 1860, 1861, 1862, 1863, 1864, 1865, 1866, 1867, 1868, 1869, 1870, 1871, 1872, 1873, 1874, 1875, 1876, 1877, 1878, 1879, 1880, 1881, 1882, 1883, 1884, 1885, 1886, 1887, 1888, 1889, 1890, 1891, 1892, 1893, 1894, 1895, 1896, 1897, 1898, 1899, 1900, 1901, 1902, 1903, 1904, 1905, 1906, 1907, 1908, 1909, 1910, 1911, 1912, 1913, 1914, 1915, 1916, 1917, 1918, 1919, 1920, 1921, 1922, 1923, 1924, 1925, 1926, 1927, 1928, 1929, 1930, 1931, 1932, 1933, 1934, 1935, 1936, 1937, 1938, 1939, 1940, 1941, 1942, 1943, 1944, 1945, 1946, 1947, 1948, 1949, 1950, 1951, 1952, 1953, 1954, 1955, 1956, 1957, 1958, 1959, 1960, 1961, 1962, 1963, 1964, 1965, 1966, 1967, 1968, 1969, 1970, 1971, 1972, 1973, 1974, 1975, 1976, 1977, 1978, 1979, 1980, 1981, 1982, 1983, 1984, 1985, 1986, 1987, 1988, 1989, 1990, 1991, 1992], u'layout': [u'four-wheel drive', u'front-engine design', u'front-wheel drive'], u'_id': ObjectId('56bdbea29f3bc305487f6e6a'), u'bodyStyle': u'hatchback', u'manufacturer': u'Volkswagen', u'dimensions': {u'width': 1.665, u'length': 3.985, u'height': 1.415, u'weight': 910.0, u'wheelbase': 2.47}} \n",
      "\n",
      "{u'engine': [u'Volkswagen_Golf_Mk3__1', u'Volkswagen_Golf_Mk3__1.4__1', u'Volkswagen_Golf_Mk3__1.4__2', u'Volkswagen_Golf_Mk3__1.6__1', u'Volkswagen_Golf_Mk3__1.6__2', u'Volkswagen_Golf_Mk3__1.6__3', u'Volkswagen_Golf_Mk3__1.6__4', u'Volkswagen_Golf_Mk3__1.6__5', u'Volkswagen_Golf_Mk3__1.8__1', u'Volkswagen_Golf_Mk3__1.8__2', u'Volkswagen_Golf_Mk3__1.9_D__1', u'Volkswagen_Golf_Mk3__1.9_SDI__1', u'Volkswagen_Golf_Mk3__1.9_TDI__1', u'Volkswagen_Golf_Mk3__1.9_TDI__2', u'Volkswagen_Golf_Mk3__1.9_TDI__3', u'Volkswagen_Golf_Mk3__1.9_TD__1', u'Volkswagen_Golf_Mk3__10', u'Volkswagen_Golf_Mk3__11', u'Volkswagen_Golf_Mk3__12', u'Volkswagen_Golf_Mk3__13', u'Volkswagen_Golf_Mk3__14', u'Volkswagen_Golf_Mk3__2', u'Volkswagen_Golf_Mk3__2.0_16V__1', u'Volkswagen_Golf_Mk3__2.0__1', u'Volkswagen_Golf_Mk3__2.8_VR6__1', u'Volkswagen_Golf_Mk3__2.9_VR6__1', u'Volkswagen_Golf_Mk3__3', u'Volkswagen_Golf_Mk3__4', u'Volkswagen_Golf_Mk3__5', u'Volkswagen_Golf_Mk3__6', u'Volkswagen_Golf_Mk3__7'], u'assembly': [u'Audi Brussels', u'Belgium', u'Bratislava', u'Germany', u'Mexico', u'Puebla', u'Slovakia', u'South Africa', u'Uitenhage', u'Wolfsburg'], u'name': u'Volkswagen Golf Mk3', u'transmission': [u'4-speed automatic', u'4-speed/5-speed manual'], u'modelYears': [], u'productionYears': [4], u'layout': [u'4motion', u'front-engine design', u'front-wheel drive'], u'_id': ObjectId('56bdbea29f3bc305487f6e6b'), u'bodyStyle': [u'convertible', u'hatchback', u'station wagon'], u'manufacturer': u'Volkswagen', u'dimensions': {u'width': 1.694, u'length': 4.074, u'height': 1.422, u'wheelbase': 2.471}} \n",
      "\n",
      "{u'engine': [u'Volkswagen_Golf_Mk1__10', u'Volkswagen_Golf_Mk1__11', u'Volkswagen_Golf_Mk1__13', u'Volkswagen_Golf_Mk1__14', u'Volkswagen_Golf_Mk1__15', u'Volkswagen_Golf_Mk1__16', u'Volkswagen_Golf_Mk1__17', u'Volkswagen_Golf_Mk1__18', u'Volkswagen_Golf_Mk1__19', u'Volkswagen_Golf_Mk1__2', u'Volkswagen_Golf_Mk1__20', u'Volkswagen_Golf_Mk1__21', u'Volkswagen_Golf_Mk1__22', u'Volkswagen_Golf_Mk1__24', u'Volkswagen_Golf_Mk1__25', u'Volkswagen_Golf_Mk1__26', u'Volkswagen_Golf_Mk1__3', u'Volkswagen_Golf_Mk1__4', u'Volkswagen_Golf_Mk1__5', u'Volkswagen_Golf_Mk1__6', u'Volkswagen_Golf_Mk1__7', u'Volkswagen_Golf_Mk1__9'], u'designer': u'Giorgetto Giugiaro', u'assembly': [u'Audi Brussels', u'Australia', u'Bosnia and Herzegovina', u'Germany', u'Melbourne', u'Mexico', u'New Stanton Pennsylvania', u'Puebla Puebla', u'South Africa', u'Uitenhage', u'United States', u'Vogo\\u0161\\u0107a', u'Wolfsburg'], u'name': [u'Volkswagen Cabriolet', u'Volkswagen Caddy', u'Volkswagen Caribe', u'Volkswagen CitiGolf', u'Volkswagen Golf Mk1', u'Volkswagen Rabbit'], u'transmission': [u'3-speed automatic', u'4-speed/5-speed manual'], u'modelYears': [], u'productionYears': [6], u'layout': u'front-engine front-wheel-drive layout', u'_id': ObjectId('56bdbea29f3bc305487f6e6c'), u'bodyStyle': [u'convertible', u'coup\\xe9 utility', u'hatchback'], u'class': u'compact car', u'manufacturer': u'Volkswagen', u'dimensions': {u'width': 1.61, u'length': 3.705, u'height': 1.395, u'weight': 790.0, u'wheelbase': 2.4}} \n",
      "\n",
      "{u'assembly': u'Germany', u'dimensions': {u'width': 2.8, u'length': 14.7, u'height': 3.27, u'weight': 11300.0, u'wheelbase': 9.8}, u'modelYears': [], u'productionYears': [], u'_id': ObjectId('56bdbea29f3bc305487f6e76'), u'name': u'Meillerwagen'} \n",
      "\n",
      "{u'engine': u'Volkswagen_Type_14A_(Hebm%C3%BCller_Cabriolet)__1', u'layout': u'longitudinal engine', u'name': [u'Hebm\\xfcller Cabriolet', u'Volkswagen Type 14A'], u'modelYears': [], u'productionYears': [1949, 1950, 1951, 1952, 1953], u'assembly': [u'Germany', u'Osnabr\\xfcck', u'Wuppertal'], u'_id': ObjectId('56bdbea29f3bc305487f6e91'), u'bodyStyle': u'2+2 (car body style)', u'manufacturer': u'Hebm\\xfcller'} \n",
      "\n",
      "{u'engine': [u'Ford_Kuga__1', u'Ford_Kuga__2'], u'assembly': [u'Germany', u'Saarlouis', u'Spain', u'Valencia'], u'name': [u'Ford Escape (United States Canada)', u'Ford Kuga'], u'transmission': [u'5-speed automatic', u'6-speed automatic', u'6-speed manual'], u'modelYears': [], u'productionYears': [], u'layout': [u'front-engine four-wheel-drive layout', u'front-engine front-wheel-drive layout'], u'_id': ObjectId('56bdbea39f3bc305487f6fde'), u'bodyStyle': u'station wagon', u'class': u'compact suv', u'manufacturer': u'Ford Motor Company', u'dimensions': {u'width': 1.842, u'length': 4.443, u'height': 1.71, u'weight': 1613.0, u'wheelbase': 2.69}} \n",
      "\n",
      "{u'engine': u'Audi_Le_Mans_quattro__1', u'assembly': [u'Germany', u'Neckarsulm'], u'name': [u'Audi Le Mans quattro (Audi R8 Concept)', u'Audi R8'], u'transmission': u'six-speed sequential manual', u'modelYears': [], u'productionYears': [2003], u'layout': [u'mid-engine design', u'quattro (four-wheel-drive system)'], u'_id': ObjectId('56bdbea39f3bc305487f6ff6'), u'bodyStyle': u'coup\\xe9', u'class': [u'concept car', u'sports car'], u'manufacturer': u'Audi', u'dimensions': {u'width': 1.9, u'length': 4.369, u'height': 1.245, u'weight': 1530.0, u'wheelbase': 2.649}} \n",
      "\n",
      "{u'engine': [u'Volkswagen_CC__1', u'Volkswagen_CC__2', u'Volkswagen_CC__3'], u'assembly': [u'Changchun', u'China', u'Emden', u'Germany', u'Mexico', u'Puebla'], u'name': [u'Volkswagen CC', u'Volkswagen Passat CC (2008-2012)'], u'transmission': [u'6-speed automatic', u'6-speed manual', u'7-speed DSG'], u'modelYears': [], u'productionYears': [], u'layout': [u'4motion', u'front-engine design', u'front-wheel drive'], u'_id': ObjectId('56bdbea39f3bc305487f708a'), u'bodyStyle': u'sedan', u'class': u'family car', u'manufacturer': u'Volkswagen', u'dimensions': {u'width': 1.855, u'length': 4.799, u'height': 1.417, u'wheelbase': 2.711}} \n",
      "\n",
      "{u'engine': [u'Volkswagen_Amarok__1', u'Volkswagen_Amarok__2', u'Volkswagen_Amarok__2.0_BiTDI_CR_DPF__1', u'Volkswagen_Amarok__2.0_BiTDI_CR_DPF__2', u'Volkswagen_Amarok__2.0_TDI_CR_DPF__1', u'Volkswagen_Amarok__2.0_TDI_CR_DPF__2', u'Volkswagen_Amarok__2.0_TSI__1'], u'designer': u'Walter de Silva', u'assembly': [u'Argentina', u'General Pacheco', u'Germany', u'Hanover'], u'name': [u'formerly known as the Volkswagen Robust Pick-Up (concept)', u'Volkswagen Amarok'], u'transmission': [u'6-Speed Manual', u'8-speed automatic'], u'modelYears': [], u'productionYears': [], u'layout': [u'4motion', u'automobile layout', u'front-engine design'], u'_id': ObjectId('56bdbea39f3bc305487f708b'), u'bodyStyle': u'pickup truck', u'class': u'light commercial vehicle', u'manufacturer': u'Volkswagen Commercial Vehicles', u'dimensions': {u'width': 1.944, u'length': 5.254, u'height': 1.834, u'wheelbase': 3.095}} \n",
      "\n",
      "{u'assembly': [u'Germany', u'R\\xfcsselsheim'], u'name': [u'Buick Regal', u'Chevrolet Vectra', u'Vauxhall Insignia', u'Vauxhall/Opel Insignia'], u'transmission': [u'5-speed semi-automatic', u'6-speed automatic', u'6-speed manual'], u'modelYears': [], u'productionYears': [], u'layout': [u'four-wheel drive', u'front-engine design', u'front-wheel drive'], u'_id': ObjectId('56bdbea39f3bc305487f708e'), u'bodyStyle': [u'hatchback', u'sedan', u'station wagon'], u'class': u'family car', u'manufacturer': [u'Opel', u'Vauxhall Motors'], u'dimensions': {u'width': 1.856, u'length': 4.83, u'height': 1.498, u'wheelbase': 2.737}} \n",
      "\n",
      "{u'engine': u'Mercedes-Benz_SSK__1', u'designer': u'Ferdinand Porsche', u'assembly': [u'Bremen', u'Germany'], u'name': u'Mercedes-Benz SSK', u'modelYears': [], u'productionYears': [1928, 1929, 1930, 1931, 1932], u'layout': u'front-engine rear-wheel-drive layout', u'_id': ObjectId('56bdbea39f3bc305487f70d2'), u'bodyStyle': u'roadster', u'class': u'sports car', u'manufacturer': u'Mercedes-Benz', u'dimensions': {u'width': 1.7018, u'length': 4.2418, u'height': 1.7272, u'weight': 1701.0, u'wheelbase': 2.9464}} \n",
      "\n",
      "{u'engine': [u'Audi_S5__1', u'Audi_S5__3'], u'designer': u'Walter de Silva', u'assembly': [u'Germany', u'Ingolstadt'], u'name': u'Audi S5', u'transmission': [u'6-speed Tiptronic automatic', u'6-speed manual', u'7-speed S tronic semi-automatic'], u'modelYears': [], u'productionYears': [], u'layout': [u'front-wheel drive', u'longitudinal engine', u'quattro (four-wheel-drive system)'], u'_id': ObjectId('56bdbea39f3bc305487f7100'), u'bodyStyle': [u'convertible', u'coup\\xe9', u'hatchback'], u'class': u'compact executive car', u'manufacturer': u'Audi', u'dimensions': {u'width': 2.02, u'length': 4.635, u'height': 1.369, u'weight': 1750.0, u'wheelbase': 2.751}} \n",
      "\n",
      "{u'engine': u'BMW_327__1', u'assembly': [u'East Germany', u'Eisenach', u'Germany'], u'name': u'BMW/EMW 327', u'transmission': u'4 speed manual', u'modelYears': [], u'productionYears': [1937], u'layout': u'front-engine rear-wheel-drive layout', u'_id': ObjectId('56bdbea39f3bc305487f7127'), u'bodyStyle': [u'convertible', u'coup\\xe9'], u'manufacturer': u'BMW', u'dimensions': {u'width': 1.6, u'length': 4.5, u'height': 1.43, u'weight': 1100.0, u'wheelbase': 2.75}} \n",
      "\n",
      "{u'engine': u'Mercedes-Benz_R231__1', u'assembly': [u'Bremen', u'Germany'], u'name': u'Mercedes-Benz R231', u'transmission': u'7-speed automatic', u'modelYears': [], u'productionYears': [], u'layout': u'front-engine rear-wheel-drive layout', u'_id': ObjectId('56bdbea39f3bc305487f715d'), u'bodyStyle': u'convertible', u'class': [u'roadster', u'sports car'], u'manufacturer': u'Daimler AG', u'dimensions': {u'width': 1.877, u'length': 4.58216, u'height': 1.315, u'wheelbase': 2.585}} \n",
      "\n",
      "{u'engine': [u'Ford_Cougar__1', u'Ford_Cougar__2'], u'assembly': [u'Germany', u'United States'], u'name': u'Ford Cougar (Europe)', u'transmission': [u'4-speed automatic', u'5-speed manual'], u'modelYears': [], u'productionYears': [1998, 1999, 2000, 2001, 2002], u'_id': ObjectId('56bdbea39f3bc305487f716f'), u'bodyStyle': u'coup\\xe9', u'manufacturer': u'Ford Motor Company', u'dimensions': {u'width': 1.769, u'length': 4.699, u'height': 1.308, u'wheelbase': 2.704}} \n",
      "\n",
      "{u'engine': u'Volkswagen_Polo_G40__1', u'assembly': [u'Germany', u'Pamplona', u'Spain', u'Wolfsburg'], u'name': [u'Polo G', u'Polo G-40', u'Polo G40', u'Volkswagen Polo GT G40'], u'transmission': u'5-speed manual', u'modelYears': [], u'productionYears': [1986, 1987, 1988, 1989, 1990, 1991, 1992, 1993, 1994], u'layout': [u'front-wheel drive', u'transverse engine'], u'_id': ObjectId('56bdbea39f3bc305487f7184'), u'bodyStyle': [u'hatchback', u'vehicle door'], u'class': u'supermini', u'manufacturer': u'Volkswagen'} \n",
      "\n",
      "{u'engine': u'Mercedes-Benz_500K__1', u'designer': u'Friedrich Geiger', u'assembly': [u'Germany', u'Sindelfingen'], u'name': u'Mercedes-Benz 500K', u'transmission': [u'4-speed manual', u'optional 5-speed manual'], u'modelYears': [], u'productionYears': [1934, 1935, 1936], u'layout': u'front-engine rear-wheel-drive layout', u'_id': ObjectId('56bdbea39f3bc305487f71ed'), u'bodyStyle': u'convertible', u'manufacturer': u'Mercedes-Benz', u'dimensions': {u'weight': 2700.0, u'wheelbase': 2.98}} \n",
      "\n",
      "{u'engine': [u'Volkswagen_Golf_Variant__Volkswagen_Golf_Mk3_Variant_1H__1__1', u'Volkswagen_Golf_Variant__Volkswagen_Golf_Mk3_Variant_1H__1__10', u'Volkswagen_Golf_Variant__Volkswagen_Golf_Mk3_Variant_1H__1__11', u'Volkswagen_Golf_Variant__Volkswagen_Golf_Mk3_Variant_1H__1__2', u'Volkswagen_Golf_Variant__Volkswagen_Golf_Mk3_Variant_1H__1__3', u'Volkswagen_Golf_Variant__Volkswagen_Golf_Mk3_Variant_1H__1__4', u'Volkswagen_Golf_Variant__Volkswagen_Golf_Mk3_Variant_1H__1__5', u'Volkswagen_Golf_Variant__Volkswagen_Golf_Mk3_Variant_1H__1__7', u'Volkswagen_Golf_Variant__Volkswagen_Golf_Mk3_Variant_1H__1__8', u'Volkswagen_Golf_Variant__Volkswagen_Golf_Mk3_Variant_1H__1__9'], u'assembly': [u'Bratislava', u'Germany', u'Osnabr\\xfcck', u'Slovakia', u'Wolfsburg'], u'name': u'Volkswagen Golf Mk3 Variant (1H)', u'transmission': [u'4-speed automatic', u'5-speed manual'], u'modelYears': [], u'productionYears': [1993, 1994, 1995, 1996, 1997, 1998, 1999], u'_id': ObjectId('56bdbea39f3bc305487f71f5'), u'dimensions': {u'width': 1.695, u'length': 4.34, u'height': 1.43, u'weight': 1160.0, u'wheelbase': 2.475}} \n",
      "\n",
      "{u'engine': [u'Volkswagen_Golf_Variant__Volkswagen_Golf_Mk4_Variant_1J__1__1', u'Volkswagen_Golf_Variant__Volkswagen_Golf_Mk4_Variant_1J__1__11', u'Volkswagen_Golf_Variant__Volkswagen_Golf_Mk4_Variant_1J__1__12', u'Volkswagen_Golf_Variant__Volkswagen_Golf_Mk4_Variant_1J__1__13', u'Volkswagen_Golf_Variant__Volkswagen_Golf_Mk4_Variant_1J__1__14', u'Volkswagen_Golf_Variant__Volkswagen_Golf_Mk4_Variant_1J__1__15', u'Volkswagen_Golf_Variant__Volkswagen_Golf_Mk4_Variant_1J__1__16', u'Volkswagen_Golf_Variant__Volkswagen_Golf_Mk4_Variant_1J__1__17', u'Volkswagen_Golf_Variant__Volkswagen_Golf_Mk4_Variant_1J__1__2', u'Volkswagen_Golf_Variant__Volkswagen_Golf_Mk4_Variant_1J__1__3', u'Volkswagen_Golf_Variant__Volkswagen_Golf_Mk4_Variant_1J__1__4', u'Volkswagen_Golf_Variant__Volkswagen_Golf_Mk4_Variant_1J__1__5', u'Volkswagen_Golf_Variant__Volkswagen_Golf_Mk4_Variant_1J__1__6', u'Volkswagen_Golf_Variant__Volkswagen_Golf_Mk4_Variant_1J__1__7'], u'assembly': [u'Bratislava', u'Germany', u'Mosel', u'Slovakia', u'South Africa', u'Uitenhage', u'Wolfsburg'], u'name': [u'Volkswagen Bora Variant Vw Jetta Wagon(North America)', u'Volkswagen Golf Mk4 Variant (1J)'], u'transmission': [u'4-speed automatic', u'5-speed automatic', u'5-speed manual', u'6-speed manual'], u'modelYears': [], u'productionYears': [1999], u'_id': ObjectId('56bdbea39f3bc305487f71f6')} \n",
      "\n",
      "{u'engine': u'Neoplan_Skyliner__1', u'designer': u'Konrad_Auw%C3%A4rter', u'assembly': [u'Germany', u'Plauen', u'Saxony'], u'name': u'NEOPLAN Skyliner', u'transmission': u'12-speed TipMatic ZF AS Tronic automated manual', u'modelYears': [], u'productionYears': [], u'layout': u'longitudinal engine', u'_id': ObjectId('56bdbea39f3bc305487f724a'), u'bodyStyle': u'double-decker bus', u'class': u'commercial vehicle', u'manufacturer': [u'MAN Truck & Bus', u'Neoplan'], u'dimensions': {u'width': 2.55, u'weight': 26000.0, u'height': 4.0}} \n",
      "\n",
      "{u'engine': [u'Volkswagen_Golf_Mk6__1', u'Volkswagen_Golf_Mk6__2', u'Volkswagen_Golf_Mk6__3', u'Volkswagen_Golf_Mk6__4', u'Volkswagen_Golf_Mk6__5', u'Volkswagen_Golf_Mk6__6', u'Volkswagen_Golf_Mk6__7', u'Volkswagen_Golf_Mk6__8'], u'assembly': [u'Changchun', u'DRB-HICOM', u'Eurocar', u'Garuda Mataram Motor', u'Germany', u'Jakarta', u'Pekan', u'Solomonovo', u'Wolfsburg', u'Zwickau'], u'name': u'Volkswagen Golf Mk6', u'transmission': [u'5-speed manual', u'6-speed DSG', u'6-speed automatic', u'6-speed manual', u'7-speed DSG'], u'modelYears': [2010, 2011, 2012, 2013], u'productionYears': [2008, 2009, 2010, 2011, 2012, 2013], u'layout': [u'4motion', u'front-engine design', u'front-wheel drive'], u'_id': ObjectId('56bdbea39f3bc305487f724b'), u'bodyStyle': [u'convertible', u'hatchback', u'station wagon'], u'class': u'compact car', u'manufacturer': u'Volkswagen', u'dimensions': {u'width': 1.779, u'length': 4.199, u'height': 1.479, u'wheelbase': 2.578}} \n",
      "\n",
      "{u'engine': [u'MAN_SL202__1', u'MAN_SL202__2', u'MAN_SL202__3', u'MAN_SL202__4'], u'assembly': u'Germany', u'name': u'MAN SL202', u'transmission': [u'Renk Doromat Series', u'Voith DIWA 851/854.2', u'ZF Ecomat 4HP500', u'ZF Ecomat 5HP500'], u'modelYears': [], u'productionYears': [1983, 1984, 1985, 1986, 1987, 1988, 1989, 1990, 1991, 1992, 1993, 1994, 1995], u'_id': ObjectId('56bdbea39f3bc305487f72ba'), u'bodyStyle': u'bus', u'class': u'commercial vehicle', u'manufacturer': u'MAN Truck & Bus', u'dimensions': {u'width': 2.5, u'length': 11.1}} \n",
      "\n",
      "{u'layout': u'front-engine rear-wheel-drive layout', u'dimensions': {u'wheelbase': 3.7338}, u'modelYears': [], u'productionYears': [1928, 1929, 1930, 1931, 1932, 1933, 1934], u'assembly': [u'Germany', u'Stuttgart'], u'_id': ObjectId('56bdbea39f3bc305487f72ca'), u'bodyStyle': [u'convertible', u'sedan'], u'class': u'full-size car', u'manufacturer': u'Maybach', u'name': u'Maybach Zeppelin'} \n",
      "\n",
      "{u'engine': [u'BMW_Z4_(E89)__1', u'BMW_Z4_(E89)__2', u'BMW_Z4_(E89)__3', u'BMW_Z4_(E89)__4', u'BMW_Z4_(E89)__5', u'BMW_Z4_(E89)__sDrive20i__1', u'BMW_Z4_(E89)__sDrive23i__1', u'BMW_Z4_(E89)__sDrive28i__1', u'BMW_Z4_(E89)__sDrive30i__1', u'BMW_Z4_(E89)__sDrive35i__1', u'BMW_Z4_(E89)__sDrive35is__1'], u'assembly': [u'Bavaria', u'Germany', u'Regensburg'], u'name': u'BMW Z4 (E89)', u'transmission': [u'6-speed automatic', u'6-speed manual', u'7-speed DCT', u'8-speed ZF 8HP Automatic transmission (2012- )'], u'modelYears': [], u'productionYears': [], u'layout': u'front-engine rear-wheel-drive layout', u'_id': ObjectId('56bdbea39f3bc305487f72ea'), u'bodyStyle': u'convertible', u'class': u'roadster', u'manufacturer': u'BMW', u'dimensions': {u'width': 1.79, u'length': 4.239, u'height': 1.291, u'weight': 1470.0, u'wheelbase': 2.496}} \n",
      "\n",
      "{u'assembly': [u'Germany', u'Pfaffenhausen'], u'dimensions': {u'weight': 1910.0}, u'modelYears': [], u'productionYears': [2008], u'_id': ObjectId('56bdbea39f3bc305487f72f9'), u'class': u'sports car', u'manufacturer': u'Ruf Automobile', u'name': [u'Ruf Greenster', u'eRuf Model A']} \n",
      "\n",
      "{u'engine': u'20__1', u'assembly': [u'Eisenach', u'Germany'], u'name': [u'AM-1 AM-2 AM-3 AM-4', u'BMW 3/20'], u'transmission': u'4-speed manual', u'modelYears': [], u'productionYears': [1932, 1933, 1934], u'layout': u'automobile layout', u'_id': ObjectId('56bdbea39f3bc305487f72fd'), u'bodyStyle': [u'convertible', u'sedan'], u'class': u'city car', u'manufacturer': u'BMW', u'dimensions': {u'width': 1.42, u'length': 3.2, u'height': 1.55, u'weight': 650.0, u'wheelbase': 2.15}} \n",
      "\n",
      "{u'engine': u'BMW_320__1', u'assembly': [u'Eisenach', u'Germany'], u'dimensions': {u'width': 1.54, u'length': 4.5, u'height': 1.5, u'weight': 1000.0, u'wheelbase': 2.75}, u'transmission': u'4 speed manual', u'modelYears': [], u'productionYears': [1937, 1938], u'layout': u'automobile layout', u'_id': ObjectId('56bdbea39f3bc305487f7305'), u'name': u'BMW 320'} \n",
      "\n",
      "{u'engine': u'Mercedes-Benz_SLS_AMG__1', u'assembly': [u'Germany', u'Sindelfingen'], u'name': u'Mercedes-Benz SLS AMG', u'transmission': u'7-speed dual-clutch semi-automatic', u'modelYears': [], u'productionYears': [], u'layout': [u'front-engine rear-wheel-drive layout', u'transaxle'], u'_id': ObjectId('56bdbea39f3bc305487f7321'), u'bodyStyle': [u'coup\\xe9', u'roadster'], u'class': u'grand tourer', u'manufacturer': u'Mercedes-Benz', u'dimensions': {u'width': 1.939, u'length': 4.638, u'height': 1.25222, u'weight': 1620.0, u'wheelbase': 2.68}} \n",
      "\n",
      "{u'engine': [u'Audi_Front__1', u'Audi_Front__2'], u'assembly': [u'Germany', u'Zwickau'], u'dimensions': {u'width': 1.65, u'length': 4.375, u'height': 1.575, u'wheelbase': 3.05}, u'modelYears': [], u'name': [u'Audi Front UW 220', u'Audi Front UW 225'], u'productionYears': [1933], u'_id': ObjectId('56bdbea39f3bc305487f742f'), u'manufacturer': u'Audi'} \n",
      "\n",
      "{u'engine': u'E-Wolf_e2__1', u'assembly': u'Germany', u'dimensions': {u'width': 1.9, u'length': 5.0, u'weight': 900.0, u'height': 1.2}, u'modelYears': [], u'productionYears': [2011], u'_id': ObjectId('56bdbea39f3bc305487f7451'), u'class': u'concept car', u'manufacturer': u'E-Wolf', u'name': u'e-Wolf e2'} \n",
      "\n",
      "{u'assembly': [u'Germany', u'Zwickau'], u'name': u'Trabant 601', u'modelYears': [1963, 1964, 1965, 1966, 1967, 1968, 1969, 1970, 1971, 1972, 1973, 1974, 1975, 1976, 1977, 1978, 1979, 1980, 1981, 1982, 1983, 1984, 1985, 1986, 1987, 1988, 1989, 1990], u'productionYears': [], u'layout': u'front-engine front-wheel-drive layout', u'_id': ObjectId('56bdbea39f3bc305487f745f'), u'manufacturer': u'HQM Sachsenring GmbH'} \n",
      "\n",
      "{u'engine': u'Audi_920__1', u'layout': u'longitudinal engine', u'dimensions': {u'weight': 1640.0, u'wheelbase': 3.1}, u'modelYears': [], u'name': u'Audi 920', u'productionYears': [1938, 1939, 1940], u'assembly': [u'Germany', u'Zwickau'], u'_id': ObjectId('56bdbea39f3bc305487f7468'), u'manufacturer': u'Horch'} \n",
      "\n",
      "{u'engine': [u'BMW_5_Series_(F10)__2', u'BMW_5_Series_(F10)__3', u'BMW_5_Series_(F10)__4', u'BMW_5_Series_(F10)__5', u'BMW_5_Series_(F10)__6', u'BMW_5_Series_(F10)__8', u'BMW_5_Series_(F10)__9'], u'designer': [u'Jacek_Fr%C3%B6hlich', u'Jean-Francois_Alexandre_Huet'], u'assembly': [u'Cairo', u'Chennai', u'China', u'Dingolfing', u'Egypt', u'Germany', u'India', u'Indonesia', u'Jakarta', u'Malaysia', u'Mexico', u'Selangor', u'Shah Alam', u'Shenyang', u'Thailand', u'Toluca'], u'name': u'BMW 5-series (F10/F11/F07)', u'transmission': [u'6-speed manual', u'8-speed ZF 8HP automatic'], u'modelYears': [], u'productionYears': [], u'layout': [u'automobile layout', u'four-wheel drive', u'front-engine design'], u'_id': ObjectId('56bdbea39f3bc305487f74a9'), u'bodyStyle': [u'sedan', u'station wagon'], u'manufacturer': u'BMW', u'dimensions': {u'width': 1.86, u'wheelbase': 2.968}} \n",
      "\n",
      "{u'engine': u'BMW_5_Series_(F10)__BMW_F10_M5__1__1', u'designer': u'Adrian van Hooydonk', u'assembly': [u'Dingolfing', u'Germany'], u'name': u'BMW F10 M5', u'transmission': [u'6-speed manual', u'7-speed dual clutch transmission'], u'modelYears': [], u'productionYears': [], u'layout': u'front-engine rear-wheel-drive layout', u'_id': ObjectId('56bdbea39f3bc305487f74aa'), u'bodyStyle': u'sedan', u'dimensions': {u'width': 1.892, u'length': 4.91, u'height': 1.451, u'weight': 1945.0, u'wheelbase': 2.964}} \n",
      "\n",
      "{u'engine': u'Mercedes-Benz_W15__1', u'layout': u'front-engine rear-wheel-drive layout', u'dimensions': {u'width': 1.63, u'length': 3.94, u'height': 1.65, u'wheelbase': 2.6}, u'modelYears': [], u'productionYears': [1931, 1932, 1933, 1934, 1935, 1936], u'assembly': [u'Germany', u'Stuttgart'], u'_id': ObjectId('56bdbea39f3bc305487f74ba'), u'class': u'mid-size car', u'manufacturer': u'Mercedes-Benz', u'name': [u'Mercedes-Benz 170', u'Mercedes-Benz Typ(e) 170', u'Mercedes-Benz W15']} \n",
      "\n",
      "{u'engine': [u'BMW_3_Series_(F30)__1', u'BMW_3_Series_(F30)__2', u'BMW_3_Series_(F30)__3', u'BMW_3_Series_(F30)__4'], u'assembly': [u'6th of October City', u'Chennai', u'China', u'Egypt', u'Germany', u'India', u'Indonesia', u'Jakarta', u'Kaliningrad', u'Malaysia', u'Mexico', u'Munich', u'Pretoria', u'Regensburg', u'Russia', u'Selangor', u'Shenyang', u'South Africa', u'Toluca'], u'name': u'BMW 3-Series (F30)', u'transmission': [u'6-speed manual', u'8-speed ZF 8HP automatic'], u'modelYears': [], u'productionYears': [], u'layout': u'front-engine rear-wheel-drive layout', u'_id': ObjectId('56bdbea39f3bc305487f74bc'), u'bodyStyle': [u'hatchback', u'sedan', u'station wagon'], u'class': u'compact executive car', u'manufacturer': u'BMW', u'dimensions': {u'width': 1.811, u'length': 4.624, u'height': 1.429, u'wheelbase': 2.81}} \n",
      "\n",
      "{u'assembly': u'Germany', u'dimensions': {u'width': 2.5, u'length': 11.675, u'height': 2.782}, u'modelYears': [], u'productionYears': [1989, 1990, 1991, 1992], u'_id': ObjectId('56bdbea39f3bc305487f7511'), u'bodyStyle': u'bus', u'class': u'commercial vehicle', u'manufacturer': u'MAN_Nutzfahrzeuge_AG', u'name': u'MAN NL202'} \n",
      "\n",
      "{u'assembly': [u'Germany', u'Leipzig'], u'name': u'Porsche Macan', u'modelYears': [], u'productionYears': [], u'_id': ObjectId('56bdbea39f3bc305487f752b'), u'class': u'compact suv', u'manufacturer': u'Porsche'} \n",
      "\n",
      "{u'engine': [u'Volkswagen_Passat_(B4)__10', u'Volkswagen_Passat_(B4)__2', u'Volkswagen_Passat_(B4)__3', u'Volkswagen_Passat_(B4)__4', u'Volkswagen_Passat_(B4)__5', u'Volkswagen_Passat_(B4)__6', u'Volkswagen_Passat_(B4)__7', u'Volkswagen_Passat_(B4)__9'], u'assembly': [u'Emden', u'Germany'], u'name': u'Volkswagen Passat (B4)', u'transmission': [u'4-speed automatic', u'5-speed manual'], u'modelYears': [1994, 1995, 1996, 1997], u'productionYears': [1993, 1994, 1995, 1996, 1997], u'layout': [u'four-wheel drive', u'front-engine design', u'front-wheel drive'], u'_id': ObjectId('56bdbea39f3bc305487f7565'), u'bodyStyle': [u'sedan', u'station wagon'], u'class': [u'family car', u'mid-size car'], u'manufacturer': u'Volkswagen', u'dimensions': {u'width': 1.7145, u'length': 4.6101, u'height': 1.43256, u'wheelbase': 2.62382}} \n",
      "\n",
      "{u'engine': [u'Volkswagen_Passat_(B6)__11', u'Volkswagen_Passat_(B6)__12', u'Volkswagen_Passat_(B6)__13', u'Volkswagen_Passat_(B6)__15', u'Volkswagen_Passat_(B6)__2', u'Volkswagen_Passat_(B6)__3', u'Volkswagen_Passat_(B6)__4', u'Volkswagen_Passat_(B6)__5', u'Volkswagen_Passat_(B6)__6', u'Volkswagen_Passat_(B6)__7', u'Volkswagen_Passat_(B6)__8', u'Volkswagen_Passat_(B6)__9'], u'designer': u'Robert Le\\u0161nik', u'assembly': [u'Angola', u'Aurangabad Maharashtra', u'Changchun', u'China', u'Emden', u'Germany', u'India', u'Luanda', u'Malaysia', u'Pekan', u'Solomonovo', u'Ukraine', u'Zwickau'], u'name': [u'Volkswagen Magotan', u'Volkswagen Passat (B6/B7)', u'Volkswagen Variant'], u'transmission': [u'5-speed manual', u'6-speed DSG automatic', u'6-speed manual', u'7-speed DSG automatic'], u'modelYears': [2006], u'productionYears': [2006], u'layout': [u'4motion', u'front-engine design', u'front-wheel drive'], u'_id': ObjectId('56bdbea39f3bc305487f7567'), u'bodyStyle': [u'coup\\xe9', u'sedan', u'station wagon'], u'class': [u'family car', u'mid-size car'], u'manufacturer': [u'FAW-Volkswagen', u'Volkswagen'], u'dimensions': {u'width': 1.82, u'length': 4.78028, u'height': 1.4732, u'wheelbase': 2.709}} \n",
      "\n",
      "{u'engine': [u'Audi_Coup%C3%A9_(B2)__1', u'Audi_Coup%C3%A9_(B2)__2', u'Audi_Coup%C3%A9_(B2)__3', u'Audi_Coup%C3%A9_(B2)__4', u'Audi_Coup%C3%A9_(B2)__5', u'Audi_Coup%C3%A9_(B2)__6', u'Audi_Coup%C3%A9_(B2)__7'], u'designer': u'Giorgetto Giugiaro', u'assembly': [u'Germany', u'Ingolstadt'], u'name': u'Audi Coup\\xe9 (B2)', u'modelYears': [], u'productionYears': [1980, 1981, 1982, 1983, 1984, 1985, 1986, 1987, 1988], u'layout': [u'front-wheel drive', u'longitudinal engine', u'quattro (four-wheel-drive system)'], u'_id': ObjectId('56bdbea39f3bc305487f7572'), u'bodyStyle': u'vehicle door', u'manufacturer': u'Audi', u'dimensions': {u'width': 1.682, u'wheelbase': 2.538}} \n",
      "\n",
      "{u'engine': u'Audi_RS_2_Avant__1', u'assembly': [u'Germany', u'Zuffenhausen'], u'name': u'Audi RS2 Avant', u'transmission': u'6-speed manual', u'modelYears': [], u'productionYears': [1994, 1995], u'layout': [u'longitudinal engine', u'quattro (four-wheel-drive system)'], u'_id': ObjectId('56bdbea39f3bc305487f757c'), u'bodyStyle': u'station wagon', u'class': u'compact executive car', u'manufacturer': u'Audi', u'dimensions': {u'width': 1.694, u'length': 4.58, u'wheelbase': 2.611}} \n",
      "\n",
      "{u'engine': u'Audi_Type_C__1', u'assembly': u'Germany', u'name': [u'Audi 14 / 35', u'Audi Type C'], u'modelYears': [], u'productionYears': [1912, 1913, 1914, 1915, 1916, 1917, 1918, 1919, 1920, 1921], u'_id': ObjectId('56bdbea39f3bc305487f75a3'), u'manufacturer': u'Audi'} \n",
      "\n",
      "{u'engine': [u'Opel_Corsa__B__1__1', u'Opel_Corsa__B__1__2', u'Opel_Corsa__B__1__3', u'Opel_Corsa__B__1__4', u'Opel_Corsa__B__1__5', u'Opel_Corsa__B__1__6'], u'assembly': [u'6th of October City', u'Alvear_Santa_Fe', u'Bogot\\xe1', u'Eisenach', u'Germany', u'Gurgaon', u'Mexico', u'Port Elizabeth', u'Quito', u'Ramos Arizpe', u'Rayong', u'S\\xe3o Caetano do Sul', u'Santa Fe Province', u'Spain', u'Valencia Carabobo', u'Zaragoza'], u'name': [u'Buick Sail', u'Chevrolet Chevy', u'Chevrolet Classic', u'Chevrolet Corsa', u'Corsa B', u'Holden Barina', u'Opel Vita', u'Vauxhall Corsa'], u'transmission': [u'4-speed automatic', u'4-speed manual', u'5-speed manual'], u'modelYears': [], u'productionYears': [1992], u'_id': ObjectId('56bdbea39f3bc305487f75b6'), u'bodyStyle': [u'coup\\xe9 utility', u'hatchback', u'sedan', u'station wagon'], u'dimensions': {u'width': 1.61, u'length': 3.729, u'height': 1.44, u'wheelbase': 2.443}} \n",
      "\n",
      "{u'engine': [u'Opel_Corsa__C__1__1', u'Opel_Corsa__C__1__2', u'Opel_Corsa__C__1__3', u'Opel_Corsa__C__1__4', u'Opel_Corsa__C__1__5', u'Opel_Corsa__C__1__6', u'Opel_Corsa__C__1__7', u'Opel_Corsa__C__1__8'], u'assembly': [u'6th of October City', u'Alvear_Santa_Fe', u'Eisenach', u'Germany', u'Port Elizabeth', u'Quito', u'S\\xe3o Jos\\xe9 dos Campos', u'Santa Fe Province', u'Spain', u'Zaragoza'], u'name': [u'Chevrolet Corsa', u'Corsa C', u'Holden Barina', u'Opel Vita', u'Vauxhall Corsa'], u'transmission': [u'4-speed automatic', u'5-speed manual', u'5-speed semi-automatic'], u'modelYears': [], u'productionYears': [2000], u'_id': ObjectId('56bdbea39f3bc305487f75b7'), u'bodyStyle': [u'coup\\xe9 utility', u'hatchback', u'sedan', u'van'], u'dimensions': {u'width': 1.645, u'length': 3.815, u'height': 1.44, u'wheelbase': 2.491}} \n",
      "\n",
      "{u'engine': [u'Opel_Corsa__D__1__1', u'Opel_Corsa__D__1__2', u'Opel_Corsa__D__1__3', u'Opel_Corsa__D__1__4', u'Opel_Corsa__D__1__5', u'Opel_Corsa__D__1__6'], u'assembly': [u'Eisenach', u'Germany', u'Spain', u'Zaragoza'], u'name': [u'Corsa D', u'Vauxhall Corsa'], u'transmission': [u'4-speed automatic', u'5-speed manual', u'6-speed manual', u'6-speed semi-automatic'], u'modelYears': [], u'productionYears': [2006, 2007, 2008, 2009, 2010, 2011, 2012, 2013, 2014], u'_id': ObjectId('56bdbea39f3bc305487f75b8'), u'bodyStyle': [u'hatchback', u'van'], u'dimensions': {u'width': 1.737, u'length': 3.999, u'height': 1.488, u'wheelbase': 2.511}} \n",
      "\n",
      "{u'engine': [u'Porsche_991__1', u'Porsche_991__2'], u'assembly': [u'Germany', u'Stuttgart'], u'name': [u'Porsche 911', u'Porsche 991', u'Porsche Carrera'], u'transmission': [u'7-speed PDK', u'7-speed manual'], u'modelYears': [], u'productionYears': [], u'layout': [u'automobile layout', u'four-wheel drive', u'rear-engine design'], u'_id': ObjectId('56bdbea39f3bc305487f75d6'), u'bodyStyle': [u'convertible', u'coup\\xe9'], u'manufacturer': u'Porsche', u'dimensions': {u'width': 1.80594, u'length': 4.49072, u'height': 1.29286, u'weight': 1394.82, u'wheelbase': 2.4511}} \n",
      "\n",
      "{u'designer': u'John_Doughty_(designer)', u'assembly': [u'Argentina', u'Ford Lio Ho', u'Ford Motor Company Philippines', u'Ford Motor Company of Argentina', u'Ford Valencia Plant', u'Germany', u'Hermosillo Stamping & Assembly', u'Mexico', u'Philippines', u'Saarlouis Body & Assembly', u'Spain', u'Taiwan', u'United States', u'Valencia Assembly', u'Venezuela', u'Vsevolozhsk', u'Wayne Stamping & Assembly'], u'name': u'Ford Focus (first generation)', u'modelYears': [], u'productionYears': [1998], u'layout': u'front-engine front-wheel-drive layout', u'_id': ObjectId('56bdbea39f3bc305487f75dc'), u'bodyStyle': [u'convertible', u'hatchback', u'sedan', u'station wagon'], u'class': u'compact car', u'manufacturer': u'Ford Motor Company'} \n",
      "\n",
      "{u'engine': [u'Mercedes-Benz_380_(1933)__1', u'Mercedes-Benz_380_(1933)__3'], u'assembly': [u'Germany', u'Stuttgart'], u'name': [u'Mercedes-Benz 15/120 PS', u'Mercedes-Benz 15/140 PS', u'Mercedes-Benz 15/90 PS', u'Mercedes-Benz Typ 380', u'Mercedes-Benz W22'], u'modelYears': [], u'productionYears': [1933, 1934], u'layout': u'front-engine rear-wheel-drive layout', u'_id': ObjectId('56bdbea39f3bc305487f7620'), u'bodyStyle': [u'convertible', u'roadster', u'sedan', u'torpedo (car)'], u'class': u'large', u'manufacturer': u'Mercedes-Benz', u'dimensions': {u'width': 1.73, u'length': 4.69, u'height': 1.62, u'wheelbase': 3.14}} \n",
      "\n",
      "{u'engine': [u'BMW_1_Series_(F20)__2', u'BMW_1_Series_(F20)__3', u'BMW_1_Series_(F20)__4', u'BMW_1_Series_(F20)__6', u'BMW_1_Series_(F20)__7'], u'designer': u'Nicolas Huet', u'assembly': [u'Germany', u'Leipzig', u'Regensburg'], u'name': u'BMW F20', u'transmission': [u'6-speed manual', u'8-speed ZF 8HP automatic'], u'modelYears': [], u'productionYears': [], u'_id': ObjectId('56bdbea39f3bc305487f7627'), u'bodyStyle': u'hatchback', u'dimensions': {u'width': 1.765, u'length': 4.324, u'height': 1.421, u'wheelbase': 2.69}} \n",
      "\n",
      "{u'assembly': u'Germany', u'name': u'Audi Type A', u'modelYears': [], u'productionYears': [1910, 1911, 1912], u'_id': ObjectId('56bdbea39f3bc305487f7645'), u'manufacturer': u'Audi'} \n",
      "\n",
      "{u'assembly': u'Germany', u'name': u'Audi Type B', u'modelYears': [], u'productionYears': [1910, 1911, 1912, 1913, 1914], u'_id': ObjectId('56bdbea39f3bc305487f7646'), u'manufacturer': u'Audi'} \n",
      "\n",
      "{u'assembly': u'Germany', u'name': u'Audi Type D', u'modelYears': [], u'productionYears': [1912, 1913, 1914, 1915, 1916, 1917, 1918, 1919, 1920], u'_id': ObjectId('56bdbea39f3bc305487f7647'), u'manufacturer': u'Audi'} \n",
      "\n",
      "{u'engine': u'Audi_Type_E__1', u'assembly': [u'Germany', u'Zwickau'], u'dimensions': {u'wheelbase': 3.32}, u'transmission': u'4-speed manual', u'modelYears': [], u'name': u'Audi Type E', u'productionYears': [1911, 1912, 1913, 1914, 1915, 1916, 1917, 1918, 1919, 1920, 1921, 1922, 1923, 1924], u'_id': ObjectId('56bdbea39f3bc305487f7648'), u'manufacturer': u'Audi'} \n",
      "\n",
      "{u'engine': u'Audi_Type_G__1', u'assembly': [u'Germany', u'Zwickau'], u'name': u'Audi Type G', u'transmission': u'4-speed manual', u'modelYears': [], u'productionYears': [1914, 1915, 1916, 1917, 1918, 1919, 1920, 1921, 1922, 1923], u'layout': u'front-engine rear-wheel-drive layout', u'_id': ObjectId('56bdbea39f3bc305487f7649'), u'manufacturer': u'Audi', u'dimensions': {u'wheelbase': 2.995}} \n",
      "\n",
      "{u'engine': u'Audi_Type_K__1', u'assembly': [u'Germany', u'Zwickau'], u'name': [u'Audi 14 / 50', u'Audi Type K'], u'transmission': u'4-speed manual', u'modelYears': [], u'productionYears': [1922, 1923, 1924, 1925], u'layout': u'front-engine rear-wheel-drive layout', u'_id': ObjectId('56bdbea39f3bc305487f764a'), u'manufacturer': u'Audi', u'dimensions': {u'wheelbase': 3.53}} \n",
      "\n",
      "{u'assembly': [u'Germany', u'Zwickau'], u'dimensions': {u'wheelbase': 3.75}, u'modelYears': [], u'name': [u'Audi 18/70', u'Audi Type M'], u'productionYears': [1924, 1925, 1926, 1927], u'layout': u'front-engine rear-wheel-drive layout', u'_id': ObjectId('56bdbea39f3bc305487f764b'), u'manufacturer': u'Audi'} \n",
      "\n",
      "{u'engine': u'Audi_Type_P__1', u'assembly': [u'Germany', u'Spandau'], u'dimensions': {u'width': 1.4, u'length': 3.68, u'height': 1.65, u'weight': 825.0, u'wheelbase': 2.7}, u'modelYears': [], u'name': [u'Audi 5 / 30', u'Audi Type P'], u'productionYears': [1931, 1932], u'_id': ObjectId('56bdbea39f3bc305487f764c'), u'manufacturer': u'Audi'} \n",
      "\n",
      "{u'engine': u'Audi_Type_R__1', u'layout': u'front-engine rear-wheel-drive layout', u'dimensions': {u'wheelbase': 3.62}, u'modelYears': [], u'name': [u'(reflecting tax horsepower / actual horsepower)', u'Audi 19 / 100', u'Audi Imperator', u'Audi Type R'], u'productionYears': [1928, 1929, 1930, 1931, 1932], u'assembly': [u'Germany', u'Zwickau'], u'_id': ObjectId('56bdbea39f3bc305487f764d'), u'manufacturer': u'Audi'} \n",
      "\n",
      "{u'engine': u'Audi_Type_SS__1', u'assembly': [u'Germany', u'Zwickau'], u'dimensions': {u'width': 1.78, u'length': 4.965, u'height': 1.87, u'wheelbase': 3.5}, u'modelYears': [], u'name': [u'Audi 20 / 100', u'Audi Type SS', u'Audi Zwickau'], u'productionYears': [1929, 1930, 1931, 1932], u'_id': ObjectId('56bdbea39f3bc305487f764e'), u'manufacturer': u'Audi'} \n",
      "\n",
      "{u'engine': u'Audi_Type_T__1', u'assembly': u'Germany', u'dimensions': {u'width': 1.78, u'length': 4.48, u'height': 1.76, u'wheelbase': 3.1}, u'modelYears': [], u'name': [u'Audi 15 / 75', u'Audi Dresden', u'Audi Type T'], u'productionYears': [1931, 1932], u'_id': ObjectId('56bdbea39f3bc305487f764f'), u'manufacturer': u'Audi'} \n",
      "\n",
      "{u'engine': [u'Opel_Adam__1', u'Opel_Adam__2'], u'assembly': [u'Eisenach', u'Germany'], u'name': [u'Opel Adam', u'Vauxhall Adam'], u'transmission': u'5-speed manual', u'modelYears': [], u'productionYears': [], u'layout': u'front-engine front-wheel-drive layout', u'_id': ObjectId('56bdbea39f3bc305487f76db'), u'bodyStyle': u'hatchback', u'class': u'city car', u'manufacturer': u'Opel', u'dimensions': {u'width': 1.72, u'length': 3.698, u'height': 1.484, u'wheelbase': 2.311}} \n",
      "\n",
      "{u'assembly': u'Germany', u'name': u'NEOPLAN Megaliner', u'transmission': u'ZF 8S 180 manual', u'modelYears': [], u'productionYears': [1983, 1984, 1985, 1986, 1987, 1988, 1989, 1990, 1991, 1992, 1993, 1994, 1995, 1996, 1997, 1998, 1999, 2000], u'layout': u'longitudinal engine', u'_id': ObjectId('56bdbea39f3bc305487f7741'), u'bodyStyle': u'double-decker bus', u'class': u'commercial vehicle', u'manufacturer': u'Neoplan', u'dimensions': {u'width': 2.5, u'length': 15.0, u'weight': 29000.0, u'height': 4.0}} \n",
      "\n",
      "{u'engine': u'Mercedes-Benz_170S__1', u'assembly': [u'Argentina', u'Germany', u'Stuttgart'], u'name': [u'Mercedes-Benz 170S', u'Mercedes-Benz 170S (W136)', u'Mercedes-Benz 170S-V/170S-D (W136)', u'Mercedes-Benz 170Sb/170DS (W191)'], u'modelYears': [], u'productionYears': [170], u'layout': u'front-engine rear-wheel-drive layout', u'_id': ObjectId('56bdbea39f3bc305487f775f'), u'bodyStyle': [u'convertible', u'sedan'], u'class': u'mid-size car', u'manufacturer': u'Mercedes-Benz', u'dimensions': {u'width': 1.584, u'length': 4.455, u'wheelbase': 2.845}} \n",
      "\n",
      "{u'engine': u'Mercedes-Benz_W153__1', u'assembly': [u'Argentina', u'Germany', u'Stuttgart'], u'name': [u'Mercedes-Benz 230', u'Mercedes-Benz Typ(e) 230', u'Mercedes-Benz W153'], u'modelYears': [], u'productionYears': [1938, 1939, 1940, 1941, 1942, 1943], u'layout': u'front-engine rear-wheel-drive layout', u'_id': ObjectId('56bdbea39f3bc305487f7760'), u'bodyStyle': u'sedan', u'class': u'mid-size car', u'manufacturer': u'Mercedes-Benz', u'dimensions': {u'width': 1.72, u'length': 4.7, u'wheelbase': 3.05}} \n",
      "\n",
      "{u'engine': u'Mercedes-Benz_W143__1', u'assembly': [u'Germany', u'Stuttgart'], u'name': [u'Mercedes-Benz Typ 230', u'Mercedes-Benz W143'], u'modelYears': [], u'productionYears': [1937, 1938, 1939, 1940, 1941], u'layout': u'front-engine rear-wheel-drive layout', u'_id': ObjectId('56bdbea39f3bc305487f7762'), u'bodyStyle': u'sedan', u'class': u'mid-size car', u'manufacturer': u'Mercedes-Benz', u'dimensions': {u'width': 1.71, u'length': 4.4, u'wheelbase': 2.7}} \n",
      "\n",
      "{u'engine': u'Mercedes-Benz_W21__1', u'assembly': [u'Germany', u'Stuttgart'], u'name': [u'Mercedes-Benz Typ(e) 200', u'Mercedes-Benz W 21'], u'modelYears': [], u'productionYears': [1933, 1934, 1935, 1936], u'layout': u'front-engine rear-wheel-drive layout', u'_id': ObjectId('56bdbea39f3bc305487f777e'), u'bodyStyle': [u'convertible', u'landaulet', u'limousine', u'sedan', u'torpedo (car)'], u'class': u'mid-size car', u'manufacturer': u'Mercedes-Benz', u'dimensions': {u'width': 1.63, u'length': 4.06, u'height': 1.58, u'wheelbase': 2.7}} \n",
      "\n",
      "{u'engine': [u'Mercedes-Benz_W142__1', u'Mercedes-Benz_W142__2'], u'assembly': [u'Germany', u'Stuttgart'], u'name': [u'Mercedes-Benz W 142/III (shorter wheelbase \\u201cK\\xfcbelwagen\\u201d for military use) )', u'Mercedes-Benz Typ(e) 320', u'Mercedes-Benz W 142', u'Mercedes-Benz W 142/I (shorter wheelbase)', u'Mercedes-Benz W 142/II (longer wheelbase)', u'Mercedes-Benz W 142/IV'], u'modelYears': [], u'productionYears': [1937, 1938, 1939, 1940, 1941, 1942], u'layout': u'front-engine rear-wheel-drive layout', u'_id': ObjectId('56bdbea39f3bc305487f7781'), u'bodyStyle': [u'convertible', u'coup\\xe9', u'roadster', u'sedan', u'torpedo (car)'], u'class': u'large', u'manufacturer': u'Mercedes-Benz', u'dimensions': {u'width': 1.63, u'length': 4.7, u'height': 1.58, u'wheelbase': 2.88}} \n",
      "\n",
      "{u'engine': [u'Mercedes-Benz_W08__1', u'Mercedes-Benz_W08__2'], u'assembly': [u'Germany', u'Stuttgart'], u'name': [u'1928-33: Mercedes-Benz Typ N\\xfcrburg 460', u'1931-32: Mercedes-Benz Typ N\\xfcrburg 500', u'1932-39: Mercedes-Benz Typ 500', u':Mercedes-Benz 18/80 PS', u':Mercedes-Benz 19/100 PS', u'Mercedes-Benz W 08'], u'modelYears': [], u'productionYears': [1928, 1929, 1930, 1931, 1932, 1933, 1934, 1935, 1936, 1937, 1938, 1939], u'layout': u'front-engine rear-wheel-drive layout', u'_id': ObjectId('56bdbea39f3bc305487f7784'), u'bodyStyle': [u'convertible', u'roadster', u'sedan', u'torpedo (car)'], u'class': u'large', u'manufacturer': u'Mercedes-Benz', u'dimensions': {u'width': 1.76, u'length': 5.14, u'height': 1.9, u'wheelbase': 3.67}} \n",
      "\n",
      "{u'engine': u'Mercedes-Benz_W18__1', u'assembly': [u'Germany', u'Stuttgart'], u'name': [u'Mercedes-Benz Typ 290', u'Mercedes-Benz W18'], u'modelYears': [], u'productionYears': [1933, 1934, 1935, 1936, 1937], u'layout': u'front-engine rear-wheel-drive layout', u'_id': ObjectId('56bdbea39f3bc305487f7785'), u'bodyStyle': [u'convertible', u'sedan', u'torpedo (car)'], u'class': u'luxury vehicle', u'manufacturer': u'Mercedes-Benz', u'dimensions': {u'width': 1.73, u'length': 4.37, u'height': 1.44, u'wheelbase': 2.88}} \n",
      "\n",
      "{u'layout': u'front-engine rear-wheel-drive layout', u'dimensions': {u'width': 1.7, u'length': 4.5, u'height': 1.9, u'wheelbase': 3.125}, u'name': [u'1912-1927 Benz 10 PS', u'1912-26: Benz 10/30 PS', u'1912: Benz 10/25 PS', u'1926-27 Benz 10/35 PS', u'Benz 10/30 PS'], u'bodyStyle': [u'sedan', u'torpedo (car)'], u'modelYears': [], u'productionYears': [1912], u'assembly': [u'Germany', u'Mannheim'], u'_id': ObjectId('56bdbea39f3bc305487f7787'), u'manufacturer': u'Karl Benz'} \n",
      "\n",
      "{u'engine': u'100_PS__1', u'layout': u'front-engine rear-wheel-drive layout', u'name': [u'1924-26: Mercedes 15/70/100 PS', u'1926-29: Mercedes-Benz 15/70/100 PS', u'1926-29: Mercedes-Benz Typ 400', u'Mercedes(-Benz)  15/70/100 PS (/Typ 400)'], u'modelYears': [], u'productionYears': [1924, 1925, 1926, 1927, 1928, 1929], u'assembly': [u'Germany', u'Stuttgart'], u'_id': ObjectId('56bdbea39f3bc305487f7788'), u'bodyStyle': [u'sedan', u'torpedo (car)'], u'manufacturer': [u'Daimler-Benz', u'Daimler-Motoren-Gesellschaft'], u'dimensions': {u'width': 1.78, u'length': 4.96, u'height': 1.95, u'wheelbase': 3.63}} \n",
      "\n",
      "{u'engine': u'140_PS__1', u'layout': u'front-engine rear-wheel-drive layout', u'name': [u'1924-26: Mercedes 24/100/140 PS', u'1926-29: Mercedes-Benz 24/100/140 PS', u'1926-29: Mercedes-Benz Typ 630', u'1926-29: Mercedes-Benz Modell K', u'1926-29:Mercedes-Benz 24/110/160 PS', u'High performance variant:', u'Mercedes(-Benz)  24/100/140 PS'], u'modelYears': [], u'productionYears': [1924, 1925, 1926, 1927, 1928, 1929], u'assembly': [u'Germany', u'Stuttgart'], u'_id': ObjectId('56bdbea39f3bc305487f778a'), u'bodyStyle': [u'sedan', u'torpedo (car)'], u'manufacturer': [u'Daimler-Benz', u'Daimler-Motoren-Gesellschaft'], u'dimensions': {u'width': 1.78, u'length': 5.085, u'height': 1.95, u'wheelbase': 3.75}} \n",
      "\n",
      "{u'engine': u'Mercedes-Benz_W02__1', u'layout': u'front-engine rear-wheel-drive layout', u'name': [u'Mercedes-Benz Typ 8/38 PS / Typ Stuttgart 200 (W 02)', u'1926-33 Mercedes-Benz 8/38 PS', u'1929-33: Mercedes-Benz Typ Stuttgart 200', u'1929-33: Mercedes-Benz W02'], u'modelYears': [], u'productionYears': [1926, 1927, 1928, 1929, 1930, 1931, 1932, 1933], u'assembly': [u'Germany', u'Stuttgart'], u'_id': ObjectId('56bdbea39f3bc305487f778c'), u'bodyStyle': [u'convertible', u'sedan', u'torpedo (car)'], u'manufacturer': u'Daimler-Benz', u'dimensions': {u'width': 1.68, u'length': 4.06, u'height': 1.8, u'wheelbase': 2.81}} \n",
      "\n",
      "{u'engine': u'Mercedes-Benz_W11__1', u'layout': u'front-engine rear-wheel-drive layout', u'name': [u'/ Typ Stuttgart 200 (W11)', u'Mercedes-Benz 10/50 PS', u'Mercedes-Benz Typ 10/50 PS', u'Mercedes-Benz Typ Stuttgart 260', u'Mercedes-Benz W11'], u'modelYears': [], u'productionYears': [1929, 1930, 1931, 1932, 1933, 1934], u'assembly': [u'Germany', u'Stuttgart'], u'_id': ObjectId('56bdbea39f3bc305487f778d'), u'bodyStyle': [u'convertible', u'roadster', u'sedan', u'torpedo (car)'], u'manufacturer': u'Daimler-Benz', u'dimensions': {u'width': 1.71, u'length': 4.23, u'height': 1.8, u'wheelbase': 2.81}} \n",
      "\n",
      "{u'layout': u'front-engine rear-wheel-drive layout', u'dimensions': {u'width': 1.76, u'length': 4.65, u'height': 1.92, u'wheelbase': 3.43}, u'name': [u'/ Typ 300 (W03)', u'1926-27: Mercedes-Benz W03', u'1926-28: Mercedes-Benz Typ 300', u'1926-29 Mercedes-Benz 12/55 PS', u'1927-29: Mercedes-Benz W04', u'1928-29: Mercedes-Benz Typ 320', u'1929-30: Mercedes-Benz 14/60 PS', u'1929-30: Mercedes-Benz W05', u'1929-30: Mercedes-Benz Typ 350', u'Mercedes-Benz Typ 12/55 PS'], u'bodyStyle': [u'sedan', u'torpedo (car)'], u'modelYears': [], u'productionYears': [1926, 1927, 1928, 1929, 1930], u'assembly': [u'Germany', u'Stuttgart'], u'_id': ObjectId('56bdbea39f3bc305487f778f'), u'manufacturer': u'Daimler-Benz'} \n",
      "\n"
     ]
    }
   ],
   "source": [
    "for c in autos.find({'assembly':'Germany'}):\n",
    "    print c,'\\n'"
   ]
  },
  {
   "cell_type": "code",
   "execution_count": 23,
   "metadata": {
    "collapsed": true,
    "slideshow": {
     "slide_type": "fragment"
    }
   },
   "outputs": [],
   "source": [
    "def pquery(q,p):\n",
    "    for res in db.autos.find(q,p):\n",
    "        print res,'\\n'"
   ]
  },
  {
   "cell_type": "code",
   "execution_count": 24,
   "metadata": {
    "collapsed": false,
    "slideshow": {
     "slide_type": "fragment"
    }
   },
   "outputs": [
    {
     "name": "stdout",
     "output_type": "stream",
     "text": [
      "{u'assembly': [u'Auckland', u'Brussels', u'Dublin', u'Emden', u'Hanover', u'Ingolstadt', u'Jakarta', u'Lagos', u'Manila', u'Melbourne', u'Osnabr\\xfcck', u'Puebla Puebla', u'S\\xe3o Bernardo do Campo', u'Sarajevo', u'Socialist Federal Republic of Yugoslavia', u'Uitenhage', u'Valencia Carabobo', u'Wolfsburg'], u'name': [u'Beetle Super Beetle K\\xe4fer Bug and other nicknames', u'Volkswagen Type 1']} \n",
      "\n",
      "{u'assembly': [u'Arica', u'Buenos Aires', u'Chile', u'Forest Belgium', u'Jeppener Buenos Aires', u'Koper', u'Li\\xe8ge', u'Mangualde', u'Montevideo', u'Paris', u'Slough', u'Vigo'], u'name': u'Citro\\xebn 2CV'} \n",
      "\n",
      "{u'assembly': [u'Argentina', u'Australia', u'Berlin', u'Brazil', u'Buenos Aires', u'Canada', u'Copenhagen', u'Cork', u'Denmark', u'Detroit', u'Dothan Alabama', u'England', u'Geelong', u'Germany', u'Highland Park Michigan', u'Ireland', u'Manchester', u'Minneapolis', u'Ontario', u'S\\xe3o Bernardo do Campo', u'Saint Paul Minnesota', u'Toronto', u'Walkerville Ontario'], u'name': u'Ford Model T'} \n",
      "\n",
      "{u'assembly': [u'Arteixo', u'Ecuador', u'Luton', u'Quito', u'Spain', u'United Kingdom'], u'name': [u'AYMESA C\\xf3ndor (Sedan)', u'AYMESA Gala (Hatchback)', u'Opel Chevette', u'Vauxhall Chevette']} \n",
      "\n",
      "{u'assembly': [u'Argentina', u'Basil Green Motors', u'Cologne', u'Dagenham', u'General Pacheco', u'Genk Body & Assembly', u'Limburg (Belgium)', u'Pretoria', u'Valencia Carabobo'], u'name': u'Ford Sierra'} \n",
      "\n",
      "{u'assembly': [u'Arica', u'Belgium', u'Canada', u'Durban', u'Ghent', u'Gothenburg', u'Halifax Regional Municipality', u'Northern_Chile', u'South Africa', u'Sweden', u'Torslanda'], u'name': [u'Volvo 120/121/122/130/220', u'Volvo Amazon', u'Volvo Canadian GT']} \n",
      "\n",
      "{u'assembly': [u'Argentina', u'Bogot\\xe1', u'Buenos Aires', u'Casablanca', u'Colombia', u'Egypt', u'Helwan', u'Homagama', u'Italy', u'Morocco', u'Rivalta di Torino', u'Sri Lanka', u'Turin'], u'name': u'Fiat 128'} \n",
      "\n",
      "{u'assembly': [u'Australia', u'England', u'France', u'Heidelberg Victoria', u'Johannesburg', u'Koper', u'Mangualde', u'Paris', u'Portugal', u'Slough', u'South Africa', u'Yugoslavia'], u'name': [u'Citro\\xebn DS', u'Citro\\xebn ID']} \n",
      "\n",
      "{u'assembly': [u'Aulnay-sous-Bois', u'France', u'La Marsa', u'Mulhouse', u'Tunisia'], u'name': u'Peugeot 106'} \n",
      "\n",
      "{u'assembly': [u'Aulnay-sous-Bois', u'Porto Real'], u'name': u'Citro\\xebn C3'} \n",
      "\n",
      "{u'assembly': [u'Argentina', u'Bursa', u'Casablanca', u'France', u'Karsan', u'Mangualde', u'Morocco', u'Poissy', u'Vigo', u'Villa Bosch'], u'name': u'Citro\\xebn BerlingoPeugeot Partner'} \n",
      "\n",
      "{u'assembly': [u'Australia', u'New Zealand', u'United Kingdom', u'Zetland New South Wales'], u'name': [u'Austin Marina', u'Leyland Marina (Australia)', u'Morris 1700', u'Morris Marina']} \n",
      "\n",
      "{u'assembly': [u'Atlanta', u'Canada', u'Chicago', u'Georgia (U.S. state)', u'Illinois', u'Lorain Ohio', u'Oakville Ontario', u'Ohio', u'Ontario', u'United States'], u'name': u'Ford Torino'} \n",
      "\n",
      "{u'assembly': [u'Abingdon-on-Thames', u'Australia', u'Enfield New South Wales', u'England', u'New South Wales'], u'name': [u'Austin Sprite', u'Austin-Healey Sprite']} \n",
      "\n",
      "{u'assembly': [u'Australia', u'Hiroshima', u'Homebush New South Wales', u'Japan', u'New Zealand', u'Pretoria', u'South Africa', u'Taiwan'], u'name': u'Ford Telstar'} \n",
      "\n",
      "{u'assembly': [u'Australia', u'Bogot\\xe1', u'Colombia', u'Hai Duong', u'Homebush New South Wales', u'Indonesia', u'Japan', u'Malaysia', u'Mexico', u'New Zealand', u'Oakville Assembly', u'Rayong', u'Selangor', u'Shah Alam', u'Taiwan', u'Thailand', u'United States', u'Valencia Carabobo', u'Venezuela', u'Vietnam'], u'name': [u'Ford Laser', u'Ford Meteor']} \n",
      "\n",
      "{u'assembly': [u'Australia', u'Caracas', u'Germany', u'Kenosha Wisconsin', u'Mexico', u'Mexico City', u'Osnabr\\xfcck', u'Port Melbourne Victoria', u'United States', u'Venezuela'], u'name': [u'AMC Javelin', u'Javelin 79-K (Europe)', u'Rambler Javelin (Australia)', u'VAM Javelin (Mexico)']} \n",
      "\n",
      "{u'assembly': [u'Australia', u'Belgium', u'Canada', u'Ghent', u'Halifax Regional Municipality', u'Malaysia', u'Melbourne', u'Shah Alam', u'Torslandaverken'], u'name': u'Volvo 140'} \n",
      "\n",
      "{u'assembly': [u'6th of October City', u'Bangkok', u'Bogor', u'Cairo', u'Chakan Maharashtra', u'Germany', u'Iran', u'Mexico', u'Pune', u'Sindelfingen', u'Tehran', u'Thailand', u'Toluca'], u'name': u'Mercedes-Benz S-Class'} \n",
      "\n",
      "{u'assembly': [u'Ayutthaya', u'Guangzhou', u'Karawang', u'Laguna (province)', u'Philippines', u'Santa Rosa Laguna', u'Sayama Saitama', u'Sumar\\xe9', u'Suzuka Mie', u'Swindon', u'Uttar Pradesh'], u'name': [u'Honda Fit', u'Jazz']} \n",
      "\n",
      "{u'assembly': [u'Arica', u'Bangkok', u'Chartres-de-Bretagne', u'Chile', u'Indonesia', u'Jakarta', u'Koper', u'Mangualde', u'Mozambique', u'Mutare', u'PSA Rennes Plant', u'Port Elizabeth', u'Portugal', u'Slovenia', u'South Africa', u'Spain', u'Thailand', u'Vigo', u'Zimbabwe'], u'name': u'Citro\\xebn GS/GSA'} \n",
      "\n",
      "{u'assembly': [u'Aichi Prefecture', u'Japan', u'Tahara Aichi', u'Toyota Aichi'], u'name': [u'Toyota Celica Supra', u'Toyota Celica XX', u'Toyota Supra']} \n",
      "\n",
      "{u'assembly': [u'Automotora_Franco_Chilena', u'Fabryka Samochod\\xf3w Osobowych', u'Iran Khodro', u'Quest_Motor_Manufacturing', u'Sevel Argentina S.A.'], u'name': u'Peugeot 405'} \n",
      "\n",
      "{u'assembly': [u'Argentina', u'Australia', u'Buenos Aires', u'Changhua City', u'Chile', u'China', u'France', u'Guangzhou', u'Kaduna', u'Kenya', u'La Marsa', u'Los Andes', u'Melbourne', u'Mombasa', u'New Zealand', u'Nigeria', u'River Thames', u'Sochaux', u'Taiwan', u'Tunisia'], u'name': [u'Guangzhou-Peugeot GP 7200', u'Peugeot 504']} \n",
      "\n",
      "{u'assembly': [u'6th of October City', u'Anto-Rus', u'Bogdan group', u'Cherkasy', u'D\\xf6rpen', u'Egypt', u'Izhevsk', u'Izhmash', u'Kazakhstan', u'Kherson', u'KrASZ', u'Kremenchuk', u'LuAZ', u'Lutsk', u'Oskemen', u'Tolyatti', u'ZAZ', u'Zaporizhia'], u'name': [u'Lada 1500 (Canada)', u'Lada 2104', u'Lada 2105', u'Lada 2107', u'Lada Classic', u'Lada Laika (Argentina Brazil)', u'Lada Nova', u'Lada Riva', u'Lada Signet (Canada)']} \n",
      "\n",
      "{u'assembly': [u'Argentina', u'Betim', u'Brazil', u'Buenos Aires', u'Bursa', u'Cape Town', u'Casablanca', u'Las Pi\\xf1as', u'Manta', u'Philippines', u'Somaca', u'South Africa', u'Turin'], u'name': u'Fiat Uno'} \n",
      "\n",
      "{u'assembly': [u'Atlanta', u'Lakewood Assembly', u'Valencia_Edo_Carabobo', u'Wilmington Delaware', u'Wilmington Assembly'], u'name': [u'Chevrolet Chevette', u'Pontiac Acadian']} \n",
      "\n",
      "{u'assembly': [u'Almussafes', u'Buenos Aires', u'General Pacheco', u'Saarlouis', u'Spain', u'Valencia Carabobo', u'Valencian Community', u'Venezuela'], u'name': u'Ford Orion'} \n",
      "\n",
      "{u'assembly': [u'Arica', u'Aulnay-sous-Bois', u'Chile', u'Spain', u'Vigo'], u'name': u'Citro\\xebn CX'} \n",
      "\n",
      "{u'assembly': [u'Arica', u'Birmingham', u'Cape Town', u'Cowley Oxfordshire', u'Longbridge', u'Novo Mesto', u'Pamplona', u'Petone', u'Seneffe', u'Set\\xfabal'], u'name': [u'Austin Mini', u'Mark II', u'Morris Mini']} \n",
      "\n",
      "{u'assembly': [u'Arica', u'Cape Town', u'Longbridge', u'Pamplona', u'Petone', u'Seneffe', u'Set\\xfabal', u'Zetland New South Wales'], u'name': u'Mark III'} \n",
      "\n",
      "{u'assembly': [u'Arica', u'Birmingham', u'Cape Town', u'Longbridge', u'Pamplona', u'Petone', u'Seneffe', u'Set\\xfabal', u'Zetland New South Wales'], u'name': u'Mk IV'} \n",
      "\n",
      "{u'assembly': [u'Aichi Prefecture', u'Japan', u'Tahara', u'Toyota'], u'name': u'Third generation'} \n",
      "\n",
      "{u'assembly': [u'Aichi Prefecture', u'Japan', u'Tahara', u'Toyota'], u'name': u'Fourth generation'} \n",
      "\n",
      "{u'assembly': [u'Aichi Prefecture', u'Japan', u'Tahara'], u'name': u'Fifth generation'} \n",
      "\n",
      "{u'assembly': [u'Aichi Prefecture', u'Japan', u'Tahara'], u'name': u'Sixth generation'} \n",
      "\n",
      "{u'assembly': [u'AutoEuropa', u'Palmela Municipality'], u'name': u'Third generation'} \n",
      "\n",
      "{u'assembly': [u'Amsterdam', u'Campbellfield Victoria', u'Ford Dagenham', u'Ford Essex V6 engine (UK)', u'Ford Lio Ho', u'Lower Hutt', u'New Zealand', u'South Korea', u'Taoyuan City', u'Ulsan'], u'name': u'Cortina Mark I'} \n",
      "\n",
      "{u'assembly': [u'Amsterdam', u'Campbellfield Victoria', u'Ford Dagenham', u'Ford Essex V6 engine (UK)', u'Ford Lio Ho', u'Lower Hutt', u'New Zealand', u'South Korea', u'Taoyuan City', u'Ulsan'], u'name': u'Cortina Mark II'} \n",
      "\n",
      "{u'assembly': [u'Amsterdam', u'Campbellfield Victoria', u'Ford Dagenham', u'Ford Essex V6 engine (UK)', u'Ford Lio Ho', u'Netherlands', u'South Korea', u'Taoyuan City', u'Ulsan'], u'name': u'Cortina TC Mark III'} \n",
      "\n",
      "{u'assembly': [u'Arlington Texas', u'Atlanta', u'Baltimore', u'Canada', u'Framingham Massachusetts', u'Fremont California', u'Kansas City Missouri', u'Oshawa', u'Pontiac Michigan', u'United States'], u'name': u'Second generation'} \n",
      "\n",
      "{u'assembly': [u'Australia', u'United Kingdom'], u'name': [u'Epic (Canada)', u'Vauxhall Viva HA']} \n",
      "\n",
      "{u'assembly': [u'Arl\\xf6v', u'Finland', u'Sweden', u'Trollh\\xe4ttan Assembly', u'Uusikaupunki'], u'name': u'Saab 900'} \n",
      "\n",
      "{u'assembly': [u'Arlington Texas', u'Atlanta', u'Flint Michigan', u'Framingham Massachusetts', u'Janesville Wisconsin', u'Lordstown Ohio', u'Norwood Ohio', u'Oshawa', u'Sainte-Th\\xe9r\\xe8se Quebec', u'South Gate California', u'St. Louis', u'Tarrytown New York', u'Van Nuys Los Angeles', u'Wilmington Delaware'], u'name': u'Fourth generation'} \n",
      "\n",
      "{u'assembly': [u'ARACO', u'Toyota Aichi'], u'name': u'BJ and FJ'} \n",
      "\n",
      "{u'assembly': [u'ARACO', u'Toyota Aichi'], u'name': u'20 Series'} \n",
      "\n",
      "{u'assembly': [u'ARACO', u'Toyota Aichi'], u'name': u'55'} \n",
      "\n",
      "{u'assembly': [u'ARACO', u'Cuman\\xe1', u'Toyota Aichi', u'Venezuela'], u'name': [u'60 Series', u'Toyota Samurai (Venezuela)']} \n",
      "\n",
      "{u'assembly': [u'ARACO', u'Cuman\\xe1', u'Toyota Aichi', u'Venezuela'], u'name': [u'70 Series', u'Zo Reken (Haiti)']} \n",
      "\n",
      "{u'assembly': [u'ARACO', u'Cuman\\xe1', u'Toyota Aichi', u'Venezuela'], u'name': [u'80 Series', u'Lexus LX 450']} \n",
      "\n",
      "{u'assembly': [u'Aichi Prefecture', u'Bangalore', u'Colombia', u'Envigado', u'India', u'Japan', u'Laguna (province)', u'Philippines', u'Santa Rosa Laguna', u'Tahara Aichi'], u'name': [u'Land Cruiser Prado 120', u'Lexus GX (USA)']} \n",
      "\n",
      "{u'assembly': [u'AB Nyk\\xf6pings Automobilfabrik', u'Graz', u'Magna Steyr', u'Nyk\\xf6ping', u'Trollh\\xe4ttan Assembly'], u'name': u'Second generation'} \n",
      "\n",
      "{u'assembly': [u'Algiers', u'Aurangabad Maharashtra', u'Changchun', u'Kaluga', u'Mexico', u'Puebla Puebla', u'Uitenhage'], u'name': [u'(A5 Typ 1K)', u'Volkswagen Bora', u'Volkswagen GLI', u'Volkswagen Golf Wagon (Canada 2010-)', u'Volkswagen Jetta', u'Volkswagen Sagitar', u'Volkswagen Vento']} \n",
      "\n",
      "{u'assembly': [u'\\u0160koda Auto India Private Limited', u'Anting', u'Aurangabad Maharashtra', u'Changchun', u'China', u'Mexico', u'Puebla Puebla'], u'name': [u'(A6 Typ 1B)', u'Volkswagen Jetta', u'Volkswagen New Compact Sedan (Under Development)', u'Volkswagen Sagitar (China)', u'Volkswagen Vento (Select South American Countries)']} \n",
      "\n",
      "{u'assembly': [u'Argentina', u'Buenos Aires', u'Cama\\xe7ari', u'Lorain Ohio'], u'name': u'Second generation'} \n",
      "\n",
      "{u'assembly': [u'Atlanta', u'Lorain Ohio'], u'name': u'Fourth generation'} \n",
      "\n",
      "{u'assembly': [u'Arlington Texas', u'Atlanta', u'Baltimore', u'Canada', u'Flint Michigan', u'Framingham Massachusetts', u'Fremont California', u'Kansas City Kansas', u'Oshawa', u'Sainte-Th\\xe9r\\xe8se Quebec', u'United States', u'Van Nuys Los Angeles'], u'name': [u'Chevrolet Malibu', u'First-generation']} \n",
      "\n",
      "{u'assembly': [u'Antwerpen_Belgium', u'Arlington Texas', u'Atlanta', u'Baltimore', u'Canada', u'Europe', u'Flint Michigan', u'Framingham Massachusetts', u'Fremont California', u'Kansas City Kansas', u'Oshawa', u'Sainte-Th\\xe9r\\xe8se Quebec', u'United States', u'Van Nuys Los Angeles'], u'name': [u'Chevrolet Malibu', u'Second-generation']} \n",
      "\n",
      "{u'assembly': [u'Arlington Texas', u'Atlanta', u'Baltimore', u'Canada', u'Flint Michigan', u'Framingham Massachusetts', u'Fremont California', u'Kansas City Kansas', u'Oshawa', u'Sainte-Th\\xe9r\\xe8se Quebec', u'United States', u'Van Nuys Los Angeles'], u'name': [u'Chevrolet Chevelle Laguna', u'Chevrolet Malibu', u'Third generation']} \n",
      "\n",
      "{u'assembly': [u'Aichi Prefecture', u'Changchun', u'China', u'Japan', u'Jilin', u'Kariya Aichi'], u'name': u'Toyota Prius (XW20)'} \n",
      "\n",
      "{u'assembly': [u'Alliston', u'Japan', u'Marysville Ohio', u'Nelson New Zealand', u'Sayama Saitama', u'United States'], u'name': [u'Honda Vigor (Japan)', u'Third generation', u'series CA1/2/3/4/5/6']} \n",
      "\n",
      "{u'assembly': [u'Alor Gajah', u'Ayutthaya', u'China', u'Guangzhou', u'Jalisco', u'Japan', u'Laguna (province)', u'Malaysia', u'Marysville Ohio', u'Mexico', u'Philippines', u'Santa Rosa Laguna', u'Sayama Saitama', u'Thailand', u'United States'], u'name': [u'Guangzhou-Honda HG 7230', u'North America', u'Sixth generation series CG1/2/3/4/5/6']} \n",
      "\n",
      "{u'assembly': [u'Anchieta', u'Angola', u'Belgium', u'Bratislava', u'Brazil', u'Brussels', u'Luanda', u'Mexico', u'Navarre', u'Puebla', u'Slovakia', u'South Africa', u'Spain', u'Uitenhage'], u'name': u'Volkswagen Polo Mark IV (9N) and Mark IVF (9N3)'} \n",
      "\n",
      "{u'assembly': [u'Antwerp', u'Bochum', u'Ellesmere Port', u'Germany', u'Gliwice', u'Poland', u'Port Elizabeth', u'South Africa', u'Szentgotth\\xe1rd', u'Ukraine', u'Xinzhuang District', u'Zaporizhia', u'Zaragoza'], u'name': [u'Astra F', u'Chevrolet Astra', u'Holden Astra', u'Opel Optima', u'Vauxhall Astra']} \n",
      "\n",
      "{u'assembly': [u'6th of October City', u'Antwerp', u'Bochum', u'Egypt', u'Ellesmere Port', u'Germany', u'Gliwice', u'Grugliasco', u'Poland', u'Port Elizabeth', u'Rayong', u'S\\xe3o Caetano do Sul', u'South Africa', u'Thailand', u'Tolyatti', u'Ukraine', u'Zaporizhia'], u'name': [u'Astra G', u'Chevrolet Astra', u'Chevrolet Viva', u'Holden Astra', u'Vauxhall Astra']} \n",
      "\n",
      "{u'assembly': [u'6th of October City', u'Antwerp', u'Bochum', u'Egypt', u'Ellesmere Port', u'Germany', u'Gliwice', u'Kaliningrad', u'Poland', u'S\\xe3o Caetano do Sul', u'Saint Petersburg', u'Ukraine', u'Zaporizhia'], u'name': [u'Astra H', u'Chevrolet Astra', u'Chevrolet Vectra', u'Holden Astra', u'Saturn Astra', u'Vauxhall Astra']} \n",
      "\n",
      "{u'assembly': [u'6th of October City', u'Caracas', u'Egypt', u'Eisenach', u'Luton', u'R\\xfcsselsheim', u'S\\xe3o Caetano do Sul', u'Venezuela'], u'name': [u'Chevrolet Vectra', u'Vauxhall Cavalier', u'Vectra A']} \n",
      "\n",
      "{u'assembly': [u'6th of October City', u'Antwerp', u'Egypt', u'Elizabeth South Australia', u'Ellesmere Port', u'Izmir', u'Luton', u'R\\xfcsselsheim', u'S\\xe3o Caetano do Sul'], u'name': [u'Chevrolet Vectra', u'Holden Vectra', u'Vauxhall Vectra', u'Vectra B']} \n",
      "\n",
      "{u'assembly': [u'6th of October City', u'Egypt', u'Ellesmere Port', u'R\\xfcsselsheim'], u'name': [u'Chevrolet Vectra', u'Holden Vectra', u'Vauxhall Vectra', u'Vectra C']} \n",
      "\n",
      "{u'assembly': [u'Arlington Texas', u'Australia', u'Canada', u'Oshawa', u'United States', u'Woodville South Australia'], u'name': u'First generation'} \n",
      "\n",
      "{u'assembly': [u'Arlington Texas', u'Canada', u'Oshawa', u'United States'], u'name': u'Second generation'} \n",
      "\n",
      "{u'assembly': [u'Arlington Texas', u'Canada', u'Oshawa', u'United States'], u'name': u'Third generation'} \n",
      "\n",
      "{u'assembly': [u'Arlington Texas', u'Canada', u'Oshawa', u'United States'], u'name': u'Fourth generation'} \n",
      "\n",
      "{u'assembly': [u'Arlington Texas', u'Atlanta', u'Doraville Georgia', u'Flint Michigan', u'Framingham Massachusetts', u'Janesville Wisconsin', u'Lordstown Ohio', u'Los Angeles', u'Norwood Ohio', u'South Gate California', u'St. Louis', u'Tarrytown New York', u'Wilmington Delaware'], u'name': u'First generation'} \n",
      "\n",
      "{u'assembly': [u'Arlington Texas', u'Canada', u'Caracas', u'Oshawa', u'South Gate California', u'Tarrytown New York', u'Venezuela'], u'name': u'Second generation'} \n",
      "\n",
      "{u'assembly': [u'Arlington Texas', u'Canada', u'Caracas', u'Detroit', u'Fairfax District (Kansas City Kansas)', u'Flint Michigan', u'Janesville Wisconsin', u'Lakewood_Georgia', u'Oshawa', u'South Gate California', u'Venezuela', u'Wilmington Delaware'], u'name': u'Third generation'} \n",
      "\n",
      "{u'assembly': [u'Arlington Texas', u'Ypsilanti Michigan'], u'name': u'Fourth generation'} \n",
      "\n",
      "{u'assembly': [u'Arlington Texas', u'Canada', u'Caracas', u'Oshawa', u'Venezuela'], u'name': u'Second generation'} \n",
      "\n",
      "{u'assembly': [u'Arlington Texas', u'Canada', u'Oshawa', u'United States'], u'name': u'Third generation'} \n",
      "\n",
      "{u'assembly': [u'Arlington Texas', u'Canada', u'Oshawa', u'United States'], u'name': u'Fourth generation'} \n",
      "\n",
      "{u'assembly': [u'Arlington Texas', u'Canada', u'Oshawa', u'United States'], u'name': u'Fifth generation'} \n",
      "\n",
      "{u'assembly': [u'Arlington Texas', u'Canada', u'Oshawa', u'United States'], u'name': u'Sixth generation'} \n",
      "\n",
      "{u'assembly': [u'Arlington Texas', u'Canada', u'Oshawa', u'United States'], u'name': u'Seventh generation'} \n",
      "\n",
      "{u'assembly': [u'6th of October City', u'Bremen', u'East London Eastern Cape', u'Egypt', u'Germany', u'Ho Chi Minh City', u'Mexico', u'Santiago Tianguistenco', u'Sindelfingen', u'South Africa', u'Thailand', u'Thonburi', u'Toluca', u'Vietnam'], u'name': u'W202'} \n",
      "\n",
      "{u'assembly': [u'6th of October City', u'Bogor', u'Bremen', u'East London Eastern Cape', u'Juiz de Fora', u'Pekan', u'Pune', u'Sindelfingen', u'Thonburi', u'Toluca'], u'name': u'W203'} \n",
      "\n",
      "{u'assembly': [u'6th of October City', u'Beijing', u'Bogor', u'Brazil', u'Bremen', u'China', u'East London Eastern Cape', u'Egypt', u'Germany', u'India', u'Indonesia', u'Juiz de Fora', u'Malaysia', u'Pekan', u'Pune', u'Sindelfingen', u'South Africa'], u'name': u'W204'} \n",
      "\n",
      "{u'assembly': [u'Ayutthaya', u'China', u'Guangzhou', u'Karawang', u'Laguna (province)', u'Philippines', u'Santa Rosa Laguna', u'Sumar\\xe9', u'Suzuka Mie'], u'name': [u'First-generation Fit', u'Guangzhou-Honda Fit Sport', u'Honda Jazz']} \n",
      "\n",
      "{u'assembly': [u'Ayutthaya', u'China', u'Greater Noida', u'Guangzhou', u'Karawang', u'Pingtung County', u'Sayama Saitama', u'Sumar\\xe9', u'Suzuka Mie', u'Swindon'], u'name': [u'Honda Jazz', u'Second-generation Fit']} \n",
      "\n",
      "{u'assembly': [u'Arlington Texas', u'United States'], u'name': u'GMT 400'} \n",
      "\n",
      "{u'assembly': [u'Arlington Texas', u'Kaliningrad', u'Kaliningrad Oblast', u'Mexico', u'Russia', u'Silao', u'United States'], u'name': u'GMT800'} \n",
      "\n",
      "{u'assembly': [u'Arlington Texas', u'Kaliningrad', u'Kaliningrad Oblast', u'Mexico', u'Russia', u'Silao', u'United States'], u'name': u'GMT 900'} \n",
      "\n",
      "{u'assembly': [u'Aguascalientes', u'Al Jazirah (state)', u'Barcelona', u'Cairo', u'China', u'Curitiba', u'Egypt', u'Henan', u'Japan', u'Kuala Lumpur', u'Makati', u'Malaysia', u'Mexico', u'Philippines', u'Rosslyn_Gauteng', u'Samut Prakan Province', u'Smyrna Tennessee', u'South Africa', u'Sudan', u'Taipei', u'Thailand', u'Tochigi Tochigi', u'United States', u'Zhengzhou'], u'name': [u'Dongfeng Oting (SUV)', u'Dongfeng Rich Pickup', u'Dongfeng Rich multi-purpose Commercial Vehicle', u'First Generation (D22)', u'Nissan Big M Frontier (Thailand 1998\\u20132001)', u'Nissan Fiera', u'Nissan Frontier', u'Nissan Frontier Bravado', u'Nissan Hardbody', u'Nissan NP300', u'Nissan Navara', u'Nissan Paladin (SUV version)', u'Nissan PickUp', u'Nissan Winner']} \n",
      "\n",
      "{u'assembly': [u'Aguascalientes', u'Barcelona', u'Canton Mississippi', u'Curitiba', u'Makati', u'Mexico', u'Philippines', u'Samut Prakan Province', u'Smyrna Tennessee', u'Thailand', u'United States'], u'name': [u'Acmat ALTV', u'Nissan Frontier', u'Nissan Frontier Navara', u'Nissan Navara Brute', u'Second Generation (D40)', u'Suzuki Equator (2009)']} \n",
      "\n",
      "{u'assembly': [u'Almussafes', u'Bairo', u'Brazil', u'S\\xe3o Bernardo do Campo', u'Spain', u'Turin', u'Valencia', u'Valencia Carabobo', u'Venezuela'], u'name': u'First generation'} \n",
      "\n",
      "{u'assembly': [u'Australia', u'United Kingdom'], u'name': u'Ford Popular 103E'} \n",
      "\n",
      "{u'assembly': [u'Austria', u'Beijing', u'Bogor', u'Bremen', u'Cairo', u'China', u'Egypt', u'Germany', u'Graz', u'Indonesia', u'Iran', u'Malaysia', u'Mexico', u'Pekan', u'Pune', u'Samut Prakan Province', u'Santiago Tianguistenco', u'Sindelfingen', u'Tehran', u'Thailand', u'Toluca', u'Zuffenhausen'], u'name': u'W211'} \n",
      "\n",
      "{u'assembly': [u'Almussafes', u'Cologne', u'Dagenham', u'Saarlouis'], u'name': u'Second generation'} \n",
      "\n",
      "{u'assembly': [u'Almussafes', u'Cologne', u'Dagenham', u'Saarlouis'], u'name': u'Third generation'} \n",
      "\n",
      "{u'assembly': [u'Almussafes', u'Brazil', u'Cologne', u'Dagenham', u'Port Elizabeth', u'S\\xe3o Bernardo do Campo', u'Saarlouis'], u'name': [u'Fourth generation', u'Mazda 121', u'Mazda Soho']} \n",
      "\n",
      "{u'assembly': [u'Almussafes', u'Brazil', u'Cama\\xe7ari', u'Chennai', u'Cologne', u'Saarlouis', u'Valencia Carabobo'], u'name': [u'Fifth generation', u'Ford Ikon']} \n",
      "\n",
      "{u'assembly': [u'Almussafes', u'Brazil', u'Chennai', u'Cologne', u'Cuautitl\\xe1n Izcalli', u'Hai Duong', u'Mexico', u'Nanjing', u'Rayong', u'S\\xe3o Bernardo do Campo', u'Taiwan', u'Taoyuan City', u'Thailand', u'Valencia Carabobo', u'Vietnam'], u'name': [u'Ford New Fiesta (Latin America)', u'Sixth generation']} \n",
      "\n",
      "{u'assembly': [u'Aymesa', u'Bogot\\xe1', u'Montevideo', u'Quito', u'S\\xe3o Jos\\xe9 dos Campos', u'Santa Fe Province', u'Uruguay', u'Valencia Carabobo'], u'name': [u'Chevrolet Chevette', u'GMC Chevette (Argentina)']} \n",
      "\n",
      "{u'assembly': [u'\\u0130zmit', u'Amsterdam', u'Belgium', u'England', u'Genk', u'Langley Berkshire', u'Netherlands', u'Southampton', u'Turkey', u'United Kingdom'], u'name': u'Second generation'} \n",
      "\n",
      "{u'assembly': [u'\\u0130zmit', u'Amsterdam', u'Belgium', u'Genk', u'Netherlands', u'Southampton', u'Turkey', u'United Kingdom'], u'name': u'Third generation'} \n",
      "\n",
      "{u'assembly': [u'\\u0130zmit', u'Amsterdam', u'Belgium', u'Genk', u'Netherlands', u'Southampton', u'Turkey', u'United Kingdom'], u'name': u'Fourth generation'} \n",
      "\n",
      "{u'assembly': [u'\\u0130n\\xf6n\\xfc Eski\\u015fehir', u'\\u0130zmit', u'Amsterdam', u'Belarus', u'Belgium', u'Engine', u'Genk', u'Knock-down kit', u'Netherlands', u'Obchuk', u'P\\u0142o\\u0144sk', u'Poland', u'Southampton', u'Turkey', u'United Kingdom'], u'name': [u'Fifth generation', u'Ford Tourneo']} \n",
      "\n",
      "{u'assembly': [u'\\u0130n\\xf6n\\xfc Eski\\u015fehir', u'\\u0130zmit', u'Amsterdam', u'Belarus', u'Engine', u'Knock-down kit', u'Netherlands', u'Obchuk', u'P\\u0142o\\u0144sk', u'Poland', u'Southampton', u'Turkey', u'United Kingdom'], u'name': [u'Ford Tourneo', u'Sixth generation']} \n",
      "\n",
      "{u'assembly': [u'\\u0130n\\xf6n\\xfc Eski\\u015fehir', u'\\u0130zmit', u'Amsterdam', u'China', u'Engine', u'Nanchang', u'Netherlands', u'Russia', u'Southampton', u'Tatarstan', u'Turkey', u'United Kingdom'], u'name': [u'Ford Tourneo', u'Seventh Generation']} \n",
      "\n",
      "{u'assembly': [u'6th of October City', u'Cairo', u'Chennai', u'China', u'Dingolfing', u'Egypt', u'Germany', u'India', u'Indonesia', u'Jakarta', u'Kaliningrad', u'Malaysia', u'Mexico', u'Russia', u'Selangor', u'Shah Alam', u'Shenyang', u'Tehran', u'Toluca'], u'name': u'BMW 5 Series'} \n",
      "\n",
      "{u'assembly': [u'6th of October City', u'Cairo', u'Chennai', u'Jakarta', u'Kaliningrad', u'Leipzig', u'Munich', u'Regensburg', u'Rosslyn', u'Selangor', u'Shenyang', u'Toluca'], u'name': u'BMW 3 Series'} \n",
      "\n",
      "{u'assembly': [u'Arlington Texas', u'Atlanta', u'Flint Michigan', u'Framingham Massachusetts', u'Kansas City Kansas', u'Linden New Jersey', u'South Gate California', u'United States', u'Wilmington Delaware'], u'name': u'First generation'} \n",
      "\n",
      "{u'assembly': [u'Arlington Texas', u'Atlanta', u'Flint Michigan', u'Framingham Massachusetts', u'Kansas City Kansas', u'Linden New Jersey', u'South Gate California', u'United States', u'Wilmington Delaware'], u'name': u'Second generation'} \n",
      "\n",
      "{u'assembly': [u'Audi Motor Assembly', u'Changchun', u'Garuda Mataram Motor', u'Jakarta', u'Monterrey', u'Neckarsulm', u'Tokyo'], u'name': u'Audi A6 (C4)'} \n",
      "\n",
      "{u'assembly': [u'Aurangabad Maharashtra', u'Changchun', u'Eurocar', u'Garuda Mataram Motor', u'Jakarta', u'Monterrey', u'Neckarsulm', u'Solomonovo'], u'name': u'Audi A6 (C6)'} \n",
      "\n",
      "{u'assembly': [u'Aurangabad Maharashtra', u'Changchun', u'Garuda Mataram Motor', u'Jakarta', u'Monterrey', u'Neckarsulm'], u'name': u'Audi A6 (C7)'} \n",
      "\n",
      "{u'assembly': [u'Atlanta', u'Framingham Massachusetts', u'Kansas City Kansas', u'Lansing Michigan', u'Linden New Jersey', u'South Gate California', u'United States', u'Wilmington Delaware'], u'name': u'Second generation'} \n",
      "\n",
      "{u'assembly': [u'Arlington Texas', u'Atlanta', u'Framingham Massachusetts', u'Kansas City Kansas', u'Lansing Michigan', u'Linden New Jersey', u'South Gate California', u'United States', u'Wilmington Delaware'], u'name': u'Third generation'} \n",
      "\n",
      "{u'assembly': [u'Arlington Texas', u'Atlanta', u'Framingham Massachusetts', u'Kansas City Kansas', u'Lansing Michigan', u'Linden New Jersey', u'South Gate California', u'United States', u'Wilmington Delaware'], u'name': u'Fourth generation'} \n",
      "\n",
      "{u'assembly': [u'Arlington Texas', u'Atlanta', u'Framingham Massachusetts', u'Kansas City Kansas', u'Lansing Michigan', u'Linden New Jersey', u'South Gate California', u'United States', u'Wilmington Delaware'], u'name': u'Fifth generation'} \n",
      "\n",
      "{u'assembly': [u'Arlington Texas', u'Atlanta', u'Framingham Massachusetts', u'Kansas City Kansas', u'Lansing Michigan', u'Linden New Jersey', u'South Gate California', u'United States', u'Wilmington Delaware'], u'name': u'Sixth generation'} \n",
      "\n",
      "{u'assembly': [u'Arlington Texas', u'Atlanta', u'Baltimore', u'Fremont California', u'Kansas City Kansas', u'Kansas City Missouri', u'Lansing Michigan', u'Linden New Jersey', u'South Gate California'], u'name': [u'Fourth generation', u'Oldsmobile Dynamic 88', u'Oldsmobile Rocket 88', u'Oldsmobile Super 88']} \n",
      "\n",
      "{u'assembly': [u'Arlington Texas', u'Atlanta', u'Baltimore', u'Fremont California', u'Kansas City Kansas', u'Kansas City Missouri', u'Lansing Michigan', u'Linden New Jersey', u'South Gate California'], u'name': [u'Fifth generation', u'Oldsmobile Dynamic 88', u'Oldsmobile Jetstar 88', u'Oldsmobile Super 88']} \n",
      "\n",
      "{u'assembly': [u'Arlington Texas', u'Doraville Georgia', u'Fairfax District (Kansas City Kansas)', u'Framingham Massachusetts', u'Fremont California', u'Lansing Michigan', u'Linden New Jersey'], u'name': [u'Oldsmobile Delmont 88', u'Oldsmobile Delta 88', u'Oldsmobile Dynamic 88', u'Sixth generation']} \n",
      "\n",
      "{u'assembly': [u'Arlington Texas', u'Fairfax District (Kansas City Kansas)', u'Framingham Massachusetts', u'Fremont California', u'Lansing Michigan', u'Linden New Jersey'], u'name': [u'Oldsmobile Delta 88', u'Seventh generation']} \n",
      "\n",
      "{u'assembly': [u'Argentina', u'Bursa', u'C\\xf3rdoba Argentina', u'Colombia', u'Envigado', u'Flins Renault Factory', u'Turkey'], u'name': [u'Clio I', u'Renault Lutecia (Japan)']} \n",
      "\n",
      "{u'assembly': [u'Aguascalientes Aguascalientes', u'Argentina', u'Brazil', u'Bursa', u'C\\xf3rdoba Argentina', u'Colombia', u'Curitiba', u'Envigado', u'Flins Renault Factory', u'Novo Mesto', u'Slovenia', u'Turkey'], u'name': [u'Renault Clio Campus (France Germany Colombia Spain)', u'Clio II', u'Renault Clio Grande (United Kingdom)', u'Renault Clio Mercosur (Brazil)', u'Renault Clio New Basic (Denmark)', u'Renault Clio Storia (Slovenia)', u'Renault Lutecia (Japan)']} \n",
      "\n",
      "{u'assembly': [u'Australia', u'Linwood Renfrewshire', u'Scotland'], u'name': [u'Commer Imp Van', u'Hillman GT (Australia)', u'Hillman Husky', u'Hillman Imp', u'Singer Chamois', u'Sunbeam Californian', u'Sunbeam Chamois', u'Sunbeam Imp', u'Sunbeam Sport', u'Sunbeam Stiletto']} \n",
      "\n",
      "{u'assembly': [u'Australia', u'Brazil', u'Hanover', u'Melbourne', u'S\\xe3o Bernardo do Campo', u'Wolfsburg'], u'name': u'Volkswagen Type 2 (T1)'} \n",
      "\n",
      "{u'assembly': [u'Argentina', u'Australia', u'Brazil', u'Emden', u'General Pacheco', u'Hanover', u'Melbourne', u'Mexico', u'Puebla Puebla', u'S\\xe3o Bernardo do Campo'], u'name': u'Volkswagen Type 2 (T2)'} \n",
      "\n",
      "{u'assembly': [u'Altona Victoria', u'Toyota Motor Manufacturing Kentucky'], u'name': u'First generation'} \n",
      "\n",
      "{u'assembly': [u'Argentina', u'Bursa', u'C\\xf3rdoba Argentina', u'Colombia', u'Cuernavaca', u'Douai', u'Envigado', u'France', u'Indonesia', u'Jakarta', u'Mexico', u'Moscow', u'Palencia', u'Russia', u'Spain', u'Turkey'], u'name': [u'M\\xe9gane I', u'Renault M\\xe9gane Classic (Saloon)']} \n",
      "\n",
      "{u'assembly': [u'Argentina', u'Brazil', u'Buenos Aires', u'Nueva Palmira', u'S\\xe3o Bernardo do Campo', u'Uruguay'], u'name': [u'First generation (G1)', u'Volkswagen Fox', u'Volkswagen Parati', u'Volkswagen Pointer', u'Volkswagen Voyage']} \n",
      "\n",
      "{u'assembly': [u'Anting', u'Argentina', u'Brazil', u'China', u'General Pacheco', u'Iran', u'Kerman', u'S\\xe3o Bernardo do Campo'], u'name': [u'Second generation (G2-G4)', u'Volkswagen Parati', u'Volkswagen Pointer', u'Volkswagen Saveiro']} \n",
      "\n",
      "{u'assembly': [u'Australia', u'Japan', u'United Kingdom'], u'name': u'Hillman Minx Mark I to VIII'} \n",
      "\n",
      "{u'assembly': [u'Australia', u'Japan', u'United Kingdom'], u'name': [u'Hillman Minx Series I to Series VI', u'Humber 80', u'Sunbeam Minx']} \n",
      "\n",
      "{u'assembly': [u'Aulnay-sous-Bois', u'Madrid', u'Villaverde'], u'name': [u'Citro\\xebn LN', u'Citro\\xebn LNA']} \n",
      "\n",
      "{u'assembly': [u'Arlington Texas', u'Framingham Massachusetts', u'Fremont California', u'Kansas City Kansas', u'Lansing Michigan', u'Linden New Jersey', u'Oshawa'], u'name': u'Second generation'} \n",
      "\n",
      "{u'assembly': [u'Arlington Texas', u'Framingham Massachusetts', u'Fremont California', u'Kansas City Kansas', u'Lansing Michigan', u'Linden New Jersey'], u'name': u'Third generation'} \n",
      "\n",
      "{u'assembly': [u'Arlington Texas', u'Framingham Massachusetts', u'Fremont California', u'Kansas City Kansas', u'Lansing Michigan', u'Linden New Jersey'], u'name': u'Fourth generation'} \n",
      "\n",
      "{u'assembly': [u'Argentina', u'Bursa', u'C\\xf3rdoba Argentina', u'Colombia', u'Douai', u'Envigado', u'France', u'Kenosha Wisconsin', u'Los Andes Chile', u'Mexico', u'Spain', u'Taichung', u'Taiwan', u'Turkey', u'United States', u'Valladolid', u'Vallejo'], u'name': u'Renault 9 / 11'} \n",
      "\n",
      "{u'assembly': [u'Aguascalientes', u'Canton Mississippi', u'Fukuoka', u'Japan', u'Kanda', u'Mexico', u'Smyrna Tennessee', u'United States'], u'name': u'Fourth generation'} \n",
      "\n",
      "{u'assembly': [u'Aguascalientes', u'Canton Mississippi', u'Mexico', u'Smyrna Tennessee', u'United States', u'Wuhan'], u'name': [u'Fifth generation (L32L)', u'Hyundai Sonata (LF) (2014-)', u'Kia Optima (TJ) (2015-)', u'Nissan Teana']} \n",
      "\n",
      "{u'assembly': [u'Australia', u'Cainta Rizal', u'Clovelly Park South Australia', u'Indonesia', u'Normal Illinois', u'Okazaki Aichi', u'Philippines', u'Port Melbourne Victoria', u'Rizal'], u'name': u'Mitsubishi Galant'} \n",
      "\n",
      "{u'assembly': [u'Audi Motor Assembly', u'Emden', u'Ingolstadt', u'Tokyo'], u'name': [u'Audi 4000', u'Audi 5+5', u'Audi 80 and Audi 90', u'Audi Cabriolet', u'Audi Fox']} \n",
      "\n",
      "{u'assembly': [u'Audi Senna', u'Curitiba', u'Ingolstadt'], u'name': u'Audi A3 (8L)'} \n",
      "\n",
      "{u'assembly': [u'Alfa Romeo Arese Plant', u'Italy', u'Milan', u'Turin'], u'name': u'Fiat Multipla'} \n",
      "\n",
      "{u'assembly': [u'Australia', u'Kenosha Wisconsin', u'Port Melbourne Victoria', u'United States'], u'name': [u'AMC AMX', u'Rambler AMX (Australia)']} \n",
      "\n",
      "{u'assembly': [u'AMAG Automobil- und Motoren', u'Detroit', u'Hamtramck Michigan', u'Los Angeles', u'Mexico City', u'Newark Delaware', u'Schinznach', u'St. Louis'], u'name': u'1961\\u20131962'} \n",
      "\n",
      "{u'assembly': [u'Argentina', u'Bursa', u'C\\xf3rdoba Argentina', u'Colombia', u'Douai', u'Envigado', u'Mariara', u'Maubeuge', u'Palencia', u'Set\\xfabal', u'Taichung', u'Taiwan', u'Turkey', u'Valladolid', u'Venezuela', u'Vilvoorde'], u'name': [u'Renault 19', u'Renault Energy (Colombia Venezuela)']} \n",
      "\n",
      "{u'assembly': [u'Argentina', u'C\\xf3rdoba Argentina', u'Casablanca', u'France', u'Kuala Lumpur', u'Malaysia', u'Maubeuge', u'Morocco'], u'name': [u'Kangoo I', u'Nissan Kubistar']} \n",
      "\n",
      "{u'assembly': [u'Audi Motor Assembly', u'Aurangabad Maharashtra', u'Changchun', u'Eurocar', u'Garuda Mataram Motor', u'Ingolstadt', u'Jakarta', u'Solomonovo'], u'name': u'Audi A4'} \n",
      "\n",
      "{u'assembly': [u'Aurangabad Maharashtra', u'Garuda Mataram Motor', u'Ingolstadt', u'Jakarta'], u'name': u'Audi A4 (B8)'} \n",
      "\n",
      "{u'assembly': [u'Argentina', u'Australia', u'Billancourt', u'Bursa', u'C\\xf3rdoba Argentina', u'Canada', u'Ciudad_Sahagun', u'Colombia', u'Duitama', u'Envigado', u'France', u'Heidelberg Victoria', u'Los Andes Chile', u'Mariara', u'Mexico', u'Mioveni', u'Quebec', u'Romania', u'Saint-Bruno-de-Montarville', u'Spain', u'Turkey', u'Valladolid', u'Venezuela'], u'name': [u'Dacia 1300', u'Renault 1.4 Litre (Australia)', u'Renault 12', u'Renault Virage (Australia)']} \n",
      "\n",
      "{u'assembly': [u'Argentina', u'Australia', u'Chile', u'Colombia', u'Heidelberg Victoria', u'Milan', u'Naas', u'Wexford'], u'name': [u'Renault 4', u'Renault R4']} \n",
      "\n",
      "{u'assembly': [u'Argentina', u'Brazil', u'General Pacheco', u'S\\xe3o Bernardo do Campo'], u'name': [u'Ford Orion (Argentina)', u'Second generation']} \n",
      "\n",
      "{u'assembly': [u'AutoEuropa', u'Palmela Municipality', u'Portugal'], u'name': u'Volkswagen Sharan'} \n",
      "\n",
      "{u'assembly': [u'AutoEuropa', u'Palmela Municipality', u'Portugal'], u'name': u'Volkswagen Sharan Mk2 (7N)'} \n",
      "\n",
      "{u'assembly': [u'Australia', u'Clovelly Park South Australia', u'Japan', u'Nagoya'], u'name': [u'Mitsubishi Diamante', u'Mitsubishi Magna/Verada', u'Mitsubishi Sigma', u'Mitsubishi V3000']} \n",
      "\n",
      "{u'assembly': [u'Australia', u'Japan', u'Rosslyn_Gauteng', u'South Africa'], u'name': [u'Datsun 160J', u'Datsun 510', u'Datsun Stanza', u'Datsun/Nissan Violet', u'Nissan Auster', u'Nissan Stanza A10 series', u'Yue Loong 709/711/712']} \n",
      "\n",
      "{u'assembly': [u'Arlington Texas', u'United States'], u'name': u'First generation'} \n",
      "\n",
      "{u'assembly': [u'Atlanta', u'Baltimore', u'Framingham Massachusetts', u'Fremont California', u'Kansas City Missouri', u'Oshawa'], u'name': u'Second generation'} \n",
      "\n",
      "{u'assembly': [u'Arlington Texas', u'Atlanta', u'Baltimore', u'Canada', u'Flint', u'Fremont California', u'Kansas City Missouri', u'Oshawa', u'United States', u'Van Nuys Los Angeles'], u'name': u'Third generation'} \n",
      "\n",
      "{u'assembly': [u'Arlington Texas', u'Baltimore', u'Canada', u'Doraville Georgia', u'Fremont California', u'Leeds Assembly', u'Oshawa', u'United States'], u'name': u'Fourth generation'} \n",
      "\n",
      "{u'assembly': [u'Arlington Texas', u'Baltimore', u'Canada', u'Doraville Georgia', u'Fremont California', u'Iran', u'Leeds Assembly', u'Oshawa', u'Pars Khodro', u'Ramos Arizpe', u'Tehran', u'United States'], u'name': [u'Chevrolet Pickup (Iran 1984-1987)', u'Fifth generation']} \n",
      "\n",
      "{u'assembly': [u'Arlington Texas', u'Pontiac Michigan'], u'name': [u'Fourth generation', u'Oldsmobile Cutlass Calais (1978\\u20131984)', u'Oldsmobile Cutlass Cruiser (1982\\u20131983)', u'Oldsmobile Cutlass Salon (1985\\u20131987)', u'Oldsmobile Cutlass Supreme Classic (1988 only)']} \n",
      "\n",
      "{u'assembly': [u'Argentina', u'Australia', u'Bangkok', u'Cairo', u'Changhua City', u'Chile', u'China', u'Egypt', u'Enfield New South Wales', u'France', u'Guangzhou', u'Indonesia', u'Jakarta', u'Los Andes Chile', u'Sochaux', u'Spain', u'Taiwan', u'Thailand', u'Vigo', u'Villa Bosch'], u'name': [u'Guangzhou-Peugeot GP 7202', u'Peugeot 505']} \n",
      "\n",
      "{u'assembly': [u'Arlington Texas', u'Flint Michigan', u'Framingham Massachusetts', u'Fremont California', u'Pontiac Michigan', u'United States'], u'name': u'Second generation'} \n",
      "\n",
      "{u'assembly': [u'Argentina', u'Betim', u'Bielsko-Bia\\u0142a', u'Brazil', u'Bursa', u'C\\xf3rdoba Argentina', u'Casablanca', u'China', u'India', u'La Victoria Aragua', u'Morocco', u'Naberezhnye Chelny', u'Nanjing', u'Poland', u'Pune', u'Rosslyn', u'Russia', u'South Africa', u'Turkey', u'Venezuela'], u'name': u'First generation (178)'} \n",
      "\n",
      "{u'assembly': [u'Argentina', u'Betim', u'Bielsko-Bia\\u0142a', u'Brazil', u'Bursa', u'C\\xf3rdoba Argentina', u'Casablanca', u'China', u'Ho Chi Minh City', u'India', u'Iran', u'Morocco', u'Nampo', u'Nanjing', u'North Korea', u'Poland', u'Pune', u'Rosslyn', u'Saveh', u'South Africa', u'Turkey', u'Vietnam'], u'name': [u'Fiat Palio Sedan (Mexico)', u'Fiat Petra (India)', u'Fiat Siena', u'Pyeonghwa Hwiparam']} \n",
      "\n",
      "{u'assembly': [u'Australia', u'Belgium', u'Canada', u'Ghent', u'Halifax Regional Municipality', u'Italy', u'Kalmar', u'Malaysia', u'Melbourne', u'Shah Alam', u'Sweden', u'Torslandaverken', u'Turin'], u'name': u'Volvo 200'} \n",
      "\n",
      "{u'assembly': [u'Argentina', u'Belvidere Illinois', u'Buenos Aires', u'Detroit', u'Hamtramck Michigan', u'Los Angeles', u'Madrid', u'Spain', u'St. Louis', u'United States', u'Villaverde'], u'name': u'Third generation'} \n",
      "\n",
      "{u'assembly': [u'Anting', u'China', u'Garuda Mataram Motor', u'Jakarta', u'Wolfsburg'], u'name': [u'Volkswagen Golf Touran (J)', u'Volkswagen Touran']} \n",
      "\n",
      "{u'assembly': [u'Aguascalientes', u'Chennai', u'China', u'Guangzhou', u'India', u'Indonesia', u'Mexico', u'Nissan Motor Indonesia', u'Samut Prakan Province', u'Thailand'], u'name': [u'K13', u'Nissan March', u'Renault Pulse']} \n",
      "\n",
      "{u'assembly': [u'Argentina', u'China', u'France', u'Hubei', u'Palomar', u'Sochaux', u'Villa Bosch', u'Wuhan'], u'name': u'Peugeot 307'} \n",
      "\n",
      "{u'assembly': [u'Argentina', u'Brazil', u'Buenos Aires', u'China', u'France', u'Indonesia', u'Iran', u'Jakarta', u'Kuala Lumpur', u'Los Andes Chile', u'Malaysia', u'PSA Mulhouse Plant', u'PSA Poissy Plant', u'Porto Real', u'Ryton plant', u'Tehran', u'United Kingdom', u'Wuhan'], u'name': [u'Peugeot 206+Peugeot 207 Compact (Latin America)Naza 206 (Malaysia)Citro\\xebn C2 (China)', u'Peugeot 206']} \n",
      "\n",
      "{u'assembly': [u'Arese', u'Desio', u'Fiat 131', u'Milan', u\"Pomigliano d'Arco\", u'Turin'], u'name': [u'Autobianchi  Y10', u'Lancia Y10']} \n",
      "\n",
      "{u'assembly': [u'Avon Lake Ohio', u'Claycomo Missouri', u'H\\u014dfu Yamaguchi', u'Hai Duong', u'Santa Rosa Laguna', u'Zhongli'], u'name': [u'First generation', u'Ford Maverick']} \n",
      "\n",
      "{u'assembly': [u'Australia', u'Brazil', u'Clayton Victoria', u'Emden', u'S\\xe3o Bernardo do Campo', u'Wolfsburg'], u'name': u'Volkswagen Type 3'} \n",
      "\n",
      "{u'assembly': [u\"Alfa Romeo Pomigliano d'Arco Plant\", u'Italy', u'Rayong'], u'name': u'Alfa Romeo 156'} \n",
      "\n",
      "{u'assembly': [u'Australia', u'Ford Dagenham', u'Harare', u'New Zealand', u'Rhodesia', u'South Africa', u'United Kingdom'], u'name': u'Ford Zephyr'} \n",
      "\n",
      "{u'assembly': [u'Argentina', u'Atlanta', u'Baltimore', u'Buenos Aires', u'Flint Michigan', u'Fremont California', u'Janesville Wisconsin', u'Kansas City Missouri', u'Norwood Ohio', u'Oshawa', u'Pontiac Michigan', u'St. Louis', u'Tarrytown New York', u'Ulsan'], u'name': u'Second generation'} \n",
      "\n",
      "{u'assembly': [u'Arica', u'Atlanta', u'Baltimore', u'C\\xf3rdoba Argentina', u'Chile', u'Flint Michigan', u'Fremont California', u'Janesville Wisconsin', u'Kansas City Missouri', u'Norwood Ohio', u'Oshawa', u'Pontiac Michigan', u'St. Louis', u'Tarrytown New York'], u'name': [u'Chevrolet Custom Deluxe', u'Chevrolet Scottsdale', u'Third generation']} \n",
      "\n",
      "{u'assembly': [u'Avon Lake Ohio', u'Canada', u'Lorain Ohio', u'Oakville Assembly', u'Ohio', u'United States'], u'name': u'Ford E-Series'} \n",
      "\n",
      "{u'assembly': [u'Australia', u'Kenosha Wisconsin', u'United States'], u'name': [u'AMC Ambassador', u'Ambassador by Rambler', u'Rambler Ambassador']} \n",
      "\n",
      "{u'assembly': [u'6th of October City', u'Brazil', u'Cairo', u'Chennai', u'China', u'Dingolfing', u'Egypt', u'India', u'Indonesia', u'Jakarta', u'Kaliningrad', u'Malaysia', u'Manaus', u'Mexico', u'Rosslyn_Gauteng', u'Russian Soviet Federative Socialist Republic', u'Selangor', u'Shah Alam', u'Shenyang', u'South Africa', u'Toluca', u'West Germany'], u'name': u'BMW 5-Series (E12)'} \n",
      "\n",
      "{u'assembly': [u'6th of October City', u'Avtotor', u'BMW Mexico', u'Brilliance Auto', u'Gaya_Motor', u'Jakarta', u'Kaliningrad', u'Leipzig', u'Munich', u'Regensburg', u'Rosslyn', u'Shenyang', u'Toluca'], u'name': u'BMW 3-Series (E46)'} \n",
      "\n",
      "{u'assembly': [u'6th of October City', u'Chennai', u'China', u'Egypt', u'Germany', u'India', u'Indonesia', u'Jakarta', u'Kaliningrad', u'Leipzig', u'Malaysia', u'Mexico', u'Munich', u'Pretoria', u'Regensburg', u'Russia', u'Selangor', u'Shenyang', u'South Africa', u'Toluca'], u'name': u'BMW 3-Series (E90)'} \n",
      "\n",
      "{u'assembly': [u'6th of October City', u'Chennai', u'China', u'Dingolfing', u'Egypt', u'Germany', u'India', u'Indonesia', u'Jakarta', u'Kaliningrad', u'Mexico', u'Rayong', u'Russia', u'Shenyang', u'Thailand', u'Toluca'], u'name': u'BMW 5-Series sedan (E60)'} \n",
      "\n",
      "{u'assembly': [u'6th of October City', u'Austria', u'Egypt', u'Graz', u'Kaliningrad', u'Russia'], u'name': u'BMW X3 (E83)'} \n",
      "\n",
      "{u'assembly': [u'Aqaba', u'Land Rover Aqaba Assembly Plant', u'Pretoria', u'Solihull'], u'name': u'Land Rover Discovery'} \n",
      "\n",
      "{u'assembly': [u'Aqaba', u'Halewood Body & Assembly', u'Land Rover Aqaba Assembly Plant', u'Maharashtra', u'Pune'], u'name': [u'Land Rover Freelander 2', u'Land Rover LR2', u'Second generation']} \n",
      "\n",
      "{u'assembly': [u'Aqaba', u'Istanbul', u'Land Rover Aqaba Assembly Plant', u'Otokar', u'Shah Alam', u'Solihull', u'Swedish Motor Assemblies', u'Thika'], u'name': [u'Land Rover Defender', u'Land Rover Ninety One Ten & 127 (1983-90)']} \n",
      "\n",
      "{u'assembly': [u'Adapazar\\u0131', u'Alor Gajah', u'Argentina', u'Ayutthaya', u'Brazil', u'Campana Buenos Aires Province', u'China', u'Greater Noida', u'Guangzhou', u'India', u'Japan', u'Laguna (province)', u'Lahore', u'Malaysia', u'Pakistan', u'Philippines', u'Santa Rosa Laguna', u'Sumar\\xe9', u'Thailand', u'Turkey'], u'name': u'Honda City'} \n",
      "\n",
      "{u'assembly': [u'Alor Gajah', u'Ayutthaya', u'China', u'Greater Noida', u'Guangzhou', u'India', u'Japan', u'Laguna (province)', u'Lahore', u'Malaysia', u'Pakistan', u'Philippines', u'Santa Rosa Laguna', u'Sayama Saitama', u'Thailand'], u'name': [u'Everus S1', u'Fourth generation GD8/GD9', u'Guangzhou-Honda City', u'Honda City ZX', u'Honda Fit Aria']} \n",
      "\n",
      "{u'assembly': [u'Adapazar\\u0131', u'Alor Gajah', u'Argentina', u'Ayutthaya', u'Brazil', u'Campana Buenos Aires Province', u'China', u'Greater Noida', u'Guangzhou', u'India', u'Laguna (province)', u'Lahore', u'Malaysia', u'Pakistan', u'Philippines', u'Santa Rosa Laguna', u'Sumar\\xe9', u'Thailand', u'Turkey'], u'name': [u'Fifth generation (GM2/GM3)', u'Guangzhou-Honda City', u'Honda Ballade (South Africa)', u'Honda City S', u'Honda Fit Aria']} \n",
      "\n",
      "{u'assembly': [u'Australia', u'Hiratsuka Kanagawa', u'Japan', u'Sydney'], u'name': [u'Datsun Bluebird 410', u'Yue Loong YLN-705B']} \n",
      "\n",
      "{u'assembly': [u'Australia', u'Clayton Victoria', u'Japan'], u'name': [u'Datsun 160B', u'Datsun 180B', u'Datsun 200B', u'Datsun 810', u'Datsun Bluebird 810']} \n",
      "\n",
      "{u'assembly': [u'Australia', u'Clayton Victoria', u'Hiratsuka Kanagawa', u'Japan', u'Victoria (Australia)'], u'name': [u'Datsun Bluebird 910', u'Nissan Bluebird 910', u'Yue Loong Bluebird 911/912 (TW)']} \n",
      "\n",
      "{u'assembly': [u'Australia', u'Clayton Victoria', u'Japan', u'Oppama'], u'name': [u'Nissan Bluebird U11', u'Yue Loong Bluebird 931 (Yulon TW)']} \n",
      "\n",
      "{u'assembly': [u'Australia', u'Japan', u'Port Melbourne Victoria', u'Toyota Aichi'], u'name': [u'Second Generation', u'Toyota 1900', u'Toyota Tiara']} \n",
      "\n",
      "{u'assembly': [u'Australia', u'Australian Motor Industries', u'Japan', u'New Zealand', u'Port Melbourne Victoria', u'Shinjin Motors', u'Toyota Aichi'], u'name': u'Third generation'} \n",
      "\n",
      "{u'assembly': [u'Altona Victoria', u'Australia', u'Japan', u'Thames New Zealand', u'Toyota Aichi'], u'name': u'Sixth generation'} \n",
      "\n",
      "{u'assembly': [u'Altona Victoria', u'Australia', u'Japan', u'Thames New Zealand', u'Toyota Aichi'], u'name': u'Seventh generation'} \n",
      "\n",
      "{u'assembly': [u'Atlanta', u'Carabobo', u'Chicago', u'Venezuela'], u'name': u'Fourth generation'} \n",
      "\n",
      "{u'assembly': [u'Argentina', u'Beijing', u'Bursa', u'C\\xf3rdoba Argentina', u'China', u'Colombia', u'Envigado', u'France', u'Los Andes Chile', u'Marseille', u'Taichung', u'Taiwan', u'Turkey'], u'name': [u'Eagle Medallion (U.S. & Canada)', u'Renault 21', u'Renault \\xc9toile (Colombia)']} \n",
      "\n",
      "{u'assembly': [u'Australia', u'Port Melbourne Victoria'], u'name': [u'First generation', u'Toyota Camry (V20)', u'Toyota Vista (V20)']} \n",
      "\n",
      "{u'assembly': [u'Altona Victoria', u'Australia', u'Port Melbourne Victoria'], u'name': [u'Second generation', u'Toyota Camry (XV10)', u'Toyota Scepter (XV10)', u'Toyota Vienta (XV10)']} \n",
      "\n",
      "{u'assembly': [u'Argentina', u'Arlington Texas', u'Carabobo', u'Guanajuato', u'Janesville Wisconsin', u'Mexico', u'Rosario Santa Fe', u'Silao', u'United States', u'Valencia Carabobo', u'Venezuela'], u'name': [u'Chevrolet Grand Blazer (Argentina Brazil Ecuador and Venezuela)', u'Chevrolet Silverado (Mexico)', u'Chevrolet Tahoe (Bolivia and Europe)', u'GMC Yukon', u'GMT400']} \n",
      "\n",
      "{u'assembly': [u'Arlington Texas', u'Guanajuato', u'Janesville Wisconsin', u'Kaliningrad', u'Kaliningrad Oblast', u'Mexico', u'Russia', u'Silao', u'United States'], u'name': [u'Chevrolet Sonora (Mexico)', u'GMC Yukon', u'GMT800']} \n",
      "\n",
      "{u'assembly': [u'Arlington Texas', u'Janesville Wisconsin', u'Kaliningrad', u'Kaliningrad Oblast', u'Russia', u'United States'], u'name': [u'GMC Yukon', u'GMT900']} \n",
      "\n",
      "{u'assembly': [u'Arlington Texas', u'Janesville Wisconsin', u'Mexico', u'Silao'], u'name': [u'GMC Suburban', u'GMT400', u'Holden Suburban']} \n",
      "\n",
      "{u'assembly': [u'Arlington Texas', u'Janesville Wisconsin', u'Mexico', u'Silao'], u'name': [u'Cadillac Escalade ESV', u'GMC Yukon XL', u'GMT800']} \n",
      "\n",
      "{u'assembly': [u'Arlington Texas', u'Janesville Wisconsin', u'Mexico', u'Silao', u'United States'], u'name': [u'Cadillac Escalade ESV', u'GMC Yukon XL', u'GMT900', u'VIA VTrux SUV']} \n",
      "\n",
      "{u'assembly': [u'Australia', u'United Kingdom'], u'name': u'Triumph TR4'} \n",
      "\n",
      "{u'assembly': [u'Arica', u'Chile', u'Ecuador', u'Japan', u'Quito'], u'name': [u'Chevrolet Aska', u'First generation', u'Holden Camira (JJ)', u'Isuzu Florian Aska', u'Isuzu JJ']} \n",
      "\n",
      "{u'assembly': [u'Arese', u'Italy', u'Milan'], u'name': [u'Alfa Romeo 164', u'Alfa Romeo 168']} \n",
      "\n",
      "{u'assembly': [u'Aichi Prefecture', u'Kanegasaki Iwate', u'Toyota'], u'name': [u'Second generation', u'Toyota Corolla Rumion', u'Toyota Rukus (Australia)']} \n",
      "\n",
      "{u'assembly': [u'Argentina', u'Edison New Jersey', u'General Pacheco', u'Louisville Kentucky', u'Saint Paul Minnesota'], u'name': [u'1993\\u20131997', u'Mazda B-Series']} \n",
      "\n",
      "{u'assembly': [u'Argentina', u'Edison New Jersey', u'General Pacheco', u'Saint Paul Minnesota'], u'name': [u'1998\\u20132012', u'Mazda B-Series']} \n",
      "\n",
      "{u'assembly': [u'Argentina', u'Billancourt', u'Buenos Aires', u'Chile', u'Compa%C3%B1%C3%ADa_Interamericana_de_Autom%C3%B3viles', u'France', u'Los Andes', u'Maubeuge', u'Palencia', u'Santa Isabel', u'Spain'], u'name': u'Renault Fuego'} \n",
      "\n",
      "{u'assembly': [u'Anting', u'Aurangabad Maharashtra', u'China', u'Czech Republic', u'India', u'Kazakhstan', u'Kvasiny', u'Oskemen', u'Solomonovo', u'Ukraine'], u'name': [u'Volkswagen Passat Lingyu', u'\\u0160koda Superb B5 (3U)']} \n",
      "\n",
      "{u'assembly': [u'Anting', u'Aurangabad Maharashtra', u'China', u'Czech Republic', u'India', u'Kazakhstan', u'Kvasiny', u'Oskemen'], u'name': [u'\\u0160koda Superb B6 (3T)', u'\\u0160koda Superb Haorui']} \n",
      "\n",
      "{u'assembly': [u'Australia', u'Japan'], u'name': [u'Datsun 1000', u'Datsun Sunny B10 Series']} \n",
      "\n",
      "{u'assembly': [u'Australia', u'Japan'], u'name': [u'Datsun 1200 Datsun Finn', u'Datsun Sunny B110 Series']} \n",
      "\n",
      "{u'assembly': [u'Aurangabad', u'Bratislava', u'India', u'Slovakia'], u'name': u'Audi Q7'} \n",
      "\n",
      "{u'assembly': [u'\\u0130zmit', u'An\\xe1polis', u'Beijing', u'Brazil', u'Cairo', u'Chennai', u'Cherkasy', u'China', u'Egypt', u'India', u'South Korea', u'Taiwan', u'Turkey', u'Ukraine', u'Ulsan'], u'name': [u'Beijing-Hyundai Tucson', u'First generation', u'Hyundai JM (Japan)']} \n",
      "\n",
      "{u'assembly': [u'Aguascalientes', u'Kuala Lumpur', u'Laguna (province)', u'Malaysia', u'Mexico', u'Philippines', u'Santa Rosa Laguna', u'Smyrna Tennessee'], u'name': [u'Fourth generation', u'Nissan Lucino (200SX)']} \n",
      "\n",
      "{u'assembly': [u'Aguascalientes', u'Mexico'], u'name': [u'Fifth generation', u'Nissan Sentra 180']} \n",
      "\n",
      "{u'assembly': [u'Aguascalientes', u'Laguna (province)', u'Mexico', u'Philippines', u'Santa Rosa Laguna'], u'name': [u'Nissan SE', u'Nissan Sentra 200', u'Sixth generation']} \n",
      "\n",
      "{u'assembly': [u'Aguascalientes', u'China', u'Guangzhou', u'Japan', u'Kyushu', u'Mexico', u'Mississippi', u'Samut Prakan Province', u'Thailand', u'United States'], u'name': [u'Nissan Pulsar', u'Nissan Sylphy', u'Seventh generation']} \n",
      "\n",
      "{u'assembly': [u'Atlanta', u'Framingham Massachusetts', u'Kansas City Kansas', u'Lansing Michigan', u'Linden New Jersey', u'South Gate California'], u'name': u'Second generation'} \n",
      "\n",
      "{u'assembly': [u'Atlanta', u'Framingham Massachusetts', u'Kansas City Kansas', u'Lansing Michigan', u'Linden New Jersey', u'South Gate California'], u'name': u'Second generation'} \n",
      "\n",
      "{u'assembly': [u'Atlanta', u'Framingham Massachusetts', u'Kansas City Kansas', u'Lansing Michigan', u'Linden New Jersey', u'South Gate California', u'United States', u'Wilmington Delaware'], u'name': u'Third generation'} \n",
      "\n",
      "{u'assembly': [u'Australia', u'Germany', u'Port Melbourne Victoria'], u'name': u'Mercedes-Benz W128'} \n",
      "\n",
      "{u'assembly': [u'Argentina', u'Bloomfield New Jersey', u'Buenos Aires', u'California', u'Framingham Massachusetts', u'Massachusetts', u'Michigan', u'New Jersey', u'Norwood Ohio', u'Oakland California', u'Ohio', u'United States', u'Willow Run Assembly'], u'name': u'First generation'} \n",
      "\n",
      "{u'assembly': [u'Argentina', u'Buenos Aires', u'Canada', u'Kansas City Missouri', u'Michigan', u'Norwood Ohio', u'Oshawa', u'Sainte-Th\\xe9r\\xe8se Quebec', u'United States', u'Van Nuys Los Angeles', u'Willow Run Assembly'], u'name': u'Third generation'} \n",
      "\n",
      "{u'assembly': [u'Australia', u'United Kingdom'], u'name': u'Triumph 2000 2.5PI & 2500'} \n",
      "\n",
      "{u'assembly': [u'Arlington Texas', u'United States'], u'name': u'Third generation'} \n",
      "\n",
      "{u'assembly': [u'Arlington Texas', u'United States'], u'name': u'Third generation'} \n",
      "\n",
      "{u'assembly': [u'Arlington Assembly', u'Detroit Assembly', u'United States'], u'name': u'Cadillac Brougham'} \n",
      "\n",
      "{u'assembly': [u'Atlanta', u'Flint Michigan', u'Kansas City Kansas', u'Linden New Jersey', u'South Gate California', u'United States'], u'name': u'Fourth generation'} \n",
      "\n",
      "{u'assembly': [u'Atlanta', u'Flint Michigan', u'Framingham Massachusetts', u'Kansas City Kansas', u'Linden New Jersey', u'South Gate California', u'United States', u'Wilmington Delaware'], u'name': u'Fifth generation'} \n",
      "\n",
      "{u'assembly': [u'Arlington Texas', u'Atlanta', u'Flint Michigan', u'Framingham Massachusetts', u'Kansas City Kansas', u'Linden New Jersey', u'South Gate California', u'United States', u'Wilmington Delaware'], u'name': u'Sixth generation'} \n",
      "\n",
      "{u'assembly': [u'Arlington Texas', u'Atlanta', u'Flint Michigan', u'Framingham Massachusetts', u'Kansas City Kansas', u'Linden New Jersey', u'South Gate California', u'United States', u'Wilmington Delaware'], u'name': u'Seventh generation'} \n",
      "\n",
      "{u'assembly': [u'Arlington Texas', u'United States'], u'name': u'Eighth generation'} \n",
      "\n",
      "{u'assembly': [u'6th of October City', u'Egypt', u'India', u'Montevideo', u'Nashik', u'Uruguay'], u'name': [u'Mahindra Goa (in Europe)', u'Mahindra Scorpio']} \n",
      "\n",
      "{u'assembly': [u'Alliston', u'Canada', u'Lincoln Alabama', u'United States'], u'name': u'Honda Ridgeline'} \n",
      "\n",
      "{u'assembly': [u'Angola', u'Chennai', u'India', u'Iran', u'Kuala Lumpur', u'Kyushu', u'Malaysia', u'Russia', u'Taiwan', u'Tehran', u'Thailand', u'Wuhan', u'Xiangyang'], u'name': [u'Nissan Maxima (Australia and New Zealand)', u'Nissan Teana J32']} \n",
      "\n",
      "{u'assembly': [u'Australia', u'Clayton South Victoria', u'Greece', u'Japan', u'Miaoli County', u'Taiwan', u'Volos', u'Yajima'], u'name': [u'Arex Pulsar', u'N14', u'Nissan Sentra (New Zealand)', u'Nissan Sunny (Europe)']} \n",
      "\n",
      "{u'assembly': [u'Australia', u'United Kingdom'], u'name': u'Sunbeam Alpine Mark I & III'} \n",
      "\n",
      "{u'assembly': [u'Arlington Texas', u'Pontiac Michigan'], u'name': u'Third Generation'} \n",
      "\n",
      "{u'assembly': [u'Arlington Texas', u'Pontiac Michigan'], u'name': u'Fourth Generation'} \n",
      "\n",
      "{u'assembly': [u'Alabama', u'Montgomery Alabama', u'South Korea', u'Taiwan', u'Ulsan'], u'name': [u'Fifth generation (MD/UD)', u'Hyundai Avante (South Korea)']} \n",
      "\n",
      "{u'assembly': [u'Athens', u'Burntwood', u'England', u'Greece', u'Tamworth Staffordshire'], u'name': u'Reliant Robin'} \n",
      "\n",
      "{u'assembly': [u'Australia', u'Birmingham', u'England', u'Longbridge', u'Mutare', u'Portugal', u'Rhodesia', u'Set\\xfabal', u'Zetland New South Wales'], u'name': [u'Austin Mini Moke', u'Leyland Moke', u'Mini Moke', u'Morris Mini Moke']} \n",
      "\n",
      "{u'assembly': [u'Alliston', u'Canada', u'Lincoln Alabama', u'United States'], u'name': u'First generation'} \n",
      "\n",
      "{u'assembly': [u'Ayutthaya', u'Hsinchu County', u'Laguna (province)', u'Philippines', u'Santa Rosa Laguna', u'Sayama Saitama', u'Swindon'], u'name': u'First generation (RD1\\u2013RD3)'} \n",
      "\n",
      "{u'assembly': [u'Ayutthaya', u'Laguna (province)', u'Philippines', u'Pingtung County', u'Santa Rosa Laguna', u'Sayama Saitama', u'Swindon', u'Wuhan'], u'name': u'Second generation (RD4\\u2013RD7)'} \n",
      "\n",
      "{u'assembly': [u'Ayutthaya', u'East Liberty Ohio', u'El Salto Jalisco', u'Karawang', u'Pingtung County', u'Sayama Saitama', u'Swindon', u'V\\u0129nh Ph\\xfac Province', u'Wuhan'], u'name': u'Third generation (RE1\\u2013RE5 RE7)'} \n",
      "\n",
      "{u'assembly': [u'Alliston', u'Ayutthaya', u'East Liberty Ohio', u'El Salto Jalisco', u'Karawang', u'Sayama Saitama', u'Swindon'], u'name': u'Fourth generation (RM1 RM3 RM4)'} \n",
      "\n",
      "{u'assembly': [u'Australia', u'United Kingdom'], u'name': [u'Austin Balanza', u'Austin Freeway', u'Austin Windsor', u'BMC ADO17', u'Morris Monaco']} \n",
      "\n",
      "{u'assembly': [u'Algeria', u'Algiers', u'Bulgaria', u'Canada', u'Casablanca', u'Ciudad_Sahagun', u'Flins Renault Factory', u'Heidelberg', u'Mariara', u'Mioveni', u'Morocco', u'Plovdiv', u'Quebec', u'Romania', u'Saint-Bruno-de-Montarville', u'Valladolid', u'Venezuela'], u'name': [u'Bulgarrenault 8/10', u'Dacia 1100', u'Renault 10', u'Renault 8 / 10']} \n",
      "\n",
      "{u'assembly': [u'Aichi Prefecture', u'Japan', u'Kariya Aichi', u'Toyota Aichi'], u'name': [u'Toyota Canarado (Asia Pacific)', u'Toyota Estima (Japan)', u'Toyota Previa', u'Toyota Tarago (Australia)']} \n",
      "\n",
      "{u'assembly': [u'Aichi Prefecture', u'Japan', u'Toyota Aichi'], u'name': u'Toyota Cressida'} \n",
      "\n",
      "{u'assembly': [u'Australia', u'Brampton', u'Canada', u'Durban', u'Kenosha Wisconsin', u'Mexico', u'Mexico City', u'Port Melbourne Victoria', u'South Africa', u'United States'], u'name': [u'AMC Hornet', u'Rambler American (Mexico)', u'Rambler Hornet (Australia)', u'VAM American (Mexico)']} \n",
      "\n",
      "{u'assembly': [u'Aguascalientes', u'Angola', u'China', u'Civac', u'Cuernavaca', u'Guangzhou', u'Japan', u'Luanda', u'Malaysia', u'Mexico', u'Miaoli County', u'Oppama', u'Samut Prakan Province', u'Serendah', u'Taiwan', u'Thailand', u'Wuhan'], u'name': [u'Dodge Trazo (South America)', u'First generation (C11)', u'Nissan Latio (Singapore Indonesia & Malaysia)', u'Nissan Tiida Latio (Japan)', u'Nissan Versa (United States & Canada)']} \n",
      "\n",
      "{u'assembly': [u'Argentina', u'China', u'France', u'Mulhouse', u'Villa Bosch', u'Wuhan'], u'name': [u'Citro\\xebn C-Quatr\\xe8', u'Citro\\xebn C-Triomphe', u'Citro\\xebn C4 Pallas', u'First generation']} \n",
      "\n",
      "{u'assembly': [u'Australia', u'Flins Renault Factory', u'Heidelberg West Victoria'], u'name': u'Renault 16'} \n",
      "\n",
      "{u'assembly': [u'Australia', u'South Bend Indiana'], u'name': u'Studebaker Champion'} \n",
      "\n",
      "{u'assembly': [u'Aichi Prefecture', u'Japan', u'Tahara'], u'name': u'Toyota 4Runner'} \n",
      "\n",
      "{u'assembly': [u'6th of October City', u'Japan', u'Lafayette Indiana', u'Luton', u'Rayong'], u'name': [u'First generation', u'Isuzu Cameo', u'Isuzu Vega']} \n",
      "\n",
      "{u'assembly': [u'Australia', u'United Kingdom'], u'name': [u'Envoy', u'Vauxhall VX4/90', u'Vauxhall Ventora', u'Vauxhall Victor']} \n",
      "\n",
      "{u'assembly': [u'Aichi Prefecture', u'Japan', u'Laguna (province)', u'Philippines', u'Santa Rosa Laguna', u'Tahara', u'Toyota Aichi'], u'name': [u'First generation', u'Toyota RAV4 EV']} \n",
      "\n",
      "{u'assembly': [u'Aichi Prefecture', u'Hino Motors', u'Japan', u'Montevideo', u'South America', u'Tahara Aichi', u'Toyota Aichi', u'Uruguay'], u'name': [u'1 Ton', u'Fourth generation N40 series', u'Toyota Hilux Hercules (1984\\u20131987)', u'Toyota Hilux Hero (1987\\u20131990)']} \n",
      "\n",
      "{u'assembly': [u'Aichi Prefecture', u'Argentina', u'Christchurch', u'Colombia', u'Envigado', u'Fremont California', u'Germany', u'Hamura Tokyo', u'Hanover', u'Japan', u'Laguna (province)', u'New Zealand', u'Philippines', u'Santa Rosa Laguna', u'Tahara Aichi', u'Z\\xe1rate Buenos Aires Province'], u'name': [u'Fifth generation N50 series', u'Toyota 4\\xd72', u'Toyota 4\\xd74', u'Toyota Hilux Mighty-X (1990\\u20131998)', u'Volkswagen Taro']} \n",
      "\n",
      "{u'assembly': [u'Argentina', u'Chachoengsao Province', u'China', u'Cuman\\xe1', u'Durban', u'Guangzhou', u'Karachi', u'Laguna (province)', u'Pakistan', u'Philippines', u'Samut Prakan Province', u'Santa Rosa Laguna', u'South Africa', u'Thailand', u'Venezuela', u'Z\\xe1rate Buenos Aires Province'], u'name': [u'Guangzhou Toyota Hilux', u'Seventh generation N70 series', u'Toyota Hilux Vigo']} \n",
      "\n",
      "{u'assembly': [u'Asan', u'Botswana', u'Gaborone', u'Izhevsk', u'Korea', u'Russia'], u'name': [u'Fourth generation (EF)', u'Hyundai EF Sonata (South Korea)', u'Hyundai Sonata Viv (South Africa)', u'Hyundai Sonica (Italy)']} \n",
      "\n",
      "{u'assembly': [u'Asan', u'Beijing', u'China', u'Korea', u'Russia', u'Taganrog'], u'name': [u'Beijing-Hyundai Sonata', u'Fourth generation (facelift)', u'Hyundai New EF Sonata (South Korea)', u'Hyundai Sonata Gold (India)', u'Hyundai Sonica (Italy)']} \n",
      "\n",
      "{u'assembly': [u'\\u0130zmit', u'Al Jazirah (state)', u'Alabama', u'Asan', u'Beijing', u'Cairo', u'Chennai', u'China', u'Egypt', u'India', u'Korea', u'Montgomery Alabama', u'Sudan', u'Thailand', u'Thonburi', u'Turkey', u'United States'], u'name': [u'Beijing-Hyundai NF Yu Xiang', u'Beijing-Hyundai Sonata Yu Xiang', u'Beijing-Hyundai Sonata Ling Xiang', u'Fifth generation (NF)', u'Hyundai NF Sonata (Russia)', u'Hyundai Sonata CVVT-i (Malaysia)', u'Hyundai Sonata Embera (India)', u'Hyundai Sonata Transform (Facelift)', u'Hyundai Sonica (Italy)']} \n",
      "\n",
      "{u'assembly': [u'Asan', u'Beijing', u'Montgomery Alabama'], u'name': [u'Hyundai i45', u'Sixth generation (YF)']} \n",
      "\n",
      "{u'assembly': [u'Argentina', u'C\\xf3rdoba Argentina', u'Casablanca', u'Chile', u'Italy', u'Rancagua', u'Somaca'], u'name': u'Fiat 125'} \n",
      "\n",
      "{u'assembly': [u'Argentina', u'Australia', u'Barcelona', u'Bogot\\xe1', u'Buenos Aires', u'Caseros Buenos Aires', u'Chile', u'Colombia', u'Italy', u'Kragujevac', u'Rancagua', u'Serbia', u'Spain', u'Turin', u'Yugoslavia'], u'name': [u'Fiat 600', u'Fiat 770']} \n",
      "\n",
      "{u'assembly': [u'Argentina', u'Australia', u'C\\xf3rdoba Argentina', u'Casablanca', u'Morocco'], u'name': u'Fiat 1100'} \n",
      "\n",
      "{u'assembly': [u'Atessa', u'Atessa Val di Sangro S.S.D.', u'Bursa', u'Karsan', u'Minas Gerais', u'Sete Lagoas', u'Sollers JSC', u'Tatarstan', u'Yelabuga'], u'name': u'Fiat Ducato'} \n",
      "\n",
      "{u'assembly': [u'Australia', u'Canada', u'Hamilton Ontario', u'South Bend Indiana'], u'name': u'First generation'} \n",
      "\n",
      "{u'assembly': [u'Australia', u'Canada', u'Hamilton Ontario', u'South Bend Indiana'], u'name': u'Second generation'} \n",
      "\n",
      "{u'assembly': [u'Australia', u'Canada', u'Hamilton Ontario', u'South Bend Indiana'], u'name': u'Third generation'} \n",
      "\n",
      "{u'assembly': [u'Abingdon-on-Thames', u'Australia', u'Zetland New South Wales'], u'name': u'MGB'} \n",
      "\n",
      "{u'assembly': [u'Arlington Texas', u'United States'], u'name': u'Second generation'} \n",
      "\n",
      "{u'assembly': [u'Argentina', u'Betim', u'Bogot\\xe1', u'Brazil', u'C\\xf3rdoba Argentina', u'Canelones Uruguay', u'Colombia', u'La Victoria Aragua', u'Lamborghini', u\"Sant'Agata Bolognese\", u'Uruguay', u'Venezuela'], u'name': [u'Fiat 147', u'Fiat 147 City (pick-up)', u'Fiat 148 (Panorama Uruguay)', u'Fiat Br\\xedo', u'Fiat Spazio', u'Fiat Tuc\\xe1n', u'Fiat Vivace']} \n",
      "\n",
      "{u'assembly': [u'Anting', u'China', u'Czech Republic', u'India', u'Kazakhstan', u'Mlad\\xe1 Boleslav', u'Oskemen', u'Solomonovo', u'Ukraine'], u'name': [u'\\u0160koda Fabia 5J (Ukraine 7/2007 to 4/2010)', u'\\u0160koda Fabia Jingrui (China)', u'\\u0160koda Fabia MG (Ukraine since 4/2010)', u'\\u0160koda Fabia Mk2 (5J)']} \n",
      "\n",
      "{u'assembly': [u'Argentina', u'General Pacheco', u'Martorell', u'Spain'], u'name': u'SEAT C\\xf3rdoba Mk1 (6K)'} \n",
      "\n",
      "{u'assembly': [u\"Alfa Romeo Pomigliano d'Arco Plant\", u'Italy'], u'name': u'Alfa Romeo 159'} \n",
      "\n",
      "{u'assembly': [u'Aurangabad Maharashtra', u'Changchun', u'Euromobil_Sdn._Bhd.', u'India', u'Ingolstadt', u'Shah Alam'], u'name': u'Audi Q5'} \n",
      "\n",
      "{u'assembly': [u'Argentina', u'Bekasi', u'Canada', u'Ecuador', u'Indonesia', u'Ingersoll Ontario', u'Iran', u'Iwata Shizuoka', u'Japan', u'Khorasan', u'Linares Ja\\xe9n', u'Pasig', u'Philippines', u'Quito', u'Santa Fe Province', u'Shizuoka Prefecture', u'Spain'], u'name': u'Suzuki Escudo'} \n",
      "\n",
      "{u'assembly': [u'Austria', u'Detroit', u'Graz', u'United States'], u'name': u'Jeep Commander'} \n",
      "\n",
      "{u'assembly': [u'Abingdon-on-Thames', u'Australia', u'Enfield New South Wales', u'New South Wales'], u'name': u'MGA'} \n",
      "\n",
      "{u'assembly': [u'Arese', u'Italy', u'Milan'], u'name': [u'Alfa Romeo 75 / Milano', u'Alfa Romeo Milano']} \n",
      "\n",
      "{u'assembly': [u'Aguascalientes', u'Canton Mississippi', u'Germany', u'Mexico', u'R\\xfcsselsheim', u'Smyrna Tennessee', u'United States'], u'name': [u'Eleventh generation (YL35)', u'Nissan Altima (North America)']} \n",
      "\n",
      "{u'assembly': [u'Argentina', u'Buenos Aires', u'United States', u'Warren Michigan'], u'name': [u'Dodge D Series', u'Dodge Power Ram (4x4 models from 1981\\u20131993)', u'Dodge Ram (1981\\u20131993)', u'Dodge W-Series (4x4 models)']} \n",
      "\n",
      "{u'assembly': [u'Australia', u'United Kingdom', u'Victoria Park Racecourse Sydney'], u'name': u'Riley 1.5Wolseley 1500'} \n",
      "\n",
      "{u'assembly': [u'Australia', u'Mexico', u'South Africa', u'United Kingdom'], u'name': [u'Austin A40 Farina', u'Austin A40 Futura']} \n",
      "\n",
      "{u'assembly': [u'Australia', u'Japan', u'Longbridge', u'United Kingdom'], u'name': u'Austin A40 Somerset'} \n",
      "\n",
      "{u'assembly': [u'Australia', u'England', u'Japan'], u'name': [u'A50', u'Austin A50 Coupe Utility']} \n",
      "\n",
      "{u'assembly': [u'Australia', u'Melbourne', u'United Kingdom'], u'name': [u'Austin A70', u'Hampshire/Hereford']} \n",
      "\n",
      "{u'assembly': [u'Australia', u'United Kingdom', u'Victoria Park Racecourse Sydney'], u'name': u'Wolseley 4/50'} \n",
      "\n",
      "{u'assembly': [u'Australia', u'United Kingdom'], u'name': u'Wolseley 15/60'} \n",
      "\n",
      "{u'assembly': [u'Australia', u'England', u'Longbridge plant', u'Sydney'], u'name': u'A90'} \n",
      "\n",
      "{u'assembly': [u'Australia', u'England', u'Longbridge plant', u'Sydney'], u'name': u'A95/A105'} \n",
      "\n",
      "{u'assembly': [u'Australia', u'England', u'Longbridge plant', u'Sydney'], u'name': u'A99'} \n",
      "\n",
      "{u'assembly': [u'Asaka Uzbekistan', u'Bupyeong District', u'Cairo', u'Craiova', u'Egypt', u'Hanoi', u'Iran', u'Kerman', u'Lublin', u'Poland', u'Romania', u'South Korea', u'Uzbekistan', u'Vietnam'], u'name': [u'Chevrolet Nexia', u'Daewoo Cielo', u'Daewoo Heaven', u'Daewoo Nexia', u'Daewoo Racer', u'Daewoo Super Racer']} \n",
      "\n",
      "{u'assembly': [u'Asaka Uzbekistan', u'Changwon', u'Craiova', u'Gujarat', u'Halol', u'Hanoi', u'India', u'Iran', u'Karachi', u'Kerman', u'Pakistan', u'Poland', u'Romania', u'South Korea', u'Taipei', u'Taiwan', u'Uzbekistan', u'Vietnam', u'Warsaw'], u'name': [u'Baojun Lechi (China)', u'Chevrolet Exclusive', u'Chevrolet Joy', u'Chevrolet Lechi (China)', u'Chevrolet Matiz', u'Chevrolet Spark', u'Chevrolet Taxi 7:24 Chronos', u'Daewoo Matiz Matiz II', u'FSO Matiz', u'First generation (M100 & M150)', u'Formosa Matiz (Taiwan)', u'Pontiac G2', u'Pontiac Matiz', u'UzDaewoo Matiz']} \n",
      "\n",
      "{u'assembly': [u'Asaka Uzbekistan', u'Bogot\\xe1', u'Changwon', u'Colombia', u'India', u'Maharashtra', u'South Korea', u'Talegaon Dabhade', u'Uzbekistan'], u'name': [u'Chevrolet Spark (North America Europe Middle East and South Korea)', u'Chevrolet Beat (India)', u'Chevrolet Spark GT (Chile Ecuador and Colombia)', u'Daewoo Matiz Creative (South Korea)', u'Holden Barina Spark (Australia)', u'Third generation (M300)']} \n",
      "\n",
      "{u'assembly': [u'Australia', u'West Germany'], u'name': u'Mercedes-Benz W120/W121'} \n",
      "\n",
      "{u'assembly': [u'Australia', u'Barcelona Anzo\\xe1tegui', u'Germany', u'Port Melbourne Victoria', u'Sindelfingen', u'Venezuela'], u'name': u'Mercedes-Benz W110'} \n",
      "\n",
      "{u'assembly': [u'Argentina', u'Barcelona Anzo\\xe1tegui', u'East London Eastern Cape', u'Gonz\\xe1lez Cat\\xe1n', u'Sindelfingen', u'South Africa', u'Venezuela', u'West Germany'], u'name': u'Mercedes-Benz W114/W115'} \n",
      "\n",
      "{u'assembly': [u'6th of October City', u'Bremen', u'Mexico', u'Santiago Tianguistenco', u'Sindelfingen'], u'name': u'Mercedes-Benz W210'} \n",
      "\n",
      "{u'assembly': [u'6th of October City', u'Austria', u'Beijing', u'Bogor', u'China', u'Egypt', u'Germany', u'Graz', u'Indonesia', u'Iran', u'Malaysia', u'Mexico', u'Pekan', u'Santiago Tianguistenco', u'Sindelfingen', u'Tehran', u'Toluca'], u'name': [u'Mercedes-Benz E-Class', u'Mercedes-Benz W211']} \n",
      "\n",
      "{u'assembly': [u'Asaka Uzbekistan', u'Bogot\\xe1', u'Bupyeong District', u'Colombia', u'Halol', u'Hanoi', u'India', u'Kaliningrad', u'Kazakhstan', u'Miaoli City', u'Oskemen', u'Rayong', u'Russia', u'South Korea', u'Taiwan', u'Thailand', u'Uzbekistan', u'Valencia Carabobo', u'Venezuela', u'Vietnam'], u'name': u'Daewoo Lacetti'} \n",
      "\n",
      "{u'assembly': [u'Asaka Uzbekistan', u'Bogot\\xe1', u'Bupyeong District', u'China', u'Colombia', u'Halol', u'Hanoi', u'India', u'Kaliningrad', u'Kazakhstan', u'Miaoli City', u'Oskemen', u'Rayong', u'Russia', u'Shanghai', u'South Korea', u'Taiwan', u'Thailand', u'Uzbekistan', u'Valencia Carabobo', u'Venezuela', u'Vietnam'], u'name': [u'Buick Excelle', u'Buick Excelle HRV', u'Chevrolet Estate (Indonesia)', u'Chevrolet Lacetti', u'Chevrolet Nubira', u'Chevrolet Optra', u'Chevrolet Optra Magnum', u'Chevrolet Optra XL', u'Chevrolet Optra5', u'Daewoo Lacetti', u'Daewoo Nubira', u'First generation', u'Hatchback:', u'Holden Viva', u'Sedan:', u'Suzuki Forenza', u'Suzuki Reno', u'Wagon:']} \n",
      "\n",
      "{u'assembly': [u'Australia', u'United Kingdom'], u'name': u'Humber Super Snipe'} \n",
      "\n",
      "{u'assembly': [u'6th of October City', u'Bupyeong District', u'Cairo', u'Egypt', u'Hanoi', u'Poland', u'Russia', u'South Korea', u'Taganrog', u'Ukraine', u'Vietnam', u'Warsaw', u'Zaporizhia'], u'name': [u'Chevrolet Lanos', u'Daewoo Lanos', u'Daewoo Sens', u'Doninvest Assol', u'FSO Lanos', u'FSO Lanos plus', u'ZAZ Chance', u'ZAZ Lanos', u'ZAZ Sens']} \n",
      "\n",
      "{u'assembly': [u'Asaka Uzbekistan', u'Bupyeong District', u'Hanoi', u'Kaliningrad', u'Oskemen', u'Rayong'], u'name': [u'Chevrolet Captiva', u'Daewoo Winstorm', u'Holden Captiva']} \n",
      "\n",
      "{u'assembly': [u'Atlanta', u'Lorain Ohio'], u'name': u'Ford LTD II'} \n",
      "\n",
      "{u'assembly': [u'Aksaray', u'Germany', u'Turkey', u'W\\xf6rth am Rhein'], u'name': u'Mercedes-Benz Atego'} \n",
      "\n",
      "{u'assembly': [u'Asan', u'South Korea'], u'name': [u'First generation (RD/RD2)', u'Hyundai Tiburon', u'Hyundai Tiburon Turbulence (KDM Facelift)']} \n",
      "\n",
      "{u'assembly': [u'\\u0130zmit', u'Asan', u'Korea', u'Kulim', u'Malaysia', u'Montgomery Alabama', u'Turkey', u'United States', u'West Point Georgia'], u'name': [u'Inokom Santa Fe (Malaysia)', u'Second Generation (CM)']} \n",
      "\n",
      "{u'assembly': [u'Asan', u'South Korea', u'United States', u'West Point Georgia'], u'name': [u'Hyundai Maxcruz (KDM; for long-wheelbase model)', u'Third generation (DM)']} \n",
      "\n",
      "{u'assembly': [u'Australia', u'New Zealand', u'United Kingdom'], u'name': u'Vauxhall Cresta'} \n",
      "\n",
      "{u'assembly': [u'Australia', u'United Kingdom'], u'name': u'Vauxhall Cresta PB'} \n",
      "\n",
      "{u'assembly': [u'Australia', u'United Kingdom'], u'name': u'Morris Oxford MO'} \n",
      "\n",
      "{u'assembly': [u'Australia', u'United Kingdom'], u'name': u'Morris Oxford II'} \n",
      "\n",
      "{u'assembly': [u'Australia', u'United Kingdom'], u'name': u'Morris Oxford III'} \n",
      "\n",
      "{u'assembly': [u'Australia', u'United Kingdom'], u'name': u'Morris Oxford V'} \n",
      "\n",
      "{u'assembly': [u'Australia', u'United Kingdom', u'Victoria Park Racecourse Sydney'], u'name': u'Morris Isis Series I'} \n",
      "\n",
      "{u'assembly': [u'Australia', u'Kenosha Wisconsin', u'Mexico', u'Mexico City', u'Port Melbourne Victoria', u'Thames New Zealand', u'United States'], u'name': [u'AMC Matador', u'Rambler Matador (foreign markets)', u'VAM Classic (Mexico)']} \n",
      "\n",
      "{u'assembly': [u'6th of October City', u'Egypt', u'Germany', u'Malaysia', u'Mexico', u'Pekan', u'Sindelfingen', u'Toluca'], u'name': u'Mercedes-Benz W221'} \n",
      "\n",
      "{u'assembly': [u'Austria', u'Vienna'], u'name': u'Felber Autoroller'} \n",
      "\n",
      "{u'assembly': [u'Aichi Prefecture', u'Hamura Tokyo', u'Japan', u'Tokyo', u'Toyota Aichi'], u'name': [u'Corolla II', u'Corolla Tercel', u'Corsa', u'Soluna', u'Toyota Tercel']} \n",
      "\n",
      "{u'assembly': [u'Aichi Prefecture', u'Japan', u'Taiwan', u'Toyota Aichi', u'Zhongli'], u'name': [u'Fifth generation', u'Toyota Corolla II (JPN)', u'Toyota Corsa (JPN)', u'Toyota Soluna (Asia)']} \n",
      "\n",
      "{u'assembly': [u'Aurangabad Maharashtra', u'Czech Republic', u'India', u'Kazakhstan', u'Mlad\\xe1 Boleslav', u'Oskemen', u'Solomonovo', u'Ukraine'], u'name': [u'\\u0160koda Octavia Tour/Drive (in markets where Mk2 was introduced in 2004)', u'\\u0160koda Octavia Mk1 (1U)']} \n",
      "\n",
      "{u'assembly': [u'Angola', u'Anting', u'Aurangabad Maharashtra', u'Bratislava', u'China', u'Czech Republic', u'India', u'Kaluga', u'Kazakhstan', u'Luanda', u'Mlad\\xe1 Boleslav', u'Oskemen', u'Russia', u'Slovakia', u'Solomonovo', u'Ukraine', u'Vrchlab\\xed'], u'name': [u'\\u0160koda Octavia Mingrui (China since facelift in 2010)', u'\\u0160koda Octavia Tour (pre-facelift version from 2010)', u'\\u0160koda Laura (India)', u'\\u0160koda Octavia A5', u'\\u0160koda Octavia II', u'\\u0160koda Octavia Mk2 (1Z)', u'\\u0160koda Octavia5']} \n",
      "\n",
      "{u'assembly': [u'Avon Lake Ohio', u'Ohio Assembly'], u'name': [u'First generation', u'Mercury Villager']} \n",
      "\n",
      "{u'assembly': [u'Avon Lake Ohio', u'United States'], u'name': [u'Mercury Villager', u'Second generation']} \n",
      "\n",
      "{u'assembly': [u'Audi Motor Assembly', u'Germany', u'Neckarsulm', u'Tokyo'], u'name': u'Audi S6'} \n",
      "\n",
      "{u'assembly': [u'Australia', u'Cork', u'England', u'Ford Lio Ho', u'Genk', u'Germany', u'Halewood Body & Assembly', u'Homebush New South Wales', u'Nazareth', u'New Zealand', u'Saarlouis'], u'name': u'Ford Escort Mark I'} \n",
      "\n",
      "{u'assembly': [u'Australia', u'Cork', u'England', u'Germany', u'Halewood Body & Assembly', u'Homebush New South Wales', u'New Zealand', u'Saarlouis', u'Wiri'], u'name': u'Ford Escort Mark II'} \n",
      "\n",
      "{u'assembly': [u'Almussafes', u'Brazil', u'England', u'Germany', u'Halewood Body & Assembly', u'S\\xe3o Bernardo do Campo', u'Saarlouis', u'Spain', u'Valencian Community'], u'name': u'Ford Escort Mark III'} \n",
      "\n",
      "{u'assembly': [u'Almussafes', u'Argentina', u'Brazil', u'England', u'General Pacheco', u'Germany', u'Halewood Body & Assembly', u'S\\xe3o Bernardo do Campo', u'Saarlouis', u'Spain', u'Valencia Carabobo', u'Valencian Community', u'Venezuela'], u'name': u'Ford Escort Mark IV'} \n",
      "\n",
      "{u'assembly': [u'Almussafes', u'Brazil', u'England', u'Germany', u'Halewood Body & Assembly', u'S\\xe3o Bernardo do Campo', u'Saarlouis', u'Spain', u'Valencian Community'], u'name': u'Ford Escort Mark V'} \n",
      "\n",
      "{u'assembly': [u'Almussafes', u'Bursa', u'England', u'Germany', u'Halewood Body & Assembly', u'Saarlouis', u'Spain', u'Turkey', u'Valencian Community'], u'name': u'Ford Escort Mark Vb'} \n",
      "\n",
      "{u'assembly': [u'Almussafes', u'Belarus', u'Bursa', u'Chennai', u'England', u'Ford Union', u'General_Pacheco_Argentina', u'Germany', u'Halewood Body & Assembly', u'India', u'Obchuk', u'Saarlouis', u'Spain', u'Turkey', u'Valencian Community'], u'name': [u'Ford Escort Classic (D 11/1998-7/2000)', u'Ford Escort Mark VI', u'Ford EuroEscort (RA)']} \n",
      "\n",
      "{u'assembly': [u'Algeria', u'Algiers', u'France', u'Mexico', u'Mioveni', u'Romania', u'Sahagun City'], u'name': [u'Dacia D6 (Romania)', u'Renault Estafette', u'Renault Hi-Boy (USA Canada)', u'Renault Petit-Panel (USA Canada)']} \n",
      "\n",
      "{u'assembly': [u'Argentina', u'Fiat', u'SEAT', u'Spain'], u'name': [u'Fiat 133', u'SEAT 133']} \n",
      "\n",
      "{u'assembly': [u'Argentina', u'Spain'], u'name': u'SEAT Inca'} \n",
      "\n",
      "{u'assembly': [u'Atlanta Assembly', u'Lorain Ohio'], u'name': u'Fifth generation'} \n",
      "\n",
      "{u'assembly': [u'Argentina', u'General Pacheco', u'Lorain Ohio'], u'name': u'Sixth generation'} \n",
      "\n",
      "{u'assembly': [u'Arese', u'Italy', u'Milan', u'Province of Turin', u'San Giorgio Canavese'], u'name': u'Alfa Romeo GTV & Spider'} \n",
      "\n",
      "{u'assembly': [u'Arese', u'Milan', u'Portello (district of Milan)'], u'name': u'Alfa Romeo Giulia (saloon)'} \n",
      "\n",
      "{u'assembly': [u'Argentina', u'Billancourt', u'C\\xf3rdoba Argentina', u'Colombia', u'Envigado', u'Spain', u'Valladolid'], u'name': u'Renault 6'} \n",
      "\n",
      "{u'assembly': [u'Abidjan', u'Argentina', u'Billancourt', u'C\\xf3rdoba Argentina', u'Casablanca', u'Ciudad_Sahag%C3%B9n', u'Col%C3%B3n_Uruguay', u'Colombia', u'Envigado', u'Heidelberg Victoria', u'Ivory Coast', u'Los Andes Chile', u'Mariara', u'Morocco', u'Novo Mesto', u'Pite\\u0219ti', u'Romania', u'Slovenia', u'Spain', u'Uruguay', u'Valladolid', u'Venezuela'], u'name': u'Renault 18'} \n",
      "\n",
      "{u'assembly': [u'Australia', u'Boulogne-Billancourt', u'France', u'Hino Tokyo', u'Japan', u'Spain', u'Sydney', u'Valladolid'], u'name': [u'Hino 4CV', u'Renault 4/4', u'Renault 4CV', u'Renault 750', u'Renault 760']} \n",
      "\n",
      "{u'assembly': [u'Alcobendas', u'Germany', u'Ludwigsfelde', u'Spain'], u'name': [u'Mercedes-Benz Vario', u'W670']} \n",
      "\n",
      "{u'assembly': [u'Australia', u'Indonesia', u'Jakarta', u'Nagoya', u'Toyota Aichi'], u'name': u'Toyota Crown'} \n",
      "\n",
      "{u'assembly': [u'AutoEuropa', u'Palmela Municipality', u'Portugal'], u'name': u'Volkswagen Eos (1F7)'} \n",
      "\n",
      "{u'assembly': [u'\\u0130zmit', u'Asan', u'South Korea', u'Turkey'], u'name': [u'Hyundai Grandeur XG (South Korea)', u'Hyundai XG25', u'Hyundai XG30', u'Hyundai XG300', u'Hyundai XG350', u'Third generation (XG)']} \n",
      "\n",
      "{u'assembly': [u'Asan', u'Czech Republic', u'No\\u0161ovice', u'South Korea'], u'name': [u'Fourth generation (TG)', u'Hyundai Azera', u'Hyundai The Luxury Grandeur (KDM Facelift)']} \n",
      "\n",
      "{u'assembly': [u'Arlington Texas', u'Canada', u'Oshawa', u'United States'], u'name': u'First generation'} \n",
      "\n",
      "{u'assembly': [u'An\\xe1polis', u'Brazil', u'Kedah', u'Kulim', u'Malaysia', u'Pakistan', u'South Korea', u'Ulsan'], u'name': [u'Dodge H-100 (Mexico)', u'Fourth generation', u'Hyundai Bakkie (South Africa)', u'Hyundai H-100', u'Hyundai HR (Brazil)', u'Hyundai Porter II', u'Hyundai Shehzore (Pakistan)', u'Inokom Lorimas AU26 (Malaysia)']} \n",
      "\n",
      "{u'assembly': [u'Australia', u'Clayton Victoria', u'Kalmar', u'Sweden'], u'name': u'Volvo 700'} \n",
      "\n",
      "{u'assembly': [u'Australia', u'Belgium', u'Canada', u'Ghent', u'Halifax Regional Municipality', u'Kalmar', u'Melbourne', u'Sweden'], u'name': u'Volvo 740'} \n",
      "\n",
      "{u'assembly': [u'Australia', u'Germany', u'Port Melbourne Victoria', u'Stuttgart'], u'name': [u'Mercedes-Benz Fintail', u'Mercedes-Benz W111']} \n",
      "\n",
      "{u'assembly': [u'Asaka Uzbekistan', u'Craiova', u'Gunsan', u'Hanoi', u'Poland', u'Romania', u'South Korea', u'Uzbekistan', u'Vietnam', u'Warsaw'], u'name': [u'Chevrolet Rezzo', u'Chevrolet Tacuma', u'Chevrolet Vivant', u'Daewoo Rezzo', u'Daewoo Tacuma']} \n",
      "\n",
      "{u'assembly': [u'Australia', u'West Germany'], u'name': u'NSU Prinz 30'} \n",
      "\n",
      "{u'assembly': [u'Alliston', u'Alor Gajah', u'Ayutthaya', u'Canada', u'Indonesia', u'Japan', u'Karawang', u'Malaysia', u'Philippines', u'Pingtung County', u'Santa Rosa Laguna', u'Suzuka Mie', u'Taiwan', u'V\\u0129nh Ph\\xfac Province', u'Vietnam'], u'name': [u'Acura CSX', u'Honda Civic Sedan']} \n",
      "\n",
      "{u'assembly': [u'Arese', u'Italy', u'Milan'], u'name': [u'Alfa Romeo Alfa 6', u'Alfa Sei']} \n",
      "\n",
      "{u'assembly': [u'Australia', u'Belgium', u'Birmingham', u'Cowley Oxfordshire', u'England', u'Lisbon', u'Longbridge', u'Porto', u'Portugal', u'Seneffe', u'Sydney', u'West Midlands (county)'], u'name': [u'Austin Mini', u'Austin Seven', u'Mini Mark I', u'Morris 850', u'Morris Mini']} \n",
      "\n",
      "{u'assembly': [u'Arese', u'Italy', u'Milan'], u'name': u'Alfa Romeo 90'} \n",
      "\n",
      "{u'assembly': [u'Argentina', u'Buenos Aires', u'Germany', u'Stuttgart'], u'name': u'Mercedes 170V'} \n",
      "\n",
      "{u'assembly': [u'Asaka Uzbekistan', u'Bupyeong District', u'Incheon', u'Kaliningrad', u'Kazakhstan', u'Oskemen', u'Russia', u'South Korea', u'Uzbekistan'], u'name': [u'Chevrolet Epica (Europe China)', u'Chevrolet Tosca (Iceland)', u'Daewoo Tosca', u'Holden Epica (Australasia)']} \n",
      "\n",
      "{u'assembly': [u'Arlington Texas', u'Atlanta', u'Baltimore', u'California', u'Canada', u'Flint', u'Fremont California', u'Georgia (U.S. state)', u'Kansas City Missouri', u'Maryland', u'Michigan', u'Oshawa', u'United States', u'Van Nuys Los Angeles'], u'name': u'First generation Sprint'} \n",
      "\n",
      "{u'assembly': [u'Arlington Texas', u'Baltimore', u'Canada', u'Doraville Georgia', u'Fremont California', u'Leeds Assembly', u'Oshawa', u'United States'], u'name': u'Second generation Sprint'} \n",
      "\n",
      "{u'assembly': [u'Arlington Texas', u'Baltimore', u'Canada', u'Doraville Georgia', u'Fremont California', u'Leeds_Missouri', u'Maryland', u'Mexico', u'Oshawa', u'Ramos Arizpe', u'United States'], u'name': u'GMC Caballero'} \n",
      "\n",
      "{u'assembly': [u'Arese', u'Brits South Africa', u'Milan', u'Rosslyn'], u'name': [u'Alfa Romeo 159i (sedan)', u'Alfa Romeo Alfetta']} \n",
      "\n",
      "{u'assembly': [u'Argentina', u'Australia', u'Brampton', u'Canada', u'Iran', u'Kenosha Wisconsin', u'Mexico', u'Mexico City', u'Port Melbourne Victoria', u'Pretoria', u'South Africa', u'Tehran', u'United States'], u'name': u'Rambler American'} \n",
      "\n",
      "{u'assembly': [u'Altona Victoria', u'Australia', u'Georgetown Kentucky', u'Japan', u'Port Melbourne Victoria', u'Toyota Aichi'], u'name': [u'Holden Apollo', u'Toyota Camry (XV10)', u'Toyota Scepter (Japan)', u'Toyota Vienta']} \n",
      "\n",
      "{u'assembly': [u'Angola', u'Japan', u'Kanagawa Prefecture', u'Luanda', u'Makati', u'Philippines', u'Zhengzhou_Nissan_Automobile_Company'], u'name': [u'Fourth generation (E25)', u'Isuzu COMO', u'Nissan Urvan', u'Nissan Urvan Estate']} \n",
      "\n",
      "{u'assembly': [u'Australia', u'United States']} \n",
      "\n",
      "{u'assembly': [u'Argentina', u'C\\xf3rdoba Argentina', u'Toledo Ohio'], u'name': [u'Beijing-Jeep BJ 2021 (4WD)', u'Beijing-Jeep BJ 7250 (2WD)', u'Jeep Cherokee (XJ)']} \n",
      "\n",
      "{u'assembly': [u'Arese', u'Italy', u'Milan', u'South Africa'], u'name': u'Alfa Romeo 1750/2000 Berlina'} \n",
      "\n",
      "{u'assembly': [u'Arlington Texas', u'Atlanta', u'Baltimore', u'Canada', u'Flint Michigan', u'Framingham Massachusetts', u'Fremont California', u'Kansas City Kansas', u'Oshawa', u'Sainte-Th\\xe9r\\xe8se Quebec', u'United States', u'Van Nuys Los Angeles'], u'name': u'Second generation'} \n",
      "\n",
      "{u'assembly': [u'Altona Victoria', u'Chachoengsao', u'Cikarang', u'Guangzhou', u'Phuc Yen', u'Santa Rosa Laguna', u'Shah Alam', u'V\\u0129nh Ph\\xfac Province', u'Zhongli'], u'name': [u'TRD Aurion', u'Toyota Aurion (XV40)', u'Toyota Camry']} \n",
      "\n",
      "{u'assembly': [u'Australia', u'United Kingdom'], u'name': u'Morris Eight Series E'} \n",
      "\n",
      "{u'assembly': [u'Australia', u'United Kingdom'], u'name': u'Morris Series Z'} \n",
      "\n",
      "{u'assembly': [u'Alcobendas', u'Argentina', u'Barcelona Anzo\\xe1tegui', u'D\\xfcsseldorf', u'Germany', u'Gonz\\xe1lez Cat\\xe1n', u'Knock-down kit', u'Ludwigsfelde', u'Spain', u'Venezuela'], u'name': u'Mercedes-Benz T2'} \n",
      "\n",
      "{u'assembly': [u'Australia', u'Belgium', u'Coventry', u'England', u'Li\\xe8ge', u'Mechelen', u'Melbourne', u'South Africa'], u'name': u'Triumph TR3'} \n",
      "\n",
      "{u'assembly': [u'Aguascalientes', u'Japan', u'Kyushu', u'Sunderland Tyne and Wear', u'United Kingdom'], u'name': [u'Hyundai iX20 (2014-)', u'Kia Venga (2013-)', u'Nissan Livina (2014-)', u'Nissan Note E12', u'Nissan Versa Note (US)', u'Renault Modus II (2014-)']} \n",
      "\n",
      "{u'assembly': [u'Alsace', u'France', u'Strasbourg'], u'name': u'Turbo-Hydramatic 180'} \n",
      "\n",
      "{u'assembly': [u'Alliston', u'Brazil', u'Canada', u'S\\xe3o Paulo', u'Sumar\\xe9'], u'name': [u'(FA5/FG2)', u'Eighth generation Si']} \n",
      "\n",
      "{u'assembly': [u'Argentina', u'Australia', u'Belgium', u'Brampton', u'C\\xf3rdoba Province Argentina', u'Canada', u'Haren Belgium', u'Kenosha Wisconsin', u'Mexico', u'Mexico City', u'Port Melbourne Victoria', u'United States'], u'name': [u'Rambler Classic', u'Rambler-Renault Classic (RIB)']} \n",
      "\n",
      "{u'assembly': [u'Australia', u'United States'], u'name': u'Hudson Wasp'} \n",
      "\n",
      "{u'assembly': [u'Australia', u'Germany', u'Port Melbourne Victoria'], u'name': u'Mercedes-Benz W180'} \n",
      "\n",
      "{u'assembly': [u'Allen Park Michigan', u'Canada', u'Dearborn Michigan', u'Oakville Ontario', u'Somerville Massachusetts', u'Wayne Michigan'], u'name': u'Second generation'} \n",
      "\n",
      "{u'assembly': [u'6th of October City', u'Beijing', u'China', u'Egypt', u'Germany', u'India', u'Malaysia', u'Mexico', u'Pekan', u'Pune', u'Sindelfingen', u'Toluca'], u'name': [u'Mercedes-Benz E-Class', u'Mercedes-Benz W212']} \n",
      "\n",
      "{u'assembly': [u'Azambuja Municipality', u'Portugal', u'Spain', u'Zaragoza'], u'name': [u'Chevrolet Combo', u'Combo C', u'Holden Combo (XC)', u'Vauxhall Combo']} \n",
      "\n",
      "{u'assembly': [u'Alexandria', u'Anhui', u'Babylon', u'China', u'Indonesia', u'Iraq', u'Jakarta', u'Kaliningrad', u'Russia', u'S.C.A.I._%22State_Company_for_Automotive_Industry%22', u'Wuhu'], u'name': [u'Chery IQ (Chile)', u'Chery QQ', u'Chery QQ3 (China)', u'Chery Sweet (Russia)', u'DR1 (Italy)', u'MVM 110 (Iran)']} \n",
      "\n",
      "{u'assembly': [u'Aichi Prefecture', u'Bangalore', u'Colombia', u'Envigado', u'India', u'Japan', u'Laguna (province)', u'Philippines', u'Russia', u'Santa Rosa Laguna', u'Tahara Aichi', u'Vladivostok'], u'name': [u'Land Cruiser Prado', u'Lexus GX (USA)']} \n",
      "\n",
      "{u'assembly': [u'Argentina', u'China', u'France', u'Indonesia', u'Jakarta', u'Kaluga', u'PSA Mulhouse Plant', u'PSA Sochaux Plant', u'Russia', u'Villa Bosch', u'Wuhan'], u'name': u'Peugeot 308'} \n",
      "\n",
      "{u'assembly': [u'Argentina', u'Australia', u'Buenos Aires', u'Campbellfield Victoria', u'Canada', u'Claycomo Missouri', u'Cuautitl\\xe1n', u'Mexico', u'Oakville Ontario', u'San Jose California'], u'name': u'First Generation'} \n",
      "\n",
      "{u'assembly': [u'Australia', u'Campbellfield Victoria', u'Claycomo Missouri', u'Cuautitl\\xe1n', u'Mexico'], u'name': u'Third Generation'} \n",
      "\n",
      "{u'assembly': [u'Anhui', u'China', u'Johor Bahru', u'Malaysia', u'Wuhu'], u'name': [u'Chery B14', u'Chery Boss (Turkey)', u'Chery Cross', u'Chery CrossEastar', u'Chery Crossover', u'Chery Destiny (Chile)', u'Chery Eastar Cross', u'Chery V5', u'Rely V5']} \n",
      "\n",
      "{u'assembly': [u'Argentina', u'Bursa', u'Busan', u'C\\xf3rdoba Argentina', u'Chennai', u'India', u'South Korea', u'Turkey'], u'name': [u'Renault Fluence', u'Renault Samsung SM3']} \n",
      "\n",
      "{u'assembly': [u'6th of October City', u'Dingolfing', u'Egypt', u'Germany', u'Mexico', u'Rayong', u'Thailand', u'Toluca'], u'name': u'BMW 7-Series (F01/F02)'} \n",
      "\n",
      "{u'assembly': [u'Anhui', u'Bam Iran', u'Cairo', u'China', u'Egypt', u'Iran', u'Wuhu'], u'name': [u'Chery Jaggi (Ukraine)', u'Chery QQ6', u'Chery S21 (Iran & South America)', u'Speranza A213 (Egypt)']} \n",
      "\n",
      "{u'assembly': [u'Adelaide', u'Australia', u'Brazil', u'France', u'Poissy'], u'name': [u'Ford Vedette', u'Simca Vedette']} \n",
      "\n",
      "{u'assembly': [u'Arica', u'Canada', u'Chile', u'Ontario', u'Oshawa', u'Sainte-Th\\xe9r\\xe8se Quebec'], u'name': u'Beaumont'} \n",
      "\n",
      "{u'assembly': [u'Argentina', u'Australia', u'Buenos Aires', u'Cologne', u'Copenhagen', u'Cork', u'Denmark', u'Detroit', u'England', u'Geelong', u'Germany', u'Ireland', u'Ontario', u'Saint Paul Minnesota', u'Trafford Park', u'Windsor Ontario'], u'name': u'Ford Model A'} \n",
      "\n",
      "{u'assembly': [u'Australia', u'France', u'Mile End South Australia'], u'name': u'Simca P60 Aronde'} \n",
      "\n",
      "{u'assembly': [u'Australia', u'United States'], u'name': u'Ford'} \n",
      "\n",
      "{u'assembly': [u'Australia', u'Campbellfield Victoria', u'Lorain Ohio'], u'name': u'Ford'} \n",
      "\n",
      "{u'assembly': [u'Australia', u'Dandenong Victoria', u'Pagewood New South Wales', u'Trentham New Zealand'], u'name': u'Holden VB Commodore'} \n",
      "\n",
      "{u'assembly': [u'Australia', u'Dandenong Victoria', u'Elizabeth South Australia', u'Trentham New Zealand'], u'name': u'Holden VC Commodore'} \n",
      "\n",
      "{u'assembly': [u'Angola', u'Anting', u'Bratislava', u'Brazil', u'China', u'Curitiba', u'Germany', u'Luanda', u'Navarre', u'Slovakia', u'South Africa', u'Spain', u'Uitenhage', u'Wolfsburg'], u'name': [u'Volkswagen Polo Mk4', u'Volkswagen Polo Vivo']} \n",
      "\n",
      "{u'assembly': [u'6th of October City', u'Algeria', u'Arica', u'Bi\\xf1an', u'Bogot\\xe1', u'Caracas', u'Ho Chi Minh City', u'Istanbul', u'Jakarta', u'Kairouan', u'Lagos', u'Pekan', u'Petaling Jaya', u'Port Elizabeth', u'Quito', u'Rayong Province', u'Sandton', u'Vendas Novas Municipality'], u'name': [u'Chevrolet Colorado', u'Chevrolet D-Max', u'Chevrolet LUV D-Max', u'Chevrolet T Series', u'GMC Canyon', u'Holden Colorado', u'Holden Rodeo', u'Isuzu D-Max', u'Isuzu KB', u'Isuzu LB', u'Isuzu Rodeo']} \n",
      "\n",
      "{u'assembly': [u'Australia', u'Dandenong Victoria', u'Elizabeth South Australia', u'Trentham New Zealand'], u'name': u'Holden VH Commodore'} \n",
      "\n",
      "{u'assembly': [u'Australia', u'Elizabeth South Australia', u'Trentham New Zealand'], u'name': [u'Holden VG Utility', u'Holden VN Berlina', u'Holden VN Calais', u'Holden VN Commodore', u'Toyota Lexcen (T1)']} \n",
      "\n",
      "{u'assembly': [u'Australia', u'Dandenong Victoria', u'Elizabeth South Australia', u'Trentham New Zealand'], u'name': [u'Holden VL Calais', u'Holden VL Commodore']} \n",
      "\n",
      "{u'assembly': [u'Allentown Pennsylvania', u'Hayward California'], u'name': u'Mack R Model'} \n",
      "\n",
      "{u'assembly': [u'Anhui', u'Cairo', u'China', u'Egypt', u'Indonesia', u'Iran', u'Jakarta', u'Kaliningrad', u'Kerman', u'Russia', u'Taganrog', u'Uruguay', u'Wuhu'], u'name': [u'Chery J11', u'Chery Ruihu', u'Chery Tiggo', u'MVM X33', u'Speranza Tiggo', u'Vortex Tingo', u'dr5']} \n",
      "\n",
      "{u'assembly': [u'Asaka Uzbekistan', u'Bupyeong District', u'South Korea', u'Uzbekistan'], u'name': [u'Chevrolet CMP', u'Chevrolet CMV', u'Daewoo Damas & Daewoo Labo']} \n",
      "\n",
      "{u'assembly': [u'Audi Brussels', u'Belgium', u'Bratislava', u'Brazil', u'Changchun', u'China', u'Germany', u'S\\xe3o Jos\\xe9 dos Pinhais', u'Slovakia', u'South Africa', u'Uitenhage', u'Wolfsburg'], u'name': [u'VW Bora HS (China 2006\\u20132008)', u'VW City Golf (Canada 2006\\u20132008)', u'VW Golf City (2009\\u20132010)', u'Volkswagen Golf Mk4']} \n",
      "\n",
      "{u'assembly': [u'Audi Brussels', u'Belgium', u'Changchun', u'China', u'Germany', u'Indonesia', u'Jakarta', u'Solomonovo', u'South Africa', u'Uitenhage', u'Ukraine', u'Wolfsburg'], u'name': [u'Volkswagen Golf Mk5', u'Volkswagen Rabbit']} \n",
      "\n",
      "{u'assembly': [u'Audi Brussels', u'Belgium', u'Bosnia and Herzegovina', u'Germany', u'Mexico', u'New Stanton Pennsylvania', u'Puebla Puebla', u'Sarajevo', u'South Africa', u'Uitenhage', u'United States', u'Wolfsburg'], u'name': u'Volkswagen Golf Mk2'} \n",
      "\n",
      "{u'assembly': [u'Audi Brussels', u'Belgium', u'Bratislava', u'Germany', u'Mexico', u'Puebla', u'Slovakia', u'South Africa', u'Uitenhage', u'Wolfsburg'], u'name': u'Volkswagen Golf Mk3'} \n",
      "\n",
      "{u'assembly': [u'Audi Brussels', u'Australia', u'Bosnia and Herzegovina', u'Germany', u'Melbourne', u'Mexico', u'New Stanton Pennsylvania', u'Puebla Puebla', u'South Africa', u'Uitenhage', u'United States', u'Vogo\\u0161\\u0107a', u'Wolfsburg'], u'name': [u'Volkswagen Cabriolet', u'Volkswagen Caddy', u'Volkswagen Caribe', u'Volkswagen CitiGolf', u'Volkswagen Golf Mk1', u'Volkswagen Rabbit']} \n",
      "\n",
      "{u'assembly': [u'Aichi Prefecture', u'Iwate Iwate', u'Japan', u'Kanegasaki Iwate', u'Toyota'], u'name': [u'Scion xD; XP110 series', u'Toyota Urban Cruiser', u'Toyota ist']} \n",
      "\n",
      "{u'assembly': [u'Arlington Texas', u'Atlanta', u'Baltimore', u'Canada', u'Flint Michigan', u'Framingham Massachusetts', u'Fremont California', u'Kansas City Kansas', u'Oshawa', u'Sainte-Th\\xe9r\\xe8se Quebec', u'United States', u'Van Nuys Los Angeles'], u'name': u'Chevrolet Chevelle Laguna'} \n",
      "\n",
      "{u'assembly': [u'Australia', u'Bangalore', u'Belgium', u'Brazil', u'Brisbane', u'Cairo', u'Curitiba', u'Durban', u'Egypt', u'Ghent', u'Gothenburg', u'India', u'Iran', u'South Africa', u'Sweden', u'Tehran'], u'name': u'Volvo FH series'} \n",
      "\n",
      "{u'assembly': [u'Australia', u'Dandenong Victoria', u'Elizabeth South Australia', u'Trentham New Zealand'], u'name': u'Holden VK Commodore'} \n",
      "\n",
      "{u'assembly': [u'Arica', u'Bogot\\xe1', u'Fujisawa Kanagawa', u'Trentham New Zealand'], u'name': [u'Chevrolet LUV', u'Holden Rodeo', u'Isuzu Faster-Z', u'Isuzu KB', u\"Isuzu P'up\", u'Second generation']} \n",
      "\n",
      "{u'assembly': [u'Arica', u'Bi\\xf1an', u'Chongqing', u'Fujisawa Kanagawa', u'Kairouan', u'Lafayette Indiana', u'Rayong', u'Vendas Novas Municipality'], u'name': [u'Honda Tour Master (Thailand)', u'Isuzu Dragon Eye', u'Isuzu Fuego', u'Isuzu TFR', u'Third generation']} \n",
      "\n",
      "{u'assembly': [u'Arese', u'Italy', u'Milan'], u'name': [u'Alfa Romeo Giulietta', u'Alfa Romeo Giulietta Nuova', u'Alfa Romeo New Giulietta', u'Alfa Romeo Nuova Giulietta']} \n",
      "\n",
      "{u'assembly': [u'6th of October City', u'Egypt', u'Russia', u'Tolyatti'], u'name': [u'Bogdan 2110', u'Lada 110', u'Lada 2110', u'Lada Vega', u'VAZ 2110']} \n",
      "\n",
      "{u'assembly': [u'Australia', u'Coventry', u'Port Melbourne Victoria', u'United Kingdom'], u'name': u'Triumph Mayflower'} \n",
      "\n",
      "{u'assembly': [u'Anhui', u'Cairo', u'China', u'Egypt', u'Kaliningrad', u'Russia', u'Taganrog', u'Wuhu'], u'name': [u'Chery A5', u'Chery Alia', u'Chery Elara', u'Chery Fora', u'Chery J5', u'MVM 520/530', u'Speranza A516', u'Vortex Estina']} \n",
      "\n",
      "{u'assembly': [u'Adelaide', u'Australia', u'Brisbane', u'Melbourne', u'Perth', u'Sydney'], u'name': u'Holden FJ'} \n",
      "\n",
      "{u'assembly': [u'Australia', u'United Kingdom'], u'name': u'Standard 8hp'} \n",
      "\n",
      "{u'assembly': [u'Aguascalientes', u'China', u'Guangzhou', u'Japan', u'Mexico', u'Mississippi', u'Samut Prakan Province', u'Thailand', u'United States'], u'name': [u'Nissan Pulsar (Australia)', u'Nissan Sentra (North America)', u'Third generation (B17)']} \n",
      "\n",
      "{u'assembly': [u'6th of October City', u'China', u'Egypt', u'Liaoning', u'Shenyang'], u'name': [u'Brilliance BS6', u'Brilliance Galena', u'Brilliance M1', u'Huachen Zunchi', u'Zhonghua Zunchi']} \n",
      "\n",
      "{u'assembly': [u'Australia', u'United Kingdom'], u'name': u'Morris Ten Series M'} \n",
      "\n",
      "{u'assembly': [u'Australia', u'Victoria Park Adelaide'], u'name': [u'Austin Lancer', u'Morris Major']} \n",
      "\n",
      "{u'assembly': [u'Atlanta', u'Flint Michigan', u'Kansas City Kansas', u'Linden New Jersey', u'South Gate California', u'United States'], u'name': u'Second generation'} \n",
      "\n",
      "{u'assembly': [u'Atlanta', u'Flint Michigan', u'Framingham Massachusetts', u'Kansas City Kansas', u'Linden New Jersey', u'South Gate California', u'United States', u'Wilmington Delaware'], u'name': u'Third generation'} \n",
      "\n",
      "{u'assembly': [u'Arlington Texas', u'Atlanta', u'Flint Michigan', u'Framingham Massachusetts', u'Kansas City Kansas', u'Linden New Jersey', u'South Gate California', u'United States', u'Wilmington Delaware'], u'name': u'Fourth generation'} \n",
      "\n",
      "{u'assembly': [u'Arlington Texas', u'Atlanta', u'Flint Michigan', u'Framingham Massachusetts', u'Kansas City Kansas', u'Linden New Jersey', u'South Gate California', u'United States', u'Wilmington Delaware'], u'name': u'Fifth generation'} \n",
      "\n",
      "{u'assembly': [u'Australia', u'United States'], u'name': u'Plymouth Cambridge'} \n",
      "\n",
      "{u'assembly': [u'Australia', u'United States'], u'name': u'Plymouth Cranbrook'} \n",
      "\n",
      "{u'assembly': [u'Australia', u'Port Melbourne Victoria', u'United Kingdom'], u'name': u'Humber Hawk'} \n",
      "\n",
      "{u'assembly': [u'Argentina', u'China', u'Kaluga', u'Malaysia', u'Palomar', u'Russia', u'Wuhan'], u'name': u'Peugeot 408'} \n",
      "\n",
      "{u'assembly': [u'Australia', u'United Kingdom'], u'name': [u'Standard 6 cwt', u'Standard Companion', u'Standard Ten', u'Standard Vanguard Junior', u'Triumph TR-10']} \n",
      "\n",
      "{u'assembly': [u'Australia', u'Broadmeadows Victoria', u'Victoria (Australia)'], u'name': u'Ford XY Falcon GT'} \n",
      "\n",
      "{u'assembly': [u'Alsace', u'Brazil', u'France', u'PSA Mulhouse Plant', u'PSA Poissy Plant', u'Porto Real', u'Slovakia', u'Trnava', u'Yvelines'], u'name': u'Peugeot 208'} \n",
      "\n",
      "{u'assembly': [u'Argentina', u'General Pacheco', u'Germany', u'Hanover'], u'name': [u'formerly known as the Volkswagen Robust Pick-Up (concept)', u'Volkswagen Amarok']} \n",
      "\n",
      "{u'assembly': [u'Australia', u'United Kingdom'], u'name': u'Vauxhall Wyvern'} \n",
      "\n",
      "{u'assembly': [u'Australia', u'Port Melbourne Victoria', u'United Kingdom'], u'name': [u'Hillman Super Minx', u'Humber 90 New Zealand & South Africa']} \n",
      "\n",
      "{u'assembly': [u'Australia', u'United States'], u'name': u'Ford Ranch Wagon'} \n",
      "\n",
      "{u'assembly': [u'Atlanta', u'Chicago', u'Dearborn Michigan', u'Georgia (U.S. state)', u'Illinois', u'Lorain Ohio'], u'name': u'Ford Gran Torino from Starsky and Hutch'} \n",
      "\n",
      "{u'assembly': [u'Australia', u'Bedfordshire', u'Biel/Bienne', u'England', u'Luton', u'Switzerland'], u'name': u'Vauxhall Velox LIP'} \n",
      "\n",
      "{u'assembly': [u'Australia', u'Bedfordshire', u'England', u'Luton'], u'name': [u'Vauxhall Velox EIP', u'Vauxhall Velox EIPV']} \n",
      "\n",
      "{u'assembly': [u'Australia', u'Bedfordshire', u'England', u'Luton'], u'name': u'Vauxhall Velox PB'} \n",
      "\n",
      "{u'assembly': [u'Australia', u'United Kingdom'], u'name': u'Sunbeam Mk III'} \n",
      "\n",
      "{u'assembly': [u'Australia', u'Japan', u'Port Melbourne Victoria', u'Toyota Aichi'], u'name': u'First generation'} \n",
      "\n",
      "{u'assembly': [u'Australia', u'Indonesia', u'Jakarta', u'Japan', u'Port Melbourne Victoria', u'Toyota Aichi'], u'name': u'Toyota Sprinter'} \n",
      "\n",
      "{u'assembly': [u'Australia', u'Japan', u'Port Melbourne Victoria', u'Samut Prakan Province', u'Thailand', u'Thames New Zealand', u'Toyota Aichi'], u'name': u'Third generation'} \n",
      "\n",
      "{u'assembly': [u'Australia', u'Cambridge Ontario', u'Canada', u'Chachoengsao', u'Cikarang', u'Durban', u'Fremont California', u'Indonesia', u'Japan', u'Philippines', u'Port Melbourne Victoria', u'Santa Rosa Laguna', u'South Africa', u'Thailand', u'Thames New Zealand', u'Toyota Aichi', u'United States'], u'name': [u'Toyota Sprinter Trueno (2-door coupe 3-door hatchback)', u'Toyota Corolla Levin (2-door coupe 3-door hatchback)', u'Geo Prizm', u'Holden Nova', u'Sixth generation', u'Toyota Sprinter Cielo (5-door hatchback)']} \n",
      "\n",
      "{u'assembly': [u'Australia', u'Japan', u'Port Melbourne Victoria', u'Samut Prakan Province', u'Thailand', u'Thames New Zealand', u'Toyota Aichi'], u'name': [u'Daihatsu Charmant', u'Toyota Corolla E70', u'Toyota Sprinter', u'Toyota T-18']} \n",
      "\n",
      "{u'assembly': [u'Adapazar\\u0131', u'Argentina', u'Brazil', u'Cambridge Ontario', u'Canada', u'Chachoengsao', u'Cikarang', u'Durban', u'Fremont California', u'Indaiatuba', u'Indonesia', u'Japan', u'NUMMI', u'New Zealand', u'Philippines', u'Santa Rosa Laguna', u'South Africa', u'Thailand', u'Thames New Zealand', u'Toyota Aichi', u'Turkey', u'Z\\xe1rate Buenos Aires Province'], u'name': [u'Chevrolet Prizm', u'Eighth generation', u'Toyota Carib', u'Toyota Sprinter']} \n",
      "\n",
      "{u'assembly': [u'Adapazar\\u0131', u'Altona Victoria', u'Australia', u'Cambridge Ontario', u'Canada', u'Chachoengsao', u'Durban', u'Fremont California', u'Indonesia', u'Jakarta', u'Japan', u'Karachi', u'New Zealand', u'Pakistan', u'Philippines', u'Santa Rosa Laguna', u'South Africa', u'Thailand', u'Thames New Zealand', u'Toyota Aichi', u'Turkey', u'United States'], u'name': u'Seventh generation'} \n",
      "\n",
      "{u'assembly': [u'Adapazar\\u0131', u'Bangalore', u'Burnaston', u'Cambridge Ontario', u'Chachoengsao', u'Cikarang', u'Cuman\\xe1', u'Dhaka', u'Durban', u'Fremont California', u'Indaiatuba', u'India', u'Indonesia', u'Karachi', u'Malaysia', u'Pakistan', u'Philippines', u'Santa Rosa Laguna', u'Shah Alam', u'South Africa', u'Taipei', u'Taiwan', u'Thailand', u'Tianjin', u'Toyota Aichi', u'V\\u0129nh Ph\\xfac Province', u'Z\\xe1rate Buenos Aires Province', u'Zhongli'], u'name': u'Ninth generation'} \n",
      "\n",
      "{u'assembly': [u'Adapazar\\u0131', u'Aichi Prefecture', u'Argentina', u'Bidadi', u'Blue Springs Mississippi', u'Cambridge Ontario', u'Chachoengsao', u'Cuman\\xe1', u'Durban', u'Fremont California', u'Indaiatuba', u'Karachi', u'Malaysia', u'Philippines', u'Santa Rosa Laguna', u'Shah Alam', u'Shizuoka Prefecture', u'Susono Shizuoka', u'Taiwan', u'Taoyuan County Taiwan', u'Thailand', u'Tianjin', u'Toyota Aichi', u'United States', u'V\\u0129nh Ph\\xfac Province', u'Venezuela', u'Vietnam', u'Z\\xe1rate Buenos Aires Province'], u'name': u'Tenth generation'} \n",
      "\n",
      "{u'assembly': [u'Australia', u'Durban', u'Fremont California', u'Japan', u'Philippines', u'Santa Rosa Laguna', u'South Africa', u'Thames New Zealand', u'Toyota Aichi'], u'name': [u'Toyota AE85 & AE86 Corolla Levin /Sprinter Trueno', u'Toyota Corolla E80', u'Toyota Corolla Sprinter']} \n",
      "\n",
      "{u'assembly': [u'6th of October City', u'China', u'Egypt', u'Liaoning', u'Shenyang'], u'name': [u'Brilliance BS4', u'Brilliance M2', u'Brilliance Splendor', u'Huachen Junjie', u'Pyeonghwa Hwiparam II', u'Pyeonghwa Junma', u'Zhonghua Junjie']} \n",
      "\n",
      "{u'assembly': [u'Alliston', u'Canada', u'Hsinchu', u'Japan', u'Nelson New Zealand', u'South Africa', u'Suzuka Mie', u'Taiwan'], u'name': [u'(AG/AH/AJ/AK/AT/AU)', u'Honda Civic', u'Third generation']} \n",
      "\n",
      "{u'assembly': [u'Alliston', u'Canada', u'East Liberty Ohio', u'England', u'Hsinchu County', u'Japan', u'Nelson New Zealand', u'South Africa', u'Suzuka Mie', u'Swindon', u'Taiwan', u'United States'], u'name': [u'(EC/ED/EE/EF)', u'Fourth generation', u'Honda Civic']} \n",
      "\n",
      "{u'assembly': [u'Alliston', u'East Liberty Ohio', u'Hsinchu County', u'Lahore', u'Nelson New Zealand', u'Philippines', u'Santa Rosa Laguna', u'Suzuka Mie', u'Taiwan', u'Thailand'], u'name': [u'(EG/EH/EJ)', u'Fifth generation', u'Honda Civic']} \n",
      "\n",
      "{u'assembly': [u'Alliston', u'Aragua', u'Brazil', u'Canada', u'East Liberty Ohio', u'England', u'Gebze', u'Hsinchu County', u'Japan', u'Laguna (province)', u'Lahore', u'Nelson New Zealand', u'Ohio', u'Pakistan', u'Philippines', u'Santa Rosa Laguna', u'South Africa', u'Sumar\\xe9', u'Suzuka Mie', u'Swindon', u'Taiwan', u'Turkey', u'United States', u'Venezuela'], u'name': [u'(EJ/EK/EM)', u'Honda Ballade (South Africa)', u'Honda Civic', u'Sixth generation']} \n",
      "\n",
      "{u'assembly': [u'Alliston', u'Ayutthaya', u'Brazil', u'Canada', u'East Liberty Ohio', u'England', u'Hsinchu County', u'Japan', u'Laguna (province)', u'Philippines', u'Santa Rosa Laguna', u'Sumar\\xe9', u'Suzuka Mie', u'Swindon', u'Taiwan', u'Thailand'], u'name': [u'(EU/ES/EP/EM)', u'Honda Civic', u'Seventh generation']} \n",
      "\n",
      "{u'assembly': [u'Alliston', u'Alor Gajah', u'Ayutthaya', u'Brazil', u'Canada', u'East Liberty Ohio', u'England', u'Gebze', u'Greater Noida', u'Greensburg Indiana', u'India', u'Indonesia', u'Japan', u'Karawang', u'Lahore', u'Malaysia', u'Pakistan', u'Philippines', u'Pingtung County', u'Santa Rosa Laguna', u'Sumar\\xe9', u'Suzuka Mie', u'Swindon', u'Taiwan', u'Turkey', u'United States', u'Uttar Pradesh', u'V\\u0129nh Ph\\xfac Province', u'Vietnam'], u'name': [u'(FA/FG/FK/FN/FD)', u'Eighth generation', u'Honda Civic']} \n",
      "\n",
      "{u'assembly': [u'Australia', u'Clovelly Park South Australia', u'Mile End South Australia', u'Port Melbourne Victoria'], u'name': u'Dodge Phoenix'} \n",
      "\n",
      "{u'assembly': [u'Austria', u'Weiz'], u'name': u'Bontino EMC'} \n",
      "\n",
      "{u'assembly': [u'Alcobendas', u'China', u'Fuzhou', u'Mexico', u'Santiago Tianguistenco', u'Spain', u'Vitoria-Gasteiz'], u'name': u'Mercedes-Benz Viano'} \n",
      "\n",
      "{u'assembly': [u'Australia', u'Clayton Victoria', u'Japan', u'Miaoli County', u'Taiwan', u'Victoria (Australia)'], u'name': [u'Datsun Bluebird 910', u'Nissan Bluebird', u'Yue Loong Bluebird 921 (Yulon TW)']} \n",
      "\n",
      "{u'assembly': [u'Australia', u'Dandenong Victoria', u'Pagewood New South Wales', u'Trentham New Zealand'], u'name': u'Holden HX'} \n",
      "\n",
      "{u'assembly': [u'Australia', u'Dandenong Victoria', u'Pagewood New South Wales', u'Trentham New Zealand'], u'name': u'Holden HZ'} \n",
      "\n",
      "{u'assembly': [u'Aguascalientes', u'China', u'India', u'Indonesia', u'Japan', u'Kanagawa Prefecture', u'Mexico', u'Nissan Motor India Private Limited', u'Nissan Motor Indonesia', u'Sh\\u014dnan', u'Spain'], u'name': [u'Mitsubishi Delica D:3', u'Nissan Evalia', u'Nissan NV200', u'Nissan NV200 Vanette']} \n",
      "\n",
      "{u'assembly': [u'Altona Victoria', u'Georgetown Kentucky', u'Lafayette Indiana', u'Saint Petersburg', u'Toyota Aichi'], u'name': [u'Daihatsu Altis', u'Toyota Camry (XV40)']} \n",
      "\n",
      "{u'assembly': [u'Arese', u'Italy', u'Milan'], u'name': u'Alfa Romeo Diva'} \n",
      "\n",
      "{u'assembly': [u'Altona Victoria', u'Australia', u'Chachoengsao', u'Cikarang', u'Georgetown Kentucky', u'Indonesia', u'Japan', u'Malaysia', u'Philippines', u'Santa Rosa Laguna', u'Shah Alam', u'Taiwan', u'Thailand', u'Toyota Aichi', u'Zhongli'], u'name': [u'Daihatsu Altis', u'Toyota Camry (XV30)']} \n",
      "\n",
      "{u'assembly': [u'Argentina', u'Rosario Santa Fe', u'Santa Fe Province'], u'name': u'Chevrolet Agile'} \n",
      "\n",
      "{u'assembly': [u'Altona Victoria', u'Australia', u'Chachoengsao', u'Georgetown Kentucky', u'Japan', u'Thailand', u'Toyota Aichi'], u'name': [u'Daihatsu Altis', u'Toyota Camry (XV20)', u'Toyota Mark II Qualis', u'Toyota Vienta']} \n",
      "\n",
      "{u'assembly': [u'Ayutthaya', u'China', u'East Liberty Auto Plant', u'Guangqi Honda', u'Honda Manufacturing of Alabama', u'Honda Siel Cars India', u'India', u'Japan', u'Marysville Auto Plant', u'Pingtung County', u'Sayama Saitama', u'Taiwan', u'Thailand', u'United States'], u'name': [u'Eighth generation', u'Honda Crosstour', u'Honda Inspire', u'North America and parts of Asia (CP1-CP3; CS1-CS2)']} \n",
      "\n",
      "{u'assembly': [u'Alor Gajah', u'Ayutthaya', u'China', u'Guangzhou', u'Jalisco', u'Japan', u'Malaysia', u'Mexico', u'Normal Illinois', u'Pingtung County', u'Sayama Saitama', u'Taiwan', u'Thailand', u'United States'], u'name': [u'Honda Accord', u'Honda Inspire', u'North America', u'Seventh generation series UC1']} \n",
      "\n",
      "{u'assembly': [u'6th of October City', u'Chennai', u'China', u'Egypt', u'Germany', u'India', u'Indonesia', u'Jakarta', u'Kaliningrad', u'Malaysia', u'Mexico', u'Munich', u'Pretoria', u'Regensburg', u'Russia', u'Selangor', u'Shenyang', u'South Africa', u'Toluca'], u'name': u'BMW 3-Series (F30)'} \n",
      "\n",
      "{u'assembly': [u'Aguascalientes', u'Canton Mississippi', u'Mexico'], u'name': u'Nissan NV'} \n",
      "\n",
      "{u'assembly': [u'Arlington Texas', u'Oshawa'], u'name': u'Chevrolet Impala (fifth generation)'} \n",
      "\n",
      "{u'assembly': [u'Arlington Texas', u'Atlanta', u'Flint Michigan', u'Framingham Massachusetts', u'Janesville Wisconsin', u'Lordstown Ohio', u'Norwood Ohio', u'Oshawa', u'Sainte-Th\\xe9r\\xe8se Quebec', u'South Gate California', u'St. Louis', u'Tarrytown New York', u'Van Nuys Los Angeles', u'Wilmington Delaware'], u'name': u'Chevrolet Impala (fourth generation)'} \n",
      "\n",
      "{u'assembly': [u'Australia', u'United States'], u'name': u'Chevrolet Stylemaster'} \n",
      "\n",
      "{u'assembly': [u'Aguascalientes Aguascalientes', u'Argentina', u'Bursa', u'C\\xf3rdoba Argentina', u'Colombia', u'Envigado', u'Mexico', u'Moscow', u'S\\xe3o Jos\\xe9 dos Pinhais', u'Turkey'], u'name': [u'Clio Symbol', u'Nissan Platina (Mexico)', u'Renault Citius (Colombia taxi version)', u'Renault Clio Classic (North Africa)', u'Renault Clio Sedan (Brazil Paraguay)', u'Renault Symbol (South America)', u'Renault Thalia (Central Europe)']} \n",
      "\n",
      "{u'assembly': [u'Argentina', u'Bursa', u'C\\xf3rdoba Argentina', u'Turkey'], u'name': [u'Renault Thalia', u'Symbol II']} \n",
      "\n",
      "{u'assembly': [u'Aichi Prefecture', u'Changchun', u'China', u'Japan', u'Jilin', u'Kariya Aichi'], u'name': u'Toyota Prius (XW20)'} \n",
      "\n",
      "{u'assembly': [u'Atlanta', u'Brazil', u'Lakewood Assembly', u'S\\xe3o Caetano do Sul', u'United States', u'Wilmington Delaware', u'Wilmington Assembly'], u'name': [u'Pontiac Acadian (Canada)', u'Pontiac T1000/1000']} \n",
      "\n",
      "{u'assembly': [u'Australia', u'Emden', u'Melbourne', u'S\\xe3o Bernardo do Campo'], u'name': [u'Volkswagen Dasher', u'Volkswagen Passat (B1)']} \n",
      "\n",
      "{u'assembly': [u'Argentina', u'Barcelona', u'Brazil', u'Buenos Aires Province', u'China', u'Emden', u'General Pacheco', u'Mexico', u'Puebla Puebla', u'S\\xe3o Bernardo do Campo', u'Shanghai', u'South Africa', u'Spain', u'Uitenhage', u'Zama Kanagawa'], u'name': [u'Volkswagen Carat', u'Volkswagen Corsar', u'Volkswagen Passat (B2)']} \n",
      "\n",
      "{u'assembly': [u'Anting', u'China', u'Emden', u'Solomonovo', u'Ukraine'], u'name': [u'Volkswagen Passat (B5)', u'Volkswagen Passat Lingyu']} \n",
      "\n",
      "{u'assembly': [u'Angola', u'Aurangabad Maharashtra', u'Changchun', u'China', u'Emden', u'Germany', u'India', u'Luanda', u'Malaysia', u'Pekan', u'Solomonovo', u'Ukraine', u'Zwickau'], u'name': [u'Volkswagen Magotan', u'Volkswagen Passat (B6/B7)', u'Volkswagen Variant']} \n",
      "\n",
      "{u'assembly': [u'Alliston', u'Ayutthaya', u'Brazil', u'Canada', u'China', u'England', u'Gebze', u'Greensburg Indiana', u'Japan', u'Laguna (province)', u'Lahore', u'Malacca', u'Malaysia', u'Pakistan', u'Philippines', u'Saitama', u'Santa Rosa Laguna', u'Sumar\\xe9', u'Suzuka Mie', u'Swindon', u'Thailand', u'Turkey', u'United Kingdom', u'United States', u'Wuhan'], u'name': [u'Honda Civic', u'Ninth generation (FB)']} \n",
      "\n",
      "{u'assembly': [u'Anhui', u'Aragua', u'Barra de Carrasco', u'Cairo', u'China', u'Egypt', u'Italy', u\"Macchia d'Isernia\", u'Uruguay', u'Venezuela', u'Wuhu'], u'name': [u'Chery A1', u'Chery A113', u'Chery Arauca', u'Chery Ego', u'Chery Face', u'Chery Fresh', u'Chery J1', u'Chery Kimo', u'Chery S12', u'Speranza A113', u'dr2']} \n",
      "\n",
      "{u'assembly': [u'6th of October City', u'Alvear_Santa_Fe', u'Bogot\\xe1', u'Eisenach', u'Germany', u'Gurgaon', u'Mexico', u'Port Elizabeth', u'Quito', u'Ramos Arizpe', u'Rayong', u'S\\xe3o Caetano do Sul', u'Santa Fe Province', u'Spain', u'Valencia Carabobo', u'Zaragoza'], u'name': [u'Buick Sail', u'Chevrolet Chevy', u'Chevrolet Classic', u'Chevrolet Corsa', u'Corsa B', u'Holden Barina', u'Opel Vita', u'Vauxhall Corsa']} \n",
      "\n",
      "{u'assembly': [u'6th of October City', u'Alvear_Santa_Fe', u'Eisenach', u'Germany', u'Port Elizabeth', u'Quito', u'S\\xe3o Jos\\xe9 dos Campos', u'Santa Fe Province', u'Spain', u'Zaragoza'], u'name': [u'Chevrolet Corsa', u'Corsa C', u'Holden Barina', u'Opel Vita', u'Vauxhall Corsa']} \n",
      "\n",
      "{u'assembly': [u'Alliston', u'Canada', u'China', u'Guangzhou', u'Lincoln Alabama', u'United States'], u'name': [u'Guangzhou-Honda Odyssey', u'Honda LaGreat (JDM)', u'Second Generation RL1 (North America)']} \n",
      "\n",
      "{u'assembly': [u'Anhui', u'Aragua', u'Cairo', u'China', u'Egypt', u'Taichung', u'Taiwan', u'Venezuela', u'Wuhu'], u'name': [u'Chery A3', u'Chery Apola', u'Chery Chance/Niche', u'Chery Cielo', u'Chery J3', u'Chery M11', u'Chery Orinoco', u'Chery Skin/Skin Sport', u'Chery Tengo', u'Speranza M11/M12']} \n",
      "\n",
      "{u'assembly': [u'Anhui', u'China', u'Ukraine', u'Wuhu', u'Zaporizhia'], u'name': [u'Chery A13', u'Chery Bonus (liftback Russia)', u'Chery Fulwin 2', u'Chery Storm 2', u'Chery Very (hatchback Russia)', u'ZAZ Forza (Ukraine)']} \n",
      "\n",
      "{u'assembly': [u'Argentina', u'Ford Lio Ho', u'Ford Motor Company Philippines', u'Ford Motor Company of Argentina', u'Ford Valencia Plant', u'Germany', u'Hermosillo Stamping & Assembly', u'Mexico', u'Philippines', u'Saarlouis Body & Assembly', u'Spain', u'Taiwan', u'United States', u'Valencia Assembly', u'Venezuela', u'Vsevolozhsk', u'Wayne Stamping & Assembly'], u'name': u'Ford Focus (first generation)'} \n",
      "\n",
      "{u'assembly': [u'Argentina', u'Buenos Aires', u'Rayong', u'Silverton', u'South Africa', u'Thailand'], u'name': [u'Ford Ranger (T6)', u'Mazda BT-50']} \n",
      "\n",
      "{u'assembly': [u'13th arrondissement of Paris', u'Paris'], u'name': [u'Panhard & Levassor Dynamic 130', u'Panhard & Levassor Dynamic 140', u'Panhard & Levassor Dynamic 160']} \n",
      "\n",
      "{u'assembly': [u'Australia', u'Guangzhou', u'India', u'Indonesia', u'Japan', u'Lafayette Indiana', u'Laguna (province)', u'North Jakarta', u'Philippines', u'Russia', u'Taiwan', u'United States'], u'name': [u'Daihatsu Altis (2012\\u2013present)', u'Toyota Camry (XV50)']} \n",
      "\n",
      "{u'assembly': [u'Atlanta', u'Framingham Massachusetts', u'Kansas City Kansas', u'Linden New Jersey', u'Pontiac Michigan', u'South Gate California', u'Wilmington Delaware'], u'name': u'Second generation'} \n",
      "\n",
      "{u'assembly': [u'Abingdon-on-Thames', u'England', u'Longbridge'], u'name': u'Austin-Healey 100-6'} \n",
      "\n",
      "{u'assembly': [u'Australia', u'Clovelly Park South Australia', u'Pretoria', u'South Africa'], u'name': [u'Chrysler VH Valiant', u'Dodge utility']} \n",
      "\n",
      "{u'assembly': [u'Atlanta', u'Framingham Massachusetts', u'Kansas City Kansas', u'Linden New Jersey', u'Pontiac Michigan', u'South Gate California', u'Wilmington Delaware'], u'name': u'Pontiac Streamliner'} \n",
      "\n",
      "{u'assembly': [u'Argentina', u'Brazil', u'Dearborn Michigan', u'Edison New Jersey', u'Hapeville Georgia', u'Kansas City Missouri', u'La Boca', u'Long Beach California', u'Lorain Ohio', u'Louisville Kentucky', u'Norfolk Assembly', u'S\\xe3o Paulo', u'Saint Paul Minnesota', u'San Jose California', u'St. Louis', u'Wayne Michigan'], u'name': [u'Mercury M-Series', u'Third-generation Ford F-Series']} \n",
      "\n",
      "{u'assembly': [u'Argentina', u'Cuautitl\\xe1n', u'Dearborn Michigan', u'Edison New Jersey', u'General Pacheco', u'Hapeville Georgia', u'Harare', u'Kansas City Missouri', u'Long Beach California', u'Lorain Ohio', u'Louisville Kentucky', u'Norfolk Assembly', u'Oakville Ontario', u'Rhodesia', u'Saint Paul Minnesota', u'San Jose California', u'St. Louis', u'Wayne Michigan'], u'name': [u'Fourth generation', u'Mercury M-Series']} \n",
      "\n",
      "{u'assembly': [u'Argentina', u'Cuautitl\\xe1n', u'Dearborn Michigan', u'Edison New Jersey', u'General Pacheco', u'Kansas City Missouri', u'Louisville Kentucky', u'Norfolk Assembly', u'Oakville Ontario', u'Saint Paul Minnesota', u'San Jose California', u'Wayne Michigan'], u'name': u'Sixth generation'} \n",
      "\n",
      "{u'assembly': [u'Argentina', u'Brazil', u'Broadmeadows Victoria', u'Cuautitl\\xe1n', u'Dearborn Michigan', u'Edison New Jersey', u'General Pacheco', u'Hapeville Georgia', u'Kansas City Missouri', u'Long Beach California', u'Louisville Kentucky', u'Norfolk Assembly', u'Oakville Ontario', u'S\\xe3o Paulo', u'Saint Paul Minnesota', u'San Jose California', u'St. Louis', u'Valencia Carabobo', u'Wayne Michigan'], u'name': [u'Fifth generation Ford F-Series', u'Mercury M-Series']} \n",
      "\n",
      "{u'assembly': [u'Argentina', u'Brazil', u'Cuautitl\\xe1n', u'General Pacheco', u'Kansas City Missouri', u'Louisville Kentucky', u'Norfolk Assembly', u'Oakville Ontario', u'S\\xe3o Bernardo do Campo', u'Wayne Michigan'], u'name': u'Eighth generation'} \n",
      "\n",
      "{u'assembly': [u'Argentina', u'Cuautitl\\xe1n', u'Dearborn Michigan', u'General Pacheco', u'Kansas City Missouri', u'Louisville Kentucky', u'Norfolk Assembly', u'Oakville Ontario', u'Saint Paul Minnesota', u'San Jose California', u'Wayne Michigan'], u'name': u'Seventh generation'} \n",
      "\n",
      "{u'assembly': [u'Argentina', u'Brazil', u'Cuautitl\\xe1n', u'General Pacheco', u'Kansas City Missouri', u'Louisville Kentucky', u'Norfolk Assembly', u'Oakville Ontario', u'S\\xe3o Bernardo do Campo', u'Valencia Carabobo', u'Venezuela', u'Wayne Michigan'], u'name': u'Ninth generation'} \n",
      "\n",
      "{u'assembly': [u'Australia', u'Tasmania'], u'name': [u'Lucalia Clubman', u'Lucalia P4 / P6']} \n",
      "\n",
      "{u'assembly': [u'Argentina', u'Germany', u'Stuttgart'], u'name': [u'Mercedes-Benz 170S', u'Mercedes-Benz 170S (W136)', u'Mercedes-Benz 170S-V/170S-D (W136)', u'Mercedes-Benz 170Sb/170DS (W191)']} \n",
      "\n",
      "{u'assembly': [u'Argentina', u'Germany', u'Stuttgart'], u'name': [u'Mercedes-Benz 230', u'Mercedes-Benz Typ(e) 230', u'Mercedes-Benz W153']} \n",
      "\n",
      "{u'assembly': [u'Anhui', u'China', u'Wuhu'], u'name': [u'Chery G5', u'Riich G5']} \n",
      "\n",
      "{u'assembly': [u'Anhui', u'China', u'Wuhu'], u'name': u'Chery E5'} \n",
      "\n",
      "{u'assembly': [u'Australia', u'United States'], u'name': u'Chevrolet Fleetmaster'} \n",
      "\n"
     ]
    }
   ],
   "source": [
    "query = {'assembly':{'$lte':'B','$gte':'H'}}\n",
    "projection = {'_id':0,'assembly':1,'name':1}\n",
    "pquery(query,projection)"
   ]
  },
  {
   "cell_type": "code",
   "execution_count": 25,
   "metadata": {
    "collapsed": false,
    "slideshow": {
     "slide_type": "fragment"
    }
   },
   "outputs": [
    {
     "name": "stdout",
     "output_type": "stream",
     "text": [
      "{u'name': [u'Beetle Super Beetle K\\xe4fer Bug and other nicknames', u'Volkswagen Type 1']} \n",
      "\n",
      "{u'name': u'Citro\\xebn 2CV'} \n",
      "\n",
      "{u'name': u'Ford Model T'} \n",
      "\n",
      "{u'name': [u'AYMESA C\\xf3ndor (Sedan)', u'AYMESA Gala (Hatchback)', u'Opel Chevette', u'Vauxhall Chevette']} \n",
      "\n",
      "{u'name': u'Ford Sierra'} \n",
      "\n",
      "{u'name': [u'Volvo 120/121/122/130/220', u'Volvo Amazon', u'Volvo Canadian GT']} \n",
      "\n",
      "{u'name': u'Fiat 128'} \n",
      "\n",
      "{u'name': [u'Citro\\xebn DS', u'Citro\\xebn ID']} \n",
      "\n",
      "{u'name': u'Peugeot 106'} \n",
      "\n",
      "{u'name': u'Citro\\xebn C3'} \n",
      "\n",
      "{u'name': u'Citro\\xebn BerlingoPeugeot Partner'} \n",
      "\n",
      "{u'name': [u'Austin Marina', u'Leyland Marina (Australia)', u'Morris 1700', u'Morris Marina']} \n",
      "\n",
      "{u'name': u'Ford Torino'} \n",
      "\n",
      "{u'name': [u'Austin Sprite', u'Austin-Healey Sprite']} \n",
      "\n",
      "{u'name': u'Ford Telstar'} \n",
      "\n",
      "{u'name': [u'Ford Laser', u'Ford Meteor']} \n",
      "\n",
      "{u'name': [u'AMC Javelin', u'Javelin 79-K (Europe)', u'Rambler Javelin (Australia)', u'VAM Javelin (Mexico)']} \n",
      "\n",
      "{u'name': u'Volvo 140'} \n",
      "\n",
      "{u'name': u'Mercedes-Benz S-Class'} \n",
      "\n",
      "{u'name': [u'Honda Fit', u'Jazz']} \n",
      "\n",
      "{u'name': u'Citro\\xebn GS/GSA'} \n",
      "\n",
      "{u'name': [u'Toyota Celica Supra', u'Toyota Celica XX', u'Toyota Supra']} \n",
      "\n",
      "{u'name': u'Peugeot 405'} \n",
      "\n",
      "{u'name': [u'Guangzhou-Peugeot GP 7200', u'Peugeot 504']} \n",
      "\n",
      "{u'name': [u'Lada 1500 (Canada)', u'Lada 2104', u'Lada 2105', u'Lada 2107', u'Lada Classic', u'Lada Laika (Argentina Brazil)', u'Lada Nova', u'Lada Riva', u'Lada Signet (Canada)']} \n",
      "\n",
      "{u'name': u'Fiat Uno'} \n",
      "\n",
      "{u'name': [u'Chevrolet Chevette', u'Pontiac Acadian']} \n",
      "\n",
      "{u'name': u'Ford Orion'} \n",
      "\n",
      "{u'name': u'Citro\\xebn CX'} \n",
      "\n",
      "{u'name': [u'Austin Mini', u'Mark II', u'Morris Mini']} \n",
      "\n",
      "{u'name': u'Mark III'} \n",
      "\n",
      "{u'name': u'Mk IV'} \n",
      "\n",
      "{u'name': u'Third generation'} \n",
      "\n",
      "{u'name': u'Fourth generation'} \n",
      "\n",
      "{u'name': u'Fifth generation'} \n",
      "\n",
      "{u'name': u'Sixth generation'} \n",
      "\n",
      "{u'name': u'Third generation'} \n",
      "\n",
      "{u'name': u'Cortina Mark I'} \n",
      "\n",
      "{u'name': u'Cortina Mark II'} \n",
      "\n",
      "{u'name': u'Cortina TC Mark III'} \n",
      "\n",
      "{u'name': u'Second generation'} \n",
      "\n",
      "{u'name': [u'Epic (Canada)', u'Vauxhall Viva HA']} \n",
      "\n",
      "{u'name': u'Saab 900'} \n",
      "\n",
      "{u'name': u'Fourth generation'} \n",
      "\n",
      "{u'name': u'BJ and FJ'} \n",
      "\n",
      "{u'name': u'20 Series'} \n",
      "\n",
      "{u'name': u'55'} \n",
      "\n",
      "{u'name': [u'60 Series', u'Toyota Samurai (Venezuela)']} \n",
      "\n",
      "{u'name': [u'70 Series', u'Zo Reken (Haiti)']} \n",
      "\n",
      "{u'name': [u'80 Series', u'Lexus LX 450']} \n",
      "\n",
      "{u'name': [u'Land Cruiser Prado 120', u'Lexus GX (USA)']} \n",
      "\n",
      "{u'name': u'Second generation'} \n",
      "\n",
      "{u'name': [u'(A5 Typ 1K)', u'Volkswagen Bora', u'Volkswagen GLI', u'Volkswagen Golf Wagon (Canada 2010-)', u'Volkswagen Jetta', u'Volkswagen Sagitar', u'Volkswagen Vento']} \n",
      "\n",
      "{u'name': [u'(A6 Typ 1B)', u'Volkswagen Jetta', u'Volkswagen New Compact Sedan (Under Development)', u'Volkswagen Sagitar (China)', u'Volkswagen Vento (Select South American Countries)']} \n",
      "\n",
      "{u'name': u'Second generation'} \n",
      "\n",
      "{u'name': u'Fourth generation'} \n",
      "\n",
      "{u'name': [u'Chevrolet Malibu', u'First-generation']} \n",
      "\n",
      "{u'name': [u'Chevrolet Malibu', u'Second-generation']} \n",
      "\n",
      "{u'name': [u'Chevrolet Chevelle Laguna', u'Chevrolet Malibu', u'Third generation']} \n",
      "\n",
      "{u'name': u'Toyota Prius (XW20)'} \n",
      "\n",
      "{u'name': [u'Honda Vigor (Japan)', u'Third generation', u'series CA1/2/3/4/5/6']} \n",
      "\n",
      "{u'name': [u'Guangzhou-Honda HG 7230', u'North America', u'Sixth generation series CG1/2/3/4/5/6']} \n",
      "\n",
      "{u'name': u'Volkswagen Polo Mark IV (9N) and Mark IVF (9N3)'} \n",
      "\n",
      "{u'name': [u'Astra F', u'Chevrolet Astra', u'Holden Astra', u'Opel Optima', u'Vauxhall Astra']} \n",
      "\n",
      "{u'name': [u'Astra G', u'Chevrolet Astra', u'Chevrolet Viva', u'Holden Astra', u'Vauxhall Astra']} \n",
      "\n",
      "{u'name': [u'Astra H', u'Chevrolet Astra', u'Chevrolet Vectra', u'Holden Astra', u'Saturn Astra', u'Vauxhall Astra']} \n",
      "\n",
      "{u'name': [u'Chevrolet Vectra', u'Vauxhall Cavalier', u'Vectra A']} \n",
      "\n",
      "{u'name': [u'Chevrolet Vectra', u'Holden Vectra', u'Vauxhall Vectra', u'Vectra B']} \n",
      "\n",
      "{u'name': [u'Chevrolet Vectra', u'Holden Vectra', u'Vauxhall Vectra', u'Vectra C']} \n",
      "\n",
      "{u'name': u'First generation'} \n",
      "\n",
      "{u'name': u'Second generation'} \n",
      "\n",
      "{u'name': u'Third generation'} \n",
      "\n",
      "{u'name': u'Fourth generation'} \n",
      "\n",
      "{u'name': u'First generation'} \n",
      "\n",
      "{u'name': u'Second generation'} \n",
      "\n",
      "{u'name': u'Third generation'} \n",
      "\n",
      "{u'name': u'Fourth generation'} \n",
      "\n",
      "{u'name': u'Second generation'} \n",
      "\n",
      "{u'name': u'Third generation'} \n",
      "\n",
      "{u'name': u'Fourth generation'} \n",
      "\n",
      "{u'name': u'Fifth generation'} \n",
      "\n",
      "{u'name': u'Sixth generation'} \n",
      "\n",
      "{u'name': u'Seventh generation'} \n",
      "\n",
      "{u'name': u'W202'} \n",
      "\n",
      "{u'name': u'W203'} \n",
      "\n",
      "{u'name': u'W204'} \n",
      "\n",
      "{u'name': [u'First-generation Fit', u'Guangzhou-Honda Fit Sport', u'Honda Jazz']} \n",
      "\n",
      "{u'name': [u'Honda Jazz', u'Second-generation Fit']} \n",
      "\n",
      "{u'name': u'GMT 400'} \n",
      "\n",
      "{u'name': u'GMT800'} \n",
      "\n",
      "{u'name': u'GMT 900'} \n",
      "\n",
      "{u'name': [u'Dongfeng Oting (SUV)', u'Dongfeng Rich Pickup', u'Dongfeng Rich multi-purpose Commercial Vehicle', u'First Generation (D22)', u'Nissan Big M Frontier (Thailand 1998\\u20132001)', u'Nissan Fiera', u'Nissan Frontier', u'Nissan Frontier Bravado', u'Nissan Hardbody', u'Nissan NP300', u'Nissan Navara', u'Nissan Paladin (SUV version)', u'Nissan PickUp', u'Nissan Winner']} \n",
      "\n",
      "{u'name': [u'Acmat ALTV', u'Nissan Frontier', u'Nissan Frontier Navara', u'Nissan Navara Brute', u'Second Generation (D40)', u'Suzuki Equator (2009)']} \n",
      "\n",
      "{u'name': u'First generation'} \n",
      "\n",
      "{u'name': u'Ford Popular 103E'} \n",
      "\n",
      "{u'name': u'W211'} \n",
      "\n",
      "{u'name': u'Second generation'} \n",
      "\n",
      "{u'name': u'Third generation'} \n",
      "\n",
      "{u'name': [u'Fourth generation', u'Mazda 121', u'Mazda Soho']} \n",
      "\n",
      "{u'name': [u'Fifth generation', u'Ford Ikon']} \n",
      "\n",
      "{u'name': [u'Ford New Fiesta (Latin America)', u'Sixth generation']} \n",
      "\n",
      "{u'name': [u'Chevrolet Chevette', u'GMC Chevette (Argentina)']} \n",
      "\n",
      "{u'name': u'Second generation'} \n",
      "\n",
      "{u'name': u'Third generation'} \n",
      "\n",
      "{u'name': u'Fourth generation'} \n",
      "\n",
      "{u'name': [u'Fifth generation', u'Ford Tourneo']} \n",
      "\n",
      "{u'name': [u'Ford Tourneo', u'Sixth generation']} \n",
      "\n",
      "{u'name': [u'Ford Tourneo', u'Seventh Generation']} \n",
      "\n",
      "{u'name': u'BMW 5 Series'} \n",
      "\n",
      "{u'name': u'BMW 3 Series'} \n",
      "\n",
      "{u'name': u'First generation'} \n",
      "\n",
      "{u'name': u'Second generation'} \n",
      "\n",
      "{u'name': u'Audi A6 (C4)'} \n",
      "\n",
      "{u'name': u'Audi A6 (C6)'} \n",
      "\n",
      "{u'name': u'Audi A6 (C7)'} \n",
      "\n",
      "{u'name': u'Second generation'} \n",
      "\n",
      "{u'name': u'Third generation'} \n",
      "\n",
      "{u'name': u'Fourth generation'} \n",
      "\n",
      "{u'name': u'Fifth generation'} \n",
      "\n",
      "{u'name': u'Sixth generation'} \n",
      "\n",
      "{u'name': [u'Fourth generation', u'Oldsmobile Dynamic 88', u'Oldsmobile Rocket 88', u'Oldsmobile Super 88']} \n",
      "\n",
      "{u'name': [u'Fifth generation', u'Oldsmobile Dynamic 88', u'Oldsmobile Jetstar 88', u'Oldsmobile Super 88']} \n",
      "\n",
      "{u'name': [u'Oldsmobile Delmont 88', u'Oldsmobile Delta 88', u'Oldsmobile Dynamic 88', u'Sixth generation']} \n",
      "\n",
      "{u'name': [u'Oldsmobile Delta 88', u'Seventh generation']} \n",
      "\n",
      "{u'name': [u'Clio I', u'Renault Lutecia (Japan)']} \n",
      "\n",
      "{u'name': [u'Renault Clio Campus (France Germany Colombia Spain)', u'Clio II', u'Renault Clio Grande (United Kingdom)', u'Renault Clio Mercosur (Brazil)', u'Renault Clio New Basic (Denmark)', u'Renault Clio Storia (Slovenia)', u'Renault Lutecia (Japan)']} \n",
      "\n",
      "{u'name': [u'Commer Imp Van', u'Hillman GT (Australia)', u'Hillman Husky', u'Hillman Imp', u'Singer Chamois', u'Sunbeam Californian', u'Sunbeam Chamois', u'Sunbeam Imp', u'Sunbeam Sport', u'Sunbeam Stiletto']} \n",
      "\n",
      "{u'name': u'Volkswagen Type 2 (T1)'} \n",
      "\n",
      "{u'name': u'Volkswagen Type 2 (T2)'} \n",
      "\n",
      "{u'name': u'First generation'} \n",
      "\n",
      "{u'name': [u'M\\xe9gane I', u'Renault M\\xe9gane Classic (Saloon)']} \n",
      "\n",
      "{u'name': [u'First generation (G1)', u'Volkswagen Fox', u'Volkswagen Parati', u'Volkswagen Pointer', u'Volkswagen Voyage']} \n",
      "\n",
      "{u'name': [u'Second generation (G2-G4)', u'Volkswagen Parati', u'Volkswagen Pointer', u'Volkswagen Saveiro']} \n",
      "\n",
      "{u'name': u'Hillman Minx Mark I to VIII'} \n",
      "\n",
      "{u'name': [u'Hillman Minx Series I to Series VI', u'Humber 80', u'Sunbeam Minx']} \n",
      "\n",
      "{u'name': [u'Citro\\xebn LN', u'Citro\\xebn LNA']} \n",
      "\n",
      "{u'name': u'Second generation'} \n",
      "\n",
      "{u'name': u'Third generation'} \n",
      "\n",
      "{u'name': u'Fourth generation'} \n",
      "\n",
      "{u'name': u'Renault 9 / 11'} \n",
      "\n",
      "{u'name': u'Fourth generation'} \n",
      "\n",
      "{u'name': [u'Fifth generation (L32L)', u'Hyundai Sonata (LF) (2014-)', u'Kia Optima (TJ) (2015-)', u'Nissan Teana']} \n",
      "\n",
      "{u'name': u'Mitsubishi Galant'} \n",
      "\n",
      "{u'name': [u'Audi 4000', u'Audi 5+5', u'Audi 80 and Audi 90', u'Audi Cabriolet', u'Audi Fox']} \n",
      "\n",
      "{u'name': u'Audi A3 (8L)'} \n",
      "\n",
      "{u'name': u'Fiat Multipla'} \n",
      "\n",
      "{u'name': [u'AMC AMX', u'Rambler AMX (Australia)']} \n",
      "\n",
      "{u'name': u'1961\\u20131962'} \n",
      "\n",
      "{u'name': [u'Renault 19', u'Renault Energy (Colombia Venezuela)']} \n",
      "\n",
      "{u'name': [u'Kangoo I', u'Nissan Kubistar']} \n",
      "\n",
      "{u'name': u'Audi A4'} \n",
      "\n",
      "{u'name': u'Audi A4 (B8)'} \n",
      "\n",
      "{u'name': [u'Dacia 1300', u'Renault 1.4 Litre (Australia)', u'Renault 12', u'Renault Virage (Australia)']} \n",
      "\n",
      "{u'name': [u'Renault 4', u'Renault R4']} \n",
      "\n",
      "{u'name': [u'Ford Orion (Argentina)', u'Second generation']} \n",
      "\n",
      "{u'name': u'Volkswagen Sharan'} \n",
      "\n",
      "{u'name': u'Volkswagen Sharan Mk2 (7N)'} \n",
      "\n",
      "{u'name': [u'Mitsubishi Diamante', u'Mitsubishi Magna/Verada', u'Mitsubishi Sigma', u'Mitsubishi V3000']} \n",
      "\n",
      "{u'name': [u'Datsun 160J', u'Datsun 510', u'Datsun Stanza', u'Datsun/Nissan Violet', u'Nissan Auster', u'Nissan Stanza A10 series', u'Yue Loong 709/711/712']} \n",
      "\n",
      "{u'name': u'First generation'} \n",
      "\n",
      "{u'name': u'Second generation'} \n",
      "\n",
      "{u'name': u'Third generation'} \n",
      "\n",
      "{u'name': u'Fourth generation'} \n",
      "\n",
      "{u'name': [u'Chevrolet Pickup (Iran 1984-1987)', u'Fifth generation']} \n",
      "\n",
      "{u'name': [u'Fourth generation', u'Oldsmobile Cutlass Calais (1978\\u20131984)', u'Oldsmobile Cutlass Cruiser (1982\\u20131983)', u'Oldsmobile Cutlass Salon (1985\\u20131987)', u'Oldsmobile Cutlass Supreme Classic (1988 only)']} \n",
      "\n",
      "{u'name': [u'Guangzhou-Peugeot GP 7202', u'Peugeot 505']} \n",
      "\n",
      "{u'name': u'Second generation'} \n",
      "\n",
      "{u'name': u'First generation (178)'} \n",
      "\n",
      "{u'name': [u'Fiat Palio Sedan (Mexico)', u'Fiat Petra (India)', u'Fiat Siena', u'Pyeonghwa Hwiparam']} \n",
      "\n",
      "{u'name': u'Volvo 200'} \n",
      "\n",
      "{u'name': u'Third generation'} \n",
      "\n",
      "{u'name': [u'Volkswagen Golf Touran (J)', u'Volkswagen Touran']} \n",
      "\n",
      "{u'name': [u'K13', u'Nissan March', u'Renault Pulse']} \n",
      "\n",
      "{u'name': u'Peugeot 307'} \n",
      "\n",
      "{u'name': [u'Peugeot 206+Peugeot 207 Compact (Latin America)Naza 206 (Malaysia)Citro\\xebn C2 (China)', u'Peugeot 206']} \n",
      "\n",
      "{u'name': [u'Autobianchi  Y10', u'Lancia Y10']} \n",
      "\n",
      "{u'name': [u'First generation', u'Ford Maverick']} \n",
      "\n",
      "{u'name': u'Volkswagen Type 3'} \n",
      "\n",
      "{u'name': u'Alfa Romeo 156'} \n",
      "\n",
      "{u'name': u'Ford Zephyr'} \n",
      "\n",
      "{u'name': u'Second generation'} \n",
      "\n",
      "{u'name': [u'Chevrolet Custom Deluxe', u'Chevrolet Scottsdale', u'Third generation']} \n",
      "\n",
      "{u'name': u'Ford E-Series'} \n",
      "\n",
      "{u'name': [u'AMC Ambassador', u'Ambassador by Rambler', u'Rambler Ambassador']} \n",
      "\n",
      "{u'name': u'BMW 5-Series (E12)'} \n",
      "\n",
      "{u'name': u'BMW 3-Series (E46)'} \n",
      "\n",
      "{u'name': u'BMW 3-Series (E90)'} \n",
      "\n",
      "{u'name': u'BMW 5-Series sedan (E60)'} \n",
      "\n",
      "{u'name': u'BMW X3 (E83)'} \n",
      "\n",
      "{u'name': u'Land Rover Discovery'} \n",
      "\n",
      "{u'name': [u'Land Rover Freelander 2', u'Land Rover LR2', u'Second generation']} \n",
      "\n",
      "{u'name': [u'Land Rover Defender', u'Land Rover Ninety One Ten & 127 (1983-90)']} \n",
      "\n",
      "{u'name': u'Honda City'} \n",
      "\n",
      "{u'name': [u'Everus S1', u'Fourth generation GD8/GD9', u'Guangzhou-Honda City', u'Honda City ZX', u'Honda Fit Aria']} \n",
      "\n",
      "{u'name': [u'Fifth generation (GM2/GM3)', u'Guangzhou-Honda City', u'Honda Ballade (South Africa)', u'Honda City S', u'Honda Fit Aria']} \n",
      "\n",
      "{u'name': [u'Datsun Bluebird 410', u'Yue Loong YLN-705B']} \n",
      "\n",
      "{u'name': [u'Datsun 160B', u'Datsun 180B', u'Datsun 200B', u'Datsun 810', u'Datsun Bluebird 810']} \n",
      "\n",
      "{u'name': [u'Datsun Bluebird 910', u'Nissan Bluebird 910', u'Yue Loong Bluebird 911/912 (TW)']} \n",
      "\n",
      "{u'name': [u'Nissan Bluebird U11', u'Yue Loong Bluebird 931 (Yulon TW)']} \n",
      "\n",
      "{u'name': [u'Second Generation', u'Toyota 1900', u'Toyota Tiara']} \n",
      "\n",
      "{u'name': u'Third generation'} \n",
      "\n",
      "{u'name': u'Sixth generation'} \n",
      "\n",
      "{u'name': u'Seventh generation'} \n",
      "\n",
      "{u'name': u'Fourth generation'} \n",
      "\n",
      "{u'name': [u'Eagle Medallion (U.S. & Canada)', u'Renault 21', u'Renault \\xc9toile (Colombia)']} \n",
      "\n",
      "{u'name': [u'First generation', u'Toyota Camry (V20)', u'Toyota Vista (V20)']} \n",
      "\n",
      "{u'name': [u'Second generation', u'Toyota Camry (XV10)', u'Toyota Scepter (XV10)', u'Toyota Vienta (XV10)']} \n",
      "\n",
      "{u'name': [u'Chevrolet Grand Blazer (Argentina Brazil Ecuador and Venezuela)', u'Chevrolet Silverado (Mexico)', u'Chevrolet Tahoe (Bolivia and Europe)', u'GMC Yukon', u'GMT400']} \n",
      "\n",
      "{u'name': [u'Chevrolet Sonora (Mexico)', u'GMC Yukon', u'GMT800']} \n",
      "\n",
      "{u'name': [u'GMC Yukon', u'GMT900']} \n",
      "\n",
      "{u'name': [u'GMC Suburban', u'GMT400', u'Holden Suburban']} \n",
      "\n",
      "{u'name': [u'Cadillac Escalade ESV', u'GMC Yukon XL', u'GMT800']} \n",
      "\n",
      "{u'name': [u'Cadillac Escalade ESV', u'GMC Yukon XL', u'GMT900', u'VIA VTrux SUV']} \n",
      "\n",
      "{u'name': u'Triumph TR4'} \n",
      "\n",
      "{u'name': [u'Chevrolet Aska', u'First generation', u'Holden Camira (JJ)', u'Isuzu Florian Aska', u'Isuzu JJ']} \n",
      "\n",
      "{u'name': [u'Alfa Romeo 164', u'Alfa Romeo 168']} \n",
      "\n",
      "{u'name': [u'Second generation', u'Toyota Corolla Rumion', u'Toyota Rukus (Australia)']} \n",
      "\n",
      "{u'name': [u'1993\\u20131997', u'Mazda B-Series']} \n",
      "\n",
      "{u'name': [u'1998\\u20132012', u'Mazda B-Series']} \n",
      "\n",
      "{u'name': u'Renault Fuego'} \n",
      "\n",
      "{u'name': [u'Volkswagen Passat Lingyu', u'\\u0160koda Superb B5 (3U)']} \n",
      "\n",
      "{u'name': [u'\\u0160koda Superb B6 (3T)', u'\\u0160koda Superb Haorui']} \n",
      "\n",
      "{u'name': [u'Datsun 1000', u'Datsun Sunny B10 Series']} \n",
      "\n",
      "{u'name': [u'Datsun 1200 Datsun Finn', u'Datsun Sunny B110 Series']} \n",
      "\n",
      "{u'name': u'Audi Q7'} \n",
      "\n",
      "{u'name': [u'Beijing-Hyundai Tucson', u'First generation', u'Hyundai JM (Japan)']} \n",
      "\n",
      "{u'name': [u'Fourth generation', u'Nissan Lucino (200SX)']} \n",
      "\n",
      "{u'name': [u'Fifth generation', u'Nissan Sentra 180']} \n",
      "\n",
      "{u'name': [u'Nissan SE', u'Nissan Sentra 200', u'Sixth generation']} \n",
      "\n",
      "{u'name': [u'Nissan Pulsar', u'Nissan Sylphy', u'Seventh generation']} \n",
      "\n",
      "{u'name': u'Second generation'} \n",
      "\n",
      "{u'name': u'Second generation'} \n",
      "\n",
      "{u'name': u'Third generation'} \n",
      "\n",
      "{u'name': u'Mercedes-Benz W128'} \n",
      "\n",
      "{u'name': u'First generation'} \n",
      "\n",
      "{u'name': u'Third generation'} \n",
      "\n",
      "{u'name': u'Triumph 2000 2.5PI & 2500'} \n",
      "\n",
      "{u'name': u'Third generation'} \n",
      "\n",
      "{u'name': u'Third generation'} \n",
      "\n",
      "{u'name': u'Cadillac Brougham'} \n",
      "\n",
      "{u'name': u'Fourth generation'} \n",
      "\n",
      "{u'name': u'Fifth generation'} \n",
      "\n",
      "{u'name': u'Sixth generation'} \n",
      "\n",
      "{u'name': u'Seventh generation'} \n",
      "\n",
      "{u'name': u'Eighth generation'} \n",
      "\n",
      "{u'name': [u'Mahindra Goa (in Europe)', u'Mahindra Scorpio']} \n",
      "\n",
      "{u'name': u'Honda Ridgeline'} \n",
      "\n",
      "{u'name': [u'Nissan Maxima (Australia and New Zealand)', u'Nissan Teana J32']} \n",
      "\n",
      "{u'name': [u'Arex Pulsar', u'N14', u'Nissan Sentra (New Zealand)', u'Nissan Sunny (Europe)']} \n",
      "\n",
      "{u'name': u'Sunbeam Alpine Mark I & III'} \n",
      "\n",
      "{u'name': u'Third Generation'} \n",
      "\n",
      "{u'name': u'Fourth Generation'} \n",
      "\n",
      "{u'name': [u'Fifth generation (MD/UD)', u'Hyundai Avante (South Korea)']} \n",
      "\n",
      "{u'name': u'Reliant Robin'} \n",
      "\n",
      "{u'name': [u'Austin Mini Moke', u'Leyland Moke', u'Mini Moke', u'Morris Mini Moke']} \n",
      "\n",
      "{u'name': u'First generation'} \n",
      "\n",
      "{u'name': u'First generation (RD1\\u2013RD3)'} \n",
      "\n",
      "{u'name': u'Second generation (RD4\\u2013RD7)'} \n",
      "\n",
      "{u'name': u'Third generation (RE1\\u2013RE5 RE7)'} \n",
      "\n",
      "{u'name': u'Fourth generation (RM1 RM3 RM4)'} \n",
      "\n",
      "{u'name': [u'Austin Balanza', u'Austin Freeway', u'Austin Windsor', u'BMC ADO17', u'Morris Monaco']} \n",
      "\n",
      "{u'name': [u'Bulgarrenault 8/10', u'Dacia 1100', u'Renault 10', u'Renault 8 / 10']} \n",
      "\n",
      "{u'name': [u'Toyota Canarado (Asia Pacific)', u'Toyota Estima (Japan)', u'Toyota Previa', u'Toyota Tarago (Australia)']} \n",
      "\n",
      "{u'name': u'Toyota Cressida'} \n",
      "\n",
      "{u'name': [u'AMC Hornet', u'Rambler American (Mexico)', u'Rambler Hornet (Australia)', u'VAM American (Mexico)']} \n",
      "\n",
      "{u'name': [u'Dodge Trazo (South America)', u'First generation (C11)', u'Nissan Latio (Singapore Indonesia & Malaysia)', u'Nissan Tiida Latio (Japan)', u'Nissan Versa (United States & Canada)']} \n",
      "\n",
      "{u'name': [u'Citro\\xebn C-Quatr\\xe8', u'Citro\\xebn C-Triomphe', u'Citro\\xebn C4 Pallas', u'First generation']} \n",
      "\n",
      "{u'name': u'Renault 16'} \n",
      "\n",
      "{u'name': u'Studebaker Champion'} \n",
      "\n",
      "{u'name': u'Toyota 4Runner'} \n",
      "\n",
      "{u'name': [u'First generation', u'Isuzu Cameo', u'Isuzu Vega']} \n",
      "\n",
      "{u'name': [u'Envoy', u'Vauxhall VX4/90', u'Vauxhall Ventora', u'Vauxhall Victor']} \n",
      "\n",
      "{u'name': [u'First generation', u'Toyota RAV4 EV']} \n",
      "\n",
      "{u'name': [u'1 Ton', u'Fourth generation N40 series', u'Toyota Hilux Hercules (1984\\u20131987)', u'Toyota Hilux Hero (1987\\u20131990)']} \n",
      "\n",
      "{u'name': [u'Fifth generation N50 series', u'Toyota 4\\xd72', u'Toyota 4\\xd74', u'Toyota Hilux Mighty-X (1990\\u20131998)', u'Volkswagen Taro']} \n",
      "\n",
      "{u'name': [u'Guangzhou Toyota Hilux', u'Seventh generation N70 series', u'Toyota Hilux Vigo']} \n",
      "\n",
      "{u'name': [u'Fourth generation (EF)', u'Hyundai EF Sonata (South Korea)', u'Hyundai Sonata Viv (South Africa)', u'Hyundai Sonica (Italy)']} \n",
      "\n",
      "{u'name': [u'Beijing-Hyundai Sonata', u'Fourth generation (facelift)', u'Hyundai New EF Sonata (South Korea)', u'Hyundai Sonata Gold (India)', u'Hyundai Sonica (Italy)']} \n",
      "\n",
      "{u'name': [u'Beijing-Hyundai NF Yu Xiang', u'Beijing-Hyundai Sonata Yu Xiang', u'Beijing-Hyundai Sonata Ling Xiang', u'Fifth generation (NF)', u'Hyundai NF Sonata (Russia)', u'Hyundai Sonata CVVT-i (Malaysia)', u'Hyundai Sonata Embera (India)', u'Hyundai Sonata Transform (Facelift)', u'Hyundai Sonica (Italy)']} \n",
      "\n",
      "{u'name': [u'Hyundai i45', u'Sixth generation (YF)']} \n",
      "\n",
      "{u'name': u'Fiat 125'} \n",
      "\n",
      "{u'name': [u'Fiat 600', u'Fiat 770']} \n",
      "\n",
      "{u'name': u'Fiat 1100'} \n",
      "\n",
      "{u'name': u'Fiat Ducato'} \n",
      "\n",
      "{u'name': u'First generation'} \n",
      "\n",
      "{u'name': u'Second generation'} \n",
      "\n",
      "{u'name': u'Third generation'} \n",
      "\n",
      "{u'name': u'MGB'} \n",
      "\n",
      "{u'name': u'Second generation'} \n",
      "\n",
      "{u'name': [u'Fiat 147', u'Fiat 147 City (pick-up)', u'Fiat 148 (Panorama Uruguay)', u'Fiat Br\\xedo', u'Fiat Spazio', u'Fiat Tuc\\xe1n', u'Fiat Vivace']} \n",
      "\n",
      "{u'name': [u'\\u0160koda Fabia 5J (Ukraine 7/2007 to 4/2010)', u'\\u0160koda Fabia Jingrui (China)', u'\\u0160koda Fabia MG (Ukraine since 4/2010)', u'\\u0160koda Fabia Mk2 (5J)']} \n",
      "\n",
      "{u'name': u'SEAT C\\xf3rdoba Mk1 (6K)'} \n",
      "\n",
      "{u'name': u'Alfa Romeo 159'} \n",
      "\n",
      "{u'name': u'Audi Q5'} \n",
      "\n",
      "{u'name': u'Suzuki Escudo'} \n",
      "\n",
      "{u'name': u'Jeep Commander'} \n",
      "\n",
      "{u'name': u'MGA'} \n",
      "\n",
      "{u'name': [u'Alfa Romeo 75 / Milano', u'Alfa Romeo Milano']} \n",
      "\n",
      "{u'name': [u'Eleventh generation (YL35)', u'Nissan Altima (North America)']} \n",
      "\n",
      "{u'name': [u'Dodge D Series', u'Dodge Power Ram (4x4 models from 1981\\u20131993)', u'Dodge Ram (1981\\u20131993)', u'Dodge W-Series (4x4 models)']} \n",
      "\n",
      "{u'name': u'Riley 1.5Wolseley 1500'} \n",
      "\n",
      "{u'name': [u'Austin A40 Farina', u'Austin A40 Futura']} \n",
      "\n",
      "{u'name': u'Austin A40 Somerset'} \n",
      "\n",
      "{u'name': [u'A50', u'Austin A50 Coupe Utility']} \n",
      "\n",
      "{u'name': [u'Austin A70', u'Hampshire/Hereford']} \n",
      "\n",
      "{u'name': u'Wolseley 4/50'} \n",
      "\n",
      "{u'name': u'Wolseley 15/60'} \n",
      "\n",
      "{u'name': u'A90'} \n",
      "\n",
      "{u'name': u'A95/A105'} \n",
      "\n",
      "{u'name': u'A99'} \n",
      "\n",
      "{u'name': [u'Chevrolet Nexia', u'Daewoo Cielo', u'Daewoo Heaven', u'Daewoo Nexia', u'Daewoo Racer', u'Daewoo Super Racer']} \n",
      "\n",
      "{u'name': [u'Baojun Lechi (China)', u'Chevrolet Exclusive', u'Chevrolet Joy', u'Chevrolet Lechi (China)', u'Chevrolet Matiz', u'Chevrolet Spark', u'Chevrolet Taxi 7:24 Chronos', u'Daewoo Matiz Matiz II', u'FSO Matiz', u'First generation (M100 & M150)', u'Formosa Matiz (Taiwan)', u'Pontiac G2', u'Pontiac Matiz', u'UzDaewoo Matiz']} \n",
      "\n",
      "{u'name': [u'Chevrolet Spark (North America Europe Middle East and South Korea)', u'Chevrolet Beat (India)', u'Chevrolet Spark GT (Chile Ecuador and Colombia)', u'Daewoo Matiz Creative (South Korea)', u'Holden Barina Spark (Australia)', u'Third generation (M300)']} \n",
      "\n",
      "{u'name': u'Mercedes-Benz W120/W121'} \n",
      "\n",
      "{u'name': u'Mercedes-Benz W110'} \n",
      "\n",
      "{u'name': u'Mercedes-Benz W114/W115'} \n",
      "\n",
      "{u'name': u'Mercedes-Benz W210'} \n",
      "\n",
      "{u'name': [u'Mercedes-Benz E-Class', u'Mercedes-Benz W211']} \n",
      "\n",
      "{u'name': u'Daewoo Lacetti'} \n",
      "\n",
      "{u'name': [u'Buick Excelle', u'Buick Excelle HRV', u'Chevrolet Estate (Indonesia)', u'Chevrolet Lacetti', u'Chevrolet Nubira', u'Chevrolet Optra', u'Chevrolet Optra Magnum', u'Chevrolet Optra XL', u'Chevrolet Optra5', u'Daewoo Lacetti', u'Daewoo Nubira', u'First generation', u'Hatchback:', u'Holden Viva', u'Sedan:', u'Suzuki Forenza', u'Suzuki Reno', u'Wagon:']} \n",
      "\n",
      "{u'name': u'Humber Super Snipe'} \n",
      "\n",
      "{u'name': [u'Chevrolet Lanos', u'Daewoo Lanos', u'Daewoo Sens', u'Doninvest Assol', u'FSO Lanos', u'FSO Lanos plus', u'ZAZ Chance', u'ZAZ Lanos', u'ZAZ Sens']} \n",
      "\n",
      "{u'name': [u'Chevrolet Captiva', u'Daewoo Winstorm', u'Holden Captiva']} \n",
      "\n",
      "{u'name': u'Ford LTD II'} \n",
      "\n",
      "{u'name': u'Mercedes-Benz Atego'} \n",
      "\n",
      "{u'name': [u'First generation (RD/RD2)', u'Hyundai Tiburon', u'Hyundai Tiburon Turbulence (KDM Facelift)']} \n",
      "\n",
      "{u'name': [u'Inokom Santa Fe (Malaysia)', u'Second Generation (CM)']} \n",
      "\n",
      "{u'name': [u'Hyundai Maxcruz (KDM; for long-wheelbase model)', u'Third generation (DM)']} \n",
      "\n",
      "{u'name': u'Vauxhall Cresta'} \n",
      "\n",
      "{u'name': u'Vauxhall Cresta PB'} \n",
      "\n",
      "{u'name': u'Morris Oxford MO'} \n",
      "\n",
      "{u'name': u'Morris Oxford II'} \n",
      "\n",
      "{u'name': u'Morris Oxford III'} \n",
      "\n",
      "{u'name': u'Morris Oxford V'} \n",
      "\n",
      "{u'name': u'Morris Isis Series I'} \n",
      "\n",
      "{u'name': [u'AMC Matador', u'Rambler Matador (foreign markets)', u'VAM Classic (Mexico)']} \n",
      "\n",
      "{u'name': u'Mercedes-Benz W221'} \n",
      "\n",
      "{u'name': u'Felber Autoroller'} \n",
      "\n",
      "{u'name': [u'Corolla II', u'Corolla Tercel', u'Corsa', u'Soluna', u'Toyota Tercel']} \n",
      "\n",
      "{u'name': [u'Fifth generation', u'Toyota Corolla II (JPN)', u'Toyota Corsa (JPN)', u'Toyota Soluna (Asia)']} \n",
      "\n",
      "{u'name': [u'\\u0160koda Octavia Tour/Drive (in markets where Mk2 was introduced in 2004)', u'\\u0160koda Octavia Mk1 (1U)']} \n",
      "\n",
      "{u'name': [u'\\u0160koda Octavia Mingrui (China since facelift in 2010)', u'\\u0160koda Octavia Tour (pre-facelift version from 2010)', u'\\u0160koda Laura (India)', u'\\u0160koda Octavia A5', u'\\u0160koda Octavia II', u'\\u0160koda Octavia Mk2 (1Z)', u'\\u0160koda Octavia5']} \n",
      "\n",
      "{u'name': [u'First generation', u'Mercury Villager']} \n",
      "\n",
      "{u'name': [u'Mercury Villager', u'Second generation']} \n",
      "\n",
      "{u'name': u'Audi S6'} \n",
      "\n",
      "{u'name': u'Ford Escort Mark I'} \n",
      "\n",
      "{u'name': u'Ford Escort Mark II'} \n",
      "\n",
      "{u'name': u'Ford Escort Mark III'} \n",
      "\n",
      "{u'name': u'Ford Escort Mark IV'} \n",
      "\n",
      "{u'name': u'Ford Escort Mark V'} \n",
      "\n",
      "{u'name': u'Ford Escort Mark Vb'} \n",
      "\n",
      "{u'name': [u'Ford Escort Classic (D 11/1998-7/2000)', u'Ford Escort Mark VI', u'Ford EuroEscort (RA)']} \n",
      "\n",
      "{u'name': [u'Dacia D6 (Romania)', u'Renault Estafette', u'Renault Hi-Boy (USA Canada)', u'Renault Petit-Panel (USA Canada)']} \n",
      "\n",
      "{u'name': [u'Fiat 133', u'SEAT 133']} \n",
      "\n",
      "{u'name': u'SEAT Inca'} \n",
      "\n",
      "{u'name': u'Fifth generation'} \n",
      "\n",
      "{u'name': u'Sixth generation'} \n",
      "\n",
      "{u'name': u'Alfa Romeo GTV & Spider'} \n",
      "\n",
      "{u'name': u'Alfa Romeo Giulia (saloon)'} \n",
      "\n",
      "{u'name': u'Renault 6'} \n",
      "\n",
      "{u'name': u'Renault 18'} \n",
      "\n",
      "{u'name': [u'Hino 4CV', u'Renault 4/4', u'Renault 4CV', u'Renault 750', u'Renault 760']} \n",
      "\n",
      "{u'name': [u'Mercedes-Benz Vario', u'W670']} \n",
      "\n",
      "{u'name': u'Toyota Crown'} \n",
      "\n",
      "{u'name': u'Volkswagen Eos (1F7)'} \n",
      "\n",
      "{u'name': [u'Hyundai Grandeur XG (South Korea)', u'Hyundai XG25', u'Hyundai XG30', u'Hyundai XG300', u'Hyundai XG350', u'Third generation (XG)']} \n",
      "\n",
      "{u'name': [u'Fourth generation (TG)', u'Hyundai Azera', u'Hyundai The Luxury Grandeur (KDM Facelift)']} \n",
      "\n",
      "{u'name': u'First generation'} \n",
      "\n",
      "{u'name': [u'Dodge H-100 (Mexico)', u'Fourth generation', u'Hyundai Bakkie (South Africa)', u'Hyundai H-100', u'Hyundai HR (Brazil)', u'Hyundai Porter II', u'Hyundai Shehzore (Pakistan)', u'Inokom Lorimas AU26 (Malaysia)']} \n",
      "\n",
      "{u'name': u'Volvo 700'} \n",
      "\n",
      "{u'name': u'Volvo 740'} \n",
      "\n",
      "{u'name': [u'Mercedes-Benz Fintail', u'Mercedes-Benz W111']} \n",
      "\n",
      "{u'name': [u'Chevrolet Rezzo', u'Chevrolet Tacuma', u'Chevrolet Vivant', u'Daewoo Rezzo', u'Daewoo Tacuma']} \n",
      "\n",
      "{u'name': u'NSU Prinz 30'} \n",
      "\n",
      "{u'name': [u'Acura CSX', u'Honda Civic Sedan']} \n",
      "\n",
      "{u'name': [u'Alfa Romeo Alfa 6', u'Alfa Sei']} \n",
      "\n",
      "{u'name': [u'Austin Mini', u'Austin Seven', u'Mini Mark I', u'Morris 850', u'Morris Mini']} \n",
      "\n",
      "{u'name': u'Alfa Romeo 90'} \n",
      "\n",
      "{u'name': u'Mercedes 170V'} \n",
      "\n",
      "{u'name': [u'Chevrolet Epica (Europe China)', u'Chevrolet Tosca (Iceland)', u'Daewoo Tosca', u'Holden Epica (Australasia)']} \n",
      "\n",
      "{u'name': u'First generation Sprint'} \n",
      "\n",
      "{u'name': u'Second generation Sprint'} \n",
      "\n",
      "{u'name': u'GMC Caballero'} \n",
      "\n",
      "{u'name': [u'Alfa Romeo 159i (sedan)', u'Alfa Romeo Alfetta']} \n",
      "\n",
      "{u'name': u'Rambler American'} \n",
      "\n",
      "{u'name': [u'Holden Apollo', u'Toyota Camry (XV10)', u'Toyota Scepter (Japan)', u'Toyota Vienta']} \n",
      "\n",
      "{u'name': [u'Fourth generation (E25)', u'Isuzu COMO', u'Nissan Urvan', u'Nissan Urvan Estate']} \n",
      "\n",
      "{} \n",
      "\n",
      "{u'name': [u'Beijing-Jeep BJ 2021 (4WD)', u'Beijing-Jeep BJ 7250 (2WD)', u'Jeep Cherokee (XJ)']} \n",
      "\n",
      "{u'name': u'Alfa Romeo 1750/2000 Berlina'} \n",
      "\n",
      "{u'name': u'Second generation'} \n",
      "\n",
      "{u'name': [u'TRD Aurion', u'Toyota Aurion (XV40)', u'Toyota Camry']} \n",
      "\n",
      "{u'name': u'Morris Eight Series E'} \n",
      "\n",
      "{u'name': u'Morris Series Z'} \n",
      "\n",
      "{u'name': u'Mercedes-Benz T2'} \n",
      "\n",
      "{u'name': u'Triumph TR3'} \n",
      "\n",
      "{u'name': [u'Hyundai iX20 (2014-)', u'Kia Venga (2013-)', u'Nissan Livina (2014-)', u'Nissan Note E12', u'Nissan Versa Note (US)', u'Renault Modus II (2014-)']} \n",
      "\n",
      "{u'name': u'Turbo-Hydramatic 180'} \n",
      "\n",
      "{u'name': [u'(FA5/FG2)', u'Eighth generation Si']} \n",
      "\n",
      "{u'name': [u'Rambler Classic', u'Rambler-Renault Classic (RIB)']} \n",
      "\n",
      "{u'name': u'Hudson Wasp'} \n",
      "\n",
      "{u'name': u'Mercedes-Benz W180'} \n",
      "\n",
      "{u'name': u'Second generation'} \n",
      "\n",
      "{u'name': [u'Mercedes-Benz E-Class', u'Mercedes-Benz W212']} \n",
      "\n",
      "{u'name': [u'Chevrolet Combo', u'Combo C', u'Holden Combo (XC)', u'Vauxhall Combo']} \n",
      "\n",
      "{u'name': [u'Chery IQ (Chile)', u'Chery QQ', u'Chery QQ3 (China)', u'Chery Sweet (Russia)', u'DR1 (Italy)', u'MVM 110 (Iran)']} \n",
      "\n",
      "{u'name': [u'Land Cruiser Prado', u'Lexus GX (USA)']} \n",
      "\n",
      "{u'name': u'Peugeot 308'} \n",
      "\n",
      "{u'name': u'First Generation'} \n",
      "\n",
      "{u'name': u'Third Generation'} \n",
      "\n",
      "{u'name': [u'Chery B14', u'Chery Boss (Turkey)', u'Chery Cross', u'Chery CrossEastar', u'Chery Crossover', u'Chery Destiny (Chile)', u'Chery Eastar Cross', u'Chery V5', u'Rely V5']} \n",
      "\n",
      "{u'name': [u'Renault Fluence', u'Renault Samsung SM3']} \n",
      "\n",
      "{u'name': u'BMW 7-Series (F01/F02)'} \n",
      "\n",
      "{u'name': [u'Chery Jaggi (Ukraine)', u'Chery QQ6', u'Chery S21 (Iran & South America)', u'Speranza A213 (Egypt)']} \n",
      "\n",
      "{u'name': [u'Ford Vedette', u'Simca Vedette']} \n",
      "\n",
      "{u'name': u'Beaumont'} \n",
      "\n",
      "{u'name': u'Ford Model A'} \n",
      "\n",
      "{u'name': u'Simca P60 Aronde'} \n",
      "\n",
      "{u'name': u'Ford'} \n",
      "\n",
      "{u'name': u'Ford'} \n",
      "\n",
      "{u'name': u'Holden VB Commodore'} \n",
      "\n",
      "{u'name': u'Holden VC Commodore'} \n",
      "\n",
      "{u'name': [u'Volkswagen Polo Mk4', u'Volkswagen Polo Vivo']} \n",
      "\n",
      "{u'name': [u'Chevrolet Colorado', u'Chevrolet D-Max', u'Chevrolet LUV D-Max', u'Chevrolet T Series', u'GMC Canyon', u'Holden Colorado', u'Holden Rodeo', u'Isuzu D-Max', u'Isuzu KB', u'Isuzu LB', u'Isuzu Rodeo']} \n",
      "\n",
      "{u'name': u'Holden VH Commodore'} \n",
      "\n",
      "{u'name': [u'Holden VG Utility', u'Holden VN Berlina', u'Holden VN Calais', u'Holden VN Commodore', u'Toyota Lexcen (T1)']} \n",
      "\n",
      "{u'name': [u'Holden VL Calais', u'Holden VL Commodore']} \n",
      "\n",
      "{u'name': u'Mack R Model'} \n",
      "\n",
      "{u'name': [u'Chery J11', u'Chery Ruihu', u'Chery Tiggo', u'MVM X33', u'Speranza Tiggo', u'Vortex Tingo', u'dr5']} \n",
      "\n",
      "{u'name': [u'Chevrolet CMP', u'Chevrolet CMV', u'Daewoo Damas & Daewoo Labo']} \n",
      "\n",
      "{u'name': [u'VW Bora HS (China 2006\\u20132008)', u'VW City Golf (Canada 2006\\u20132008)', u'VW Golf City (2009\\u20132010)', u'Volkswagen Golf Mk4']} \n",
      "\n",
      "{u'name': [u'Volkswagen Golf Mk5', u'Volkswagen Rabbit']} \n",
      "\n",
      "{u'name': u'Volkswagen Golf Mk2'} \n",
      "\n",
      "{u'name': u'Volkswagen Golf Mk3'} \n",
      "\n",
      "{u'name': [u'Volkswagen Cabriolet', u'Volkswagen Caddy', u'Volkswagen Caribe', u'Volkswagen CitiGolf', u'Volkswagen Golf Mk1', u'Volkswagen Rabbit']} \n",
      "\n",
      "{u'name': [u'Scion xD; XP110 series', u'Toyota Urban Cruiser', u'Toyota ist']} \n",
      "\n",
      "{u'name': u'Chevrolet Chevelle Laguna'} \n",
      "\n",
      "{u'name': u'Volvo FH series'} \n",
      "\n",
      "{u'name': u'Holden VK Commodore'} \n",
      "\n",
      "{u'name': [u'Chevrolet LUV', u'Holden Rodeo', u'Isuzu Faster-Z', u'Isuzu KB', u\"Isuzu P'up\", u'Second generation']} \n",
      "\n",
      "{u'name': [u'Honda Tour Master (Thailand)', u'Isuzu Dragon Eye', u'Isuzu Fuego', u'Isuzu TFR', u'Third generation']} \n",
      "\n",
      "{u'name': [u'Alfa Romeo Giulietta', u'Alfa Romeo Giulietta Nuova', u'Alfa Romeo New Giulietta', u'Alfa Romeo Nuova Giulietta']} \n",
      "\n",
      "{u'name': [u'Bogdan 2110', u'Lada 110', u'Lada 2110', u'Lada Vega', u'VAZ 2110']} \n",
      "\n",
      "{u'name': u'Triumph Mayflower'} \n",
      "\n",
      "{u'name': [u'Chery A5', u'Chery Alia', u'Chery Elara', u'Chery Fora', u'Chery J5', u'MVM 520/530', u'Speranza A516', u'Vortex Estina']} \n",
      "\n",
      "{u'name': u'Holden FJ'} \n",
      "\n",
      "{u'name': u'Standard 8hp'} \n",
      "\n",
      "{u'name': [u'Nissan Pulsar (Australia)', u'Nissan Sentra (North America)', u'Third generation (B17)']} \n",
      "\n",
      "{u'name': [u'Brilliance BS6', u'Brilliance Galena', u'Brilliance M1', u'Huachen Zunchi', u'Zhonghua Zunchi']} \n",
      "\n",
      "{u'name': u'Morris Ten Series M'} \n",
      "\n",
      "{u'name': [u'Austin Lancer', u'Morris Major']} \n",
      "\n",
      "{u'name': u'Second generation'} \n",
      "\n",
      "{u'name': u'Third generation'} \n",
      "\n",
      "{u'name': u'Fourth generation'} \n",
      "\n",
      "{u'name': u'Fifth generation'} \n",
      "\n",
      "{u'name': u'Plymouth Cambridge'} \n",
      "\n",
      "{u'name': u'Plymouth Cranbrook'} \n",
      "\n",
      "{u'name': u'Humber Hawk'} \n",
      "\n",
      "{u'name': u'Peugeot 408'} \n",
      "\n",
      "{u'name': [u'Standard 6 cwt', u'Standard Companion', u'Standard Ten', u'Standard Vanguard Junior', u'Triumph TR-10']} \n",
      "\n",
      "{u'name': u'Ford XY Falcon GT'} \n",
      "\n",
      "{u'name': u'Peugeot 208'} \n",
      "\n",
      "{u'name': [u'formerly known as the Volkswagen Robust Pick-Up (concept)', u'Volkswagen Amarok']} \n",
      "\n",
      "{u'name': u'Vauxhall Wyvern'} \n",
      "\n",
      "{u'name': [u'Hillman Super Minx', u'Humber 90 New Zealand & South Africa']} \n",
      "\n",
      "{u'name': u'Ford Ranch Wagon'} \n",
      "\n",
      "{u'name': u'Ford Gran Torino from Starsky and Hutch'} \n",
      "\n",
      "{u'name': u'Vauxhall Velox LIP'} \n",
      "\n",
      "{u'name': [u'Vauxhall Velox EIP', u'Vauxhall Velox EIPV']} \n",
      "\n",
      "{u'name': u'Vauxhall Velox PB'} \n",
      "\n",
      "{u'name': u'Sunbeam Mk III'} \n",
      "\n",
      "{u'name': u'First generation'} \n",
      "\n",
      "{u'name': u'Toyota Sprinter'} \n",
      "\n",
      "{u'name': u'Third generation'} \n",
      "\n",
      "{u'name': [u'Toyota Sprinter Trueno (2-door coupe 3-door hatchback)', u'Toyota Corolla Levin (2-door coupe 3-door hatchback)', u'Geo Prizm', u'Holden Nova', u'Sixth generation', u'Toyota Sprinter Cielo (5-door hatchback)']} \n",
      "\n",
      "{u'name': [u'Daihatsu Charmant', u'Toyota Corolla E70', u'Toyota Sprinter', u'Toyota T-18']} \n",
      "\n",
      "{u'name': [u'Chevrolet Prizm', u'Eighth generation', u'Toyota Carib', u'Toyota Sprinter']} \n",
      "\n",
      "{u'name': u'Seventh generation'} \n",
      "\n",
      "{u'name': u'Ninth generation'} \n",
      "\n",
      "{u'name': u'Tenth generation'} \n",
      "\n",
      "{u'name': [u'Toyota AE85 & AE86 Corolla Levin /Sprinter Trueno', u'Toyota Corolla E80', u'Toyota Corolla Sprinter']} \n",
      "\n",
      "{u'name': [u'Brilliance BS4', u'Brilliance M2', u'Brilliance Splendor', u'Huachen Junjie', u'Pyeonghwa Hwiparam II', u'Pyeonghwa Junma', u'Zhonghua Junjie']} \n",
      "\n",
      "{u'name': [u'(AG/AH/AJ/AK/AT/AU)', u'Honda Civic', u'Third generation']} \n",
      "\n",
      "{u'name': [u'(EC/ED/EE/EF)', u'Fourth generation', u'Honda Civic']} \n",
      "\n",
      "{u'name': [u'(EG/EH/EJ)', u'Fifth generation', u'Honda Civic']} \n",
      "\n",
      "{u'name': [u'(EJ/EK/EM)', u'Honda Ballade (South Africa)', u'Honda Civic', u'Sixth generation']} \n",
      "\n",
      "{u'name': [u'(EU/ES/EP/EM)', u'Honda Civic', u'Seventh generation']} \n",
      "\n",
      "{u'name': [u'(FA/FG/FK/FN/FD)', u'Eighth generation', u'Honda Civic']} \n",
      "\n",
      "{u'name': u'Dodge Phoenix'} \n",
      "\n",
      "{u'name': u'Bontino EMC'} \n",
      "\n",
      "{u'name': u'Mercedes-Benz Viano'} \n",
      "\n",
      "{u'name': [u'Datsun Bluebird 910', u'Nissan Bluebird', u'Yue Loong Bluebird 921 (Yulon TW)']} \n",
      "\n",
      "{u'name': u'Holden HX'} \n",
      "\n",
      "{u'name': u'Holden HZ'} \n",
      "\n",
      "{u'name': [u'Mitsubishi Delica D:3', u'Nissan Evalia', u'Nissan NV200', u'Nissan NV200 Vanette']} \n",
      "\n",
      "{u'name': [u'Daihatsu Altis', u'Toyota Camry (XV40)']} \n",
      "\n",
      "{u'name': u'Alfa Romeo Diva'} \n",
      "\n",
      "{u'name': [u'Daihatsu Altis', u'Toyota Camry (XV30)']} \n",
      "\n",
      "{u'name': u'Chevrolet Agile'} \n",
      "\n",
      "{u'name': [u'Daihatsu Altis', u'Toyota Camry (XV20)', u'Toyota Mark II Qualis', u'Toyota Vienta']} \n",
      "\n",
      "{u'name': [u'Eighth generation', u'Honda Crosstour', u'Honda Inspire', u'North America and parts of Asia (CP1-CP3; CS1-CS2)']} \n",
      "\n",
      "{u'name': [u'Honda Accord', u'Honda Inspire', u'North America', u'Seventh generation series UC1']} \n",
      "\n",
      "{u'name': u'BMW 3-Series (F30)'} \n",
      "\n",
      "{u'name': u'Nissan NV'} \n",
      "\n",
      "{u'name': u'Chevrolet Impala (fifth generation)'} \n",
      "\n",
      "{u'name': u'Chevrolet Impala (fourth generation)'} \n",
      "\n",
      "{u'name': u'Chevrolet Stylemaster'} \n",
      "\n",
      "{u'name': [u'Clio Symbol', u'Nissan Platina (Mexico)', u'Renault Citius (Colombia taxi version)', u'Renault Clio Classic (North Africa)', u'Renault Clio Sedan (Brazil Paraguay)', u'Renault Symbol (South America)', u'Renault Thalia (Central Europe)']} \n",
      "\n",
      "{u'name': [u'Renault Thalia', u'Symbol II']} \n",
      "\n",
      "{u'name': u'Toyota Prius (XW20)'} \n",
      "\n",
      "{u'name': [u'Pontiac Acadian (Canada)', u'Pontiac T1000/1000']} \n",
      "\n",
      "{u'name': [u'Volkswagen Dasher', u'Volkswagen Passat (B1)']} \n",
      "\n",
      "{u'name': [u'Volkswagen Carat', u'Volkswagen Corsar', u'Volkswagen Passat (B2)']} \n",
      "\n",
      "{u'name': [u'Volkswagen Passat (B5)', u'Volkswagen Passat Lingyu']} \n",
      "\n",
      "{u'name': [u'Volkswagen Magotan', u'Volkswagen Passat (B6/B7)', u'Volkswagen Variant']} \n",
      "\n",
      "{u'name': [u'Honda Civic', u'Ninth generation (FB)']} \n",
      "\n",
      "{u'name': [u'Chery A1', u'Chery A113', u'Chery Arauca', u'Chery Ego', u'Chery Face', u'Chery Fresh', u'Chery J1', u'Chery Kimo', u'Chery S12', u'Speranza A113', u'dr2']} \n",
      "\n",
      "{u'name': [u'Buick Sail', u'Chevrolet Chevy', u'Chevrolet Classic', u'Chevrolet Corsa', u'Corsa B', u'Holden Barina', u'Opel Vita', u'Vauxhall Corsa']} \n",
      "\n",
      "{u'name': [u'Chevrolet Corsa', u'Corsa C', u'Holden Barina', u'Opel Vita', u'Vauxhall Corsa']} \n",
      "\n",
      "{u'name': [u'Guangzhou-Honda Odyssey', u'Honda LaGreat (JDM)', u'Second Generation RL1 (North America)']} \n",
      "\n",
      "{u'name': [u'Chery A3', u'Chery Apola', u'Chery Chance/Niche', u'Chery Cielo', u'Chery J3', u'Chery M11', u'Chery Orinoco', u'Chery Skin/Skin Sport', u'Chery Tengo', u'Speranza M11/M12']} \n",
      "\n",
      "{u'name': [u'Chery A13', u'Chery Bonus (liftback Russia)', u'Chery Fulwin 2', u'Chery Storm 2', u'Chery Very (hatchback Russia)', u'ZAZ Forza (Ukraine)']} \n",
      "\n",
      "{u'name': u'Ford Focus (first generation)'} \n",
      "\n",
      "{u'name': [u'Ford Ranger (T6)', u'Mazda BT-50']} \n",
      "\n",
      "{u'name': [u'Panhard & Levassor Dynamic 130', u'Panhard & Levassor Dynamic 140', u'Panhard & Levassor Dynamic 160']} \n",
      "\n",
      "{u'name': [u'Daihatsu Altis (2012\\u2013present)', u'Toyota Camry (XV50)']} \n",
      "\n",
      "{u'name': u'Second generation'} \n",
      "\n",
      "{u'name': u'Austin-Healey 100-6'} \n",
      "\n",
      "{u'name': [u'Chrysler VH Valiant', u'Dodge utility']} \n",
      "\n",
      "{u'name': u'Pontiac Streamliner'} \n",
      "\n",
      "{u'name': [u'Mercury M-Series', u'Third-generation Ford F-Series']} \n",
      "\n",
      "{u'name': [u'Fourth generation', u'Mercury M-Series']} \n",
      "\n",
      "{u'name': u'Sixth generation'} \n",
      "\n",
      "{u'name': [u'Fifth generation Ford F-Series', u'Mercury M-Series']} \n",
      "\n",
      "{u'name': u'Eighth generation'} \n",
      "\n",
      "{u'name': u'Seventh generation'} \n",
      "\n",
      "{u'name': u'Ninth generation'} \n",
      "\n",
      "{u'name': [u'Lucalia Clubman', u'Lucalia P4 / P6']} \n",
      "\n",
      "{u'name': [u'Mercedes-Benz 170S', u'Mercedes-Benz 170S (W136)', u'Mercedes-Benz 170S-V/170S-D (W136)', u'Mercedes-Benz 170Sb/170DS (W191)']} \n",
      "\n",
      "{u'name': [u'Mercedes-Benz 230', u'Mercedes-Benz Typ(e) 230', u'Mercedes-Benz W153']} \n",
      "\n",
      "{u'name': [u'Chery G5', u'Riich G5']} \n",
      "\n",
      "{u'name': u'Chery E5'} \n",
      "\n",
      "{u'name': u'Chevrolet Fleetmaster'} \n",
      "\n"
     ]
    }
   ],
   "source": [
    "query = {'assembly':{'$lte':'B','$gte':'H'}}\n",
    "projection = {'_id':0,'name':1}\n",
    "pquery(query,projection)"
   ]
  },
  {
   "cell_type": "code",
   "execution_count": null,
   "metadata": {
    "collapsed": true
   },
   "outputs": [],
   "source": []
  },
  {
   "cell_type": "code",
   "execution_count": null,
   "metadata": {
    "collapsed": true
   },
   "outputs": [],
   "source": []
  },
  {
   "cell_type": "markdown",
   "metadata": {
    "slideshow": {
     "slide_type": "slide"
    }
   },
   "source": [
    "## l'idea dietro ai db Column-oriented"
   ]
  },
  {
   "cell_type": "markdown",
   "metadata": {
    "slideshow": {
     "slide_type": "fragment"
    }
   },
   "source": [
    "    L'idea di base e' quella di accorpare le colonne di tutti i record in una sola riga."
   ]
  },
  {
   "cell_type": "markdown",
   "metadata": {
    "slideshow": {
     "slide_type": "subslide"
    }
   },
   "source": [
    "<img src='https://media.licdn.com/mpr/mpr/shrinknp_800_800/AAEAAQAAAAAAAAL1AAAAJDc0NzIzYTUzLTZiMWMtNGIzNi05ODYwLWZiNTg3YjlmNzZmYQ.jpg'></img>"
   ]
  },
  {
   "cell_type": "markdown",
   "metadata": {
    "slideshow": {
     "slide_type": "subslide"
    }
   },
   "source": [
    "\n",
    "quindi:\n",
    "\n",
    "- I valori di ogni singola colonna sono scritti contigui\n",
    "- Ogni colonna e' archiviata su un file specifico\n",
    "- Tutti i dati all'interno di una colonna sono dello stesso tipo cosa molto buona per la compressione\n",
    "- Alte prestazioni per le query su dati aggregati (count, sum , avg, min, max)"
   ]
  },
  {
   "cell_type": "code",
   "execution_count": null,
   "metadata": {
    "collapsed": true
   },
   "outputs": [],
   "source": []
  },
  {
   "cell_type": "code",
   "execution_count": null,
   "metadata": {
    "collapsed": true
   },
   "outputs": [],
   "source": []
  },
  {
   "cell_type": "code",
   "execution_count": null,
   "metadata": {
    "collapsed": true
   },
   "outputs": [],
   "source": []
  },
  {
   "cell_type": "markdown",
   "metadata": {},
   "source": [
    "### Riassumendo"
   ]
  },
  {
   "cell_type": "markdown",
   "metadata": {},
   "source": [
    "- Vantaggi :\n",
    "\n",
    "    - Altissima scalabilita' (scale-out)\n",
    "    - Eleborazione distribuita\n",
    "    - Comodity Hardware (non server)\n",
    "    - Flessibilita' dello schema (amesso ci sia)\n",
    "    - Poter lavorare con dati semi-strutturati\n",
    "    - Nessuna complicata rete di relazioni tra le tabelle\n",
    "\n",
    "- Svantaggi\n",
    "\n",
    "    - Non c'e' uno standard\n",
    "    - Difficolta' nello scrivere le query\n",
    "    - Si spera siano db consistenti, ma non e' detto."
   ]
  },
  {
   "cell_type": "markdown",
   "metadata": {
    "slideshow": {
     "slide_type": "notes"
    }
   },
   "source": [
    "[w3Resource NoSQL Intro](http://www.w3resource.com/mongodb/nosql.php)"
   ]
  },
  {
   "cell_type": "markdown",
   "metadata": {
    "collapsed": true,
    "slideshow": {
     "slide_type": "slide"
    }
   },
   "source": [
    "### questions time ...."
   ]
  }
 ],
 "metadata": {
  "celltoolbar": "Slideshow",
  "kernelspec": {
   "display_name": "Python 2",
   "language": "python",
   "name": "python2"
  },
  "language_info": {
   "codemirror_mode": {
    "name": "ipython",
    "version": 2
   },
   "file_extension": ".py",
   "mimetype": "text/x-python",
   "name": "python",
   "nbconvert_exporter": "python",
   "pygments_lexer": "ipython2",
   "version": "2.7.9"
  }
 },
 "nbformat": 4,
 "nbformat_minor": 0
}
