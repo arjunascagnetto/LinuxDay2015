{
 "cells": [
  {
   "cell_type": "markdown",
   "metadata": {
    "slideshow": {
     "slide_type": "slide"
    }
   },
   "source": [
    "<center><h2>Big Data: come ti archivio il dato. </h2></center>\n",
    "\n",
    "<center><h4>perche' il db NoSql e' il db per i Big Data ? </h4></center>"
   ]
  },
  {
   "cell_type": "markdown",
   "metadata": {
    "slideshow": {
     "slide_type": "slide"
    }
   },
   "source": [
    "## Definiamo il problema : cosa sono i Big Data ?"
   ]
  },
  {
   "cell_type": "markdown",
   "metadata": {
    "slideshow": {
     "slide_type": "subslide"
    }
   },
   "source": [
    "Nel 2001 l'analista Doug Laney nell'articolo [\"3D data management: Controlling data volume, variety and velocity\"](http://blogs.gartner.com/doug-laney/files/2012/01/ad949-3D-Data-Management-Controlling-Data-Volume-Velocity-and-Variety.pdf), introduce il concetto delle 3V dei [Big Data](https://en.wikipedia.org/wiki/Big_data).\n",
    "\n",
    "E' la prima definizione operativa di Big Data."
   ]
  },
  {
   "cell_type": "markdown",
   "metadata": {
    "slideshow": {
     "slide_type": "fragment"
    }
   },
   "source": [
    "Le 3V dei Big Data sono a tutti gli effetti diverse dimensioni nelle quali il dato puo' espandersi:\n",
    "\n",
    "- Volume\n",
    "- Velocita'\n",
    "- Varieta'"
   ]
  },
  {
   "cell_type": "markdown",
   "metadata": {
    "slideshow": {
     "slide_type": "subslide"
    }
   },
   "source": [
    "con **Volume**\n",
    "\n",
    "intendiamo la dimensione che misura la quantita' di dati.\n",
    "\n",
    "E' sicuramente la piu' facile da associare alla parola \"big\"."
   ]
  },
  {
   "cell_type": "markdown",
   "metadata": {
    "slideshow": {
     "slide_type": "fragment"
    }
   },
   "source": [
    "Facebook afferma che il suo database aumenta di circa [600TB al giorno](https://code.facebook.com/posts/229861827208629/scaling-the-facebook-data-warehouse-to-300-pb/)"
   ]
  },
  {
   "cell_type": "markdown",
   "metadata": {
    "slideshow": {
     "slide_type": "subslide"
    }
   },
   "source": [
    "con **Velocity**\n",
    "\n",
    "intendiamo la dimensione che misura la velocita' con la quale arrivano nuovi dati.\n",
    "\n",
    "Ad esempio immaginiamo i Log di un server particolarmente critico per quantita' di transazioni che deve gestire."
   ]
  },
  {
   "cell_type": "markdown",
   "metadata": {
    "slideshow": {
     "slide_type": "subslide"
    }
   },
   "source": [
    "con **Variety**\n",
    "\n",
    "intendiamo la dimensione che misura quanto sono _eterogenei_ i dati."
   ]
  },
  {
   "cell_type": "markdown",
   "metadata": {
    "slideshow": {
     "slide_type": "fragment"
    }
   },
   "source": [
    "E' la grandezza meno conosciuta, ma che crea piu' difficolta' nel trattarla. e probabilmente e' anche la piu' interessante, o meglio la piu' densa di novita'."
   ]
  },
  {
   "cell_type": "markdown",
   "metadata": {
    "slideshow": {
     "slide_type": "subslide"
    }
   },
   "source": [
    "I dati possono essere suddivisi in tre grandi gruppi:\n",
    "\n",
    "- Strutturati\n",
    "- Semistrutturati\n",
    "- Non strutturati"
   ]
  },
  {
   "cell_type": "markdown",
   "metadata": {
    "slideshow": {
     "slide_type": "subslide"
    }
   },
   "source": [
    "I dati **strutturati** sono tutti quei dati che possono essere inseriti cosi' come stanno dentro la tabella di un database.\n",
    "\n",
    "In pratica possiamo girare il ragionamento e vedere il dump di una tabella di un database come la tipologia perfetta di dato strutturato. E' pulito, e' consistente, non contiene nulli o se li contiene c'e' gia' una logica dietro e non dobbiamo preoccuparcene."
   ]
  },
  {
   "cell_type": "markdown",
   "metadata": {
    "slideshow": {
     "slide_type": "subslide"
    }
   },
   "source": [
    "I dati **semistrutturati** sono una categoria di mezzo, e possono essere identificati con quei dati che potrebbero essere immessi in una tabella, ma prima necessitano di qualche operazione di pulizia o di controllo. \n",
    "\n",
    "Vengono considerati dati semistrutturati i file CSV, XML, JSON."
   ]
  },
  {
   "cell_type": "markdown",
   "metadata": {
    "slideshow": {
     "slide_type": "subslide"
    }
   },
   "source": [
    "I dati **non strutturati** (che sono usulmente sono l'80% dei dati immagazzinati in un data warehouse) sono i dati che non contengono alcuno schema. "
   ]
  },
  {
   "cell_type": "markdown",
   "metadata": {
    "slideshow": {
     "slide_type": "fragment"
    }
   },
   "source": [
    "Non c'e' un modo semplice e diretto per imbrigliarli, incasellarli, domarli. "
   ]
  },
  {
   "cell_type": "markdown",
   "metadata": {
    "slideshow": {
     "slide_type": "fragment"
    }
   },
   "source": [
    "forse per questo sono i dati che <u>possono</u> nascondere le maggiori sorprese."
   ]
  },
  {
   "cell_type": "markdown",
   "metadata": {
    "slideshow": {
     "slide_type": "subslide"
    }
   },
   "source": [
    "- Tutto il testo liberamente scritto all'interno di una azienda: documenti, logs , risultati delle indagini e potendo anche le emails.\n",
    "\n",
    "- Tutti i Tweets sono una enorme fonte di informazioni non strutturate.\n",
    "\n",
    "- ... the last but not the least tutti i miliardi di siti web con pagine e milioni di milioni di milioni di informazioni che aspettano solo di essere usate, senza nemmeno dover chiedere il permesso. \n",
    "\n",
    "<cite>from [Jeremy Ronk's Page](https://jeremyronk.wordpress.com/2014/09/01/structured-semi-structured-and-unstructured-data/)</cite>"
   ]
  },
  {
   "cell_type": "markdown",
   "metadata": {
    "slideshow": {
     "slide_type": "subslide"
    }
   },
   "source": [
    "La varieta' misura quindi il grado di eterogeneita' dei dati, cioe' ci informa su quanto si muovo sull'asse che unisce i dati strutturati ai dati non strutturati."
   ]
  },
  {
   "cell_type": "markdown",
   "metadata": {
    "slideshow": {
     "slide_type": "subslide"
    }
   },
   "source": [
    "<img src=\"http://itknowledgeexchange.techtarget.com/writing-for-business/files/2013/02/BigData.001.jpg\" style=\"width: 800px;\">"
   ]
  },
  {
   "cell_type": "markdown",
   "metadata": {
    "slideshow": {
     "slide_type": "slide"
    }
   },
   "source": [
    "Piu' che altro per dovere di completezza elenco le altri 2 V (dimensioni) che sono state aggiunte piu' recentemente:\n",
    "\n",
    "- Variabilita' : Inconsistency of the data set can hamper processes to handle and manage it.\n",
    "- Veridicita' : The quality of captured data can vary greatly, affecting accurate analysis.\n",
    "\n",
    "<cite>da Wikipedia [Big Data](https://en.wikipedia.org/wiki/Big_data)</cite>"
   ]
  },
  {
   "cell_type": "markdown",
   "metadata": {
    "slideshow": {
     "slide_type": "slide"
    }
   },
   "source": [
    "Davanti a questa poliedricita' del dato ci chiediamo prima ancora di pensare di farne qualsiasi analisi: \" Ma per archiviarlo come faccio ? Come faccio ad archiviare un milione di pagine di testo scritto ? O i Log del mio server che hanno una frequenza di aggiornamento di 1000 righe al secondo ?\" "
   ]
  },
  {
   "cell_type": "markdown",
   "metadata": {
    "slideshow": {
     "slide_type": "slide"
    }
   },
   "source": [
    "Ad oggi la risposta piu' accettata a queste domande sono i **Database NoSql**. "
   ]
  },
  {
   "cell_type": "markdown",
   "metadata": {
    "slideshow": {
     "slide_type": "slide"
    }
   },
   "source": [
    "## I db NoSQL"
   ]
  },
  {
   "cell_type": "markdown",
   "metadata": {
    "slideshow": {
     "slide_type": "subslide"
    }
   },
   "source": [
    "[Brief History of NoSql Movement](http://blog.knuthaugen.no/2010/03/a-brief-history-of-nosql.html)"
   ]
  },
  {
   "cell_type": "markdown",
   "metadata": {
    "slideshow": {
     "slide_type": "subslide"
    }
   },
   "source": [
    "Diversi tipi di db NoSql\n",
    "\n",
    "- [Key-Value Store](https://en.wikipedia.org/wiki/Key-value_database)\n",
    "- [Document Db](https://en.wikipedia.org/wiki/Document-oriented_database)\n",
    "- [Column Oriented Db](https://en.wikipedia.org/wiki/Column-oriented_DBMS)\n",
    "\n",
    "<cite>Christof Strauch's [NoSQL Databases](http://www.christof-strauch.de/nosqldbs.pdf)</cite>"
   ]
  },
  {
   "cell_type": "markdown",
   "metadata": {},
   "source": [
    "Tutti hanno in comune un particolare che e' quello percui vengono usati..."
   ]
  },
  {
   "cell_type": "markdown",
   "metadata": {},
   "source": [
    "Sono tutti _schemaless_. I record non sono vincolati ad una struttura fissa e rigida."
   ]
  },
  {
   "cell_type": "markdown",
   "metadata": {},
   "source": [
    "<img src='https://www.adobe.com/support/dreamweaver/programs/mx_database/images/wildlife_db.gif'></img>"
   ]
  },
  {
   "cell_type": "markdown",
   "metadata": {},
   "source": [
    "ALTER TABLE contact_information ADD COLUMN email VARCHAR(60);"
   ]
  },
  {
   "cell_type": "markdown",
   "metadata": {},
   "source": [
    "Possiamo sicuramente farlo.... ma immaginiamo di lavorare con una tabella con 1 milione di record e la alteriamo per ospitare questa nuova colonna 'email'. Tutte le righe saranno inizializzate a 'null'. Cosa che occupa spazio."
   ]
  },
  {
   "cell_type": "markdown",
   "metadata": {},
   "source": [
    "Un esempio ancora piu' semplice e' quello di dover lavorare con delle serie temporali. Magari abbiamo la campionatura ad una certa frequenza, ma l'evento puo' avere durate diverse. Allora avremo che ogni evento puo' avere piu' o meno campioni... possiamo inserirlo in un db relazionale ? "
   ]
  },
  {
   "cell_type": "markdown",
   "metadata": {},
   "source": [
    "la risposta e' NO ! (escluso il caso non inizializzo colonne per un numero cosi' grande da essere tranquillo)"
   ]
  },
  {
   "cell_type": "markdown",
   "metadata": {},
   "source": [
    "## OLAP e OLTP"
   ]
  },
  {
   "cell_type": "markdown",
   "metadata": {},
   "source": [
    "- On Line Analytical Processing\n",
    "- On Line Transactional Processing"
   ]
  },
  {
   "cell_type": "markdown",
   "metadata": {},
   "source": [
    "<cite>Gli strumenti OLAP si differenziano dagli OLTP per il fatto che i primi hanno come obiettivo la performance nella ricerca e il raggiungimento di interrogazioni quanto più articolate sia possibile; i secondi, invece, mirano ad una garanzia di integrità e sicurezza delle transazioni.</cite> da Wikipedia"
   ]
  },
  {
   "cell_type": "markdown",
   "metadata": {},
   "source": [
    "I database Relazionali tipo MySql, MsSql, Oracle, PostgreSql sono tutti di tipo OLTP, quindi piu' dedicati a gestire le transazioni, contemporane, ma coerenti."
   ]
  },
  {
   "cell_type": "markdown",
   "metadata": {},
   "source": [
    "I database NoSql non sono OLAP nel senso stretto del termine, ma hanno una spiccata tendenza ad essere veloci per le interrogazioni complesse, e quindi le analisi. Mentre non sono molto perfomanti per le transazioni, in particolare per le operazioni di update."
   ]
  },
  {
   "cell_type": "markdown",
   "metadata": {},
   "source": []
  },
  {
   "cell_type": "markdown",
   "metadata": {
    "slideshow": {
     "slide_type": "slide"
    }
   },
   "source": [
    "## l'idea dietro ai db Key-Value "
   ]
  },
  {
   "cell_type": "markdown",
   "metadata": {
    "slideshow": {
     "slide_type": "subslide"
    }
   },
   "source": [
    "Sono un tipo di database basati essenzialmente sulla struttura dati di tipo dizionario."
   ]
  },
  {
   "cell_type": "markdown",
   "metadata": {
    "slideshow": {
     "slide_type": "fragment"
    }
   },
   "source": [
    "Usiamo Python per capire come funziona un dizionario"
   ]
  },
  {
   "cell_type": "code",
   "execution_count": 80,
   "metadata": {
    "collapsed": false,
    "slideshow": {
     "slide_type": "fragment"
    }
   },
   "outputs": [
    {
     "name": "stdout",
     "output_type": "stream",
     "text": [
      "<type 'dict'>   {}\n"
     ]
    }
   ],
   "source": [
    "mydict = dict()\n",
    "print type(mydict),' ',mydict"
   ]
  },
  {
   "cell_type": "code",
   "execution_count": 90,
   "metadata": {
    "collapsed": true
   },
   "outputs": [],
   "source": [
    "mydict = {'nome':'arjuna','cognome':'scagnetto','email':'scagnetto@units.it'}"
   ]
  },
  {
   "cell_type": "code",
   "execution_count": 92,
   "metadata": {
    "collapsed": false
   },
   "outputs": [
    {
     "data": {
      "text/plain": [
       "[('cognome', 'scagnetto'), ('email', 'scagnetto@units.it'), ('nome', 'arjuna')]"
      ]
     },
     "execution_count": 92,
     "metadata": {},
     "output_type": "execute_result"
    }
   ],
   "source": [
    "mydict.items()"
   ]
  },
  {
   "cell_type": "code",
   "execution_count": 93,
   "metadata": {
    "collapsed": false
   },
   "outputs": [
    {
     "data": {
      "text/plain": [
       "['scagnetto', 'scagnetto@units.it', 'arjuna']"
      ]
     },
     "execution_count": 93,
     "metadata": {},
     "output_type": "execute_result"
    }
   ],
   "source": [
    "mydict.values()"
   ]
  },
  {
   "cell_type": "code",
   "execution_count": 94,
   "metadata": {
    "collapsed": false
   },
   "outputs": [
    {
     "data": {
      "text/plain": [
       "['cognome', 'email', 'nome']"
      ]
     },
     "execution_count": 94,
     "metadata": {},
     "output_type": "execute_result"
    }
   ],
   "source": [
    "mydict.keys()"
   ]
  },
  {
   "cell_type": "code",
   "execution_count": 95,
   "metadata": {
    "collapsed": false
   },
   "outputs": [
    {
     "data": {
      "text/plain": [
       "'arjuna'"
      ]
     },
     "execution_count": 95,
     "metadata": {},
     "output_type": "execute_result"
    }
   ],
   "source": [
    "mydict['nome']"
   ]
  },
  {
   "cell_type": "code",
   "execution_count": 96,
   "metadata": {
    "collapsed": false
   },
   "outputs": [
    {
     "name": "stdout",
     "output_type": "stream",
     "text": [
      "{'cognome': 'scagnetto', 'email': 'scagnetto@units.it', 'nome': 'Diego'}\n"
     ]
    }
   ],
   "source": [
    "mydict.update({'nome':'Diego'})\n",
    "print mydict"
   ]
  },
  {
   "cell_type": "code",
   "execution_count": 97,
   "metadata": {
    "collapsed": false
   },
   "outputs": [
    {
     "name": "stdout",
     "output_type": "stream",
     "text": [
      "{'cognome': 'scagnetto', 'email': 'fantoma@units.it', 'nome': 'Diego'}\n"
     ]
    }
   ],
   "source": [
    "mydict.update({'email':'fantoma@units.it'})\n",
    "print mydict"
   ]
  },
  {
   "cell_type": "markdown",
   "metadata": {},
   "source": [
    "### Se volessi simulare un db ?"
   ]
  },
  {
   "cell_type": "code",
   "execution_count": 98,
   "metadata": {
    "collapsed": true
   },
   "outputs": [],
   "source": [
    "# Creo una lista di dizionari per emulare un database\n",
    "db = []"
   ]
  },
  {
   "cell_type": "code",
   "execution_count": 99,
   "metadata": {
    "collapsed": false
   },
   "outputs": [
    {
     "name": "stdout",
     "output_type": "stream",
     "text": [
      "[{'cognome': 'scagnetto', 'email': 'fantoma@units.it', 'nome': 'Diego'}]\n"
     ]
    }
   ],
   "source": [
    "db.append(mydict)\n",
    "print db"
   ]
  },
  {
   "cell_type": "code",
   "execution_count": 100,
   "metadata": {
    "collapsed": false
   },
   "outputs": [
    {
     "name": "stdout",
     "output_type": "stream",
     "text": [
      "[{'nome': 'Diego', 'cognome': 'Fantoma', 'email': 'fantoma@units.it'}]\n"
     ]
    }
   ],
   "source": [
    "mydict.update({'nome':'Diego','cognome':'Fantoma','email':'fantoma@units.it'})\n",
    "print db"
   ]
  },
  {
   "cell_type": "markdown",
   "metadata": {},
   "source": [
    "## l'idea dietro ai db Document-oriented "
   ]
  },
  {
   "cell_type": "markdown",
   "metadata": {},
   "source": [
    "Prendiamo un file xml, mettiamolo nella prima riga di una lista.\n",
    "<br>Prendiamo un secondo file xml, mettiamolo nella seconda riga della lista.\n",
    "<br>etc \n",
    "<br>etc\n",
    "\n",
    "Senza nulla togliere ai db doc orinted ma questa e' l'idea di base."
   ]
  },
  {
   "cell_type": "markdown",
   "metadata": {},
   "source": [
    "    MongoDB e' probabilmente se non il piu' famoso e' tra i primi tra i piu famosi db NoSql orientati ai documenti."
   ]
  },
  {
   "cell_type": "markdown",
   "metadata": {},
   "source": [
    "La struttura dati fondamentale di MongoDb non e' l'xml , ma il formato [Json](http://www.json.org/)"
   ]
  },
  {
   "cell_type": "code",
   "execution_count": 101,
   "metadata": {
    "collapsed": true
   },
   "outputs": [],
   "source": [
    "myjson = {\n",
    "    \"glossary\": {\n",
    "        \"title\": \"example glossary\",\n",
    "\t\t\"GlossDiv\": {\n",
    "            \"title\": \"S\",\n",
    "\t\t\t\"GlossList\": {\n",
    "                \"GlossEntry\": {\n",
    "                    \"ID\": \"SGML\",\n",
    "\t\t\t\t\t\"SortAs\": \"SGML\",\n",
    "\t\t\t\t\t\"GlossTerm\": \"Standard Generalized Markup Language\",\n",
    "\t\t\t\t\t\"Acronym\": \"SGML\",\n",
    "\t\t\t\t\t\"Abbrev\": \"ISO 8879:1986\",\n",
    "\t\t\t\t\t\"GlossDef\": {\n",
    "                        \"para\": \"A meta-markup language, used to create markup languages such as DocBook.\",\n",
    "\t\t\t\t\t\t\"GlossSeeAlso\": [\"GML\", \"XML\"]\n",
    "                    },\n",
    "\t\t\t\t\t\"GlossSee\": \"markup\"\n",
    "                }\n",
    "            }\n",
    "        }\n",
    "    }\n",
    "}"
   ]
  },
  {
   "cell_type": "markdown",
   "metadata": {},
   "source": [
    "## l'idea dietro ai db Column-oriented"
   ]
  },
  {
   "cell_type": "markdown",
   "metadata": {},
   "source": [
    "    L'idea di base e' quella di accorpare le colonne di tutti i record in una sola riga."
   ]
  },
  {
   "cell_type": "markdown",
   "metadata": {},
   "source": [
    "<img src='https://media.licdn.com/mpr/mpr/shrinknp_800_800/AAEAAQAAAAAAAAL1AAAAJDc0NzIzYTUzLTZiMWMtNGIzNi05ODYwLWZiNTg3YjlmNzZmYQ.jpg'></img>"
   ]
  },
  {
   "cell_type": "markdown",
   "metadata": {},
   "source": [
    "[w3Resource NoSQL Intro](http://www.w3resource.com/mongodb/nosql.php)"
   ]
  },
  {
   "cell_type": "markdown",
   "metadata": {
    "collapsed": true,
    "slideshow": {
     "slide_type": "slide"
    }
   },
   "source": [
    "questions time and .... "
   ]
  },
  {
   "cell_type": "markdown",
   "metadata": {
    "collapsed": true,
    "slideshow": {
     "slide_type": "fragment"
    }
   },
   "source": [
    "maybe answers time too"
   ]
  }
 ],
 "metadata": {
  "kernelspec": {
   "display_name": "Python 2",
   "language": "python",
   "name": "python2"
  },
  "language_info": {
   "codemirror_mode": {
    "name": "ipython",
    "version": 2
   },
   "file_extension": ".py",
   "mimetype": "text/x-python",
   "name": "python",
   "nbconvert_exporter": "python",
   "pygments_lexer": "ipython2",
   "version": "2.7.9"
  }
 },
 "nbformat": 4,
 "nbformat_minor": 0
}
