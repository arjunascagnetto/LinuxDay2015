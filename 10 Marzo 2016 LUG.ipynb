{
 "cells": [
  {
   "cell_type": "markdown",
   "metadata": {
    "slideshow": {
     "slide_type": "slide"
    }
   },
   "source": [
    "<center><h2>Big Data: come ti archivio il dato. </h2></center>\n",
    "\n",
    "<center><h4>perche' il db NoSql e' il db per i Big Data ? </h4></center>"
   ]
  },
  {
   "cell_type": "markdown",
   "metadata": {
    "slideshow": {
     "slide_type": "slide"
    }
   },
   "source": [
    "## Definiamo il problema : cosa sono i Big Data ?"
   ]
  },
  {
   "cell_type": "markdown",
   "metadata": {
    "slideshow": {
     "slide_type": "subslide"
    }
   },
   "source": [
    "Nel 2001 l'analista Doug Laney nell'articolo [\"3D data management: Controlling data volume, variety and velocity\"](http://blogs.gartner.com/doug-laney/files/2012/01/ad949-3D-Data-Management-Controlling-Data-Volume-Velocity-and-Variety.pdf), introduce il concetto delle 3V dei [Big Data](https://en.wikipedia.org/wiki/Big_data).\n",
    "\n",
    "E' la prima definizione operativa di Big Data."
   ]
  },
  {
   "cell_type": "markdown",
   "metadata": {
    "slideshow": {
     "slide_type": "fragment"
    }
   },
   "source": [
    "Le 3V dei Big Data sono a tutti gli effetti diverse dimensioni nelle quali il dato puo' espandersi:\n",
    "\n",
    "- Volume\n",
    "- Velocita'\n",
    "- Varieta'"
   ]
  },
  {
   "cell_type": "markdown",
   "metadata": {
    "slideshow": {
     "slide_type": "subslide"
    }
   },
   "source": [
    "con **Volume**\n",
    "\n",
    "intendiamo la dimensione che misura la quantita' di dati.\n",
    "\n",
    "E' sicuramente la piu' facile da associare alla parola \"big\"."
   ]
  },
  {
   "cell_type": "markdown",
   "metadata": {
    "slideshow": {
     "slide_type": "fragment"
    }
   },
   "source": [
    "Facebook afferma che il suo database aumenta di circa [600TB al giorno](https://code.facebook.com/posts/229861827208629/scaling-the-facebook-data-warehouse-to-300-pb/)"
   ]
  },
  {
   "cell_type": "markdown",
   "metadata": {
    "slideshow": {
     "slide_type": "subslide"
    }
   },
   "source": [
    "con **Velocity**\n",
    "\n",
    "intendiamo la dimensione che misura la velocita' con la quale arrivano nuovi dati.\n",
    "\n",
    "Ad esempio immaginiamo i Log di un server particolarmente critico per quantita' di transazioni che deve gestire."
   ]
  },
  {
   "cell_type": "markdown",
   "metadata": {
    "slideshow": {
     "slide_type": "subslide"
    }
   },
   "source": [
    "con **Variety**\n",
    "\n",
    "intendiamo la dimensione che misura quanto sono _eterogenei_ i dati."
   ]
  },
  {
   "cell_type": "markdown",
   "metadata": {
    "slideshow": {
     "slide_type": "fragment"
    }
   },
   "source": [
    "E' la grandezza meno conosciuta, ma che crea piu' difficolta' nel trattarla. e probabilmente e' anche la piu' interessante, o meglio la piu' densa di novita'."
   ]
  },
  {
   "cell_type": "markdown",
   "metadata": {
    "slideshow": {
     "slide_type": "subslide"
    }
   },
   "source": [
    "I dati possono essere suddivisi in tre grandi gruppi:\n",
    "\n",
    "- Strutturati\n",
    "- Semistrutturati\n",
    "- Non strutturati"
   ]
  },
  {
   "cell_type": "markdown",
   "metadata": {
    "slideshow": {
     "slide_type": "subslide"
    }
   },
   "source": [
    "I dati **strutturati** sono tutti quei dati che possono essere inseriti cosi' come stanno dentro la tabella di un database.\n",
    "\n",
    "In pratica possiamo girare il ragionamento e vedere il dump di una tabella di un database come la tipologia perfetta di dato strutturato. E' pulito, e' consistente, non contiene nulli o se li contiene c'e' gia' una logica dietro e non dobbiamo preoccuparcene."
   ]
  },
  {
   "cell_type": "markdown",
   "metadata": {
    "slideshow": {
     "slide_type": "subslide"
    }
   },
   "source": [
    "I dati **semistrutturati** sono una categoria di mezzo, e possono essere identificati con quei dati che potrebbero essere immessi in una tabella, ma prima necessitano di qualche operazione di pulizia o di controllo. \n",
    "\n",
    "Vengono considerati dati semistrutturati i file CSV, XML, JSON."
   ]
  },
  {
   "cell_type": "markdown",
   "metadata": {
    "slideshow": {
     "slide_type": "subslide"
    }
   },
   "source": [
    "I dati **non strutturati** (che sono usulmente sono l'80% dei dati immagazzinati in un data warehouse) sono i dati che non contengono alcuno schema. "
   ]
  },
  {
   "cell_type": "markdown",
   "metadata": {
    "slideshow": {
     "slide_type": "fragment"
    }
   },
   "source": [
    "Non c'e' un modo semplice e diretto per imbrigliarli, incasellarli, domarli. "
   ]
  },
  {
   "cell_type": "markdown",
   "metadata": {
    "slideshow": {
     "slide_type": "fragment"
    }
   },
   "source": [
    "forse per questo sono i dati che <u>possono</u> nascondere le maggiori sorprese."
   ]
  },
  {
   "cell_type": "markdown",
   "metadata": {
    "slideshow": {
     "slide_type": "subslide"
    }
   },
   "source": [
    "- Tutto il testo liberamente scritto all'interno di una azienda: documenti, logs , risultati delle indagini e potendo anche le emails.\n",
    "\n",
    "- Tutti i Tweets sono una enorme fonte di informazioni non strutturate.\n",
    "\n",
    "- ... the last but not the least tutti i miliardi di siti web con pagine e milioni di milioni di milioni di informazioni che aspettano solo di essere usate, senza nemmeno dover chiedere il permesso. \n",
    "\n",
    "<cite>from [Jeremy Ronk's Page](https://jeremyronk.wordpress.com/2014/09/01/structured-semi-structured-and-unstructured-data/)</cite>"
   ]
  },
  {
   "cell_type": "markdown",
   "metadata": {
    "slideshow": {
     "slide_type": "subslide"
    }
   },
   "source": [
    "La varieta' misura quindi il grado di eterogeneita' dei dati, cioe' ci informa su quanto si muovo sull'asse che unisce i dati strutturati ai dati non strutturati."
   ]
  },
  {
   "cell_type": "markdown",
   "metadata": {
    "slideshow": {
     "slide_type": "subslide"
    }
   },
   "source": [
    "<img src=\"http://itknowledgeexchange.techtarget.com/writing-for-business/files/2013/02/BigData.001.jpg\" style=\"width: 800px;\">"
   ]
  },
  {
   "cell_type": "markdown",
   "metadata": {
    "slideshow": {
     "slide_type": "slide"
    }
   },
   "source": [
    "Piu' che altro per dovere di completezza elenco le altri 2 V (dimensioni) che sono state aggiunte piu' recentemente:\n",
    "\n",
    "- Variabilita' : Inconsistency of the data set can hamper processes to handle and manage it.\n",
    "- Veridicita' : The quality of captured data can vary greatly, affecting accurate analysis.\n",
    "\n",
    "<cite>da Wikipedia [Big Data](https://en.wikipedia.org/wiki/Big_data)</cite>"
   ]
  },
  {
   "cell_type": "markdown",
   "metadata": {
    "slideshow": {
     "slide_type": "slide"
    }
   },
   "source": [
    "Davanti a questa poliedricita' del dato ci chiediamo prima ancora di pensare di farne qualsiasi analisi: \" Ma per archiviarlo come faccio ? Come faccio ad archiviare un milione di pagine di testo scritto ? O i Log del mio server che hanno una frequenza di aggiornamento di 1000 righe al secondo ?\" "
   ]
  },
  {
   "cell_type": "markdown",
   "metadata": {
    "slideshow": {
     "slide_type": "slide"
    }
   },
   "source": [
    "Ad oggi la risposta piu' accettata a queste domande sono i **Database NoSql**. "
   ]
  },
  {
   "cell_type": "markdown",
   "metadata": {
    "slideshow": {
     "slide_type": "slide"
    }
   },
   "source": [
    "## I db NoSQL"
   ]
  },
  {
   "cell_type": "markdown",
   "metadata": {
    "slideshow": {
     "slide_type": "subslide"
    }
   },
   "source": [
    "[Brief History of NoSql Movement](http://blog.knuthaugen.no/2010/03/a-brief-history-of-nosql.html)"
   ]
  },
  {
   "cell_type": "markdown",
   "metadata": {
    "slideshow": {
     "slide_type": "subslide"
    }
   },
   "source": [
    "Elenco tipi di Db NoSQL: \n",
    "\n",
    "- Key-Value Store\n",
    "- Document Db\n",
    "- Column Oriented Db\n",
    "\n",
    "<cite>Christof Strauch's [NoSQL Databases](http://www.christof-strauch.de/nosqldbs.pdf)</cite>"
   ]
  },
  {
   "cell_type": "markdown",
   "metadata": {
    "slideshow": {
     "slide_type": "subslide"
    }
   },
   "source": []
  },
  {
   "cell_type": "markdown",
   "metadata": {},
   "source": []
  },
  {
   "cell_type": "markdown",
   "metadata": {
    "slideshow": {
     "slide_type": "fragment"
    }
   },
   "source": [
    "<a href=\"http://cassandra.apache.org/\"><img src=\"https://upload.wikimedia.org/wikipedia/commons/thumb/5/5e/Cassandra_logo.svg/2000px-Cassandra_logo.svg.png\" style=\"width: 100px;\"></a></hr>\n",
    "<a href=\"https://docs.mongodb.org/\"><img src=\"http://bigdatadayla.org/wp-content/uploads/2015/06/mongodb-logo-rgb.jpeg\" style=\"width: 100px;\"></a>"
   ]
  },
  {
   "cell_type": "markdown",
   "metadata": {},
   "source": []
  },
  {
   "cell_type": "markdown",
   "metadata": {},
   "source": []
  },
  {
   "cell_type": "markdown",
   "metadata": {
    "slideshow": {
     "slide_type": "slide"
    }
   },
   "source": [
    "### ... e fu fatta la luce <a href=\"http://spark.apache.org/\"><img src=\"http://spark.apache.org/images/spark-logo.png\" style=\"width: 200px;\"></a>"
   ]
  },
  {
   "cell_type": "markdown",
   "metadata": {
    "slideshow": {
     "slide_type": "fragment"
    }
   },
   "source": [
    "Spark non e' solo una astrazione del Map/Reduce, e' molto molto di piu'. "
   ]
  },
  {
   "cell_type": "markdown",
   "metadata": {
    "slideshow": {
     "slide_type": "subslide"
    }
   },
   "source": [
    "- e' esso stesso un framework di calcolo distribuito\n",
    "    - standalone\n",
    "    - su Yarn\n",
    "    - su Mesos\n",
    "    - su Amazon EC2\n",
    "    "
   ]
  },
  {
   "cell_type": "markdown",
   "metadata": {
    "slideshow": {
     "slide_type": "subslide"
    }
   },
   "source": [
    "- puo' accedere a dati archiviati su diverse \"piattaforme\"\n",
    "    - su hdfs\n",
    "    - su filesystem locale\n",
    "    - in Cassandra\n",
    "    - in HBase\n",
    "    - su Amazon EC2\n",
    "    "
   ]
  },
  {
   "cell_type": "markdown",
   "metadata": {
    "slideshow": {
     "slide_type": "subslide"
    }
   },
   "source": [
    "- ha gia' al suo interno librerie specifiche per\n",
    "    - il machine learning\n",
    "    - l'interrogazione database in SQL\n",
    "    - la gestione e l'analisi degli streaming\n",
    "    - l'analisi dei grafi"
   ]
  },
  {
   "cell_type": "markdown",
   "metadata": {
    "collapsed": true,
    "slideshow": {
     "slide_type": "slide"
    }
   },
   "source": [
    "questions time and .... "
   ]
  },
  {
   "cell_type": "markdown",
   "metadata": {
    "collapsed": true,
    "slideshow": {
     "slide_type": "fragment"
    }
   },
   "source": [
    "maybe answers time too"
   ]
  }
 ],
 "metadata": {
  "celltoolbar": "Slideshow",
  "kernelspec": {
   "display_name": "Python 2",
   "language": "python",
   "name": "python2"
  },
  "language_info": {
   "codemirror_mode": {
    "name": "ipython",
    "version": 2
   },
   "file_extension": ".py",
   "mimetype": "text/x-python",
   "name": "python",
   "nbconvert_exporter": "python",
   "pygments_lexer": "ipython2",
   "version": "2.7.9"
  }
 },
 "nbformat": 4,
 "nbformat_minor": 0
}
