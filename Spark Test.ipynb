{
 "cells": [
  {
   "cell_type": "markdown",
   "metadata": {},
   "source": [
    "Queste linee servono nel caso le variabili di ambiente non siano state settata. Ad esempio se il codice gira in un notebook su Jupyter/Hub."
   ]
  },
  {
   "cell_type": "code",
   "execution_count": null,
   "metadata": {
    "collapsed": true
   },
   "outputs": [],
   "source": [
    "import sys\n",
    "sys.path.insert(0, '/usr/local/spark/python/')\n",
    "sys.path.insert(0, '/usr/local/spark/python/lib/py4j-0.8.2.1-src.zip')\n",
    "import os\n",
    "os.environ['SPARK_HOME']='/usr/local/spark'\n",
    "os.environ['JAVA_HOME']='/usr/local/java'"
   ]
  },
  {
   "cell_type": "markdown",
   "metadata": {},
   "source": [
    "Queste solo le linee di codice minimo, che dovrebbero funzionare se tutto e' stato configurato correttamente."
   ]
  },
  {
   "cell_type": "code",
   "execution_count": 1,
   "metadata": {
    "collapsed": false
   },
   "outputs": [
    {
     "name": "stdout",
     "output_type": "stream",
     "text": [
      "999\n",
      "499500\n"
     ]
    }
   ],
   "source": [
    "from pyspark import SparkContext\n",
    "#conf = pyspark.SparkConf().set<conf settings>\n",
    "sc = SparkContext('spark://spark:7077','ADV SPARK BOOK')\n",
    "#sc = SparkContext()\n",
    "rdd = sc.parallelize(range(1,1000))\n",
    "print rdd.count()\n",
    "print rdd.sum()\n",
    "sc.stop()"
   ]
  },
  {
   "cell_type": "code",
   "execution_count": null,
   "metadata": {
    "collapsed": true
   },
   "outputs": [],
   "source": []
  }
 ],
 "metadata": {
  "kernelspec": {
   "display_name": "Python 2",
   "language": "python",
   "name": "python2"
  },
  "language_info": {
   "codemirror_mode": {
    "name": "ipython",
    "version": 2
   },
   "file_extension": ".py",
   "mimetype": "text/x-python",
   "name": "python",
   "nbconvert_exporter": "python",
   "pygments_lexer": "ipython2",
   "version": "2.7.9"
  }
 },
 "nbformat": 4,
 "nbformat_minor": 0
}
